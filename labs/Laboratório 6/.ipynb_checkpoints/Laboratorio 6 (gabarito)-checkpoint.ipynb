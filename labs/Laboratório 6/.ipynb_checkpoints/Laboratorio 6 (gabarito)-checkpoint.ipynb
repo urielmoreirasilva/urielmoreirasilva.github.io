{
 "cells": [
  {
   "cell_type": "markdown",
   "metadata": {},
   "source": [
    "# Laboratório 6: Testes de Hipóteses [<img src=\"images/colag_logo.svg\" style=\"float: right; margin-right: 0%; vertical-align: middle; width: 6.5%;\">](https://colab.research.google.com/github/urielmoreirasilva/urielmoreirasilva.github.io/blob/main/labs%2FLaborat%C3%B3rio%206%2FLaboratorio%206.ipynb) [<img src=\"images/github_logo.svg\" style=\"float: right; margin-right: 0%; vertical-align: middle; width: 3.25%;\">](https://github.com/urielmoreirasilva/urielmoreirasilva.github.io/blob/main/labs%2FLaborat%C3%B3rio%206%2FLaboratorio%206.ipynb)\n",
    "\n",
    "Bem-vindo ao Laboratório 6! Nesta tarefa, desenvolveremos uma compreensão mais aprofundada sobre dos testes de hipóteses.\n",
    "\n",
    "Você deve concluir todo este laboratório e enviá-lo ao Moodle até às 23h59 da data de vencimento.\n",
    "\n",
    "### Referências\n",
    "- [CIT: Capítulo 11](https://inferentialthinking.com/)\n",
    "- Aulas: Tópico 15. \n",
    "\n",
    "Material adaptado do [DSC10 (UCSD)](https://dsc10.com/) por [Flavio Figueiredo (DCC-UFMG)](https://flaviovdf.io/fcd/) e [Uriel Silva (DEST-UFMG)](https://urielmoreirasilva.github.io)"
   ]
  },
  {
   "cell_type": "code",
   "execution_count": 1,
   "metadata": {
    "id": "UYsjyVaPAc0x"
   },
   "outputs": [],
   "source": [
    "## Imports para esse laboratório\n",
    "import numpy as np\n",
    "import pandas as pd\n",
    "import math\n",
    "\n",
    "## Opções do MatplotLib \n",
    "import matplotlib.pyplot as plt\n",
    "plt.style.use('ggplot')\n",
    "plt.rcParams['figure.figsize'] = (10, 5)"
   ]
  },
  {
   "cell_type": "code",
   "execution_count": null,
   "metadata": {
    "id": "UYsjyVaPAc0x"
   },
   "outputs": [],
   "source": [
    "## Imports para esse laboratório\n",
    "import numpy as np\n",
    "import pandas as pd\n",
    "import math\n",
    "\n",
    "## Opções do MatplotLib \n",
    "import matplotlib.pyplot as plt\n",
    "plt.style.use('ggplot')\n",
    "plt.rcParams['figure.figsize'] = (10, 5)"
   ]
  },
  {
   "cell_type": "markdown",
   "metadata": {
    "id": "Bj2KlsJpAc0x"
   },
   "source": [
    "## 1. Toque Terapêutico 👆"
   ]
  },
  {
   "cell_type": "markdown",
   "metadata": {
    "id": "Azq6v4vPAc0x"
   },
   "source": [
    "O Toque Terapêutico (TT) é uma terapia energética que os profissionais afirmam poder promover saúde e relaxamento. Os profissionais colocam as mãos perto do paciente e dizem que são capazes de detectar e manipular o chamado Campo de Energia Humana (HEF, do inglês _Human Energy Field_) do paciente.\n",
    "O TT foi popular ao longo do século 20 e foi apontado como uma ótima maneira de trazer equilíbrio à saúde de uma pessoa. [Você pode ler mais sobre o TT aqui](https://www.mountsinai.org/health-library/treatment/therapeutic-touch)."
   ]
  },
  {
   "cell_type": "markdown",
   "metadata": {},
   "source": [
    "### Experiência de Emily Rosa\n",
    "\n",
    "Em 1996, Emily Rosa tinha 9 anos e teve ampla exposição ao mundo do TT devido aos seus pais, que eram médicos e céticos em relação à ideia do TT. Para seu projeto de feira de ciências da 4ª série, Emily decidiu testar se os profissionais de TT poderiam realmente interagir com o HEF de uma pessoa.\n",
    "\n",
    "Com cada praticante, Emily realizou o seguinte experimento várias vezes ao longo de alguns dias:\n",
    "\n",
    "1. Primeiro, ela e o praticamente se sentavam em uma mesa, separados por uma espécie de tábua (para que eles não pudessem se ver).\n",
    "1. Em seguida, ela pedia que o praticante colocasse ambas as mãos em uma abertura na tábua.\n",
    "1. Emily jogaria uma moeda honesta para determinar aleatoriamente se deveria colocar as mãos perto da mão esquerda ou direita do praticante.\n",
    "1. Finalmente, Emily pediria ao praticante de TT que especificasse se conseguiria detectar o Campo de Energia Humana (HEF) de Emily perto da mão esquerda ou da mão direita.\n",
    "\n",
    "No geral, Emily realizou 280 experimentos (como seus pais trabalhavam na área médica, ela teve fácil acesso aos praticantes de TT), e desses os praticantes de TT escolheram a mão correta 123 vezes."
   ]
  },
  {
   "cell_type": "markdown",
   "metadata": {},
   "source": [
    "- O principal objetivo de Emily com seu experimento era testar se os acertos dos praticantes de TT eram ou não aleatórias, como o resultado de um lançamento de uma moeda (o raciocínio dela foi muito similar à maioria dos experimentos médicos, onde queremos testar se um _tratamento_ realmente tem efeito, ou se a melhora dos pacientes pode ser atribuída simplesmente ao acaso – ao que denominamos efeito _placebo_)."
   ]
  },
  {
   "cell_type": "markdown",
   "metadata": {},
   "source": [
    "### Testes de Hipóteses\n",
    "\n",
    "Vamos agora formular o experimento de Emily como um teste de hipóteses!"
   ]
  },
  {
   "cell_type": "markdown",
   "metadata": {},
   "source": [
    "**Pergunta 1.1.** Defina nas células de texto abaixo as hipóteses nula $H_0$ e alternativa $H_1$ relativas ao experimento de Emily Rosa. Lembre-se que a hipótese nula $H_0$ deve levar à um modelo **bem definido** (do qual podemos simular e logo calcular probabilidades), enquanto $H_1$ pode ser mais genérica (e usualmente será o complementar de $H_0$).\n",
    "\n",
    "_<ins> Dica</ins>_: pense no que a ideia de Emily Rosa implica em termos de algum parâmetro sobre o qual queremos inferir, e o qual seria o \"valor esperado\" para esse parâmetro. Pode ajudar também refletir um pouco sobre o que seriam a população e o modelo estatístico nesse caso."
   ]
  },
  {
   "cell_type": "markdown",
   "metadata": {
    "id": "OrBnRY2QAc0y"
   },
   "source": [
    "> $H_0 \\! :$ $\\,$ $p = 0{,}50$\n",
    "\n",
    "> $H_1 \\! :$ $\\,$ $p \\neq 0{,}50$"
   ]
  },
  {
   "cell_type": "markdown",
   "metadata": {
    "id": "OrBnRY2QAc0y"
   },
   "source": [
    "> $H_0 \\! :$ $\\,$ $...$\n",
    "\n",
    "> $H_1 \\! :$ $\\,$ $...$"
   ]
  },
  {
   "cell_type": "markdown",
   "metadata": {},
   "source": [
    "**Importante**: volte à essa pergunta depois de terminar essa seção e reflita um pouco sobre suas hipóteses. Se você tivesse escolhido outras hipóteses, suas conclusões poderiam ter sido diferentes?"
   ]
  },
  {
   "cell_type": "markdown",
   "metadata": {
    "id": "GYD4Qj1eAc0z"
   },
   "source": [
    "**Pergunta 1.2.** Selecione entre as alternativas abaixo uma estatística de teste $T$ \"válida\" para testar as hipóteses definidas na Pergunta 1.1, e escreva a alternativa escolhida na célula de texto que se segue. Lembre-se que uma estatística de teste objetiva medir a evidência na amostra _a favor_ ou _contra_ $H_0$.\n",
    "\n",
    "**A**. $T =$ número esperado de acertos.\n",
    "\n",
    "**B**. $T =$ número observado de acertos.\n",
    "\n",
    "**C**. $T = $ diferença entre o número observado e esperado de acertos.\n",
    "\n",
    "**D**. $T = $ diferença absoluta entre o número observado e esperado de acertos.\n",
    "\n",
    "**E**. $T = $ número total de experimentos.\n",
    "\n",
    "**F**. $T = $ proporção esperada de acertos.\n",
    "\n",
    "**G**. $T = $ proporção observada de acertos.\n",
    "\n",
    "**H**. $T = $ diferença entre a proporção observada e esperada de acertos.\n",
    "\n",
    "**I**. $T = $ diferença absoluta entre a proporção observada e esperada de acertos. "
   ]
  },
  {
   "cell_type": "markdown",
   "metadata": {
    "id": "6DrRiiQtAc00"
   },
   "source": [
    "> **B**, **C**, **D**, **G**, **H**, **I**.\n",
    "\n",
    "Aqui, escolhemos **H**."
   ]
  },
  {
   "cell_type": "markdown",
   "metadata": {
    "id": "6DrRiiQtAc00"
   },
   "source": [
    "> ..."
   ]
  },
  {
   "cell_type": "markdown",
   "metadata": {
    "id": "QsrwM7eiAc00"
   },
   "source": [
    "**Pergunta 1.3.**  Escreva abaixo uma função chamada `calculate_mean_based_estimate` que calcula a estatística de teste $T$ definida na Pergunta 1.2, da seguinte forma:\n",
    "\n",
    "1. Essa função deve tomar como argumento um `float`, que deve tomar o nome de `obs_value`.\n",
    "1. Ao invocarmos essa função, ela deve retornar a estatística de teste $T$.\n",
    "\n",
    "_<ins> Dica</ins>_: Isso não é absolutamente necessário, mas você pode simplificar um pouco sua vida se sua estatística de teste for também função do que é _esperado_ em $H_0$! Caso opte por fazer isso, denomine o valor esperado de `expected_value`."
   ]
  },
  {
   "cell_type": "code",
   "execution_count": null,
   "metadata": {
    "id": "uG-AyN_YAc00"
   },
   "outputs": [],
   "source": [
    "## Diferença entre a proporção observada e esperada de acertos\n",
    "def calculate_test_stat(obs_value, expected_value):\n",
    "    return(obs_value - expected_value)"
   ]
  },
  {
   "cell_type": "code",
   "execution_count": null,
   "metadata": {},
   "outputs": [],
   "source": [
    "def calculate_test_stat(obs_value, ...):\n",
    "    ..."
   ]
  },
  {
   "cell_type": "markdown",
   "metadata": {
    "id": "W0mXI8ItAc00"
   },
   "source": [
    "**Pergunta 1.4.** Use a função `calculate_test_stat` definida na Pergunta 1.3 para calcular a estatística de teste observada $T_{obs}$ para o experimento de Emily. Atribua o valor a `T_obs`."
   ]
  },
  {
   "cell_type": "code",
   "execution_count": null,
   "metadata": {},
   "outputs": [],
   "source": [
    "obs_value = 123/280\n",
    "expected_value = 0.50\n",
    "\n",
    "T_obs = calculate_test_stat(obs_value, expected_value)\n",
    "T_obs"
   ]
  },
  {
   "cell_type": "code",
   "execution_count": null,
   "metadata": {},
   "outputs": [],
   "source": [
    "obs_value = ...\n",
    "\n",
    "# ## Descomente e execute\n",
    "# calculate_test_stat(obs_value, ...)"
   ]
  },
  {
   "cell_type": "markdown",
   "metadata": {},
   "source": [
    "Nesse ponto, surge naturalmente a seguinte pergunta:\n",
    "\n",
    "> Supondo que a hipótese nula $H_0$ seja verdadeira, o valor da estatística de teste $T_{obs}$ calculado acima é \"típico\" ou \"atípico\"? 🤔\n",
    "\n",
    "Em outras palavras: sob $H_0$, a probabilidade de obtermos um valor $T$ \"próximo\" de $T_{obs}$ é alta ou baixa? "
   ]
  },
  {
   "cell_type": "markdown",
   "metadata": {},
   "source": [
    "- Lembre que se a probabilidade de obtermos um valor próximo de $T_{obs}$ for muito baixa (menor do que o nosso nível de significância $\\alpha$), então _rejeitamos $H_0$_, uma vez que nesse caso o valor de $T_{obs}$ é considerado \"extremo\" ou \"atípico\" demais para ocorrer por pura aleatoriedade.\n",
    "- Por outro lado, se a probabilidade de obtermos um valor próximo de $T_{obs}$ for relativamente alta (maior do que o nosso nível de significância $\\alpha$), então _aceitamos $H_0$_, uma vez que nesse caso o valor de $T_{obs}$ não é considerado tão extremo ou atípico demais para ocorrer por pura aleatoriedade."
   ]
  },
  {
   "cell_type": "markdown",
   "metadata": {},
   "source": [
    "Para encontrar a probabilidade na qual estamos interessados, no que segue abaixo vamos aproximar a distribuição amostral de $T$ sob $H_0$ via simulação, e então descobriremos o quão extremo o valor de $T_{obs}$ realmente é! "
   ]
  },
  {
   "cell_type": "markdown",
   "metadata": {
    "id": "L02YxjLlAc01"
   },
   "source": [
    "**Pergunta 1.5.** Escreva abaixo uma função chamada `simulate_test_stat` que simula o valor de uma estatística de teste $T$ sob $H_0$, da seguinte forma:\n",
    "\n",
    "1. Essa função deve tomar como argumentos:\n",
    "    1. um `float` `n` contendo o número de experimentos realizados, $n$;\n",
    "    1. um `float` `p_0` contendo a proporção esperada de acertos sob $H_0$, $p_0$;\n",
    "    1. uma função `statistic`, que calcula a estatística de teste $T$ definida na Pergunta 1.2.\n",
    "1. Ao invocarmos essa função, ela deve retornar a estatística de teste $T$ `statistic` como função de $n$ e $p_0$.\n",
    "\n",
    "_<ins> Dica #1</ins>_: utilize a função `np.random.binomial` com argumentos $n$ e $p_0$ para simular o _número_ de sucessos sob $H_0$, e então transformar esse número apropriadamente em sua estatística de teste $T$.\n",
    "\n",
    "_<ins> Dica #2</ins>_: caso sua função `statistic` tome argumentos extras, você pode declará-los como variáveis locais/globais (isto é, dentro ou fora da função `simulate_test_stat`), ou tomá-los como argumentos extras em `simulate_test_stat` e utilizá-los na invocação de `statistic`.  "
   ]
  },
  {
   "cell_type": "code",
   "execution_count": null,
   "metadata": {
    "id": "uRQtyEuvAc01"
   },
   "outputs": [],
   "source": [
    "def simulate_test_stat(n, p_0, statistic):\n",
    "    N = np.random.binomial(n, p_0)\n",
    "    return(statistic(N/n, p_0))"
   ]
  },
  {
   "cell_type": "code",
   "execution_count": null,
   "metadata": {
    "id": "uRQtyEuvAc01"
   },
   "outputs": [],
   "source": [
    "def simulate_test_stat(n, p_0, statistic):\n",
    "    ..."
   ]
  },
  {
   "cell_type": "markdown",
   "metadata": {},
   "source": [
    "**Pergunta 1.6.** Invoque a função `simulate_test_stat` definida na Pergunta 1.5 na célula de código abaixo. Chame o resultado de `one_simulated_test_stat`."
   ]
  },
  {
   "cell_type": "code",
   "execution_count": null,
   "metadata": {},
   "outputs": [],
   "source": [
    "n = 280\n",
    "p_0 = 0.50\n",
    "\n",
    "one_simulated_test_stat = simulate_test_stat(n, p_0, calculate_test_stat)\n",
    "one_simulated_test_stat"
   ]
  },
  {
   "cell_type": "code",
   "execution_count": null,
   "metadata": {},
   "outputs": [],
   "source": [
    "# ## Descomente e execute\n",
    "# n = ...\n",
    "# p_0 = ...\n",
    "\n",
    "# one_simulated_test_stat = simulate_test_stat(n, p_0, calculate_test_stat)\n",
    "# one_simulated_test_stat"
   ]
  },
  {
   "cell_type": "markdown",
   "metadata": {},
   "source": [
    "Após aprendermos a simular _um_ valor de $T$ sob $H_0$, vamos agora construir uma distribuição com vários desses valores simulados!"
   ]
  },
  {
   "cell_type": "markdown",
   "metadata": {
    "id": "pRrS9PRrAc01"
   },
   "source": [
    "**Pergunta 1.7.** Complete a célula de código abaixo, que atribui `simulated_distribution` a um `Array` de `num_repetitions`= 10.000 valores da estatística de teste simulada sob $H_0$.\n",
    "\n",
    "_<ins> Dica</ins>_: basta utilizar o que você já sabe sobre _loops_, e invocar a função `simulate_test_stat` definida na Pergunta 1.6."
   ]
  },
  {
   "cell_type": "code",
   "execution_count": null,
   "metadata": {},
   "outputs": [],
   "source": [
    "## Fixando a semente aleatória (para garantir reproducibilidade)\n",
    "np.random.seed(42)\n",
    "\n",
    "## Parâmetros da simulação\n",
    "num_repetitions = 10000\n",
    "n = 280\n",
    "p_0 = 0.50\n",
    "\n",
    "## Loop principal\n",
    "simulated_distribution = np.array([])\n",
    "for i in np.arange(num_repetitions):\n",
    "    simulated_value = simulate_test_stat(n, p_0, calculate_test_stat)\n",
    "    simulated_distribution = np.append(simulated_distribution, simulated_value)\n",
    "simulated_distribution"
   ]
  },
  {
   "cell_type": "code",
   "execution_count": null,
   "metadata": {},
   "outputs": [],
   "source": [
    "# ## Descomente e execute\n",
    "# # ----\n",
    "\n",
    "# ## Fixando a semente aleatória (para garantir reproducibilidade)\n",
    "# np.random.seed(42)\n",
    "\n",
    "# ## Parâmetros da simulação\n",
    "# num_repetitions = ...\n",
    "# n = ...\n",
    "# p_0 = ...\n",
    "\n",
    "# ## Loop principal\n",
    "# simulated_distribution = np.array([])\n",
    "# for i in np.arange(num_repetitions):\n",
    "#     simulated_value = ...\n",
    "#     simulated_distribution = ...\n",
    "# simulated_distribution"
   ]
  },
  {
   "cell_type": "markdown",
   "metadata": {},
   "source": [
    "Vamos agora visualizar nossa distribuição amostral empírica de de $T$ sob $H_0$, e ver o quão \"atípico\" o valor de $T_{obs}$ realmente é nessa distribuição. "
   ]
  },
  {
   "cell_type": "markdown",
   "metadata": {
    "id": "pRrS9PRrAc01"
   },
   "source": [
    "**Pergunta 1.8.** Execute a célula de código abaixo, que elabora um histograma de `simulated_distribution` e destaca o valor de $T_{obs}$ nessa distribuição como uma barra vertical sólida de cor preta."
   ]
  },
  {
   "cell_type": "code",
   "execution_count": null,
   "metadata": {
    "id": "7DcOQV-gAc01"
   },
   "outputs": [],
   "source": [
    "t = pd.DataFrame().assign(Simulated_Test_Statistics=simulated_distribution)\n",
    "t.plot(kind='hist', density=True, ec='w', bins= 20, figsize=(10, 5))\n",
    "plt.axvline(x=T_obs, color='black', label='observed statistic', linewidth=4)\n",
    "plt.legend();"
   ]
  },
  {
   "cell_type": "code",
   "execution_count": null,
   "metadata": {
    "id": "7DcOQV-gAc01"
   },
   "outputs": [],
   "source": [
    "# ## Descomente e execute\n",
    "# t = pd.DataFrame().assign(Simulated_Test_Statistics=simulated_distribution)\n",
    "# t.plot(kind='hist', density=True, ec='w', bins= 20, figsize=(10, 5))\n",
    "# plt.axvline(x=T_obs, color='black', label='observed statistic', linewidth=4)\n",
    "# plt.legend();"
   ]
  },
  {
   "cell_type": "markdown",
   "metadata": {},
   "source": [
    "Embora a evidência visual pode sugerir que o valor observado no experimento de Emily seja ou não atípico/extremo, vamos agora quantificar essa noção! "
   ]
  },
  {
   "cell_type": "markdown",
   "metadata": {
    "id": "QZngPf0WAc02"
   },
   "source": [
    "**Pergunta 1.9.** Modifique a célula de código abaixo para calcular o p-valor associado ao teste dessa questão, e atribua esse valor à `emily_p_val`. Lembre que o p-valor pode ser informalmente definido como \"a probabilidade de obtermos valores mais extremos do que $T_{obs}$\", isto é, valores que nos levariam cada vez mais à rejeição de $H_0$.\n",
    "\n",
    "_<u>Dica</u>_: use a função `np.count_nonzero` para contar o _número_ de valores de $T$ sob $H_0$ que satisfaçam a definição acima, e divida esse número pelo número de simulações `num_repetitions` definido na Pergunta 1.8 (ou utilizando a função `len` no DataFrame em questão, ou ainda utilizando `.shape[0]`)."
   ]
  },
  {
   "cell_type": "code",
   "execution_count": null,
   "metadata": {
    "id": "9jCUIabwAc02"
   },
   "outputs": [],
   "source": [
    "emily_p_val = np.count_nonzero(simulated_distribution < T_obs) / len(simulated_distribution)\n",
    "emily_p_val"
   ]
  },
  {
   "cell_type": "code",
   "execution_count": null,
   "metadata": {
    "id": "9jCUIabwAc02"
   },
   "outputs": [],
   "source": [
    "emily_p_val = ...\n",
    "emily_p_val"
   ]
  },
  {
   "cell_type": "markdown",
   "metadata": {},
   "source": [
    "**Pergunta 1.10.** Escreva na célula de texto abaixo suas conclusões sobre o teste de hipóteses realizado acima. Formalmente, você aceita ou rejeita $H_0$ ao nível $\\alpha = 5\\%$ de significância? E informalmente, o que isso te leva a concluir sobre a eficácia do Toque Terapêutico? Comente."
   ]
  },
  {
   "cell_type": "markdown",
   "metadata": {},
   "source": [
    "> ..."
   ]
  },
  {
   "cell_type": "markdown",
   "metadata": {},
   "source": [
    "> ..."
   ]
  },
  {
   "cell_type": "markdown",
   "metadata": {},
   "source": [
    "#### Epílogo\n",
    "\n",
    "O Toque Terapêutico caiu em desuso após esse experimento, que acabou sendo [\n",
    "aceito em um periódico de prestígio da área médica](https://pubmed.ncbi.nlm.nih.gov/9533499/). \n",
    "\n",
    "Os praticantes de TT reagiram e acusaram Emily e sua família de adulterar os resultados, enquanto alguns alegaram que as más energias de Emily em relação ao Toque Terapêutico dificultava a leitura de seu HEF..."
   ]
  },
  {
   "cell_type": "markdown",
   "metadata": {
    "id": "6Lczd-0-Ac02"
   },
   "source": [
    "## 2. Anúncios no YouTube ▶️"
   ]
  },
  {
   "cell_type": "markdown",
   "metadata": {
    "id": "LV6msoiJAc03"
   },
   "source": [
    "O YouTube, a maior plataforma de compartilhamento de vídeos do mundo, gera receita com anúncios que aparecem antes e durante os vídeos.\n",
    "\n",
    "Suponha que o YouTube divulgue publicamente uma declaração revelando que 94% dos seus anúncios podem ser ignorados (o que significa que, supostamente, apenas 6% dos seus anúncios não podem ser ignorados).\n",
    "\n",
    "King Triton, o fiel mascote da UCSD, decidiu testar se esta afirmação era verdadeira!"
   ]
  },
  {
   "cell_type": "markdown",
   "metadata": {},
   "source": [
    "O experimento de King Triton foi conduzido assim: \n",
    "\n",
    "- Ele abriu aleatoriamente vários vídeos do YouTube e registrou se os anúncios em cada vídeo podiam ou não ser ignorados;\n",
    "- Ele assistiu a um número de vídeos necessários para chegar até 100 anúncios, e descobriu que _16 desses não eram puláveis_ (ou, equivalentemente, que  _apenas 84% eram puláveis_).\n",
    "\n",
    "King Triton está irritado e acredita que a reivindicação de 94% do YouTube é muito alta!"
   ]
  },
  {
   "cell_type": "markdown",
   "metadata": {},
   "source": [
    "**Pergunta 2.1.** Defina nas células de texto abaixo as hipóteses nula $H_0$ e alternativa $H_1$ relativas ao experimento do King Triton.\n",
    "\n",
    "_<u>Dica</u>_: note que existe uma _simetria_ entre 94% dos anúncios _serem puláveis_ e 6% dos anúncios _não serem puláveis_. Dessa forma, de qualquer modo que você defina $H_0$ e $H_1$ (desde que essa definição esteja correta, claro!), suas conclusões devem ser as mesmas.  "
   ]
  },
  {
   "cell_type": "markdown",
   "metadata": {
    "id": "OrBnRY2QAc0y"
   },
   "source": [
    "> $H_0 \\! :$ $\\,$ $p = 0{,}94$\n",
    "\n",
    "> $H_1 \\! :$ $\\,$ $p \\neq 0{,}94$"
   ]
  },
  {
   "cell_type": "markdown",
   "metadata": {
    "id": "OrBnRY2QAc0y"
   },
   "source": [
    "> $H_0 \\! :$ $\\,$ $...$\n",
    "\n",
    "> $H_1 \\! :$ $\\,$ $...$"
   ]
  },
  {
   "cell_type": "markdown",
   "metadata": {
    "id": "pRrS9PRrAc01"
   },
   "source": [
    "**Pergunta 2.2.** Complete a célula de código abaixo, que atribui `simulated_distribution` a um `Array` de `num_repetitions`= 10.000 valores de uma estatística de teste $T$ `statistic` simulada sob $H_0$.\n",
    "\n",
    "_<ins> Dica</ins>_: você pode copiar a maior parte do código utilizado na Pergunta 1.7, prestando especial atenção à parte em que você invoca `simulate_test_stat`. Para facilitar sua vida, substitua essa invocação por uma operação de uma linha que gere diretamente um valor de $T$ sob $H_0$, cujo resultado seja exatamente equivalente à invocar `simulate_test_stat` com os parâmetros adequados."
   ]
  },
  {
   "cell_type": "code",
   "execution_count": 3,
   "metadata": {},
   "outputs": [
    {
     "data": {
      "text/plain": [
       "array([ 0.01, -0.04, -0.01, ..., -0.01,  0.  ,  0.01])"
      ]
     },
     "execution_count": 3,
     "metadata": {},
     "output_type": "execute_result"
    }
   ],
   "source": [
    "## Fixando a semente aleatória (para garantir reproducibilidade)\n",
    "np.random.seed(42)\n",
    "\n",
    "## Parâmetros da simulação \n",
    "num_repetitions = 100000\n",
    "n = 100\n",
    "p_0 = 0.94\n",
    "\n",
    "## Loop principal\n",
    "simulated_distribution = np.array([])\n",
    "for i in np.arange(num_repetitions):\n",
    "    simulated_value = np.random.binomial(n, p_0)/n - p_0\n",
    "    simulated_distribution = np.append(simulated_distribution, simulated_value)\n",
    "simulated_distribution"
   ]
  },
  {
   "cell_type": "code",
   "execution_count": null,
   "metadata": {},
   "outputs": [],
   "source": [
    "# ## Descomente e execute\n",
    "# # ----\n",
    "\n",
    "# ## Fixando a semente aleatória (para garantir reproducibilidade)\n",
    "# np.random.seed(42)\n",
    "\n",
    "# ## Parâmetros da simulação \n",
    "# num_repetitions = 100000\n",
    "# n = 100\n",
    "# p_0 = 0.94\n",
    "\n",
    "# ## Loop principal\n",
    "# simulated_distribution = np.array([])\n",
    "# for i in np.arange(num_repetitions):\n",
    "#     simulated_value = np.random.binomial(n, p_0)/n - p_0\n",
    "#     simulated_distribution = np.append(simulated_distribution, simulated_value)\n",
    "# simulated_distribution"
   ]
  },
  {
   "cell_type": "markdown",
   "metadata": {
    "id": "pRrS9PRrAc01"
   },
   "source": [
    "**Pergunta 2.3.** Execute a célula de código abaixo, que elabora um histograma de `simulated_distribution` e destaca o valor de $T_{obs}$ nessa distribuição como uma barra vertical sólida de cor preta."
   ]
  },
  {
   "cell_type": "code",
   "execution_count": 5,
   "metadata": {
    "id": "7DcOQV-gAc01"
   },
   "outputs": [
    {
     "data": {
      "image/png": "[encoded data removed]",
      "text/plain": [
       "<Figure size 1000x500 with 1 Axes>"
      ]
     },
     "metadata": {},
     "output_type": "display_data"
    }
   ],
   "source": [
    "## Definindo T_obs\n",
    "T_obs = 84/n - p_0\n",
    "\n",
    "## Elaborando o histograma\n",
    "t = pd.DataFrame().assign(Simulated_Test_Statistics=simulated_distribution)\n",
    "t.plot(kind='hist', density=True, ec='w', bins= 20, figsize=(10, 5))\n",
    "plt.axvline(x=T_obs, color='black', label='observed statistic', linewidth=4)\n",
    "plt.legend();"
   ]
  },
  {
   "cell_type": "code",
   "execution_count": null,
   "metadata": {
    "id": "7DcOQV-gAc01"
   },
   "outputs": [],
   "source": [
    "# ## Descomente e execute\n",
    "# # ----\n",
    "\n",
    "# ## Definindo T_obs\n",
    "# T_obs = ...\n",
    "\n",
    "# ## Elaborando o histograma\n",
    "# t = pd.DataFrame().assign(Simulated_Test_Statistics=simulated_distribution)\n",
    "# t.plot(kind='hist', density=True, ec='w', bins= 20, figsize=(10, 5))\n",
    "# plt.axvline(x=T_obs, color='black', label='observed statistic', linewidth=4)\n",
    "# plt.legend();"
   ]
  },
  {
   "cell_type": "markdown",
   "metadata": {
    "id": "QZngPf0WAc02"
   },
   "source": [
    "**Pergunta 2.5.** Modifique a célula de código abaixo para calcular o p-valor associado ao teste dessa questão, e atribua esse valor à `kingtriton_p_val`. Lembre que o p-valor pode ser informalmente definido como \"a probabilidade de obtermos valores mais extremos do que $T_{obs}$\", isto é, valores que nos levariam cada vez mais à rejeição de $H_0$.\n",
    "\n",
    "_<u>Dica</u>_: use a função `np.count_nonzero` para contar o _número_ de valores de $T$ sob $H_0$ que satisfaçam a definição acima, e divida esse número pelo número de simulações `num_repetitions` definido na Pergunta 1.8 (ou utilizando a função `len` no DataFrame em questão, ou ainda utilizando `.shape[0]`)."
   ]
  },
  {
   "cell_type": "code",
   "execution_count": 7,
   "metadata": {
    "id": "9jCUIabwAc02"
   },
   "outputs": [
    {
     "data": {
      "text/plain": [
       "6e-05"
      ]
     },
     "execution_count": 7,
     "metadata": {},
     "output_type": "execute_result"
    }
   ],
   "source": [
    "kingtriton_p_val = np.count_nonzero(simulated_distribution < T_obs) / len(simulated_distribution)\n",
    "kingtriton_p_val"
   ]
  },
  {
   "cell_type": "code",
   "execution_count": null,
   "metadata": {
    "id": "9jCUIabwAc02"
   },
   "outputs": [],
   "source": [
    "kingtriton_p_val = ...\n",
    "kingtriton_p_val"
   ]
  },
  {
   "cell_type": "markdown",
   "metadata": {
    "id": "4upTTAi5Ac05"
   },
   "source": [
    "Você deve ser capaz de perceber, tanto pelo histograma quanto pelo valor-p calculado, que o YouTube parece ter mais anúncios que não podem ser ignorados do que afirmam! \n",
    "\n",
    "Talvez eles tenham cometido um erro de digitação no anúncio e quisessem dizer 84% em vez de 94%...?"
   ]
  },
  {
   "cell_type": "markdown",
   "metadata": {},
   "source": [
    "## Linha de chegada 🏁\n",
    "\n",
    "Parabéns! Você concluiu o Laboratório 6 com sucesso 👏👏👏\n",
    "\n",
    "Para enviar sua tarefa:\n",
    "\n",
    "1. Selecione `Kernel -> Restart Kernel and Run All Cells` para garantir que você executou todas as células, incluindo as células de teste.\n",
    "1. Leia o notebook do começo ao fim com cuidado para ter certeza de que está tudo bem e que todos os testes foram aprovados.\n",
    "1. Baixe seu notebook usando `File -> Save and Export Notebook As -> HTML` e, em seguida, carregue seu notebook para o Moodle."
   ]
  }
 ],
 "metadata": {
  "colab": {
   "provenance": []
  },
  "kernelspec": {
   "display_name": "Python 3 (ipykernel)",
   "language": "python",
   "name": "python3"
  },
  "language_info": {
   "codemirror_mode": {
    "name": "ipython",
    "version": 3
   },
   "file_extension": ".py",
   "mimetype": "text/x-python",
   "name": "python",
   "nbconvert_exporter": "python",
   "pygments_lexer": "ipython3",
   "version": "3.12.3"
  }
 },
 "nbformat": 4,
 "nbformat_minor": 4
}
