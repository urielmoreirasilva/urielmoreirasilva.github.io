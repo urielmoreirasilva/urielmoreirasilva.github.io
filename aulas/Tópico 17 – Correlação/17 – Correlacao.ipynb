{
 "cells": [
  {
   "cell_type": "markdown",
   "metadata": {},
   "source": [
    "# Tópico 17 – Correlação [<img src=\"images/colag_logo.svg\" style=\"float: right; margin-right: 0%; vertical-align: middle; width: 6.5%;\">](https://colab.research.google.com/github/urielmoreirasilva/urielmoreirasilva.github.io/blob/main/aulas/T%C3%B3pico%2017%20%E2%80%93%20Correla%C3%A7%C3%A3o%2F17%20%E2%80%93%20Correlacao.ipynb) [<img src=\"images/github_logo.svg\" style=\"float: right; margin-right: 0%; vertical-align: middle; width: 3.25%;\">](https://github.com/urielmoreirasilva/urielmoreirasilva.github.io/blob/main/aulas/T%C3%B3pico%2017%20%E2%80%93%20Correla%C3%A7%C3%A3o%2F17%20%E2%80%93%20Correlacao.ipynb)\n",
    "\n",
    "Nessa aula, introduziremos o conceito de correlação, uma das métricas mais utilizadas (e mais interpretáveis) para medir a associação entre duas variáveis.\n",
    "\n",
    "### Resultados Esperados\n",
    "\n",
    "1. Definir o que é uma associação entre duas ou mais variáveis.\n",
    "1. Discutir a importância das associações lineares.\n",
    "1. Introduzir o conceito de correlação.\n",
    "\n",
    "### Referências\n",
    "- [CIT, Capítulo 15](https://inferentialthinking.com/)\n",
    "\n",
    "Material adaptado do [DSC10 (UCSD)](https://dsc10.com/) por [Flavio Figueiredo (DCC-UFMG)](https://flaviovdf.io/fcd/) e [Uriel Silva (DEST-UFMG)](https://urielmoreirasilva.github.io)"
   ]
  },
  {
   "cell_type": "code",
   "execution_count": 1,
   "metadata": {},
   "outputs": [],
   "source": [
    "## Imports para esse tópico\n",
    "import numpy as np\n",
    "import pandas as pd\n",
    "import matplotlib.pyplot as plt\n",
    "plt.style.use('ggplot')\n",
    "\n",
    "## Opções gráficas\n",
    "plt.rcParams['figure.figsize'] = (10, 5)\n",
    "\n",
    "## Opções de como printar objetos do Numpy e do Pandas\n",
    "np.set_printoptions(threshold = 20, precision = 2, suppress = True)\n",
    "pd.set_option(\"display.max_rows\", 7)\n",
    "pd.set_option(\"display.max_columns\", 8)\n",
    "pd.set_option(\"display.precision\", 2)"
   ]
  },
  {
   "cell_type": "code",
   "execution_count": 2,
   "metadata": {},
   "outputs": [],
   "source": [
    "## Imports para visualizações mais específicas\n",
    "from IPython.display import display\n",
    "import ipywidgets as widgets\n",
    "import plotly.express as px"
   ]
  },
  {
   "cell_type": "code",
   "execution_count": 3,
   "metadata": {},
   "outputs": [],
   "source": [
    "## Funções para simulação de diagramas de dispersão.\n",
    "\n",
    "# Simular um diagrama de dispersão com correlação r.\n",
    "def r_scatter(r):\n",
    "    \"Generate a scatter plot with a correlation approximately r\"\n",
    "    x = np.random.normal(0, 1, 1000)\n",
    "    z = np.random.normal(0, 1, 1000)\n",
    "    y = r * x + (np.sqrt(1 - r ** 2)) * z\n",
    "    plt.scatter(x, y)\n",
    "    plt.xlim(-4, 4)\n",
    "    plt.ylim(-4, 4)\n",
    "    plt.title(f'r = {r}')\n",
    "\n",
    "# Simular vários diagramas de dispersão e organizá-los em uma grade.\n",
    "def show_scatter_grid():\n",
    "    plt.subplots(1, 4, figsize=(10, 2))\n",
    "    for i, r in enumerate([-1, -2/3, -1/3, 0]):\n",
    "        plt.subplot(1, 4, i+1)\n",
    "        r_scatter(r)\n",
    "        plt.title(f'r = {np.round(r, 2)}')\n",
    "    plt.show()\n",
    "    plt.subplots(1, 4, figsize=(10, 2))\n",
    "    for i, r in enumerate([1, 2/3, 1/3]):\n",
    "        plt.subplot(1, 4, i+1)\n",
    "        r_scatter(r)\n",
    "        plt.title(f'r = {np.round(r, 2)}')\n",
    "    plt.subplot(1, 4, 4)\n",
    "    plt.axis('off')\n",
    "    plt.show()"
   ]
  },
  {
   "cell_type": "markdown",
   "metadata": {
    "slideshow": {
     "slide_type": "slide"
    }
   },
   "source": [
    "## Associação e previsão"
   ]
  },
  {
   "cell_type": "markdown",
   "metadata": {
    "slideshow": {
     "slide_type": "slide"
    }
   },
   "source": [
    "### Previsão"
   ]
  },
  {
   "cell_type": "markdown",
   "metadata": {
    "slideshow": {
     "slide_type": "fragment"
    }
   },
   "source": [
    "- Suponha que tenhamos um conjunto de dados com no mínimo duas variáveis numéricas.\n",
    "- Nesse contexto, estamos interessados em **prever** uma variável com base nos valores de uma outra (ou de outras)."
   ]
  },
  {
   "cell_type": "markdown",
   "metadata": {
    "slideshow": {
     "slide_type": "fragment"
    }
   },
   "source": [
    "Exemplos:\n",
    "- Com base no meu nível educacional, qual seria minha renda?\n",
    "- Com base na minha altura, qual seria a altura do meu filho?\n",
    "- Com base na minha idade, quantos países (ou continentes) eu já teria visitado? "
   ]
  },
  {
   "cell_type": "markdown",
   "metadata": {
    "slideshow": {
     "slide_type": "fragment"
    }
   },
   "source": [
    "- Para fazermos uma \"boa previsão\", o primeiro passo é identificar _padrões comuns_ às duas variáveis.\n",
    "- Informalmente, uma medida que quantifica os padrões comuns observados entre duas (ou mais) variáveis é denominada de **medida de associação**."
   ]
  },
  {
   "cell_type": "markdown",
   "metadata": {
    "slideshow": {
     "slide_type": "slide"
    }
   },
   "source": [
    "### Associação"
   ]
  },
  {
   "cell_type": "markdown",
   "metadata": {
    "slideshow": {
     "slide_type": "fragment"
    }
   },
   "source": [
    "- Um pouco mais formalmente, uma **associação** é qualquer tipo de relação entre duas variáveis que pode ser descrita por uma função.\n",
    "- Naturalmente, essa função _pode ou não_ ser linear."
   ]
  },
  {
   "cell_type": "markdown",
   "metadata": {},
   "source": [
    "- Uma maneira comum de representarmos uma relação funcional entre duas variáveis é elaborando um gráfico dos seus valores como pontos em um plano Cartesiano.\n",
    "- Lembre do Tópico 5 que esse tipo de gráfico é conhecido como **diagrama de dispersão**!"
   ]
  },
  {
   "cell_type": "markdown",
   "metadata": {},
   "source": [
    "- Se duas variáveis tem associação positiva ↗️, então à medida que uma aumenta, a outra tende a aumentar.\n",
    "- Se duas variáveis tem associação negativa ↘️, então à medida que uma aumenta, a outra tende a diminuir. "
   ]
  },
  {
   "cell_type": "markdown",
   "metadata": {},
   "source": [
    "- Em geral, se duas variáveis estão associadas, podemos utilizar a natureza dessa associação para predizer uma variável com base no valor da outra."
   ]
  },
  {
   "cell_type": "markdown",
   "metadata": {
    "slideshow": {
     "slide_type": "slide"
    }
   },
   "source": [
    "### Exemplo: carros híbridos 🚗\n",
    "\n",
    "Nosso [conjunto de dados](https://search.r-project.org/CRAN/refmans/DJL/html/dataset.hev.2013.html) contém diferentes informações sobre vários carros híbridos, cujos anos do modelo variam de 1997 a 2013."
   ]
  },
  {
   "cell_type": "code",
   "execution_count": 19,
   "metadata": {
    "scrolled": true
   },
   "outputs": [
    {
     "data": {
      "text/html": [
       "<div>\n",
       "<style scoped>\n",
       "    .dataframe tbody tr th:only-of-type {\n",
       "        vertical-align: middle;\n",
       "    }\n",
       "\n",
       "    .dataframe tbody tr th {\n",
       "        vertical-align: top;\n",
       "    }\n",
       "\n",
       "    .dataframe thead th {\n",
       "        text-align: right;\n",
       "    }\n",
       "</style>\n",
       "<table border=\"1\" class=\"dataframe\">\n",
       "  <thead>\n",
       "    <tr style=\"text-align: right;\">\n",
       "      <th></th>\n",
       "      <th>vehicle</th>\n",
       "      <th>year</th>\n",
       "      <th>price</th>\n",
       "      <th>acceleration</th>\n",
       "      <th>mpg</th>\n",
       "      <th>class</th>\n",
       "    </tr>\n",
       "  </thead>\n",
       "  <tbody>\n",
       "    <tr>\n",
       "      <th>0</th>\n",
       "      <td>Prius (1st Gen)</td>\n",
       "      <td>1997</td>\n",
       "      <td>24509.74</td>\n",
       "      <td>7.46</td>\n",
       "      <td>41.26</td>\n",
       "      <td>Compact</td>\n",
       "    </tr>\n",
       "    <tr>\n",
       "      <th>1</th>\n",
       "      <td>Tino</td>\n",
       "      <td>2000</td>\n",
       "      <td>35354.97</td>\n",
       "      <td>8.20</td>\n",
       "      <td>54.10</td>\n",
       "      <td>Compact</td>\n",
       "    </tr>\n",
       "    <tr>\n",
       "      <th>2</th>\n",
       "      <td>Prius (2nd Gen)</td>\n",
       "      <td>2000</td>\n",
       "      <td>26832.25</td>\n",
       "      <td>7.97</td>\n",
       "      <td>45.23</td>\n",
       "      <td>Compact</td>\n",
       "    </tr>\n",
       "    <tr>\n",
       "      <th>...</th>\n",
       "      <td>...</td>\n",
       "      <td>...</td>\n",
       "      <td>...</td>\n",
       "      <td>...</td>\n",
       "      <td>...</td>\n",
       "      <td>...</td>\n",
       "    </tr>\n",
       "    <tr>\n",
       "      <th>150</th>\n",
       "      <td>C-Max Energi Plug-in</td>\n",
       "      <td>2013</td>\n",
       "      <td>32950.00</td>\n",
       "      <td>11.76</td>\n",
       "      <td>43.00</td>\n",
       "      <td>Midsize</td>\n",
       "    </tr>\n",
       "    <tr>\n",
       "      <th>151</th>\n",
       "      <td>Fusion Energi Plug-in</td>\n",
       "      <td>2013</td>\n",
       "      <td>38700.00</td>\n",
       "      <td>11.76</td>\n",
       "      <td>43.00</td>\n",
       "      <td>Midsize</td>\n",
       "    </tr>\n",
       "    <tr>\n",
       "      <th>152</th>\n",
       "      <td>Chevrolet Volt</td>\n",
       "      <td>2013</td>\n",
       "      <td>39145.00</td>\n",
       "      <td>11.11</td>\n",
       "      <td>37.00</td>\n",
       "      <td>Compact</td>\n",
       "    </tr>\n",
       "  </tbody>\n",
       "</table>\n",
       "<p>153 rows × 6 columns</p>\n",
       "</div>"
      ],
      "text/plain": [
       "                   vehicle  year     price  acceleration    mpg    class\n",
       "0          Prius (1st Gen)  1997  24509.74          7.46  41.26  Compact\n",
       "1                     Tino  2000  35354.97          8.20  54.10  Compact\n",
       "2          Prius (2nd Gen)  2000  26832.25          7.97  45.23  Compact\n",
       "..                     ...   ...       ...           ...    ...      ...\n",
       "150   C-Max Energi Plug-in  2013  32950.00         11.76  43.00  Midsize\n",
       "151  Fusion Energi Plug-in  2013  38700.00         11.76  43.00  Midsize\n",
       "152         Chevrolet Volt  2013  39145.00         11.11  37.00  Compact\n",
       "\n",
       "[153 rows x 6 columns]"
      ]
     },
     "execution_count": 19,
     "metadata": {},
     "output_type": "execute_result"
    }
   ],
   "source": [
    "hybrid = pd.read_csv('data/hybrid.csv')\n",
    "hybrid"
   ]
  },
  {
   "cell_type": "markdown",
   "metadata": {
    "slideshow": {
     "slide_type": "slide"
    }
   },
   "source": [
    "### `'price'` vs. `'acceleration'`\n",
    "\n",
    "Existe alguma associação entre essas duas variáveis? Se sim, qual é a natureza dessa associação?\n",
    "\n",
    "(Nota: Ao analisar um diagrama de dispersão, frequentemente nos referimos à relação entre as variáveis como \"$y$ em função de $x$\".)"
   ]
  },
  {
   "cell_type": "code",
   "execution_count": 14,
   "metadata": {
    "scrolled": true
   },
   "outputs": [
    {
     "data": {
      "image/png": "[encoded data removed]",
      "text/plain": [
       "<Figure size 1000x500 with 1 Axes>"
      ]
     },
     "metadata": {},
     "output_type": "display_data"
    }
   ],
   "source": [
    "hybrid.plot(kind='scatter', x='acceleration', y='price');"
   ]
  },
  {
   "cell_type": "markdown",
   "metadata": {
    "slideshow": {
     "slide_type": "fragment"
    }
   },
   "source": [
    "A aceleração aqui é medida em quilômetros por hora por segundo, e logo acelerações maiores são sinônimos de carros mais rápidos!"
   ]
  },
  {
   "cell_type": "markdown",
   "metadata": {
    "slideshow": {
     "slide_type": "slide"
    }
   },
   "source": [
    "### `'price'` vs. `'mpg'`\n",
    "\n",
    "Existe associação entre essas variáveis? Se sim, de qual tipo?"
   ]
  },
  {
   "cell_type": "code",
   "execution_count": 18,
   "metadata": {},
   "outputs": [
    {
     "data": {
      "image/png": "[encoded data removed]",
      "text/plain": [
       "<Figure size 1000x500 with 1 Axes>"
      ]
     },
     "metadata": {},
     "output_type": "display_data"
    }
   ],
   "source": [
    "hybrid.plot(kind='scatter', x='mpg', y='price');"
   ]
  },
  {
   "cell_type": "markdown",
   "metadata": {
    "slideshow": {
     "slide_type": "fragment"
    }
   },
   "source": [
    "- Existe uma associação negativa: carros com maior rendimento tendem a ser mais baratos."
   ]
  },
  {
   "cell_type": "markdown",
   "metadata": {
    "slideshow": {
     "slide_type": "fragment"
    }
   },
   "source": [
    "- Porém, a associação _não parece ser linear_! \n",
    "    - Uma função que poderia descrever essa associação é $y \\approx \\frac{1}{x}$.   "
   ]
  },
  {
   "cell_type": "markdown",
   "metadata": {
    "slideshow": {
     "slide_type": "slide"
    }
   },
   "source": [
    "### Explorando os dados\n",
    "\n",
    "Conforme aprendemos no Tópico 03, podemos filtrar o DataFrame `hybrid` de acordo com alguma característica de interesse, apenas para fins exploratórios."
   ]
  },
  {
   "cell_type": "markdown",
   "metadata": {},
   "source": [
    "Por exemplo, podemos estar interessados nos carros mais caros:"
   ]
  },
  {
   "cell_type": "code",
   "execution_count": null,
   "metadata": {},
   "outputs": [],
   "source": [
    "hybrid[hybrid.get('price') >= 100000]"
   ]
  },
  {
   "cell_type": "markdown",
   "metadata": {},
   "source": [
    "... ou nos mais potentes:"
   ]
  },
  {
   "cell_type": "code",
   "execution_count": null,
   "metadata": {},
   "outputs": [],
   "source": [
    "hybrid[hybrid.get('acceleration') >= 19]"
   ]
  },
  {
   "cell_type": "markdown",
   "metadata": {},
   "source": [
    "... ou até nos mais econômicos!"
   ]
  },
  {
   "cell_type": "code",
   "execution_count": null,
   "metadata": {},
   "outputs": [],
   "source": [
    "hybrid[hybrid.get('mpg') >= 60]"
   ]
  },
  {
   "cell_type": "markdown",
   "metadata": {
    "slideshow": {
     "slide_type": "slide"
    }
   },
   "source": [
    "### Medindo uma associação"
   ]
  },
  {
   "cell_type": "markdown",
   "metadata": {
    "slideshow": {
     "slide_type": "fragment"
    }
   },
   "source": [
    "- A partir do diagrama de dispersão, podemos ter uma boa ideia se duas variáveis estão associadas, e se essa associação é positiva ou negativa."
   ]
  },
  {
   "cell_type": "markdown",
   "metadata": {},
   "source": [
    "- Porém, embora os diagramas de dispersão sejam ferramentas muito úteis, um diagrama de dispersão é no fundo uma _ferramenta gráfica/visual_."
   ]
  },
  {
   "cell_type": "markdown",
   "metadata": {},
   "source": [
    "- Para termos uma noção _quantitativa_ da associação entre duas variáveis, precisamos de uma _medida de associação_."
   ]
  },
  {
   "cell_type": "markdown",
   "metadata": {
    "slideshow": {
     "slide_type": "slide"
    }
   },
   "source": [
    "## Correlação"
   ]
  },
  {
   "cell_type": "markdown",
   "metadata": {
    "slideshow": {
     "slide_type": "slide"
    }
   },
   "source": [
    "### Coeficiente de Correlação (de Pearson)"
   ]
  },
  {
   "cell_type": "markdown",
   "metadata": {
    "slideshow": {
     "slide_type": "fragment"
    }
   },
   "source": [
    "- O coeficiente de correlação $r$ entre duas variáveis $X$ e $Y$ mede a **força da associação linear entre $X$ e $Y$**."
   ]
  },
  {
   "cell_type": "markdown",
   "metadata": {},
   "source": [
    "- De maneira informal, $r$ mede o quão \"próximos\" os pontos de $X$ e $Y$ estão ao redor de uma reta."
   ]
  },
  {
   "cell_type": "markdown",
   "metadata": {},
   "source": [
    "- $r$ é igual a: \n",
    "    - **média** dos \n",
    "    - **produtos** entre $X$ e $Y$,\n",
    "    - quando $X$ e $Y$ são ambas expressas em **unidades padronizadas**."
   ]
  },
  {
   "cell_type": "markdown",
   "metadata": {
    "slideshow": {
     "slide_type": "fragment"
    }
   },
   "source": [
    "- $r$ está sempre entre -1 e 1."
   ]
  },
  {
   "cell_type": "markdown",
   "metadata": {
    "slideshow": {
     "slide_type": "fragment"
    }
   },
   "source": [
    "- Antes de definir $r$ formalmente, vamos analisar alguns exemplos para trabalharmos um pouco nossa intuição."
   ]
  },
  {
   "cell_type": "markdown",
   "metadata": {
    "slideshow": {
     "slide_type": "slide"
    }
   },
   "source": [
    "### Exemplo: Diagramas de dispersão para diferentes valores de $r$\n",
    "\n",
    "Considere os seguintes diagramas de dispersão:"
   ]
  },
  {
   "cell_type": "code",
   "execution_count": null,
   "metadata": {},
   "outputs": [],
   "source": [
    "show_scatter_grid()"
   ]
  },
  {
   "cell_type": "markdown",
   "metadata": {},
   "source": [
    "- O sinal de $r$ (negativo ou positivo) define a natureza da associação (linear) entre $X$ e $Y$, isto é:\n",
    "    - se $r < 0$, então $X$ e $Y$ estão negativamente associadas (e logo **negativamente correlacionadas**);\n",
    "    - se $r > 0$, então $X$ e $Y$ estão positivamente associadas (e logo **positivamente correlacionadas**);\n",
    "    - se $r = 0$, não existe associação (linear) entre $X$ e $Y$ (e logo dizemos que $X$ e $Y$ são **não correlacionadas**)."
   ]
  },
  {
   "cell_type": "markdown",
   "metadata": {},
   "source": [
    "- Quando $r = 1$, dizemos que existe uma **correlação perfeita** entre $X$ e $Y$, ou que a relação entre $X$ e $Y$ é **perfeitamente linear**.\n",
    "    - Analogamente, o mesmo vale para $r = -1$, mas nesse caso dizemos que a correlação entre $X$ e $Y$ é **perfeitamente negativa**."
   ]
  },
  {
   "cell_type": "markdown",
   "metadata": {},
   "source": [
    "### Definição formal"
   ]
  },
  {
   "cell_type": "markdown",
   "metadata": {},
   "source": [
    "- Para uma amostra de tamanho $n$ de duas variáveis $\\boldsymbol{X} := X_1, \\ldots, X_n$ e $\\boldsymbol{Y} := Y_1, \\ldots, Y_n$, o **coeficiente de correlação amostral** $r$ é definido por\n",
    "\n",
    "\\begin{equation*}\n",
    "    r := \\frac{\\sum^n_{i=1} (X_i - \\bar{X}) (Y_i - \\bar{Y})}{\\sqrt{\\sum^n_{i=1} (X_i - \\bar{X})^2} \\sqrt{\\sum^n_{i=1} (Y_i - \\bar{Y})^2}} = \\frac{\\sum^n_{i=1} (X_i - \\bar{X}) (Y_i - \\bar{Y}) / n}{\\sqrt{S^2_x} \\sqrt{S^2_y}} = \\frac{\\sum^n_{i=1} (X_i - \\bar{X}) (Y_i - \\bar{Y}) / n}{S_x S_y},\n",
    "\\end{equation*}\n",
    "\n",
    "onde $\\bar{X}$ e $S_x$ são a média amostral e o desvio padrão amostral de $\\boldsymbol{X}$ e $\\bar{Y}$ e $S_y$ são a média amostral e o desvio padrão amostral de $\\boldsymbol{Y}$, respectivamente."
   ]
  },
  {
   "cell_type": "markdown",
   "metadata": {},
   "source": [
    "- Note que nessa definição acima explicitamos o fato de $r$ ser uma correlação **amostral** pois a correlação é apenas um parâmetro.\n",
    "    - Dessa forma, para uma certa população, existe também a **correlação populacional**, $\\rho$.\n",
    "    - Como na prática não sabemos $\\rho$, utilizamos $r$ (que é uma estatística) como uma estimativa de $\\rho$, assim como fazemos com qualquer parâmetro de interesse."
   ]
  },
  {
   "cell_type": "markdown",
   "metadata": {},
   "source": [
    "- <u>Nota histórica</u>:  O coeficiente de correlação $r$ é comumente denominado de coeficiente de correlação _de Pearson_, porque foi amplamente estudado por Karl Pearson por volta do ano 1895, com base em algumas das ideias que Francis Galton desenvolvera por volta do ano 1880.\n",
    "    - Você verá outros coeficientes de correlação e outras medidas de associação em outros cursos, mas o coeficiente de correlação de Pearson é sem dúvida o mais popular! "
   ]
  },
  {
   "cell_type": "markdown",
   "metadata": {},
   "source": [
    "### De volta à definição intuitiva"
   ]
  },
  {
   "cell_type": "markdown",
   "metadata": {},
   "source": [
    "- Voltando à definição anterior e intuitiva, em que $r$ é a \"média dos produtos entre $X$ e $Y$, quando $X$ e $Y$ são ambas expressas em unidades padronizadas\", primeiramente note que as unidades padronizadas correspondentes à cada $X_i$ e $Y_i$ são dadas por, respectivamente,\n",
    "\n",
    "\\begin{align*}\n",
    "    X_{i \\: \\text{(su)}} &:= \\frac{X_i - \\bar{X}}{S_x}, & & & Y_{i \\: \\text{(su)}} &:= \\frac{Y_i - \\bar{Y}}{S_y}.\n",
    "\\end{align*}"
   ]
  },
  {
   "cell_type": "markdown",
   "metadata": {},
   "source": [
    "- Dessa forma, podemos reescrever então\n",
    "\n",
    "\\begin{equation*}\n",
    "    r = \\frac{\\sum^n_{i=1} (X_i - \\bar{X}) (Y_i - \\bar{Y}) / n}{S_x S_y} = \\frac{1}{n} \\sum^n_{i=1} \\frac{(X_i - \\bar{X})}{S_x} \\frac{(Y_i - \\bar{Y})}{S_y} = \\frac{1}{n} \\sum^n_{i=1} X_{i \\: \\text{(su)}} Y_{i \\: \\text{(su)}},\n",
    "\\end{equation*}\n",
    "\n",
    "e que logo corresponde à definição intuitiva."
   ]
  },
  {
   "cell_type": "markdown",
   "metadata": {
    "slideshow": {
     "slide_type": "slide"
    }
   },
   "source": [
    "### Interpretando $r$"
   ]
  },
  {
   "cell_type": "markdown",
   "metadata": {
    "slideshow": {
     "slide_type": "fragment"
    }
   },
   "source": [
    "- Como mencionado anteriormente, o coeficiente de correlação $r$ mede a **força da associação linear entre $X$ e $Y$**."
   ]
  },
  {
   "cell_type": "markdown",
   "metadata": {},
   "source": [
    "- Dessa forma, se $r \\neq 0$, dizemos que $X$ e $Y$ são _correlacionadas_, e logo existe algum \"grau\" de _associação linear_ entre $X$ e $Y$."
   ]
  },
  {
   "cell_type": "markdown",
   "metadata": {},
   "source": [
    "- O \"grau\" de associação linear entre $X$ e $Y$ é exatamente dado pela **magnitude** da correlação entre $X$ e $Y$, isto é, por $|r$.\n",
    "    - Vimos acima que o **sinal** de $r$ vai medir a **direção** da associação entre $X$ e $Y$, mas sua **força** é medida por $|r|$."
   ]
  },
  {
   "cell_type": "markdown",
   "metadata": {},
   "source": [
    "- Voltando ao nosso objetivo original (de prever de $Y$ como função de $X$), podemos dizer que $r$ **quantifica o quão bem podemos prever (de maneira linear) uma variável aravés dos valores da outra**.\n",
    "    - Se $r \\approx 1$ ou $r \\approx -1$, podemos fazer uma \"boa previsão\" de $Y$ como função linear de $X$.\n",
    "    - Se $r \\approx 0$, não podemos fazer uma boa previsão de $Y$ como função linear de $X$."
   ]
  },
  {
   "cell_type": "markdown",
   "metadata": {},
   "source": [
    "- Finalmente, note que o coeficiente de correlação é _simétrico_, isto é, a correlação entre $X$ e $Y$ é igual à correlação entre $Y$ e $X$.\n",
    "    - Isso é intuitivo e relativamente fácil de visualizar, pois na fórmula de $r$ temos $X_{i \\: \\text{(su)}} Y_{i \\: \\text{(su)}} = Y_{i \\: \\text{(su)}} X_{i \\: \\text{(su)}}$ para cada $i$."
   ]
  },
  {
   "cell_type": "markdown",
   "metadata": {
    "slideshow": {
     "slide_type": "fragment"
    }
   },
   "source": [
    "- <u>Nota técnica</u>: Embora tenhamos assumido até agora que isso seja verdade, é possível provar de fato que $r$ está sempre entre $-1$ and $1$."
   ]
  },
  {
   "cell_type": "markdown",
   "metadata": {
    "slideshow": {
     "slide_type": "slide"
    }
   },
   "source": [
    "### Calculando $r$ no Python"
   ]
  },
  {
   "cell_type": "markdown",
   "metadata": {
    "slideshow": {
     "slide_type": "fragment"
    }
   },
   "source": [
    "Vamos agora calcular o valor de $r$ para os dois diagramas de dispersão que fizemos acima: `'price'` vs. `'acceleration'` e `'price'` vs. `'mpg'`."
   ]
  },
  {
   "cell_type": "markdown",
   "metadata": {},
   "source": [
    "Primeiramente, vamos definir uma função que expressa $X$ ou $Y$ (colunas de um `DataFrame`) em unidades padronizadas:"
   ]
  },
  {
   "cell_type": "code",
   "execution_count": null,
   "metadata": {},
   "outputs": [],
   "source": [
    "def standard_units(col):\n",
    "    return (col - col.mean()) / np.std(col)"
   ]
  },
  {
   "cell_type": "markdown",
   "metadata": {
    "slideshow": {
     "slide_type": "fragment"
    }
   },
   "source": [
    "Agora, vamos definir uma função que calcula a correlação $r$ a partir das unidades padronizadas:"
   ]
  },
  {
   "cell_type": "code",
   "execution_count": null,
   "metadata": {
    "slideshow": {
     "slide_type": "fragment"
    }
   },
   "outputs": [],
   "source": [
    "def calculate_r(df, x, y):\n",
    "    '''Returns the average value of the product of x and y, \n",
    "       when both are measured in standard units.'''\n",
    "    x_su = standard_units(df.get(x))\n",
    "    y_su = standard_units(df.get(y))\n",
    "    return (x_su * y_su).mean()"
   ]
  },
  {
   "cell_type": "markdown",
   "metadata": {
    "slideshow": {
     "slide_type": "slide"
    }
   },
   "source": [
    "### `'price'` vs. `'acceleration'`\n",
    "\n",
    "Voltando aos exemplos anteriores, primeiro vamos calcular a correlação $r$ entre `'acceleration'` e `'price'`:"
   ]
  },
  {
   "cell_type": "code",
   "execution_count": null,
   "metadata": {},
   "outputs": [],
   "source": [
    "hybrid.plot(kind='scatter', x='acceleration', y='price');"
   ]
  },
  {
   "cell_type": "code",
   "execution_count": null,
   "metadata": {
    "slideshow": {
     "slide_type": "-"
    }
   },
   "outputs": [],
   "source": [
    "calculate_r(hybrid, 'acceleration', 'price')"
   ]
  },
  {
   "cell_type": "markdown",
   "metadata": {
    "slideshow": {
     "slide_type": "fragment"
    }
   },
   "source": [
    "Como $r > 0$, a associação entre `'acceleration'` e `'price'` é positiva."
   ]
  },
  {
   "cell_type": "markdown",
   "metadata": {
    "slideshow": {
     "slide_type": "slide"
    }
   },
   "source": [
    "### `'price'` vs. `'mpg'`\n",
    "\n",
    "Agora, vamos calcular a correlação entre `'mpg'` e `'price'`:"
   ]
  },
  {
   "cell_type": "code",
   "execution_count": null,
   "metadata": {},
   "outputs": [],
   "source": [
    "hybrid.plot(kind='scatter', x='mpg', y='price');"
   ]
  },
  {
   "cell_type": "code",
   "execution_count": null,
   "metadata": {},
   "outputs": [],
   "source": [
    "calculate_r(hybrid, 'mpg', 'price')"
   ]
  },
  {
   "cell_type": "markdown",
   "metadata": {},
   "source": [
    "Aqui, $r < 0$, e logo a associação entre `'mpg'` and `'price'` é negativa."
   ]
  },
  {
   "cell_type": "markdown",
   "metadata": {},
   "source": [
    "Note que, como aqui $|r| \\simeq 0.53$ e no exemplo anterior $|r| \\simeq 0.70$, a magnitude da correlação entre `'mpg'` e `'price'` é menor do que a magnitude da correlação entre `'acceleration`' e `'price'`."
   ]
  },
  {
   "cell_type": "markdown",
   "metadata": {},
   "source": [
    "Em outras palavras, a relação entre `'mpg'` e `'price'` é \"menos linear\" do que aquela entre `'acceleration`' e `'price'`."
   ]
  },
  {
   "cell_type": "markdown",
   "metadata": {
    "slideshow": {
     "slide_type": "slide"
    }
   },
   "source": [
    "### Transformações lineares"
   ]
  },
  {
   "cell_type": "markdown",
   "metadata": {},
   "source": [
    "- Para entender melhor porque utilizamos unidades padronizadas na correlação $r$, precisamos do conceito de **transformações lineares**."
   ]
  },
  {
   "cell_type": "markdown",
   "metadata": {},
   "source": [
    "- Formalmente, dada uma amostra $\\boldsymbol{X} := (X_1, \\ldots, X_n)$ de uma variável $X$, uma **transformação linear** de $X$ é definida por\n",
    "\n",
    "\\begin{equation*}\n",
    "    aX_i + b\n",
    "\\end{equation*}\n",
    "\n",
    "para todo $i = 1, \\ldots, n$, $a \\in \\mathbb{R}$ e $b \\in \\mathbb{R}$."
   ]
  },
  {
   "cell_type": "markdown",
   "metadata": {},
   "source": [
    "- Uma transformação linear claramente modifica a **locação** e a **escala** de $X$, mas também pode modificar as **unidades de medida de $X$**."
   ]
  },
  {
   "cell_type": "markdown",
   "metadata": {
    "slideshow": {
     "slide_type": "fragment"
    }
   },
   "source": [
    "- Por exemplo, a fórmula de conversão de graus Celsius para graus Fahrenheit é uma transformação linear com $a = 9/5$ e $b = 32$, pois\n",
    "    \n",
    "$$X^\\text{Fahrenheit}_i = \\frac{9}{5} X^\\text{Celsius}_i + 32.$$"
   ]
  },
  {
   "cell_type": "markdown",
   "metadata": {},
   "source": [
    "- Analogamente, podemos converter uma quantidade qualquer de reais $X^\\text{BRL}_i$ em dólares (cotação do dia 23/07/24) tomando $a = 5.58$ e $b = 0$:\n",
    "\n",
    "$$X^\\text{USD}_i = 5.58 X^\\text{BRL}_i \\:\\:\\: 😀$$\n",
    "\n",
    "... e converter de volta (de dólares para reais) tomando $a = 1/5.58 = 0.18$ e $b = 0$:\n",
    "\n",
    "$$X^\\text{BRL}_i = 0.18 X^\\text{USD}_i \\:\\:\\: 😢$$"
   ]
  },
  {
   "cell_type": "markdown",
   "metadata": {
    "slideshow": {
     "slide_type": "slide"
    }
   },
   "source": [
    "### E porque então utilizamos variáveis padronizadas no cálculo de $r$?"
   ]
  },
  {
   "cell_type": "markdown",
   "metadata": {},
   "source": [
    "- Voltando à nossa pergunta original, primeiramente note que **a padronização é uma transformação linear**!\n",
    "    - Como $X_{i \\: \\text{(su)}} = (X_i - \\bar{X})/S_x = X_i/S_x - \\bar{X}/S_x$, para ver isso basta tomar $a = 1/S_x$ e $b = - \\bar{X}/S_x$ na transformação linear acima."
   ]
  },
  {
   "cell_type": "markdown",
   "metadata": {},
   "source": [
    "- Dessa forma, como a padronização elimina a influência da unidade de medida sobre $X_i$ (uma vez que $X_{i \\: \\text{(su)}}$ está expressa em unidades padronizadas), **utilizamos variáveis padronizadas para que o coeficiente de correlação $r$ não seja influenciado pelas escalas/unidades de medida das nossas variáveis**.\n",
    "    - Dizemos então que $r$ é **invariante à escala**."
   ]
  },
  {
   "cell_type": "markdown",
   "metadata": {},
   "source": [
    "- É ainda mais correto dizer que $r$ _invariante à transformações lineares_, pois a padronização elimina qualquer influência de locação e escala, de forma que $X_{i \\: \\text{(su)}}$ é _idêntica_ se for calculada com base nos valores de $X_i$ ou em $aX_i + b$. "
   ]
  },
  {
   "cell_type": "markdown",
   "metadata": {
    "slideshow": {
     "slide_type": "fragment"
    }
   },
   "source": [
    "- Similarmente, quando aplicamos uma transformação linear às variáveis em um diagrama de dispersão, **mudamos apenas os eixos $x$ e $y$**, isto é, as unidades de medida das variáveis representadas no diagrama.\n",
    "    - Como as transformações lineares não alteram a correlação entre $X$ e $Y$, a associação entre elas representada no diagrama de dispersão também não se altera!"
   ]
  },
  {
   "cell_type": "markdown",
   "metadata": {
    "slideshow": {
     "slide_type": "fragment"
    }
   },
   "source": [
    "- Voltando ao nosso exemplo original dos carros, note que o diagrama de dispersão não se altera ao expressarmos os preços em _ienes_ ao invés de _dólares_, e/ou a autonomia em _quilômetros por galão_ ao invés de _milhas por galão_.\n",
    "    - Conforme discutido acima, apenas _os eixos_ são alterados por essas conversões."
   ]
  },
  {
   "cell_type": "code",
   "execution_count": null,
   "metadata": {},
   "outputs": [],
   "source": [
    "hybrid.plot(kind='scatter', x='mpg', y='price', title='price (dollars) vs. mpg');"
   ]
  },
  {
   "cell_type": "code",
   "execution_count": null,
   "metadata": {},
   "outputs": [],
   "source": [
    "hybrid.assign(\n",
    "    price_yen=hybrid.get('price') * 149.99, # The current USD to Japanese Yen exchange rate.\n",
    "    kpg=hybrid.get('mpg') * 1.6             # 1 mile is 1.6 kilometers.\n",
    ").plot(kind='scatter', x='kpg', y='price_yen', title='price (yen) vs. kpg');"
   ]
  },
  {
   "cell_type": "markdown",
   "metadata": {
    "slideshow": {
     "slide_type": "fragment"
    }
   },
   "source": [
    "- Reiterando sobre o ponto anterior, como uma alteração nas unidades de medida não altera a associação linear entre as variáveis, a força de associação linear representada no diagrama de dispersão – e que logo corresponde à $r$ – também não se altera.\n",
    "    - Como sempre utilizamos unidades padronizadas para calcular $r$, garantimos que o seu valor – e sua interpretação – seja sempre o mesmo."
   ]
  },
  {
   "cell_type": "markdown",
   "metadata": {
    "slideshow": {
     "slide_type": "fragment"
    }
   },
   "source": [
    "- No exemplo em questão, a correlação entre os preços em dólares e a autonomia em milhas por galão e a correlação entre os preços em ienes e a autonomia em quilômetros por galão **é a mesma**."
   ]
  },
  {
   "cell_type": "markdown",
   "metadata": {
    "slideshow": {
     "slide_type": "slide"
    }
   },
   "source": [
    "### Exercício ✅ \n",
    "\n",
    "Analise o diagrama de dispersão a seguir. O que você pode dizer sobre a relação entre $y$ e $x$?\n",
    "\n",
    "- A. $x$ e $y$ são associadas e correlacionadas.\n",
    "- B. $x$ e $y$ são associadas, mas não correlacionadas.\n",
    "- C. $x$ e $y$ não são associadas, mas são correlacionadas.\n",
    "- D. $x$ e $y$ não são associadas e nem são correlacionadas."
   ]
  },
  {
   "cell_type": "code",
   "execution_count": null,
   "metadata": {},
   "outputs": [],
   "source": [
    "x2 = bpd.DataFrame().assign(\n",
    "    x=np.arange(-6, 6.1, 0.5), \n",
    "    y=np.arange(-6, 6.1, 0.5) ** 2\n",
    ")\n",
    "x2.plot(kind='scatter', x='x', y='y');"
   ]
  },
  {
   "cell_type": "markdown",
   "metadata": {
    "slideshow": {
     "slide_type": "slide"
    }
   },
   "source": [
    "## Resumo\n",
    "\n",
    "- O coeficiente de correlação $r$ mede a **força de associação linear** entre $X$ e $Y$.\n",
    "    - Sempre temos $r \\in [-1, 1]$.\n",
    "- A **magnitude** da associação linear entre $X$ e $Y$ é dada por $|r|$.\n",
    "    - Analogamente, o **sinal** de $r$ nos dá a **direção da associação** entre $X$ e $Y$.\n",
    "    - Se $r < 0$, $X$ e $Y$ são **negativamente** associadas;\n",
    "    - Se $r > 0$, $X$ e $Y$ são **positivamente** associadas.\n",
    "- A correlação é simétrica e **invariante sob transformações lineares**.\n",
    "    - Dessa forma, o valor de $r$ é o mesmo **qualquer que sejam** as unidades de medida de $X$ e $Y$."
   ]
  }
 ],
 "metadata": {
  "kernelspec": {
   "display_name": "Python 3 (ipykernel)",
   "language": "python",
   "name": "python3"
  },
  "language_info": {
   "codemirror_mode": {
    "name": "ipython",
    "version": 3
   },
   "file_extension": ".py",
   "mimetype": "text/x-python",
   "name": "python",
   "nbconvert_exporter": "python",
   "pygments_lexer": "ipython3",
   "version": "3.11.7"
  },
  "livereveal": {
   "scroll": true,
   "transition": "none"
  },
  "rise": {
   "enable_chalkboard": true
  }
 },
 "nbformat": 4,
 "nbformat_minor": 4
}
