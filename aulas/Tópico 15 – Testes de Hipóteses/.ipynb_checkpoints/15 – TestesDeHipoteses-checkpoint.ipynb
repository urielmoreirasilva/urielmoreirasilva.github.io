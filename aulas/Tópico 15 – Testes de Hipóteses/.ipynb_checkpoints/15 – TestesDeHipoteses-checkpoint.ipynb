{
 "cells": [
  {
   "cell_type": "markdown",
   "metadata": {},
   "source": [
    "# Tópico 15 – Testes de Hipóteses [<img src=\"images/colag_logo.svg\" style=\"float: right; margin-right: 0%; vertical-align: middle; width: 6.5%;\">](https://colab.research.google.com/github/urielmoreirasilva/urielmoreirasilva.github.io/blob/main/aulas/T%C3%B3pico%2015%20%E2%80%93%20Testes%20De%20Hip%C3%B3teses%2F15%20%E2%80%93%20TestesDeHipoteses.ipynb) [<img src=\"images/github_logo.svg\" style=\"float: right; margin-right: 0%; vertical-align: middle; width: 3.25%;\">](https://github.com/urielmoreirasilva/urielmoreirasilva.github.io/blob/main/aulas/T%C3%B3pico%2015%20%E2%80%93%20Testes%20De%20Hip%C3%B3teses%2F15%20%E2%80%93%20TestesDeHipoteses.ipynb)\n",
    "\n",
    "Nessa aula, voltamos nossa atenção para uma pergunta fundamental em Ciência de Dados: \"como testar se um conjunto de hipóteses feitas sobre nossos dados é adequado ou não?\".\n",
    "\n",
    "### Resultados Esperados \n",
    "\n",
    "1. Aprender a definir o que são modelos estatísticos, e a formular problemas práticos em Ciência de Dados como modelos.\n",
    "1. Introduzir o conceito de significância estatística, e a caracterização da \"quantidade de erro aleatório\" que estamos dispostos a permitir em situações práticas.\n",
    "1. Introduzir as noções básicas de Testes de Hipóteses, e a utilizar essa metodologia para testar a adequação de diferentes modelos estatísticos em problemas de análises de dados.\n",
    "\n",
    "### Referências\n",
    "- [CIT, Capítulo 11](https://inferentialthinking.com/)\n",
    "\n",
    "Material adaptado do [DSC10 (UCSD)](https://dsc10.com/) por [Flavio Figueiredo (DCC-UFMG)](https://flaviovdf.io/fcd/) e [Uriel Silva (DEST-UFMG)](https://urielmoreirasilva.github.io)"
   ]
  },
  {
   "cell_type": "code",
   "execution_count": 1,
   "metadata": {},
   "outputs": [],
   "source": [
    "## Imports para esse tópico (note que aqui temos um novo módulo nessa lista: o SciPy!)\n",
    "import numpy as np\n",
    "import pandas as pd\n",
    "import matplotlib.pyplot as plt\n",
    "import scipy as scipy\n",
    "plt.style.use('ggplot')\n",
    "\n",
    "## Opções de como printar objetos do Numpy e do Pandas\n",
    "np.set_printoptions(threshold = 20, precision = 2, suppress = True)\n",
    "pd.set_option(\"display.max_rows\", 7)\n",
    "pd.set_option(\"display.max_columns\", 8)\n",
    "pd.set_option(\"display.precision\", 2)"
   ]
  },
  {
   "cell_type": "markdown",
   "metadata": {
    "slideshow": {
     "slide_type": "slide"
    }
   },
   "source": [
    "## Modelos Estatísticos"
   ]
  },
  {
   "cell_type": "markdown",
   "metadata": {
    "slideshow": {
     "slide_type": "slide"
    }
   },
   "source": [
    "### Definição básica"
   ]
  },
  {
   "cell_type": "markdown",
   "metadata": {
    "slideshow": {
     "slide_type": "fragment"
    }
   },
   "source": [
    "- Informalmente, um **modelo estatístico** consiste de um _conjunto de hipóteses_ que fazemos sobre o processo que gerou nossos dados."
   ]
  },
  {
   "cell_type": "markdown",
   "metadata": {},
   "source": [
    "Exemplos simples de modelos são:\n",
    "- Moedas \"justas\" têm probabilidade igual de resultarem em cara ou coroa.\n",
    "- Dados \"justos\" têm probabilidade igual de resultarem em cada um dos lados.\n",
    "- A gravidez de uma fêmea Golden Retriever pode resultar em 1 até 14 (!) filhotes, com média entre 7 e 8."
   ]
  },
  {
   "cell_type": "markdown",
   "metadata": {
    "slideshow": {
     "slide_type": "fragment"
    }
   },
   "source": [
    "- Um dos principais objetivos em Inferência Estatística é **aferir a qualidade de um modelo**.\n",
    "- Em outras palavras, buscamos aferir **o _quão bem_ um modelo explica a \"realidade\"** refletida nos dados.  "
   ]
  },
  {
   "cell_type": "markdown",
   "metadata": {},
   "source": [
    "- Conforme aprendemos até agora, a maioria dos problemas em Inferência pode ser resolvido através de alguma teoria (baseada em Matemática e Probabilidade), e/ou com técnicas de simulação.\n",
    "- Em ambos os casos, vamos sempre **assumir que o nosso modelo seja verdadeiro**, e então calcular as frequências/probabilidades com as quais os padrões observados nos nossos dados ocorreriam sob esse modelo."
   ]
  },
  {
   "cell_type": "markdown",
   "metadata": {},
   "source": [
    "- Em geral, o processo de verificar se um modelo é adequado ou não para um certo conjunto de dados é denominado de **teste de hipótese**. Definiremos essa noção mais formalmente abaixo."
   ]
  },
  {
   "cell_type": "markdown",
   "metadata": {
    "slideshow": {
     "slide_type": "slide"
    }
   },
   "source": [
    "### Exemplo: lançamento de uma moeda\n",
    "\n",
    "Como exemplo motivador, suponha que queiramos decidir se uma certa moeda é \"justa\", isto é, se no lançamento dessa moeda a probabilidade de uma cara é igual a probabilidade de uma coroa (1/2, ou 50%).\n",
    "\n",
    "Para verificar isso, lançamos a moeda $n = 400$ vezes, e anotamos os resultados obtidos."
   ]
  },
  {
   "cell_type": "code",
   "execution_count": 2,
   "metadata": {
    "slideshow": {
     "slide_type": "fragment"
    }
   },
   "outputs": [
    {
     "data": {
      "text/html": [
       "<div>\n",
       "<style scoped>\n",
       "    .dataframe tbody tr th:only-of-type {\n",
       "        vertical-align: middle;\n",
       "    }\n",
       "\n",
       "    .dataframe tbody tr th {\n",
       "        vertical-align: top;\n",
       "    }\n",
       "\n",
       "    .dataframe thead th {\n",
       "        text-align: right;\n",
       "    }\n",
       "</style>\n",
       "<table border=\"1\" class=\"dataframe\">\n",
       "  <thead>\n",
       "    <tr style=\"text-align: right;\">\n",
       "      <th></th>\n",
       "      <th>flip</th>\n",
       "      <th>outcome</th>\n",
       "    </tr>\n",
       "  </thead>\n",
       "  <tbody>\n",
       "    <tr>\n",
       "      <th>0</th>\n",
       "      <td>1</td>\n",
       "      <td>Tails</td>\n",
       "    </tr>\n",
       "    <tr>\n",
       "      <th>1</th>\n",
       "      <td>2</td>\n",
       "      <td>Tails</td>\n",
       "    </tr>\n",
       "    <tr>\n",
       "      <th>2</th>\n",
       "      <td>3</td>\n",
       "      <td>Tails</td>\n",
       "    </tr>\n",
       "    <tr>\n",
       "      <th>...</th>\n",
       "      <td>...</td>\n",
       "      <td>...</td>\n",
       "    </tr>\n",
       "    <tr>\n",
       "      <th>397</th>\n",
       "      <td>398</td>\n",
       "      <td>Heads</td>\n",
       "    </tr>\n",
       "    <tr>\n",
       "      <th>398</th>\n",
       "      <td>399</td>\n",
       "      <td>Heads</td>\n",
       "    </tr>\n",
       "    <tr>\n",
       "      <th>399</th>\n",
       "      <td>400</td>\n",
       "      <td>Tails</td>\n",
       "    </tr>\n",
       "  </tbody>\n",
       "</table>\n",
       "<p>400 rows × 2 columns</p>\n",
       "</div>"
      ],
      "text/plain": [
       "     flip outcome\n",
       "0       1   Tails\n",
       "1       2   Tails\n",
       "2       3   Tails\n",
       "..    ...     ...\n",
       "397   398   Heads\n",
       "398   399   Heads\n",
       "399   400   Tails\n",
       "\n",
       "[400 rows x 2 columns]"
      ]
     },
     "execution_count": 2,
     "metadata": {},
     "output_type": "execute_result"
    }
   ],
   "source": [
    "flips_400 = pd.read_csv('data/flips-400.csv')\n",
    "flips_400"
   ]
  },
  {
   "cell_type": "code",
   "execution_count": 3,
   "metadata": {},
   "outputs": [
    {
     "data": {
      "text/html": [
       "<div>\n",
       "<style scoped>\n",
       "    .dataframe tbody tr th:only-of-type {\n",
       "        vertical-align: middle;\n",
       "    }\n",
       "\n",
       "    .dataframe tbody tr th {\n",
       "        vertical-align: top;\n",
       "    }\n",
       "\n",
       "    .dataframe thead th {\n",
       "        text-align: right;\n",
       "    }\n",
       "</style>\n",
       "<table border=\"1\" class=\"dataframe\">\n",
       "  <thead>\n",
       "    <tr style=\"text-align: right;\">\n",
       "      <th></th>\n",
       "      <th>flip</th>\n",
       "    </tr>\n",
       "    <tr>\n",
       "      <th>outcome</th>\n",
       "      <th></th>\n",
       "    </tr>\n",
       "  </thead>\n",
       "  <tbody>\n",
       "    <tr>\n",
       "      <th>Heads</th>\n",
       "      <td>188</td>\n",
       "    </tr>\n",
       "    <tr>\n",
       "      <th>Tails</th>\n",
       "      <td>212</td>\n",
       "    </tr>\n",
       "  </tbody>\n",
       "</table>\n",
       "</div>"
      ],
      "text/plain": [
       "         flip\n",
       "outcome      \n",
       "Heads     188\n",
       "Tails     212"
      ]
     },
     "execution_count": 3,
     "metadata": {},
     "output_type": "execute_result"
    }
   ],
   "source": [
    "flips_400.groupby('outcome').count()"
   ]
  },
  {
   "cell_type": "markdown",
   "metadata": {
    "slideshow": {
     "slide_type": "fragment"
    }
   },
   "source": [
    "- Naturalmente, podemos então perguntar: **esse resultado é consistente ou não** com o nosso \"modelo\", isto é, esse resultado condiz com a _hipótese_ de que a moeda é justa? 🤔\n",
    "- Em outras palavras, quão _provável_ (ou _improvável_) seria obtermos 188 caras em 400 lançamentos de uma moeda justa?"
   ]
  },
  {
   "cell_type": "markdown",
   "metadata": {},
   "source": [
    "## Significância Estatística"
   ]
  },
  {
   "cell_type": "markdown",
   "metadata": {},
   "source": [
    "- Antes de introduzirmos o ferramental necessário para responder à pergunta acima, primeiramente vamos refletir um pouco sobre outro ponto:\n",
    "\n",
    "> Se esperamos _exatamente_ uma proporção de 50% de caras nos lançamentos da moeda do exemplo anterior, quais as proporções $p$ de caras aceitaríamos como **estatisticamente iguais** a 50%?\n",
    "\n",
    "> Analogamente, o que nesse caso seria uma \"diferença inaceitável\" entre $p$ e 50% para decidirmos que a moeda não é justa?  "
   ]
  },
  {
   "cell_type": "markdown",
   "metadata": {},
   "source": [
    "- Para responder perguntas como essa, frequentemente utilizamos o conceito de **significância estatística**. "
   ]
  },
  {
   "cell_type": "markdown",
   "metadata": {},
   "source": [
    "- Basicamente, um resultado é considerado **estatisticamente significante** se sua ocorrência por pura chance/aleatoriedade/\"coincidência\" é considerada **baixa**."
   ]
  },
  {
   "cell_type": "markdown",
   "metadata": {},
   "source": [
    "- Mais formalmente, um evento é considerado estatisticamente significante se sua probabilidade é **menor** do que um certo valor $\\alpha \\in (0, 1)$.\n",
    "- Denominamos $\\alpha$ então de **nível de significância**. Um nível de significância muito comum utilizado na prática é $\\alpha = 5\\%$."
   ]
  },
  {
   "cell_type": "markdown",
   "metadata": {},
   "source": [
    "- O _complementar_ do nível de significância $\\alpha$ é o nível de confiança $\\gamma$ que vimos anteriormente no Tópico 14, isto é, temos sempre $\\alpha + \\gamma = 1$.\n",
    "- Escolher um nível de significância de $\\alpha = 5\\%$ é então equivalente a escolher um nível de confiança de $\\gamma = 1 - \\alpha = 95\\%$, por exemplo."
   ]
  },
  {
   "cell_type": "markdown",
   "metadata": {},
   "source": [
    "### De volta ao exemplo da moeda\n",
    "\n",
    "- _Supondo que a moeda seja justa_, qual a probabilidade de ocorrerem entre 188 e 212 caras em $n = 400$ lançamentos?"
   ]
  },
  {
   "cell_type": "markdown",
   "metadata": {},
   "source": [
    "- Omitindo as tecnicalidades, essa probabilidade pode ser calculada como (lembre do Triângulo de Pascal!)\n",
    "\n",
    "\\begin{equation*}\n",
    "    \\sum^{212}_{k = 188} {n \\choose k} \\left(\\frac{1}{2}\\right)^k \\left(\\frac{1}{2}\\right)^{n-k} \\simeq 0.7888 = 78.88\\%\n",
    "\\end{equation*}"
   ]
  },
  {
   "cell_type": "markdown",
   "metadata": {},
   "source": [
    "- No Python, podemos calcular essa probabilidade através da _função de massa de probabilidade_ da _Distribuição Binomial_, `scipy.stats.binom.cdf`.\n",
    "    - Essa é outra distribuição que você verá nos próximos cursos!\n",
    "    - Os parâmetros dessa função são o \"número de sucessos\" `k` $(k = 0, 1, \\ldots, n)$, o \"número de experimentos\" `n` $(n \\in \\mathbb{N})$ e a \"probabilidade de sucesso de cada experimento\", `p` $(0 < p < 1)$."
   ]
  },
  {
   "cell_type": "code",
   "execution_count": 4,
   "metadata": {},
   "outputs": [
    {
     "data": {
      "text/plain": [
       "0.7888"
      ]
     },
     "execution_count": 4,
     "metadata": {},
     "output_type": "execute_result"
    }
   ],
   "source": [
    "prob = 0\n",
    "n = 400\n",
    "p = 0.5\n",
    "\n",
    "for k in np.arange(188, 212 + 1, 1):\n",
    "    prob = prob + scipy.stats.binom.pmf(int(k), n, p)\n",
    "\n",
    "round(prob, 4)"
   ]
  },
  {
   "cell_type": "markdown",
   "metadata": {},
   "source": [
    "- Dessa forma, _se a moeda for justa_, a probabilidade de obtermos um número de caras entre 188 e 212 é bem alta!\n",
    "- Analogamente, a probabilidade de obtermos um número de caras **menor** que 188 e **maior** que 212 será então igual a $1 - 0.7888 \\simeq 0.2112$, ou $21.12\\%$."
   ]
  },
  {
   "cell_type": "code",
   "execution_count": 5,
   "metadata": {},
   "outputs": [
    {
     "data": {
      "text/plain": [
       "0.2112"
      ]
     },
     "execution_count": 5,
     "metadata": {},
     "output_type": "execute_result"
    }
   ],
   "source": [
    "round(1 - 0.7888, 4)"
   ]
  },
  {
   "cell_type": "markdown",
   "metadata": {},
   "source": [
    "- O resultado acima nos diz então que, ainda que a moeda seja justa, a probabilidade de obtermos algo em torno de 188 a 212 caras em $n = 400$ lançamentos é _bem razoável_.\n",
    "- Em outras palavras, como $188/400 = 0.47$ e $212/400 = 0.53$, desvios de até $3\\%$ na proporção esperada de caras ($50\\%$) em $n = 400$ lançamentos de uma moeda justa ocorrem com uma probabilidade de $21.12\\%$."
   ]
  },
  {
   "cell_type": "markdown",
   "metadata": {},
   "source": [
    "- Concluímos então que uma ocorrência de 188 caras em 400 lançamentos **não é considerada significativa** a um nível $\\alpha = 5\\%$!"
   ]
  },
  {
   "cell_type": "markdown",
   "metadata": {},
   "source": [
    "- Agora, o que seria então considerado estatisticamente significante nesse problema? 🤔"
   ]
  },
  {
   "cell_type": "markdown",
   "metadata": {},
   "source": [
    "Se tívessemos observado, por exemplo, 181 caras:"
   ]
  },
  {
   "cell_type": "code",
   "execution_count": 6,
   "metadata": {},
   "outputs": [
    {
     "data": {
      "text/plain": [
       "0.051"
      ]
     },
     "execution_count": 6,
     "metadata": {},
     "output_type": "execute_result"
    }
   ],
   "source": [
    "prob = 0\n",
    "n = 400\n",
    "p = 0.5\n",
    "\n",
    "## Número observado de caras (19 *a menos* ou *a mais* que o \"esperado\" = 200)\n",
    "heads_l = 181\n",
    "heads_u = 219\n",
    "\n",
    "for k in np.arange(heads_l, heads_u + 1, 1):\n",
    "    prob = prob + scipy.stats.binom.pmf(int(k), n, p)\n",
    "\n",
    "round(1 - prob, 4)"
   ]
  },
  {
   "cell_type": "markdown",
   "metadata": {},
   "source": [
    "Ainda não!"
   ]
  },
  {
   "cell_type": "markdown",
   "metadata": {},
   "source": [
    "Talvez 180 caras?"
   ]
  },
  {
   "cell_type": "code",
   "execution_count": 7,
   "metadata": {},
   "outputs": [
    {
     "data": {
      "text/plain": [
       "0.0402"
      ]
     },
     "execution_count": 7,
     "metadata": {},
     "output_type": "execute_result"
    }
   ],
   "source": [
    "prob = 0\n",
    "n = 400\n",
    "p = 0.5\n",
    "\n",
    "## Número observado de caras (20 *a menos* ou *a mais* que o \"esperado\" = 200)\n",
    "heads_l = 180\n",
    "heads_u = 220\n",
    "\n",
    "for k in np.arange(heads_l, heads_u + 1, 1):\n",
    "    prob = prob + scipy.stats.binom.pmf(int(k), n, p)\n",
    "\n",
    "round(1 - prob, 4)"
   ]
  },
  {
   "cell_type": "markdown",
   "metadata": {},
   "source": [
    "Agora sim! 👍"
   ]
  },
  {
   "cell_type": "markdown",
   "metadata": {},
   "source": [
    "- Ao nível de significância de $\\alpha = 5\\%$, observar de 181 a 219 caras (isto é, desvios de até 4.75% na proporção esperada de caras) ainda seria considerado \"aceitável\" (isto é, _não-significante_) nesse caso.\n",
    "- Precisaríamos de um resultado mais _extremo_ (equivalente a desvios maiores ou iguais a 5% na proporção esperada de caras) para ser considerado estatisticamente significante, como por exemplo 180 caras ou menos, ou 220 caras ou mais. "
   ]
  },
  {
   "cell_type": "markdown",
   "metadata": {},
   "source": [
    "> Para concluir nosso exemplo, lembrando da complementariedade entre o nível de confiança $\\gamma$ e o nível de significância $\\alpha$, podemos obter a _mesma resposta acima_ através de um intervalo de 95% de confiança para a proporção populacional $p$ de caras em uma moeda justa, que podemos calcular _exatamente_ através de:"
   ]
  },
  {
   "cell_type": "code",
   "execution_count": 8,
   "metadata": {},
   "outputs": [
    {
     "data": {
      "text/plain": [
       "(180.0, 220.0)"
      ]
     },
     "execution_count": 8,
     "metadata": {},
     "output_type": "execute_result"
    }
   ],
   "source": [
    "scipy.stats.binom.interval(0.95, 400, .5)"
   ]
  },
  {
   "cell_type": "markdown",
   "metadata": {},
   "source": [
    "- Voltaremos à relação entre $\\gamma$ e $\\alpha$ mais adiante abaixo, mas note que o intervalo e as probabilidades calculados de maneira exata acima são dados aqui apenas para comparação. \n",
    "- Para os propósitos desse curso, **vamos calcular todas essas quantidades através de simulação**! "
   ]
  },
  {
   "cell_type": "markdown",
   "metadata": {},
   "source": [
    "### Exercício ✅\n",
    "\n",
    "Você acha que o mesmo resultado acima valeria para $n = 40$ ou $n = 4.000$ lançamentos? Por que? Faça as alterações necessárias nas células de código abaixo e comente brevemente sobre os resultados na célula de texto seguinte.\n",
    "\n",
    "**Importante**: Calcule antes o número de caras equivalente a 188 em $n = 400$ quando $n = 40$ e $n = 4.000$."
   ]
  },
  {
   "cell_type": "code",
   "execution_count": 9,
   "metadata": {},
   "outputs": [],
   "source": [
    "# ## Descomente e execute!\n",
    "# prob = 0\n",
    "# n = ...\n",
    "# p = 0.5\n",
    "\n",
    "# for k in np.arange(..., ... + 1, 1):\n",
    "#     prob = prob + scipy.stats.binom.pmf(int(k), n, p)\n",
    "\n",
    "# round(prob, 4)"
   ]
  },
  {
   "cell_type": "code",
   "execution_count": 10,
   "metadata": {},
   "outputs": [],
   "source": [
    "# ## Descomente e execute!\n",
    "# n = ...\n",
    "# scipy.stats.binom.interval(0.95, n, .5)"
   ]
  },
  {
   "cell_type": "markdown",
   "metadata": {},
   "source": [
    "> ..."
   ]
  },
  {
   "cell_type": "markdown",
   "metadata": {
    "slideshow": {
     "slide_type": "slide"
    }
   },
   "source": [
    "## Testes de Hipóteses"
   ]
  },
  {
   "cell_type": "markdown",
   "metadata": {},
   "source": [
    "### Noções básicas"
   ]
  },
  {
   "cell_type": "markdown",
   "metadata": {},
   "source": [
    "- Podemos definir um **Teste de Hipóteses** como um procedimento em que testamos a **hipótese de que o nosso modelo esteja correto** contra a **hipótese de que o nosso modelo não esteja correto**.\n",
    "    - A primeira hipótese, isto é, de que o nosso modelo esteja correto, é denominada de **hipótese nula**.\n",
    "    - A segunda hipótese, isto é, de que o nosso modelo não esteja correto, é denominada de **hipótese alternativa**.\n",
    "- A **aceitação** de uma hipótese em detrimento da outra leva à **rejeição** da outra hipótese."
   ]
  },
  {
   "cell_type": "markdown",
   "metadata": {},
   "source": [
    "- **Muito importante:** Embora estejamos definindo os Testes de Hipóteses e nossos modelos em termos como \"aceitação\" e \"correto\", note que na verdade o procedimento apenas nos diz se o modelo postulado é _condizente_ com os padrões observados nos nossos dados.\n",
    "- Dessa forma, como em geral o processo gerador dos dados é _aleatório_, podemos aceitar a hipótese de um modelo esteja correto (ou errado) por _pura aleatoriedade_, sem que na verdade o modelo seja _verdadeiramente_ correto (ou errado)!\n",
    "- Essa indeterminação é **inerente à qualquer processo de decisão sob aleatoriedade**, e vale para _todas_ as técnicas que utilizamos em Inferência Estatística, exceto em situações triviais."
   ]
  },
  {
   "cell_type": "markdown",
   "metadata": {},
   "source": [
    "- Em vista da observação acima, uma outra maneira de pensarmos no nível de significância é como um **nível máximo permitido** para a influência da incerteza/aleatoriedade sobre o nosso experimento/processo gerador de dados.\n",
    "- Equivalentemente, $\\alpha$ representa **a frequência máxima com a qual nosso modelo (ainda que esteja correto) possa ser rejeitado por um teste de hipóteses**."
   ]
  },
  {
   "cell_type": "markdown",
   "metadata": {},
   "source": [
    "> No exemplo acima, embora 400 lançamentos de uma moeda justa possam _de fato_ produzir menos de 180 caras (ou mais de 220), a _probabilidade_ com a qual isso ocorre é menor que $\\alpha$.\n",
    "\n",
    "> Reiterando sobre esse ponto, _ainda que nosso modelo esteja correto_, a probabilidade desse resultado ocorrer por pura aleatoriedade é _tão baixa_ que consideramos ser _mais plausível_ que nosso modelo esteja errado! "
   ]
  },
  {
   "cell_type": "markdown",
   "metadata": {},
   "source": [
    "- Finalmente, como para cada hipótese nula fazemos um teste separado, é possível que **aceitemos várias hipóteses nulas diferentes** (e, logo, **vários modelos diferentes**) para os _mesmos dados_.\n",
    "- Embora existam algumas maneiras de contornar esse problema (você verá isso nos próximos cursos!), essa é uma característica **inerente** à várias outras técnicas de Inferência Estatística.\n",
    "- Não entraremos em mais detalhes, mas lembre da nossa discussão anterior sobre **igualdade estatística**: com 95% de confiança, todas as proporções populacionais $p \\in (0.45, 0.55)$ são _igualmente prováveis_ (inclusive $p = 0.50$!) nesse experimento."
   ]
  },
  {
   "cell_type": "markdown",
   "metadata": {
    "slideshow": {
     "slide_type": "slide"
    }
   },
   "source": [
    "### Hipóteses nulas e alternativas\n",
    "\n",
    "Vamos agora formalizar as noções de hipóteses nulas e alternativas introduzidas acima."
   ]
  },
  {
   "cell_type": "markdown",
   "metadata": {},
   "source": [
    "- No exemplo da moeda justa, nossa hipótese nula é: \"a moeda é justa\".\n",
    "- Analogamente, nossa hipótese alternativa é \"a moeda não é justa\"."
   ]
  },
  {
   "cell_type": "markdown",
   "metadata": {},
   "source": [
    "- Em um teste de hipóteses, a hipótese nula deve ser um **modelo de probabilidade bem definido** sobre o processo que gerou nossos dados.\n",
    "- A razão para isso é que precisamos poder calcular todas as probabilidades e frequências sobre as quais estamos interessados, não só do ponto de vista _teórico/matemático_, mas também do ponto de vista _prático/computacional_.\n",
    "- Em outras palavras: precisamos definir bem um modelo para simular desse modelo!\n",
    "- Usualmente denotamos a hipótese nula por $H_0$."
   ]
  },
  {
   "cell_type": "markdown",
   "metadata": {},
   "source": [
    "Mais uma vez voltando ao nosso exemplo, uma possível hipótese nula aqui seria $H_0\\!\\!: p = 0.50$, onde $p$ representa a probabilidade do lançamento de uma moeda resultar em cara (nosso **parâmetro**)."
   ]
  },
  {
   "cell_type": "markdown",
   "metadata": {},
   "source": [
    "Tecnicamente, para que esse modelo realmente esteja bem definido, definimos _sob $H_0$_ uma variável aleatória $X$ tomando valores no espaço amostral $\\{H, T\\}$ com probabilidades $p_0 = 0.50$ e $1 - p_0 = 0.50$, respectivamente."
   ]
  },
  {
   "cell_type": "markdown",
   "metadata": {},
   "source": [
    "- Por outro lado, a **hipótese alternativa** representa uma _visão diferente_ (e _usualmente_ complementar, para que então o **teste** também esteja bem definido) do processo que gerou nossos dados.\n",
    "- Dessa forma, a hipótese alternativa **não precisa ser específica**, uma vez que basta a hipótese nula _ser rejeitada_ para que a hipótese alternativa _seja aceita_.\n",
    "- Usualmente denotamos a hipótese alternativa por $H_1$. "
   ]
  },
  {
   "cell_type": "markdown",
   "metadata": {},
   "source": [
    "Retornando ao exemplo da moeda, uma possível hipótese alternativa seria $H_1\\!\\!:p \\neq 0.50$."
   ]
  },
  {
   "cell_type": "markdown",
   "metadata": {},
   "source": [
    "Note que essa é uma hipótese bem vaga, assim como \"a moeda não é justa\", pois _qualquer valor_ para a proporção de caras diferente de $p_0 = 0.50$ satisfaz a hipótese alternativa!"
   ]
  },
  {
   "cell_type": "markdown",
   "metadata": {
    "slideshow": {
     "slide_type": "slide"
    }
   },
   "source": [
    "### Estatísticas de teste"
   ]
  },
  {
   "cell_type": "markdown",
   "metadata": {
    "slideshow": {
     "slide_type": "fragment"
    }
   },
   "source": [
    "- Uma vez definidas $H_0$ e $H_1$, começamos então nossa inferência **supondo que a hipótese nula $H_0$ seja verdadeira**."
   ]
  },
  {
   "cell_type": "markdown",
   "metadata": {},
   "source": [
    "- **Sob $H_0$**, calcularemos uma quantidade que denominaremos de **estatística de teste** (usualmente denotada por $T$).\n",
    "- Como o próprio nome implica, essa será uma **estatística** (e logo calculada com base na amostra) utilizada para realizarmos nosso teste.\n",
    "- Em essência, a estatística de teste objetiva medir a evidência _a favor_ (ou _contra_) $H_0$. "
   ]
  },
  {
   "cell_type": "markdown",
   "metadata": {},
   "source": [
    "- Como aqui vamos utilizar simulação para conduzir nossos testes, teremos então _uma estatística de teste para cada amostra_ produzida sob $H_0$.\n",
    "- Com base em um número grande de amostras, produzimos então uma aproximação para a distribuição de probabilidade da estatística de teste $T$, isto é, uma distribuição amostral empírica de $T$.\n",
    "- Assim, nosso teste basicamente consiste em verificarmos se o valor observado para a nossa estatística de teste (usualmente denotado por $T_{obs}$) é _estatisticamente significante_ nessa distribuição amostral empírica.\n",
    "- De maneira análoga como fizemos anteriormente para calcularmos Intervalos de Confiança via Bootstrap, a verificação de significância nesse caso consiste essencialmente em verificar à _qual percentil dessa distribuição_ corresponde o valor de $T_{obs}$!"
   ]
  },
  {
   "cell_type": "markdown",
   "metadata": {
    "slideshow": {
     "slide_type": "slide"
    }
   },
   "source": [
    "### Simulando sob $H_0$\n",
    "\n",
    "- Voltando ao nosso exemplo anterior, podemos simular `n` lançamentos de uma moeda justa utilizando a função `np.random.binomial(n, 0.5)`.\n",
    "- O resultado de `np.random.binomial(n, 0.5)` é equivalente ao de `np.random.multinomial(n, [0.5, 0.5])[0]` que vimos no Tópico 11.\n",
    "- Como estamos interessados na proporção de caras, nossa estatística de teste $T$ será o número de caras em cada simulação."
   ]
  },
  {
   "cell_type": "code",
   "execution_count": 11,
   "metadata": {},
   "outputs": [
    {
     "data": {
      "text/plain": [
       "195"
      ]
     },
     "execution_count": 11,
     "metadata": {},
     "output_type": "execute_result"
    }
   ],
   "source": [
    "np.random.seed(38)\n",
    "np.random.binomial(400, 0.5)"
   ]
  },
  {
   "cell_type": "code",
   "execution_count": 12,
   "metadata": {},
   "outputs": [
    {
     "data": {
      "text/plain": [
       "195"
      ]
     },
     "execution_count": 12,
     "metadata": {},
     "output_type": "execute_result"
    }
   ],
   "source": [
    "np.random.seed(38)\n",
    "np.random.multinomial(400, [0.5, 0.5])[0]"
   ]
  },
  {
   "cell_type": "markdown",
   "metadata": {},
   "source": [
    "- Calculamos então $T$ para cada amostra simulada, anotamos o valor correspondente e, dessa forma, construímos uma distribuição empírica para a estatística de teste $T$ sob $H_0$.\n",
    "- Lembre mais uma vez que aqui _simulamos sob $H_0$_, uma vez que simular sob $H_1$ seria _impossível_ (existem infinitos não-enumeráveis valores de $p_0$ que satisfazem a definição de \"moeda injusta\")."
   ]
  },
  {
   "cell_type": "code",
   "execution_count": 13,
   "metadata": {},
   "outputs": [
    {
     "data": {
      "text/plain": [
       "array([193., 194., 202., ..., 201., 201., 192.])"
      ]
     },
     "execution_count": 13,
     "metadata": {},
     "output_type": "execute_result"
    }
   ],
   "source": [
    "## Simulando (sob H_0) a distribuição de T\n",
    "# ----\n",
    "\n",
    "## Fixando a semente aleatória (para garantir reproducibilidade)\n",
    "np.random.seed(42)\n",
    "\n",
    "## Loop principal\n",
    "results = np.array([])\n",
    "for i in np.arange(10000):\n",
    "    result = np.random.binomial(400, 0.5)\n",
    "    results = np.append(results, result)\n",
    "results"
   ]
  },
  {
   "cell_type": "markdown",
   "metadata": {
    "slideshow": {
     "slide_type": "slide"
    }
   },
   "source": [
    "### Distribuição amostral empírica de T\n",
    "\n",
    "Vamos agora visualizar a distribuição empírica da estatística de teste $T$ sob $H_0$:"
   ]
  },
  {
   "cell_type": "code",
   "execution_count": 14,
   "metadata": {},
   "outputs": [
    {
     "data": {
      "image/png": "[encoded data removed]",
      "text/plain": [
       "<Figure size 1000x500 with 1 Axes>"
      ]
     },
     "metadata": {},
     "output_type": "display_data"
    }
   ],
   "source": [
    "(pd.DataFrame({\"results\" : results})\n",
    " .plot(kind = 'hist', bins = np.arange(160, 240, 4),\n",
    "       density = True, ec = 'w', figsize=(10, 5),\n",
    "       title='Distribuição Empírica do Número de Caras em $n = 400$ Lançamentos de uma Moeda Justa'));\n",
    "plt.axvline(188, color = 'black', linewidth = 4, label = 'T_obs = 188')\n",
    "plt.legend()\n",
    "plt.ylabel(\"Densidade\");"
   ]
  },
  {
   "cell_type": "markdown",
   "metadata": {
    "slideshow": {
     "slide_type": "fragment"
    }
   },
   "source": [
    "- Se tívessemos observado $T'_{obs} = 200$ caras, naturalmente aceitaríamos $H_0$, isto é, a hipótese de que nossa moeda é justa."
   ]
  },
  {
   "cell_type": "markdown",
   "metadata": {
    "slideshow": {
     "slide_type": "fragment"
    }
   },
   "source": [
    "- Analogamente, rejeitaríamos $H_0$ (isto é, concluiríamos que nossa moeda é injusta) se:\n",
    "    - observássemos \"poucas caras\", ou\n",
    "    - observássemos \"muitas caras\"."
   ]
  },
  {
   "cell_type": "markdown",
   "metadata": {},
   "source": [
    "- Mas como decidimos o que seriam \"poucas\" e \"muitas\" nesse contexto? 🤔"
   ]
  },
  {
   "cell_type": "markdown",
   "metadata": {},
   "source": [
    "### Exercício ✅\n",
    "\n",
    "Faça as alterações necessárias nas células de código abaixo para simular da distribuição da proporção de caras $p_{obs}$ sob $H_0$ e visualizar essa distribuição em um histograma."
   ]
  },
  {
   "cell_type": "code",
   "execution_count": 15,
   "metadata": {},
   "outputs": [],
   "source": [
    "# ## Descomente e execute!\n",
    "\n",
    "# ## Simulando (sob H_0) a distribuição de T\n",
    "# # ----\n",
    "\n",
    "# ## Fixando a semente aleatória (para garantir reproducibilidade)\n",
    "# np.random.seed(42)\n",
    "\n",
    "# ## Loop principal\n",
    "# results = np.array([])\n",
    "# for i in np.arange(10000):\n",
    "#     result = np.random.binomial(400, 0.5)/...\n",
    "#     results = np.append(results, result)\n",
    "# results"
   ]
  },
  {
   "cell_type": "code",
   "execution_count": 16,
   "metadata": {},
   "outputs": [],
   "source": [
    "# ## Descomente e execute!\n",
    "# (pd.DataFrame({\"results\" : results})\n",
    "#  .plot(kind = 'hist', bins = np.arange(160/..., 240/..., 4/...),,\n",
    "#        density = True, ec = 'w', figsize = (10, 5),\n",
    "#        title='Distribuição Empírica da Proporção de Caras em $n = 400$ Lançamentos de uma Moeda Justa'));\n",
    "# plt.axvline(188/..., color = 'black', linewidth = 4, label = 'p_obs = ...')\n",
    "# plt.legend()\n",
    "# plt.ylabel(\"Densidade\");"
   ]
  },
  {
   "cell_type": "markdown",
   "metadata": {},
   "source": [
    "### Valores Críticos e Regiões de Aceitação"
   ]
  },
  {
   "cell_type": "markdown",
   "metadata": {},
   "source": [
    "- Dada a nossa discussão acima sob significância estatística, seria natural **rejeitarmos $H_0$ se a probabilidade de observarmos $T_{obs}$ for muito baixa**."
   ]
  },
  {
   "cell_type": "markdown",
   "metadata": {},
   "source": [
    "- No exemplo anterior, vimos (teoricamente) que a probabilidade de que $T \\leq 180$ ou que $T \\geq 220$ é pouco menor que 5%.\n",
    "- Dessa forma, valores **tão extremos** quanto $T \\leq 180$ ou $T \\geq 220$ são considerados **estatisticamente significantes** (ao nível de $\\alpha = 5\\%$), e logo _indicativos_ de que $H_0$ não é verdadeira."
   ]
  },
  {
   "cell_type": "markdown",
   "metadata": {},
   "source": [
    "Na distribuição simulada anteriormente, podemos encontrar esses valores como os percentis 2.5% e 97.5% da distribuição empírica de $T$, respectivamente:"
   ]
  },
  {
   "cell_type": "code",
   "execution_count": 17,
   "metadata": {},
   "outputs": [
    {
     "data": {
      "text/plain": [
       "180.0"
      ]
     },
     "execution_count": 17,
     "metadata": {},
     "output_type": "execute_result"
    }
   ],
   "source": [
    "np.percentile(results, 2.5)"
   ]
  },
  {
   "cell_type": "code",
   "execution_count": 18,
   "metadata": {},
   "outputs": [
    {
     "data": {
      "text/plain": [
       "220.0"
      ]
     },
     "execution_count": 18,
     "metadata": {},
     "output_type": "execute_result"
    }
   ],
   "source": [
    "np.percentile(results, 97.5)"
   ]
  },
  {
   "cell_type": "markdown",
   "metadata": {},
   "source": [
    "- Ao nível de $\\alpha = 5\\%$ de significância, dizemos então que $c_1 = 180$ e $c_2 = 220$ são os **níveis críticos** (ou valores críticos) desse teste de hipóteses."
   ]
  },
  {
   "cell_type": "markdown",
   "metadata": {},
   "source": [
    "- Mais formalmente, os **níveis críticos** de um teste são valores $c_1 < c_2$ tais que\n",
    "\n",
    "> **$H_0$ é rejeitada ao nível $\\alpha\\%$ de significância** caso $T_{obs} < c_1$ _ou_ $T_{obs} > c_2$\n",
    "\n",
    "ou, equivalentemente,\n",
    "\n",
    "> **$H_0$ é aceita ao nível $\\alpha\\%$ de significância** caso $T_{obs} \\geq c_1$ _e_ $T_{obs} \\leq c_2$, ou simplesmente se $c_1 \\leq T_{obs} \\leq c_2$.\n",
    "\n",
    "Note que formalmente sempre frisamos \"ao nível $\\alpha\\%$ de significância\", pois os níveis críticos $c_1$ e $c_2$ serão _sempre_ funções de $\\alpha$."
   ]
  },
  {
   "cell_type": "markdown",
   "metadata": {},
   "source": [
    "- Quando simulamos a distribuição de $T$ sob $H_0$, $c_1$ e $c_2$ aqui são simplesmente dados pelos percentis $\\alpha/2$ e $1 - \\alpha/2$ dessa distribuição.\n",
    "- Analogamente, se utilizarmos alguma teoria ou aproximação, $c_1$ e $c_2$ serão dados pelos mesmos percentis da distribuição correspondente (por exemplo a Binomial)."
   ]
  },
  {
   "cell_type": "markdown",
   "metadata": {},
   "source": [
    "- Na nomenclatura usual de Testes de Hipóteses, o conjunto de pontos entre $c_1$ e $c_2$ definem a **Região de Aceitação** do teste.\n",
    "- Formalmente, $RA := \\{T_{obs} \\!: c_1 \\leq T_{obs} \\leq c_2\\}$.\n",
    "- Como o próprio nome implica, _aceitamos $H_0$ para todos os valores_ $T_{obs} \\in RA$."
   ]
  },
  {
   "cell_type": "markdown",
   "metadata": {},
   "source": [
    "- Em contrapartida, o conjunto de pontos menores que $c_1$ e maiores que $c_2$ definem a **Região de Rejeição** (ou _Região Crítica_) do teste.\n",
    "- Formalmente, $RC := \\{T_{obs} \\!: T_{obs} < c_1 \\,\\text{ou}\\,\\,\\, T_{obs} > c_2\\}$.\n",
    "- Como o próprio nome implica, _rejeitamos $H_0$ para todos os valores_ $T_{obs} \\in RC$."
   ]
  },
  {
   "cell_type": "markdown",
   "metadata": {},
   "source": [
    "- Finalmente, como aqui só existem 2 resultados para um teste de hipóteses (isto é, _ou aceitamos ou rejeitamos_ $H_0$), então $RA$ e $RC$ são _exatamente complementares_, isto é,\n",
    "\n",
    "\\begin{equation*}\n",
    "    T_{obs} \\in RA \\Leftrightarrow T_{obs} \\notin RC\n",
    "\\end{equation*}\n",
    "\n",
    "e vice-versa."
   ]
  },
  {
   "cell_type": "markdown",
   "metadata": {},
   "source": [
    "### Testes de Hipóteses via Intervalos de Confiança\n",
    "\n",
    "- Uma outra maneira de interpretar a Região de Aceitação conforme definida acima é como um conjunto de pontos em que os valores observados para uma certa estatística de teste $T$ são _estatisticamente iguais_ sob $H_0$."
   ]
  },
  {
   "cell_type": "markdown",
   "metadata": {},
   "source": [
    "- No nosso exemplo, todas as proporções de caras observadas entre $c_1/400 = 180/400 = 0.45$ e $c_2/400 = 220/400 = 0.55$ são _igualmente prováveis_, e consistentes (para essa amostra, de tamanho $n = 400$) com $H_0\\!\\!: p = 0.50$.\n",
    "- Essa interpretação é muito similar à de um Intervalo de Confiança!"
   ]
  },
  {
   "cell_type": "markdown",
   "metadata": {},
   "source": [
    "- De fato, **existe uma relação natural, direta e intrínseca entre os Testes de Hipóteses e Intervalos de Confiança**.\n",
    "  \n",
    "> Mais especificamente, lembrando que $\\gamma = 1 -\\alpha$, um IC de $\\gamma\\%$ para o parâmetro de interesse **sempre contém todos os valores hipotetizados para o parâmetro de interesse que levariam à aceitação de $H_0$!**."
   ]
  },
  {
   "cell_type": "markdown",
   "metadata": {},
   "source": [
    "#### IC exato via Distribuição Binomial\n",
    "\n",
    "Retornando ao exemplo anterior, temos $T_{obs} = 188$ em $n = 400$ lançamentos da moeda.\n",
    "\n",
    "Utilizando propriedades da distribuição Binomial, o IC de 95% de confiança _exato_ para o _número de caras_ é dado por"
   ]
  },
  {
   "cell_type": "code",
   "execution_count": 19,
   "metadata": {},
   "outputs": [],
   "source": [
    "T_obs = 188\n",
    "n = 400\n",
    "gamma = 0.95"
   ]
  },
  {
   "cell_type": "code",
   "execution_count": 20,
   "metadata": {},
   "outputs": [
    {
     "data": {
      "text/plain": [
       "(168.0, 208.0)"
      ]
     },
     "execution_count": 20,
     "metadata": {},
     "output_type": "execute_result"
    }
   ],
   "source": [
    "scipy.stats.binom.interval(gamma, n, T_obs/n)"
   ]
  },
  {
   "cell_type": "markdown",
   "metadata": {},
   "source": [
    "Por outro lado, $T_{obs} = 188$ em $n = 400$ lançamentos se traduz em uma proporção de caras estimada igual a $p_{obs} = 0.47$:"
   ]
  },
  {
   "cell_type": "code",
   "execution_count": 21,
   "metadata": {},
   "outputs": [
    {
     "data": {
      "text/plain": [
       "0.47"
      ]
     },
     "execution_count": 21,
     "metadata": {},
     "output_type": "execute_result"
    }
   ],
   "source": [
    "p_obs = T_obs/n\n",
    "p_obs"
   ]
  },
  {
   "cell_type": "markdown",
   "metadata": {},
   "source": [
    "Dessa forma, o IC de 95% de confiança análogo para a proporção de caras é então dado por"
   ]
  },
  {
   "cell_type": "code",
   "execution_count": 22,
   "metadata": {},
   "outputs": [
    {
     "data": {
      "text/plain": [
       "[0.42, 0.52]"
      ]
     },
     "execution_count": 22,
     "metadata": {},
     "output_type": "execute_result"
    }
   ],
   "source": [
    "CI = scipy.stats.binom.interval(gamma, n, p_obs)\n",
    "left = CI[0]/n\n",
    "right = CI[1]/n\n",
    "\n",
    "[left, right]"
   ]
  },
  {
   "cell_type": "markdown",
   "metadata": {},
   "source": [
    "**Nota**: o IC acima para a proporção $p$ é apenas uma _transformação_ do IC para o número de caras, e logo ambos ICs devem sempre levar **às mesmas conclusões**! "
   ]
  },
  {
   "cell_type": "markdown",
   "metadata": {},
   "source": [
    "#### IC via simulação\n",
    "\n",
    "Podemos calcular o IC de 95% de confiança acima também _via simulação_.\n",
    "\n",
    "Basta proceder como fizemos anteriormente, mas _simulando sob $p_{obs} = 0.47$_:"
   ]
  },
  {
   "cell_type": "code",
   "execution_count": 23,
   "metadata": {},
   "outputs": [],
   "source": [
    "## Simulando a distribuição de T sob p = 0.47\n",
    "# ----\n",
    "\n",
    "# Fixando a semente aleatória (para garantir reproducibilidade)\n",
    "np.random.seed(42)\n",
    "\n",
    "## Loop principal\n",
    "results_CI = np.array([])\n",
    "for i in np.arange(10000):\n",
    "    result_CI = np.random.binomial(400, 0.47)\n",
    "    results_CI = np.append(results_CI, result_CI)\n",
    "\n",
    "## IC95%\n",
    "L_CI = np.percentile(results_CI, 2.5)\n",
    "U_CI = np.percentile(results_CI, 97.5)"
   ]
  },
  {
   "cell_type": "markdown",
   "metadata": {},
   "source": [
    "O IC95% construído por simulação para o número de caras é então dado por:"
   ]
  },
  {
   "cell_type": "code",
   "execution_count": 24,
   "metadata": {},
   "outputs": [
    {
     "data": {
      "text/plain": [
       "[168.0, 208.0]"
      ]
     },
     "execution_count": 24,
     "metadata": {},
     "output_type": "execute_result"
    }
   ],
   "source": [
    "[L_CI, U_CI]"
   ]
  },
  {
   "cell_type": "markdown",
   "metadata": {},
   "source": [
    "e o IC95% correspondente para a proporção de caras é:"
   ]
  },
  {
   "cell_type": "code",
   "execution_count": 25,
   "metadata": {},
   "outputs": [
    {
     "data": {
      "text/plain": [
       "[0.42, 0.52]"
      ]
     },
     "execution_count": 25,
     "metadata": {},
     "output_type": "execute_result"
    }
   ],
   "source": [
    "[L_CI/n, U_CI/n]"
   ]
  },
  {
   "cell_type": "markdown",
   "metadata": {},
   "source": [
    "Note que ambos ICs (via distribuição Binomial e via simulação) são _exatamente iguais_! 👍"
   ]
  },
  {
   "cell_type": "markdown",
   "metadata": {},
   "source": [
    "- Concluímos dessa forma que, embora a proporção de caras observada $p_{obs} = 0.47$ não tenha sido _exatamente_ (ou _numericamente_) igual a $p_0 = 0.50$, podemos afirmar, com 95% de confiança, que $p_{obs}$ é _estatisticamente igual_ a $p_0$, uma vez que ambos os valores estão contidos dentro do IC95%.\n",
    "- Analogamente, para essa amostra, **qualquer hipótese do tipo $H_0\\!\\!: p = p_0$ para $p_0 \\in [0.42, 0.52]$ seria aceita** ao nível $\\alpha = 5\\%$!"
   ]
  },
  {
   "cell_type": "markdown",
   "metadata": {},
   "source": [
    "#### E o bootstrap? 🤔"
   ]
  },
  {
   "cell_type": "markdown",
   "metadata": {},
   "source": [
    "Ainda uma outra maneira de construir um IC95% via simulação nesse caso é realizando um _bootstrap_ com base na nossa amostra original, `flips_400`:"
   ]
  },
  {
   "cell_type": "code",
   "execution_count": 27,
   "metadata": {},
   "outputs": [],
   "source": [
    "## Aproximando a distribuição de T via boostrap\n",
    "# ----\n",
    "\n",
    "# Fixando a semente aleatória (para garantir reproducibilidade)\n",
    "np.random.seed(42)\n",
    "\n",
    "## Loop principal\n",
    "results_boot = np.array([])\n",
    "for i in np.arange(10000):\n",
    "    result_boot = np.sum(flips_400['outcome'].sample(400, replace = True) == \"Heads\")\n",
    "    results_boot = np.append(results_boot, result_boot)\n",
    "\n",
    "## IC95%\n",
    "L = np.percentile(results_boot, 2.5)\n",
    "U = np.percentile(results_boot, 97.5)"
   ]
  },
  {
   "cell_type": "code",
   "execution_count": 28,
   "metadata": {
    "scrolled": true
   },
   "outputs": [
    {
     "data": {
      "text/plain": [
       "[169.0, 207.0]"
      ]
     },
     "execution_count": 28,
     "metadata": {},
     "output_type": "execute_result"
    }
   ],
   "source": [
    "[L, U]"
   ]
  },
  {
   "cell_type": "markdown",
   "metadata": {},
   "source": [
    "Assim como fizemos anteriormente, via bootstrap podemos também aproximar a distribuição amostral da proporção de caras, e dessa forma também calcular seu IC95% análogo:"
   ]
  },
  {
   "cell_type": "code",
   "execution_count": 30,
   "metadata": {},
   "outputs": [
    {
     "data": {
      "text/plain": [
       "[0.4225, 0.5175]"
      ]
     },
     "execution_count": 30,
     "metadata": {},
     "output_type": "execute_result"
    }
   ],
   "source": [
    "[L/n, U/n]"
   ]
  },
  {
   "cell_type": "markdown",
   "metadata": {},
   "source": [
    "**Importante**: Tanto a construção da distribuição de $T$ sob $H_0$ quanto a construção do IC95% sob $p_{obs} = 0{,}47$ são feitas com base **no mesmo modelo**, isto é, com base na distribuição Binomial.\n",
    "\n",
    "- Dessa forma, denominamos em geral ambas as técnicas de **paramétricas**, pois pressupõe que os dados vêm de uma distribuição _específica_ (no caso a Binomial) com **parâmetros** específicos (no caso $n = 400$ e $p = 0{,}50$, ou $p = 0{,}47$).\n",
    "- Dessa forma, como ressaltado acima, **os resultados de ambos os métodos têm que levar às mesmas conclusões**!"
   ]
  },
  {
   "cell_type": "markdown",
   "metadata": {},
   "source": [
    "Por outro lado, a construção da distribuição amostral empírica de $T$ feita com base no bootstrap 🥾 **não pressupõe** nenhum modelo específico – _utilizamos apenas a amostra_, que nesse caso pode então vir de qualquer população! \n",
    "\n",
    "- Dizemos então em geral que o bootstrap é uma técnica **não-paramétrica**, pois não pressupõe praticamente nada sobre a distribuição populacional dos dados.\n",
    "- Como consequência, as conclusões baseadas nos resultados do boostrap _podem sim ser diferentes_ dos resultados dos métodos acima, **pois as hipóteses sob as quais esses métodos estão baseados são diferentes**!"
   ]
  },
  {
   "cell_type": "markdown",
   "metadata": {},
   "source": [
    "Em resumo, é importante sempre prestar atenção às hipóteses que estão sendo feitas sobre os dados e métodos, pois somente assim podemos garantir uma coerência entre eles.\n",
    "\n",
    "- Note inclusive que aqui não conseguimos conduzir um teste de hipóteses \"diretamente\" através do bootstrap como fizemos acima com base no modelo paramétrico.\n",
    "    - Lembre que sem um modelo (paramétrico) **bem definido** como base, não conseguimos simular sob $H_0$!"
   ]
  },
  {
   "cell_type": "markdown",
   "metadata": {},
   "source": [
    "### p-valores"
   ]
  },
  {
   "cell_type": "markdown",
   "metadata": {},
   "source": [
    "- As regras de aceitação/rejeição de $H_0$ definidas acima são **binárias** e, logo, \"rígidas\".\n",
    "- Em outras palavras, _ou aceitamos ou rejeitamos_ $H_0$, e isso ocorre de maneira _independente_ do \"quão distante\" a estatística de teste $T_{obs}$ se encontra dos pontos críticos $c_1$ e $c_2$!"
   ]
  },
  {
   "cell_type": "markdown",
   "metadata": {},
   "source": [
    "- Nesse contexto, frequentemente surgem perguntas do tipo: dado que $H_0$ é rejeitada para $T_{obs}$, o quão \"extremo\" é o valor de $T_{obs}$?\n",
    "- Em termos precisos, qual a probabilidade de obtermos de um valor de $T_{obs}$ _mais distante_ (na direção de $H_1$) de $c_1$, ou $c_2$?\n",
    "- A quantificação dessa \"distância\" em termos de frequência/probabilidade é dada por uma quantidade que denominamos de **p-valor**."
   ]
  },
  {
   "cell_type": "markdown",
   "metadata": {},
   "source": [
    "- Mais precisamente, um p-valor $\\hat{\\alpha}$ é definido como **a probabilidade (sob $H_0$) da nossa estatística de teste $T$ ser menor/maior do que o valor observado $T_{obs}$**, **_na direção em que rejeitamos $H_0$_ (isto é, na direção de $H_1$)**."
   ]
  },
  {
   "cell_type": "markdown",
   "metadata": {},
   "source": [
    "No exemplo anterior, como a distribuição de $T$ sob $H_0$ está centrada em $m = 200$ e nossa hipótese nula diz respeito ao fato da moeda ser justa, temos $c_1 = 180$, $c_2 = 220$, e:\n",
    "\n",
    "- se $T_{obs} < m$, então $\\hat{\\alpha}$ é dado pela soma da **cauda à esquerda de $T_{obs}$** com a **cauda à direita de $2m - T_{obs}$** da distribuição de $T$ sob $H_0$.\n",
    "- se $T_{obs} > m$, então $\\hat{\\alpha}$ é dado pela soma da **cauda à esquerda de $2m - T_{obs}$** com a **cauda à direita de $T_{obs}$** da distribuição de $T$ sob $H_0$."
   ]
  },
  {
   "cell_type": "markdown",
   "metadata": {},
   "source": [
    "Para calcular esse valor, basta calcularmos as frequências correspondentes na distribuição de $T$ simulada sob $H_0$:  "
   ]
  },
  {
   "cell_type": "code",
   "execution_count": null,
   "metadata": {},
   "outputs": [],
   "source": [
    "T_obs = 188\n",
    "m = 200\n",
    "p_lower = np.count_nonzero(results < T_obs) / len(results)\n",
    "p_upper = np.count_nonzero(results > 2*m - T_obs) / len(results)\n",
    "p = p_lower + p_upper\n",
    "p"
   ]
  },
  {
   "cell_type": "markdown",
   "metadata": {},
   "source": [
    "Naturalmente, como os percentis 2.5 e 97.5 da nossa distribuição simulada para $T$ sob $H_0$ são $c_1 = 180$ e $c_2 = 220$, **qualquer valor de $T_{obs}$ tal que $T_{obs} < c_1$ ou $T_{obs} > c_2$ terá um p-valor menor que $\\alpha = 5\\%$!**"
   ]
  },
  {
   "cell_type": "code",
   "execution_count": null,
   "metadata": {},
   "outputs": [],
   "source": [
    "T_obs = 181\n",
    "m = 200\n",
    "p_lower = np.count_nonzero(results < T_obs) / len(results)\n",
    "p_upper = np.count_nonzero(results > 2*m - T_obs) / len(results)\n",
    "p = p_lower + p_upper\n",
    "p"
   ]
  },
  {
   "cell_type": "code",
   "execution_count": null,
   "metadata": {},
   "outputs": [],
   "source": [
    "## Note aqui a maneira de calcular os p-valores é invertida, pois T_obs >= m!.\n",
    "T_obs = 219\n",
    "m = 200\n",
    "p_lower = np.count_nonzero(results < 2*m - T_obs) / len(results)\n",
    "p_upper = np.count_nonzero(results > T_obs) / len(results)\n",
    "p = p_lower + p_upper\n",
    "p"
   ]
  },
  {
   "cell_type": "code",
   "execution_count": null,
   "metadata": {},
   "outputs": [],
   "source": [
    "T_obs = 180\n",
    "m = 200\n",
    "p_lower = np.count_nonzero(results < T_obs) / len(results)\n",
    "p_upper = np.count_nonzero(results > 2*m - T_obs) / len(results)\n",
    "p = p_lower + p_upper\n",
    "p"
   ]
  },
  {
   "cell_type": "code",
   "execution_count": null,
   "metadata": {},
   "outputs": [],
   "source": [
    "T_obs = 220\n",
    "m = 200\n",
    "p_lower = np.count_nonzero(results < 2*m - T_obs) / len(results)\n",
    "p_upper = np.count_nonzero(results > T_obs) / len(results)\n",
    "p = p_lower + p_upper\n",
    "p"
   ]
  },
  {
   "cell_type": "markdown",
   "metadata": {},
   "source": [
    "Note que essas probabilidades são muito similares às calculadas exatamente (através da distribuição Binomial) no início dessa aula!"
   ]
  },
  {
   "cell_type": "markdown",
   "metadata": {},
   "source": [
    "### Exercício ✅\n",
    "\n",
    "Altere as células de código abaixo para encontrar os valores de $T_{obs}$ necessários para rejeitarmos $H_0$ caso tívessemos escolhido $\\alpha = 10\\%$ e $\\alpha = 20\\%$. Preencha também a célula de texto seguinte com o porque você acha razoável que esses valores de $T_{obs}$ sejam maiores/menores do que os valores para rejeitar $H_0$ ao nível de $\\alpha = 5\\%$, tendo em mente a conexão entre $\\alpha$ e o nível de confiança $\\gamma$."
   ]
  },
  {
   "cell_type": "code",
   "execution_count": null,
   "metadata": {},
   "outputs": [],
   "source": [
    "# ## Descomente e execute!\n",
    "# T_obs = ...\n",
    "# m = 200\n",
    "# p_lower = np.count_nonzero(results < T_obs) / len(results)\n",
    "# p_upper = np.count_nonzero(results > 2*m - T_obs) / len(results)\n",
    "# p = p_lower + p_upper\n",
    "# p"
   ]
  },
  {
   "cell_type": "code",
   "execution_count": null,
   "metadata": {},
   "outputs": [],
   "source": [
    "# ## Descomente e execute!\n",
    "# T_obs = ...\n",
    "# m = 200\n",
    "# p_lower = np.count_nonzero(results < T_obs) / len(results)\n",
    "# p_upper = np.count_nonzero(results > 2*m - T_obs) / len(results)\n",
    "# p = p_lower + p_upper\n",
    "# p"
   ]
  },
  {
   "cell_type": "markdown",
   "metadata": {},
   "source": [
    "> ..."
   ]
  },
  {
   "cell_type": "markdown",
   "metadata": {},
   "source": [
    "#### Utilizando os p-valores"
   ]
  },
  {
   "cell_type": "markdown",
   "metadata": {},
   "source": [
    "- O resultado acima pode ser enunciado em geral da seguinte forma:\n",
    "\n",
    "> **se $T_{obs} \\in RA$, então $\\hat{\\alpha} \\geq \\alpha$**.\n",
    "\n",
    "ou, analogamente,\n",
    "\n",
    "> **se $T_{obs} \\notin RA$, então $\\hat{\\alpha} \\leq \\alpha$**."
   ]
  },
  {
   "cell_type": "markdown",
   "metadata": {},
   "source": [
    "- Dessa forma, **podemos utilizar o p-valor diretamente para conduzir um teste de hipóteses**, pois\n",
    "    - se $\\hat{\\alpha} \\geq \\alpha$, então $T_{obs} \\in RA$ e aceitamos $H_0$;\n",
    "    - se $\\hat{\\alpha} < \\alpha$, então $T_{obs} \\notin RA$ e rejeitamos $H_0$."
   ]
  },
  {
   "cell_type": "markdown",
   "metadata": {},
   "source": [
    "Note que a possibilidade de que $p = \\alpha$ não ocorre na prática, pois $0 < p < 1$ é um número real.\n",
    "\n",
    "Tecnicamente, esse é um _evento que ocorre com probabilidade zero_ – você verá mais sobre isso em outros cursos!"
   ]
  },
  {
   "cell_type": "markdown",
   "metadata": {},
   "source": [
    "- Finalmente, tendo em vista o argumento acima, é comum denominarmos o p-valor $\\hat{\\alpha}$ de _nível de significância empírico_ ou _observado_, pois **dado $T = T_{obs}$, o p-valor é igual _ao menor valor de $\\alpha$ tal que $H_0$ seja rejeitada_**."
   ]
  },
  {
   "cell_type": "markdown",
   "metadata": {},
   "source": [
    "#### Controvérsias sobre os p-valores\n",
    "\n",
    "- Existe [_muita_](https://en.wikipedia.org/wiki/Misuse_of_p-values) controvérsia em torno do uso de p-valores na condução de Testes de Hipóteses, e a principal fonte de controvérsia é dada ao tentar interpretar o p-valor como uma probabilidade.\n"
   ]
  },
  {
   "cell_type": "markdown",
   "metadata": {},
   "source": [
    "- Da definição de nível significância observado acima, note que embora _calculemos_ o p-valor como uma probabilidade, $\\hat{\\alpha}$ depende de um _valor observado_ na amostra, isto é, de $T_{obs}$.\n",
    "\n",
    "> Dessa forma, o p-valor é na verdade uma **estatística**, e **não uma probabilidade**!"
   ]
  },
  {
   "cell_type": "markdown",
   "metadata": {},
   "source": [
    "- Embora esse ponto seja bem sutil e será elaborado (repetidamente) de maneira cada vez mais detalhada nos próximos cursos, é importante lembrar que, como _o processo de amostragem é aleatório_, **um valor mais/menos extremo de $T_{obs}$ não significa uma evidência mais/menos forte contra $H_0$**, pois flutuações nos valores de $T$ são _naturalmente esperadas devido à aleatoriedade_."
   ]
  },
  {
   "cell_type": "markdown",
   "metadata": {},
   "source": [
    "- Finalmente, embora o p-valor seja muito útil para caracterizar melhor as quantidades envolvidas em um Teste de Hipóteses (e logo dar mais interpretabilidade aos resultados obtidos), **no fim das contas _aceitar ou rejeitar_ $H_0$ é _sempre uma decisão binária_**!"
   ]
  },
  {
   "cell_type": "markdown",
   "metadata": {},
   "source": [
    "### Conclusões de um Teste de Hipóteses"
   ]
  },
  {
   "cell_type": "markdown",
   "metadata": {},
   "source": [
    "- Com base no teste de hipótese realizado no exemplo anterior, a diferença de $p_{obs} - p_0 = -0.03$ observada no nosso processo de amostragem pode então, _ao nível de significância de $\\alpha = 5\\%$_, **ser puramente atribuída ao acaso**!\n",
    "- Como o teste que construímos é _simétrico_, uma diferença de $p_0 - p_{obs} = 0.03$ também não seria considerada estatisticamente significante."
   ]
  },
  {
   "cell_type": "markdown",
   "metadata": {},
   "source": [
    "- Em geral, _qualquer valor_ de $p_{obs}$ no intervalo $RA = [0.45, 0.55]$ que fosse observado para essa amostra de tamanho $n = 400$ seria consistente com a hipótese de que a moeda é justa.\n",
    "- Analogamente, valores de $p_{obs}$ menores que $0.45$ ou maiores que $0.55$ (ou diferenças maiores que $0.05$ em módulo) seriam considerados estatisticamente significantes e, logo, não seriam consistentes com $H_0$ ao nível de $\\alpha = 5\\%$ de significância."
   ]
  },
  {
   "cell_type": "markdown",
   "metadata": {},
   "source": [
    "- O IC95% complementa a conclusão acima com a informação de que, para essa amostra, _qualquer valor_ $p_0$ no intervalo $[0.42, 0.52]$ seria plausível como a proporção _real_ de caras obtidas em um lançamento dessa moeda.\n",
    "- Naturalmente, isso inclui o valor $p_0 = 0.50$!\n",
    "\n",
    "Podemos então também dizer, com 95% de confiança, que a moeda é justa, uma vez que a proporção $p_0 = 0.50$ se encontra dentro do IC95%."
   ]
  },
  {
   "cell_type": "markdown",
   "metadata": {},
   "source": [
    "- Finalmente, o p-valor do teste de $\\hat{\\alpha} = 21.48\\%$ nos diz que um resultado como $T_{obs} = 188$ caras, ou uma proporção de $p_{obs} = 0.47$ em $n = 400$ lançamentos de _uma moeda justa_ (isto é, sob $H_0$), **não é tão atípico** assim.\n",
    "\n",
    "**Não podemos dizer então que esse é um resultado significante**, e logo **não rejeitamos $H_0$**, pois a probabilidade de obtermos um resultado como esse por puro acaso é de 21.48%, o que ao nível $\\alpha = 5\\%$ é considerado aceitável."
   ]
  },
  {
   "cell_type": "markdown",
   "metadata": {},
   "source": [
    "### Exercício ✅\n",
    "\n",
    "Faça as alterações necessárias nas células de código abaixo para \n",
    "\n",
    "1. simular da distribuição de $T$ sob $H_0$,\n",
    "1. visualizar essa distribuição em um histograma,\n",
    "1. e calcular o p-valor do teste,\n",
    "\n",
    "mas agora supondo $n = 40$ e $n = 4.000$.\n",
    "\n",
    "Suas conclusões são as mesmas para $n = 400$, isto é, aceitamos ou rejeitamos $H_0$ nesses casos? Escreva sua resposta na célula de texto seguinte e comente brevemente sobre o porque você acha que isso acontece.\n",
    "\n",
    "_<ins> Dica</ins>_: embora o valor de $T_{obs}$ seja diferente para diferentes valores de $n$, estamos supondo aqui que o valor de $p_{obs} = 0{,}47$ continua igual!"
   ]
  },
  {
   "cell_type": "code",
   "execution_count": null,
   "metadata": {},
   "outputs": [],
   "source": [
    "# ## Descomente e execute!\n",
    "# n = ...\n",
    "\n",
    "# ## Simulando (sob H_0) a distribuição de T\n",
    "# # ----\n",
    "\n",
    "# ## Fixando a semente aleatória (para garantir reproducibilidade)\n",
    "# np.random.seed(42)\n",
    "\n",
    "# ## Loop principal\n",
    "# results = np.array([])\n",
    "# for i in np.arange(10000):\n",
    "#     result = np.random.binomial(n, 0.5)\n",
    "#     results = np.append(results, result)\n",
    "# results"
   ]
  },
  {
   "cell_type": "code",
   "execution_count": null,
   "metadata": {},
   "outputs": [],
   "source": [
    "# ## Descomente e execute!\n",
    "# (pd.DataFrame({\"results\" : results})\n",
    "#  .plot(kind = 'hist', bins = 20,\n",
    "#        density = True, ec = 'w', figsize=(10, 5),\n",
    "#        title=f'Distribuição Empírica do Número de Caras em $n = {n}$ Lançamentos de uma Moeda Justa'));\n",
    "# plt.axvline(0.47*n, color = 'black', linewidth = 4, label = f'T_obs = {0.47*n}')\n",
    "# plt.legend()\n",
    "# plt.ylabel(\"Densidade\");"
   ]
  },
  {
   "cell_type": "code",
   "execution_count": null,
   "metadata": {},
   "outputs": [],
   "source": [
    "# ## Descomente e execute!\n",
    "# T_obs = 0.47*n\n",
    "# m = n/2\n",
    "# p_lower = np.count_nonzero(results < T_obs) / len(results)\n",
    "# p_upper = np.count_nonzero(results > 2*m - T_obs) / len(results)\n",
    "# p = p_lower + p_upper\n",
    "# p"
   ]
  },
  {
   "cell_type": "markdown",
   "metadata": {},
   "source": [
    "> ..."
   ]
  },
  {
   "cell_type": "markdown",
   "metadata": {
    "slideshow": {
     "slide_type": "slide"
    }
   },
   "source": [
    "## Resumo\n",
    "\n",
    "- Um modelo estatístico pode ser formulado como um conjunto de hipóteses que elaboramos sobre o processo que gerou nossos dados.\n",
    "- Para verificar a adequação de um modelo estatístico, realizamos um **Teste de Hipóteses**, em que testamos uma hipótese nula $H_0$ contra uma hipótese alternativa $H_1$.\n",
    "- A **hipótese nula** $H_0$ deve ser um modelo de probabilidade bem definido sobre o processo gerador de dados.\n",
    "- A **hipótese alternativa** $H_1$ pode ser menos precisa, e usualmente representa o complementar de $H_0$.\n",
    "- Se aceitamos/rejeitamos $H_0$, então rejeitamos/aceitamos $H_1$, e vice-versa."
   ]
  },
  {
   "cell_type": "markdown",
   "metadata": {},
   "source": [
    "Um Teste de Hipóteses é tipicamente conduzido da seguinte maneira:\n",
    "\n",
    "1. Aproximamos a distribuição de uma **estatística de teste** $T$ sob $H_0$ através de simulação;\n",
    "1. Analisamos se, nessa distribuição, a ocorrência do valor observado para a nossa estatística de teste $T_{obs}$ por pura chance/aleatoriedade é \"alta\" ou \"baixa\", de acordo com algum **nível de significância** $\\alpha$ pré-definido."
   ]
  },
  {
   "cell_type": "markdown",
   "metadata": {},
   "source": [
    "- Existe uma relação intrínseca entre Testes de Hipóteses com nível de significância $\\alpha$ e Intervalos de Confiança com nível de confiança $\\gamma = 1- \\alpha$.\n",
    "- Em particular, conclusões tomadas com base em ambas as técnicas **devem ser estritamente as mesmas**."
   ]
  },
  {
   "cell_type": "markdown",
   "metadata": {},
   "source": [
    "- Um **p-valor** $\\hat{\\alpha}$ é uma maneira de quantificar, sob $H_0$, o quão _extremo_ é o valor de $T_{obs}$.\n",
    "- Podemos formular nossas conclusões em um Teste de Hipóteses apenas com base nos p-valores, mas devemos tomar cuidado ao interpretá-los!"
   ]
  }
 ],
 "metadata": {
  "kernelspec": {
   "display_name": "Python 3 (ipykernel)",
   "language": "python",
   "name": "python3"
  },
  "language_info": {
   "codemirror_mode": {
    "name": "ipython",
    "version": 3
   },
   "file_extension": ".py",
   "mimetype": "text/x-python",
   "name": "python",
   "nbconvert_exporter": "python",
   "pygments_lexer": "ipython3",
   "version": "3.11.7"
  },
  "livereveal": {
   "scroll": true,
   "transition": "none"
  },
  "rise": {
   "enable_chalkboard": true
  }
 },
 "nbformat": 4,
 "nbformat_minor": 4
}
