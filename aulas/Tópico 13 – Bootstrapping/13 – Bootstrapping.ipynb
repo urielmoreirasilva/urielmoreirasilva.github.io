{
 "cells": [
  {
   "cell_type": "markdown",
   "metadata": {},
   "source": [
    "# Tópico 13 – Bootstrapping [<img src=\"images/colag_logo.svg\" style=\"float: right; margin-right: 0%; vertical-align: middle; width: 6.5%;\">](https://colab.research.google.com/github/urielmoreirasilva/urielmoreirasilva.github.io/blob/main/aulas/T%C3%B3pico%2013%20%E2%80%93%20Bootstrapping/13%20%E2%80%93%20Bootstrapping.ipynb) [<img src=\"images/github_logo.svg\" style=\"float: right; margin-right: 0%; vertical-align: middle; width: 3.25%;\">](https://github.com/urielmoreirasilva/urielmoreirasilva.github.io/blob/main/aulas/T%C3%B3pico%2013%20%E2%80%93%20Bootstrapping/13%20%E2%80%93%20Bootstrapping.ipynb)\n",
    "\n",
    "Nessa aula, vamos aprender como quantificar a incerteza sobre nossas estimativas e como aplicar uma técnica pioneira que nos permite, com base em uma única amostra, simular diferentes cenários possíveis para as nossas estimativas.\n",
    "\n",
    "### Resultados Esperados\n",
    "\n",
    "1. Entender mais sobre o papel das distribuições amostrais na quantificação de incerteza sobre nossas estimativas.\n",
    "1. Aprender sobre as potencialidades do bootstrap, e aprender como operacionalizá-lo na prática.\n",
    "1. Introduzir os conceitos de percentis e como usá-los nesse contexto.\n",
    "\n",
    "### Referências\n",
    "- [CIT, Capítulo 13](https://inferentialthinking.com/)\n",
    "\n",
    "Material adaptado do [DSC10 (UCSD)](https://dsc10.com/) por [Flavio Figueiredo (DCC-UFMG)](https://flaviovdf.io/fcd/) e [Uriel Silva (DEST-UFMG)](https://urielmoreirasilva.github.io)"
   ]
  },
  {
   "cell_type": "code",
   "execution_count": 2,
   "metadata": {},
   "outputs": [],
   "source": [
    "# Imports para esse tópico.\n",
    "import numpy as np\n",
    "import pandas as pd\n",
    "import matplotlib.pyplot as plt\n",
    "plt.style.use('ggplot')\n",
    "\n",
    "# Opções de como printar objetos do Numpy e do Pandas.\n",
    "np.set_printoptions(threshold = 20, precision = 2, suppress = True)\n",
    "pd.set_option(\"display.max_rows\", 7)\n",
    "pd.set_option(\"display.max_columns\", 8)\n",
    "pd.set_option(\"display.precision\", 2)"
   ]
  },
  {
   "cell_type": "markdown",
   "metadata": {
    "slideshow": {
     "slide_type": "slide"
    }
   },
   "source": [
    "### Exemplo motivador: Salários dos funcionários públicos da cidade de San Diego\n",
    "\n",
    "Vamos começar essa aula com um exemplo motivador: [os salários de todos os funcionários públicos da cidade de San Diego, no ano de 2022](https://publicpay.ca.gov/Reports/Cities/City.aspx?entityid=405&year=2021&rpt=1)."
   ]
  },
  {
   "cell_type": "code",
   "execution_count": 4,
   "metadata": {
    "scrolled": true
   },
   "outputs": [
    {
     "data": {
      "text/html": [
       "<div>\n",
       "<style scoped>\n",
       "    .dataframe tbody tr th:only-of-type {\n",
       "        vertical-align: middle;\n",
       "    }\n",
       "\n",
       "    .dataframe tbody tr th {\n",
       "        vertical-align: top;\n",
       "    }\n",
       "\n",
       "    .dataframe thead th {\n",
       "        text-align: right;\n",
       "    }\n",
       "</style>\n",
       "<table border=\"1\" class=\"dataframe\">\n",
       "  <thead>\n",
       "    <tr style=\"text-align: right;\">\n",
       "      <th></th>\n",
       "      <th>Year</th>\n",
       "      <th>EmployerType</th>\n",
       "      <th>EmployerName</th>\n",
       "      <th>DepartmentOrSubdivision</th>\n",
       "      <th>...</th>\n",
       "      <th>EmployerCounty</th>\n",
       "      <th>SpecialDistrictActivities</th>\n",
       "      <th>IncludesUnfundedLiability</th>\n",
       "      <th>SpecialDistrictType</th>\n",
       "    </tr>\n",
       "  </thead>\n",
       "  <tbody>\n",
       "    <tr>\n",
       "      <th>0</th>\n",
       "      <td>2022</td>\n",
       "      <td>City</td>\n",
       "      <td>San Diego</td>\n",
       "      <td>Police</td>\n",
       "      <td>...</td>\n",
       "      <td>San Diego</td>\n",
       "      <td>NaN</td>\n",
       "      <td>False</td>\n",
       "      <td>NaN</td>\n",
       "    </tr>\n",
       "    <tr>\n",
       "      <th>1</th>\n",
       "      <td>2022</td>\n",
       "      <td>City</td>\n",
       "      <td>San Diego</td>\n",
       "      <td>Police</td>\n",
       "      <td>...</td>\n",
       "      <td>San Diego</td>\n",
       "      <td>NaN</td>\n",
       "      <td>False</td>\n",
       "      <td>NaN</td>\n",
       "    </tr>\n",
       "    <tr>\n",
       "      <th>2</th>\n",
       "      <td>2022</td>\n",
       "      <td>City</td>\n",
       "      <td>San Diego</td>\n",
       "      <td>Fire-Rescue</td>\n",
       "      <td>...</td>\n",
       "      <td>San Diego</td>\n",
       "      <td>NaN</td>\n",
       "      <td>False</td>\n",
       "      <td>NaN</td>\n",
       "    </tr>\n",
       "    <tr>\n",
       "      <th>...</th>\n",
       "      <td>...</td>\n",
       "      <td>...</td>\n",
       "      <td>...</td>\n",
       "      <td>...</td>\n",
       "      <td>...</td>\n",
       "      <td>...</td>\n",
       "      <td>...</td>\n",
       "      <td>...</td>\n",
       "      <td>...</td>\n",
       "    </tr>\n",
       "    <tr>\n",
       "      <th>12826</th>\n",
       "      <td>2022</td>\n",
       "      <td>City</td>\n",
       "      <td>San Diego</td>\n",
       "      <td>Public Utilities</td>\n",
       "      <td>...</td>\n",
       "      <td>San Diego</td>\n",
       "      <td>NaN</td>\n",
       "      <td>False</td>\n",
       "      <td>NaN</td>\n",
       "    </tr>\n",
       "    <tr>\n",
       "      <th>12827</th>\n",
       "      <td>2022</td>\n",
       "      <td>City</td>\n",
       "      <td>San Diego</td>\n",
       "      <td>Police</td>\n",
       "      <td>...</td>\n",
       "      <td>San Diego</td>\n",
       "      <td>NaN</td>\n",
       "      <td>False</td>\n",
       "      <td>NaN</td>\n",
       "    </tr>\n",
       "    <tr>\n",
       "      <th>12828</th>\n",
       "      <td>2022</td>\n",
       "      <td>City</td>\n",
       "      <td>San Diego</td>\n",
       "      <td>Police</td>\n",
       "      <td>...</td>\n",
       "      <td>San Diego</td>\n",
       "      <td>NaN</td>\n",
       "      <td>False</td>\n",
       "      <td>NaN</td>\n",
       "    </tr>\n",
       "  </tbody>\n",
       "</table>\n",
       "<p>12829 rows × 29 columns</p>\n",
       "</div>"
      ],
      "text/plain": [
       "       Year EmployerType EmployerName DepartmentOrSubdivision  ...  \\\n",
       "0      2022         City    San Diego                  Police  ...   \n",
       "1      2022         City    San Diego                  Police  ...   \n",
       "2      2022         City    San Diego             Fire-Rescue  ...   \n",
       "...     ...          ...          ...                     ...  ...   \n",
       "12826  2022         City    San Diego        Public Utilities  ...   \n",
       "12827  2022         City    San Diego                  Police  ...   \n",
       "12828  2022         City    San Diego                  Police  ...   \n",
       "\n",
       "      EmployerCounty  SpecialDistrictActivities  IncludesUnfundedLiability  \\\n",
       "0          San Diego                        NaN                      False   \n",
       "1          San Diego                        NaN                      False   \n",
       "2          San Diego                        NaN                      False   \n",
       "...              ...                        ...                        ...   \n",
       "12826      San Diego                        NaN                      False   \n",
       "12827      San Diego                        NaN                      False   \n",
       "12828      San Diego                        NaN                      False   \n",
       "\n",
       "       SpecialDistrictType  \n",
       "0                      NaN  \n",
       "1                      NaN  \n",
       "2                      NaN  \n",
       "...                    ...  \n",
       "12826                  NaN  \n",
       "12827                  NaN  \n",
       "12828                  NaN  \n",
       "\n",
       "[12829 rows x 29 columns]"
      ]
     },
     "execution_count": 4,
     "metadata": {},
     "output_type": "execute_result"
    }
   ],
   "source": [
    "population = pd.read_csv('data/2022_salaries.csv')\n",
    "population"
   ]
  },
  {
   "cell_type": "markdown",
   "metadata": {
    "slideshow": {
     "slide_type": "slide"
    }
   },
   "source": [
    "Quando trabalhamos com um base de dados com um número grande de colunas, não conseguimos visualizá-las todas ao mesmo tempo. Nesses casos, é sempre uma boa ideia analisarmos os nomes das colunas."
   ]
  },
  {
   "cell_type": "code",
   "execution_count": 6,
   "metadata": {},
   "outputs": [
    {
     "data": {
      "text/plain": [
       "Index(['Year', 'EmployerType', 'EmployerName', 'DepartmentOrSubdivision',\n",
       "       'Position', 'ElectedOfficial', 'Judicial', 'OtherPositions',\n",
       "       'MinPositionSalary', 'MaxPositionSalary', 'ReportedBaseWage',\n",
       "       'RegularPay', 'OvertimePay', 'LumpSumPay', 'OtherPay', 'TotalWages',\n",
       "       'DefinedBenefitPlanContribution', 'EmployeesRetirementCostCovered',\n",
       "       'DeferredCompensationPlan', 'HealthDentalVision',\n",
       "       'TotalRetirementAndHealthContribution', 'PensionFormula', 'EmployerURL',\n",
       "       'EmployerPopulation', 'LastUpdatedDate', 'EmployerCounty',\n",
       "       'SpecialDistrictActivities', 'IncludesUnfundedLiability',\n",
       "       'SpecialDistrictType'],\n",
       "      dtype='object')"
      ]
     },
     "execution_count": 6,
     "metadata": {},
     "output_type": "execute_result"
    }
   ],
   "source": [
    "population.columns"
   ]
  },
  {
   "cell_type": "markdown",
   "metadata": {
    "slideshow": {
     "slide_type": "fragment"
    }
   },
   "source": [
    "Como aqui estamos interessados apenas nos salários totais (`'TotalWages'`), selecionaremos apenas essa coluna."
   ]
  },
  {
   "cell_type": "code",
   "execution_count": 8,
   "metadata": {},
   "outputs": [
    {
     "data": {
      "text/html": [
       "<div>\n",
       "<style scoped>\n",
       "    .dataframe tbody tr th:only-of-type {\n",
       "        vertical-align: middle;\n",
       "    }\n",
       "\n",
       "    .dataframe tbody tr th {\n",
       "        vertical-align: top;\n",
       "    }\n",
       "\n",
       "    .dataframe thead th {\n",
       "        text-align: right;\n",
       "    }\n",
       "</style>\n",
       "<table border=\"1\" class=\"dataframe\">\n",
       "  <thead>\n",
       "    <tr style=\"text-align: right;\">\n",
       "      <th></th>\n",
       "      <th>TotalWages</th>\n",
       "    </tr>\n",
       "  </thead>\n",
       "  <tbody>\n",
       "    <tr>\n",
       "      <th>0</th>\n",
       "      <td>384909</td>\n",
       "    </tr>\n",
       "    <tr>\n",
       "      <th>1</th>\n",
       "      <td>381566</td>\n",
       "    </tr>\n",
       "    <tr>\n",
       "      <th>2</th>\n",
       "      <td>350013</td>\n",
       "    </tr>\n",
       "    <tr>\n",
       "      <th>...</th>\n",
       "      <td>...</td>\n",
       "    </tr>\n",
       "    <tr>\n",
       "      <th>12826</th>\n",
       "      <td>6</td>\n",
       "    </tr>\n",
       "    <tr>\n",
       "      <th>12827</th>\n",
       "      <td>4</td>\n",
       "    </tr>\n",
       "    <tr>\n",
       "      <th>12828</th>\n",
       "      <td>2</td>\n",
       "    </tr>\n",
       "  </tbody>\n",
       "</table>\n",
       "<p>12829 rows × 1 columns</p>\n",
       "</div>"
      ],
      "text/plain": [
       "       TotalWages\n",
       "0          384909\n",
       "1          381566\n",
       "2          350013\n",
       "...           ...\n",
       "12826           6\n",
       "12827           4\n",
       "12828           2\n",
       "\n",
       "[12829 rows x 1 columns]"
      ]
     },
     "execution_count": 8,
     "metadata": {},
     "output_type": "execute_result"
    }
   ],
   "source": [
    "## NOTA: como o resultado do subset \"[.]\" abaixo retorna uma Series,\n",
    "## ---- precisamos transformar o resultado em um DataFrame \n",
    "## ---- para poder continuar utilizando os métodos de Pandas \n",
    "## ---- para DataFrames\n",
    "population = pd.DataFrame(population['TotalWages'])\n",
    "population"
   ]
  },
  {
   "cell_type": "code",
   "execution_count": 9,
   "metadata": {},
   "outputs": [
    {
     "data": {
      "image/png": "[encoded data removed]",
      "text/plain": [
       "<Figure size 1000x500 with 1 Axes>"
      ]
     },
     "metadata": {},
     "output_type": "display_data"
    }
   ],
   "source": [
    "population.plot(kind = 'hist', bins = np.arange(0, 400000, 10000), density = True, ec = 'w', figsize = (10, 5),\n",
    "                title = 'Distribuição dos Salários Totais dos Funcionários Públicos da cidade de San Diego em 2022')\n",
    "plt.ylabel('Densidade');"
   ]
  },
  {
   "cell_type": "markdown",
   "metadata": {
    "slideshow": {
     "slide_type": "slide"
    }
   },
   "source": [
    "#### Salário mediano na população\n",
    "\n",
    "- Suponha que estejamos interessados no salário mediano dos funcionários públicos da cidade de San Diego.\n",
    "- Podemos utilizar a função `.median()` para calcular o salário mediano de todos os funcionários, operando na `Series` `population.get('TotalWages')`.\n",
    "- Note que, como temos a população _inteira_ disponível, essa mediana é um **parâmetro**, i.e. **não-aleatória**."
   ]
  },
  {
   "cell_type": "code",
   "execution_count": 11,
   "metadata": {},
   "outputs": [
    {
     "data": {
      "text/plain": [
       "82015.97833034532"
      ]
     },
     "execution_count": 11,
     "metadata": {},
     "output_type": "execute_result"
    }
   ],
   "source": [
    "population_median = population['TotalWages'].mean()\n",
    "population_median"
   ]
  },
  {
   "cell_type": "markdown",
   "metadata": {
    "slideshow": {
     "slide_type": "slide"
    }
   },
   "source": [
    "#### Salário mediano na amostra\n",
    "\n",
    "- Na prática, porém, o processo de entrevistar **toda** a população (no caso mais de 12,000 funcionários) é caro e pode consumir muito tempo.\n",
    "- Além disso, muitas vezes é _impossível_ entrevistar todos os indivíduos da população.\n",
    "- O que fazemos então é aferir os salários com base em uma **amostra aleatória** (nesse exemplo tomamos $n = 500$).\n",
    "\n",
    "**Nota**: a terminologia \"amostra aleatória\" é um sinônimo para amostras que foram coletadas via **amostragem aleatória simples** (lembre-se: de maneira _uniforme_, _independente_ e _sem reposição_). "
   ]
  },
  {
   "cell_type": "markdown",
   "metadata": {
    "slideshow": {
     "slide_type": "slide"
    }
   },
   "source": [
    "### Revisão rápida da terminologia"
   ]
  },
  {
   "cell_type": "markdown",
   "metadata": {
    "slideshow": {
     "slide_type": "fragment"
    }
   },
   "source": [
    "- O DataFrame completo de salários, i.e. `population.get(['TotalWages'])`, é a nossa **população**."
   ]
  },
  {
   "cell_type": "markdown",
   "metadata": {
    "slideshow": {
     "slide_type": "fragment"
    }
   },
   "source": [
    "- Nós observamos uma **amostra** de tamanho $n = 500$ dessa população."
   ]
  },
  {
   "cell_type": "markdown",
   "metadata": {
    "slideshow": {
     "slide_type": "fragment"
    }
   },
   "source": [
    "- Queremos determinar a **mediana populacional** (que é um _parâmetro_), mas como não temos acesso à população completa, utilizaremos a **mediana amostral** (que é uma _estatística_) como uma **estimativa** desse parâmetro."
   ]
  },
  {
   "cell_type": "markdown",
   "metadata": {
    "slideshow": {
     "slide_type": "fragment"
    }
   },
   "source": [
    "- Nesse processo, esperamos que a mediana amostral seja \"próxima\" da mediana populacional."
   ]
  },
  {
   "cell_type": "markdown",
   "metadata": {
    "slideshow": {
     "slide_type": "slide"
    }
   },
   "source": [
    "### A mediana amostral\n",
    "\n",
    "Vamos amostrar 500 funcionários aleatoriamente. Para fazer isso, podemos utilizar o método `.sample`."
   ]
  },
  {
   "cell_type": "code",
   "execution_count": 19,
   "metadata": {},
   "outputs": [
    {
     "data": {
      "text/html": [
       "<div>\n",
       "<style scoped>\n",
       "    .dataframe tbody tr th:only-of-type {\n",
       "        vertical-align: middle;\n",
       "    }\n",
       "\n",
       "    .dataframe tbody tr th {\n",
       "        vertical-align: top;\n",
       "    }\n",
       "\n",
       "    .dataframe thead th {\n",
       "        text-align: right;\n",
       "    }\n",
       "</style>\n",
       "<table border=\"1\" class=\"dataframe\">\n",
       "  <thead>\n",
       "    <tr style=\"text-align: right;\">\n",
       "      <th></th>\n",
       "      <th>TotalWages</th>\n",
       "    </tr>\n",
       "  </thead>\n",
       "  <tbody>\n",
       "    <tr>\n",
       "      <th>9033</th>\n",
       "      <td>48705</td>\n",
       "    </tr>\n",
       "    <tr>\n",
       "      <th>5749</th>\n",
       "      <td>85814</td>\n",
       "    </tr>\n",
       "    <tr>\n",
       "      <th>385</th>\n",
       "      <td>194013</td>\n",
       "    </tr>\n",
       "    <tr>\n",
       "      <th>...</th>\n",
       "      <td>...</td>\n",
       "    </tr>\n",
       "    <tr>\n",
       "      <th>4295</th>\n",
       "      <td>101531</td>\n",
       "    </tr>\n",
       "    <tr>\n",
       "      <th>653</th>\n",
       "      <td>176438</td>\n",
       "    </tr>\n",
       "    <tr>\n",
       "      <th>7600</th>\n",
       "      <td>64136</td>\n",
       "    </tr>\n",
       "  </tbody>\n",
       "</table>\n",
       "<p>500 rows × 1 columns</p>\n",
       "</div>"
      ],
      "text/plain": [
       "      TotalWages\n",
       "9033       48705\n",
       "5749       85814\n",
       "385       194013\n",
       "...          ...\n",
       "4295      101531\n",
       "653       176438\n",
       "7600       64136\n",
       "\n",
       "[500 rows x 1 columns]"
      ]
     },
     "execution_count": 19,
     "metadata": {},
     "output_type": "execute_result"
    }
   ],
   "source": [
    "## Fixando a semente aleatória para garantir reproducibilidade\n",
    "np.random.seed(42) \n",
    "\n",
    "## Amostrando sem reposição, com n = 500\n",
    "my_sample = population.sample(500)\n",
    "my_sample"
   ]
  },
  {
   "cell_type": "markdown",
   "metadata": {},
   "source": [
    "Nesse notebook, não vamos mais modificar `my_sample`, então esse DataFrame vai sempre se referir à essa amostra em particular."
   ]
  },
  {
   "cell_type": "markdown",
   "metadata": {},
   "source": [
    "A mediana amostral dos salários, isto é, a mediana da coluna `TotalWages` em `my_sample`, é igual a:"
   ]
  },
  {
   "cell_type": "code",
   "execution_count": 22,
   "metadata": {
    "scrolled": true
   },
   "outputs": [
    {
     "data": {
      "text/plain": [
       "73264.5"
      ]
     },
     "execution_count": 22,
     "metadata": {},
     "output_type": "execute_result"
    }
   ],
   "source": [
    "sample_median = my_sample['TotalWages'].median()\n",
    "sample_median"
   ]
  },
  {
   "cell_type": "markdown",
   "metadata": {
    "slideshow": {
     "slide_type": "slide"
    }
   },
   "source": [
    "### E o quão \"confiantes\" podemos estar que uma estimativa é uma boa estimativa? 🤔"
   ]
  },
  {
   "cell_type": "markdown",
   "metadata": {
    "slideshow": {
     "slide_type": "fragment"
    }
   },
   "source": [
    "- Nossa estimativa é função da amostra aleatória particular `my_sample`. Se tívessemos coletado outra amostra, a estimativa poderia ter sido diferente."
   ]
  },
  {
   "cell_type": "markdown",
   "metadata": {
    "slideshow": {
     "slide_type": "fragment"
    }
   },
   "source": [
    "- **Agora, o quão diferente nossa estimativa poderia ter sido?** Nosssa _confiança_ na estimativa depende fundamentalmente da resposta à essa pergunta."
   ]
  },
  {
   "cell_type": "markdown",
   "metadata": {
    "slideshow": {
     "slide_type": "fragment"
    }
   },
   "source": [
    "- A mediana amostral é um número aleatório. Esse número vem de uma distribuição, que não conhecemos!"
   ]
  },
  {
   "cell_type": "markdown",
   "metadata": {
    "slideshow": {
     "slide_type": "fragment"
    }
   },
   "source": [
    "- **Se** conhecéssemos a distribuição verdadeira da mediana amostral (i.e. sua **distribuição amostral**), essa distribuição nos ajudaria a responder essa pergunta.\n",
    "    - Distribuições mais \"estreitas\" (i.e. com baixa _variabilidade/dispersão_) $\\Rightarrow$ nossa estimativa em geral não teria sido tão diferente.\n",
    "    - Distribuições mais \"largas\" (i.e. com alta variabilidade/dispersão) $\\Rightarrow$ nossa estimativa em geral teria sido bem diferente."
   ]
  },
  {
   "cell_type": "markdown",
   "metadata": {
    "slideshow": {
     "slide_type": "slide"
    }
   },
   "source": [
    "### Uma abordagem inviável\n",
    "\n",
    "- Uma ideia natural aqui então seria: coletar repetidas amostras de tamanho $n = 500$ **da população**, e então calcular as medianas amostrais de cada uma.\n",
    "  - Lembre que foi examente isso o que fizemos no Tópico 12, quando calculamos a distribuição amostral empírica das médias amostrais dos atrasos de vôos."
   ]
  },
  {
   "cell_type": "code",
   "execution_count": 29,
   "metadata": {},
   "outputs": [
    {
     "data": {
      "text/plain": [
       "array([80112. , 80582. , 79678.5, ..., 76866.5, 80390. , 78297.5])"
      ]
     },
     "execution_count": 29,
     "metadata": {},
     "output_type": "execute_result"
    }
   ],
   "source": [
    "## Nota: o resultado abaixo é estocástico!\n",
    "\n",
    "sample_medians = np.array([])\n",
    "for i in np.arange(1000):\n",
    "    median = population['TotalWages'].sample(500).median()\n",
    "    sample_medians = np.append(sample_medians, median)\n",
    "sample_medians"
   ]
  },
  {
   "cell_type": "code",
   "execution_count": 30,
   "metadata": {},
   "outputs": [
    {
     "data": {
      "image/png": "[encoded data removed]",
      "text/plain": [
       "<Figure size 800x500 with 1 Axes>"
      ]
     },
     "metadata": {},
     "output_type": "display_data"
    }
   ],
   "source": [
    "(pd.DataFrame({\"SampleMedians\" : sample_medians})\n",
    "    .plot(kind = 'hist', density = True,\n",
    "       bins = 30, ec = 'w', figsize = (8, 5),\n",
    "       title = 'Distribuição Amostral Empírica da Mediana Amostral \\n (baseada em 1,000 Amostras de Tamanho $n = 500$ da População)')\n",
    ")\n",
    "plt.ylabel(\"Densidade\");"
   ]
  },
  {
   "cell_type": "markdown",
   "metadata": {
    "slideshow": {
     "slide_type": "slide"
    }
   },
   "source": [
    "### E porque essa abordagem é inviável?\n",
    "\n",
    "- Amostrar repetidas vezes da mesma população muitas vezes é **inviável pelas mesmas razões pelas quais não trabalhamos com a população desde o começo**!\n",
    "- Se pudéssemos fazer isso, seria melhor simplesmente coletarmos uma amostra maior!"
   ]
  },
  {
   "cell_type": "markdown",
   "metadata": {
    "slideshow": {
     "slide_type": "slide"
    }
   },
   "source": [
    "## Bootstrapping 🥾"
   ]
  },
  {
   "cell_type": "markdown",
   "metadata": {
    "slideshow": {
     "slide_type": "slide"
    }
   },
   "source": [
    "### Bootstrapping"
   ]
  },
  {
   "cell_type": "markdown",
   "metadata": {
    "slideshow": {
     "slide_type": "fragment"
    }
   },
   "source": [
    "- **Ideia principal**: Utilizar a amostra no lugar da população no procedimento descrito acima.  \n",
    "    - Nesse caso, _reamostramos da amostra_, o que de certa maneira é similar à reamostrar da própria população!\n",
    "    - Denominamos o conjunto de técnicas que se baseiam em reamostragens a partir da amostra de **bootstrapping**."
   ]
  },
  {
   "cell_type": "markdown",
   "metadata": {
    "slideshow": {
     "slide_type": "slide"
    }
   },
   "source": [
    "### Com reposição ou sem reposição?"
   ]
  },
  {
   "cell_type": "markdown",
   "metadata": {
    "slideshow": {
     "slide_type": "fragment"
    }
   },
   "source": [
    "- Nosso objetivo quando realizamos um bootstrap é gerar uma amostra do _mesmo tamanho_, porém com _algumas características_ diferentes da amostra original.\n",
    "- Para ilustrar esse ponto, considere um exemplo simples onde vamos reamostrar repetidas vezes, **sem reposição**, uma amostra do DataFrame `original`."
   ]
  },
  {
   "cell_type": "code",
   "execution_count": 37,
   "metadata": {},
   "outputs": [
    {
     "name": "stdout",
     "output_type": "stream",
     "text": [
      "Resample:  [1 3 2]     Median:  2.0\n",
      "Resample:  [2 3 1]     Median:  2.0\n",
      "Resample:  [3 2 1]     Median:  2.0\n",
      "Resample:  [2 3 1]     Median:  2.0\n",
      "Resample:  [3 2 1]     Median:  2.0\n",
      "Resample:  [3 2 1]     Median:  2.0\n",
      "Resample:  [1 2 3]     Median:  2.0\n",
      "Resample:  [1 2 3]     Median:  2.0\n",
      "Resample:  [1 3 2]     Median:  2.0\n",
      "Resample:  [2 1 3]     Median:  2.0\n"
     ]
    }
   ],
   "source": [
    "original = [1, 2, 3]\n",
    "for i in np.arange(10):\n",
    "    resample = np.random.choice(original, 3, replace=False)\n",
    "    print(\"Resample: \", resample, \"    Median: \", np.median(resample))"
   ]
  },
  {
   "cell_type": "markdown",
   "metadata": {
    "slideshow": {
     "slide_type": "fragment"
    }
   },
   "source": [
    "- Vamos agora repetir o mesmo experimento, mas dessa vez reamostrando **com reposição**:"
   ]
  },
  {
   "cell_type": "code",
   "execution_count": 39,
   "metadata": {
    "scrolled": true
   },
   "outputs": [
    {
     "name": "stdout",
     "output_type": "stream",
     "text": [
      "Resample:  [3 1 2]     Median:  2.0\n",
      "Resample:  [1 1 3]     Median:  1.0\n",
      "Resample:  [3 1 1]     Median:  1.0\n",
      "Resample:  [3 3 1]     Median:  3.0\n",
      "Resample:  [2 1 3]     Median:  2.0\n",
      "Resample:  [1 2 3]     Median:  2.0\n",
      "Resample:  [1 2 3]     Median:  2.0\n",
      "Resample:  [2 3 3]     Median:  3.0\n",
      "Resample:  [3 3 1]     Median:  3.0\n",
      "Resample:  [1 1 3]     Median:  1.0\n"
     ]
    }
   ],
   "source": [
    "original = [1, 2, 3]\n",
    "for i in np.arange(10):\n",
    "    resample = np.random.choice(original, 3, replace=True)\n",
    "    print(\"Resample: \", resample, \"    Median: \", np.median(resample))"
   ]
  },
  {
   "cell_type": "markdown",
   "metadata": {
    "slideshow": {
     "slide_type": "fragment"
    }
   },
   "source": [
    "Concluímos com esse exemplo que:\n",
    "    \n",
    "- Quando amostramos _sem reposição_, as novas amostras (**amostras bootstrap**) são em um certo sentido \"idênticas\" à amostra original – mudamos apenas a ordenação dos indivíduos.\n",
    "- Como consequência, todas as suas características (isto é, estatísticas), são _iguais_!"
   ]
  },
  {
   "cell_type": "markdown",
   "metadata": {},
   "source": [
    "- Por outro lado, quando amostramos _com reposição_, as amostras bootstrap em geral terão características diferentes da amostra original.\n",
    "- As estatísticas calculadas com base nas amostras bootstrap em geral serão _diferentes_ das calculadas com base na amostra original, e isso nos permite _aferir a variabilidade das estimativas_ entre as amostras e/ou construir uma **distribuição amostral empírica** para nossas estatísticas de interesse!"
   ]
  },
  {
   "cell_type": "markdown",
   "metadata": {
    "slideshow": {
     "slide_type": "fragment"
    }
   },
   "source": [
    "- Dessa forma, quando realizamos um bootstrap, **sempre reamostramos com reposição**, para garantir que as nossas amostras bootstrap possam ser _diferentes_ da nossa amostra original.\n",
    "- O bootstrap funciona então como um processo que \"imita\", em um certo sentido, o ato de coletar novas amostras!"
   ]
  },
  {
   "cell_type": "markdown",
   "metadata": {
    "slideshow": {
     "slide_type": "slide"
    }
   },
   "source": [
    "### Bootstrap na amostra de salários\n",
    "\n",
    "Conforme dito anteriormente, para realizar o bootstrap na nossa amostra, basta gerarmos novas amostras **reamostrando com reposição da nossa amostra original**, `my_sample`:"
   ]
  },
  {
   "cell_type": "code",
   "execution_count": 44,
   "metadata": {},
   "outputs": [],
   "source": [
    "## Fixando a semente aleatória para garantir reproducibilidade\n",
    "np.random.seed(42)\n",
    "\n",
    "## Número de amostras bootstrap\n",
    "n_resamples = 5000\n",
    "boot_medians = np.array([])\n",
    "\n",
    "## Loop `for` principal\n",
    "for i in range(n_resamples):\n",
    "    \n",
    "    # Reamostrando de `my_sample` COM REPOSIÇÃO\n",
    "    resample = my_sample.sample(500, replace = True)\n",
    "    \n",
    "    # Calculando a mediana da amostra bootstrap\n",
    "    median = resample['TotalWages'].mean()\n",
    "    \n",
    "    # Salvando o resultado em um array\n",
    "    boot_medians = np.append(boot_medians, median)"
   ]
  },
  {
   "cell_type": "markdown",
   "metadata": {},
   "source": [
    "- No código acima,\n",
    "    1. Reamostramos $B = 5.000$ vezes da amostra `my_sample` com reposição, produzindo $B = 5.000$ amostras bootstrap de tamanho $n = 500$;\n",
    "    2. Para cada uma das $B = 5.000$ amostras bootstrap, calculamos a mediana amostral correspondente e salvamos o resultado em um array `boot_medians`;\n",
    "    3. Retornamos o array `boot_medians`, de tamanho $B = 5.000$, contendo a mediana amostral de cada amostra."
   ]
  },
  {
   "cell_type": "code",
   "execution_count": 46,
   "metadata": {
    "scrolled": true
   },
   "outputs": [
    {
     "data": {
      "text/plain": [
       "array([84438.12, 78331.71, 80288.7 , ..., 81285.45, 77816.16, 76002.23])"
      ]
     },
     "execution_count": 46,
     "metadata": {},
     "output_type": "execute_result"
    }
   ],
   "source": [
    "boot_medians"
   ]
  },
  {
   "cell_type": "markdown",
   "metadata": {},
   "source": [
    "- O resultado do processo descrito acima é uma **distribuição boostrap**, que então utilizamos como uma _aproximação_ para a **distribuição amostral** da mediana amostral.\n",
    "    - Em outras palavras, a distribuição bootstrap é uma **distribuição amostral empírica** da mediana amostral."
   ]
  },
  {
   "cell_type": "markdown",
   "metadata": {},
   "source": [
    "- Note que o processo operacional para realizarmos uma amostragem bootstrap é bem similar ao processo de simulação para estimar probabilidades que vimos no Tópico 11.\n",
    "\n",
    "> É importante ressaltar, porém, que em _momento algum_ utilizamos a população `population` aqui – todo o processo foi feito **apenas com base na amostra** `my_sample`!"
   ]
  },
  {
   "cell_type": "markdown",
   "metadata": {
    "slideshow": {
     "slide_type": "slide"
    }
   },
   "source": [
    "### _Distribuição bootstrap_ da mediana amostral"
   ]
  },
  {
   "cell_type": "markdown",
   "metadata": {},
   "source": [
    "Vamos agora elaborar um histograma para visualizar a distribuição bootstrap da mediana amostral:"
   ]
  },
  {
   "cell_type": "code",
   "execution_count": 51,
   "metadata": {},
   "outputs": [
    {
     "data": {
      "image/png": "[encoded data removed]",
      "text/plain": [
       "<Figure size 1000x500 with 1 Axes>"
      ]
     },
     "metadata": {},
     "output_type": "display_data"
    }
   ],
   "source": [
    "(pd.DataFrame({\"BootstrapMedians\" : boot_medians})\n",
    "    .plot(kind = 'hist', density = True, bins = np.arange(63000, 88000, 1000), ec = 'w', figsize = (10, 5))\n",
    ")\n",
    "plt.scatter(population_median, 0.000004, color = 'blue', s = 100, label = 'population median').set_zorder(2)\n",
    "plt.legend()\n",
    "plt.ylabel(\"Densidade\");"
   ]
  },
  {
   "cell_type": "markdown",
   "metadata": {
    "slideshow": {
     "slide_type": "fragment"
    }
   },
   "source": [
    "_Apenas para termos uma referência_ do quão boa é nossa inferência, a mediana populacional é reportada no histograma acima como um <span style=\"color:blue\"><b>ponto azul</b></span>.\n",
    "\n",
    "**Lembre porém que, na maior parte das situações, não temos acesso à essa informação!**"
   ]
  },
  {
   "cell_type": "markdown",
   "metadata": {
    "slideshow": {
     "slide_type": "slide"
    }
   },
   "source": [
    "### Mas afinal, como o bootstrap nos ajuda a responder nossa pergunta original?\n",
    "\n",
    "Lembre que, aqui, iniciamos apenas com a mediana amostral:"
   ]
  },
  {
   "cell_type": "code",
   "execution_count": 54,
   "metadata": {},
   "outputs": [
    {
     "data": {
      "text/plain": [
       "73264.5"
      ]
     },
     "execution_count": 54,
     "metadata": {},
     "output_type": "execute_result"
    }
   ],
   "source": [
    "my_sample['TotalWages'].median()"
   ]
  },
  {
   "cell_type": "markdown",
   "metadata": {
    "slideshow": {
     "slide_type": "fragment"
    }
   },
   "source": [
    "Com base nessa estimativa, podemos dizer apenas que o salário mediano da população é \"aproximadamente\" \\\\$76,237, mas não muito mais do que isso.\n",
    "\n",
    "Em particular, não podemos afirmar nada acerca da _variabilidade_ dessa estimativa, isto é, o quão _confiantes_ (ou incertos!) estamos sobre esse valor."
   ]
  },
  {
   "cell_type": "markdown",
   "metadata": {
    "slideshow": {
     "slide_type": "fragment"
    }
   },
   "source": [
    "Com o boostrap, porém, podemos aproximar a **distribuição amostral empírica da mediana amostral**:"
   ]
  },
  {
   "cell_type": "code",
   "execution_count": 57,
   "metadata": {
    "slideshow": {
     "slide_type": "-"
    }
   },
   "outputs": [
    {
     "data": {
      "image/png": "[encoded data removed]",
      "text/plain": [
       "<Figure size 1000x500 with 1 Axes>"
      ]
     },
     "metadata": {},
     "output_type": "display_data"
    }
   ],
   "source": [
    "(pd.DataFrame({\"BootstrapMedians\" : boot_medians})\n",
    "    .plot(kind = 'hist', density = True, bins = np.arange(63000, 88000, 1000), ec = 'w', figsize = (10, 5))\n",
    ")\n",
    "plt.legend()\n",
    "plt.ylabel(\"Densidade\");"
   ]
  },
  {
   "cell_type": "markdown",
   "metadata": {
    "slideshow": {
     "slide_type": "fragment"
    }
   },
   "source": [
    "e essa distribuição nos permite realizar afirmações do tipo\n",
    "\n",
    "> \"Com uma frequência razoável\", o salário mediano na população está entre \\\\$68,000 e \\\\$82,000."
   ]
  },
  {
   "cell_type": "markdown",
   "metadata": {
    "slideshow": {
     "slide_type": "fragment"
    }
   },
   "source": [
    "**Pergunta**: Poderíamos também dizer que o salário mediano na população está entre \\\\$70,000 e \\\\$80,000, ou entre \\\\$65,000 e \\\\$85,000. Qual desses dois intervalos você reportaria? Por que?"
   ]
  },
  {
   "cell_type": "markdown",
   "metadata": {},
   "source": [
    "### Exercício ✅\n",
    "\n",
    "Suponha que em uma pesquisa eleitoral tenhamos coletado uma amostra de $n$ eleitores, e estejamos interessados na proporção de eleitores que disseram votariam no candidato A. \n",
    "\n",
    "Escreva na célula abaixo um simples _pseudoalgoritmo_ detalhando como utilizar o bootstrap para aproximar a distribuição amostral da proporção amostral nesse caso."
   ]
  },
  {
   "cell_type": "markdown",
   "metadata": {},
   "source": []
  },
  {
   "cell_type": "markdown",
   "metadata": {
    "slideshow": {
     "slide_type": "slide"
    }
   },
   "source": [
    "## Percentis"
   ]
  },
  {
   "cell_type": "markdown",
   "metadata": {
    "slideshow": {
     "slide_type": "slide"
    }
   },
   "source": [
    "### Definição\n",
    "\n",
    "> Seja $p$ um número entre 0 e 100. O $p$-ésimo percentil de um conjunto de observações $\\boldsymbol{X}$ (usualmente denotado por $Q_p(\\boldsymbol{X})$) é o _menor número_ que é maior ou igual a $p\\%$ de todos os valores de $\\boldsymbol{X}$."
   ]
  },
  {
   "cell_type": "markdown",
   "metadata": {
    "slideshow": {
     "slide_type": "fragment"
    }
   },
   "source": [
    "**Exemplo** – escores no SAT:\n",
    "<center><img src=\"images/percentile2.jpg\" width=600></center>"
   ]
  },
  {
   "cell_type": "markdown",
   "metadata": {
    "slideshow": {
     "slide_type": "fragment"
    }
   },
   "source": [
    "**Outro exemplo**: Se você está no percentil $80$ da altura de um certo conjunto de pessoas, isso significa que aproximadamente $80\\%$ das pessoas desse conjunto são mais baixas que você, e que $20\\%$ são mais altas.\n",
    "\n",
    "<center><img src=\"images/percentile.svg\" width=400></center>"
   ]
  },
  {
   "cell_type": "markdown",
   "metadata": {
    "slideshow": {
     "slide_type": "slide"
    }
   },
   "source": [
    "### Calculando percentis\n",
    "\n",
    "- O pacote `numpy` contém uma função para calcular percentis, `np.percentile(array, p)`, que retorna o `p`-ésimo percentil de `array`. \n",
    "- Por enquanto, não entraremos em detalhes sobre como esse valor é calculado; nos concentraremos apenas em sua utilização e interpretação."
   ]
  },
  {
   "cell_type": "code",
   "execution_count": 67,
   "metadata": {},
   "outputs": [
    {
     "data": {
      "text/plain": [
       "6.0"
      ]
     },
     "execution_count": 67,
     "metadata": {},
     "output_type": "execute_result"
    }
   ],
   "source": [
    "np.percentile([4, 6, 9, 2, 7], 50)"
   ]
  },
  {
   "cell_type": "code",
   "execution_count": 68,
   "metadata": {},
   "outputs": [
    {
     "data": {
      "text/plain": [
       "6.0"
      ]
     },
     "execution_count": 68,
     "metadata": {},
     "output_type": "execute_result"
    }
   ],
   "source": [
    "np.percentile([2, 4, 6, 7, 9], 50)"
   ]
  },
  {
   "cell_type": "markdown",
   "metadata": {
    "slideshow": {
     "slide_type": "slide"
    }
   },
   "source": [
    "Voltando ao nosso exemplo dos salários, temos uma distribuição boostrap da mediana amostral:"
   ]
  },
  {
   "cell_type": "code",
   "execution_count": 70,
   "metadata": {},
   "outputs": [
    {
     "data": {
      "image/png": "[encoded data removed]",
      "text/plain": [
       "<Figure size 1000x500 with 1 Axes>"
      ]
     },
     "metadata": {},
     "output_type": "display_data"
    }
   ],
   "source": [
    "pd.DataFrame({\"BootstrapMedians\" : boot_medians}).plot(kind = 'hist', density = True, bins = np.arange(63000, 88000, 1000), ec = 'w', figsize = (10, 5))\n",
    "plt.scatter(population_median, 0.000004, color = 'blue', s = 100, label = 'population median').set_zorder(2)\n",
    "plt.legend()\n",
    "plt.ylabel(\"Densidade\");"
   ]
  },
  {
   "cell_type": "markdown",
   "metadata": {
    "slideshow": {
     "slide_type": "fragment"
    }
   },
   "source": [
    "Com base nessa distribuição, o que podemos então afirmar em termos de percentis?"
   ]
  },
  {
   "cell_type": "markdown",
   "metadata": {
    "slideshow": {
     "slide_type": "slide"
    }
   },
   "source": [
    "### Percentis da distribuição bootstrap\n",
    "\n",
    "- Vamos calcular abaixo os percentis 0, 1, 5, 10, 20, 50, 80, 90 e 100 da distribuição bootstrap acima:"
   ]
  },
  {
   "cell_type": "code",
   "execution_count": 73,
   "metadata": {},
   "outputs": [
    {
     "data": {
      "text/plain": [
       "71253.934"
      ]
     },
     "execution_count": 73,
     "metadata": {},
     "output_type": "execute_result"
    }
   ],
   "source": [
    "## Percentil 0\n",
    "np.percentile(boot_medians, 0)"
   ]
  },
  {
   "cell_type": "code",
   "execution_count": 74,
   "metadata": {},
   "outputs": [
    {
     "data": {
      "text/plain": [
       "74610.07153999999"
      ]
     },
     "execution_count": 74,
     "metadata": {},
     "output_type": "execute_result"
    }
   ],
   "source": [
    "## Percentil 1\n",
    "np.percentile(boot_medians, 1)"
   ]
  },
  {
   "cell_type": "code",
   "execution_count": 75,
   "metadata": {},
   "outputs": [
    {
     "data": {
      "text/plain": [
       "76590.21310000001"
      ]
     },
     "execution_count": 75,
     "metadata": {},
     "output_type": "execute_result"
    }
   ],
   "source": [
    "## Percentil 5\n",
    "np.percentile(boot_medians, 5)"
   ]
  },
  {
   "cell_type": "code",
   "execution_count": 76,
   "metadata": {},
   "outputs": [
    {
     "data": {
      "text/plain": [
       "77578.1168"
      ]
     },
     "execution_count": 76,
     "metadata": {},
     "output_type": "execute_result"
    }
   ],
   "source": [
    "## Percentil 10\n",
    "np.percentile(boot_medians, 10)"
   ]
  },
  {
   "cell_type": "code",
   "execution_count": 77,
   "metadata": {},
   "outputs": [
    {
     "data": {
      "text/plain": [
       "78670.576"
      ]
     },
     "execution_count": 77,
     "metadata": {},
     "output_type": "execute_result"
    }
   ],
   "source": [
    "## Percentil 20\n",
    "np.percentile(boot_medians, 20)"
   ]
  },
  {
   "cell_type": "code",
   "execution_count": 78,
   "metadata": {},
   "outputs": [
    {
     "data": {
      "text/plain": [
       "80690.01000000001"
      ]
     },
     "execution_count": 78,
     "metadata": {},
     "output_type": "execute_result"
    }
   ],
   "source": [
    "## Percentil 50\n",
    "np.percentile(boot_medians, 50)"
   ]
  },
  {
   "cell_type": "code",
   "execution_count": 79,
   "metadata": {},
   "outputs": [
    {
     "data": {
      "text/plain": [
       "82765.072"
      ]
     },
     "execution_count": 79,
     "metadata": {},
     "output_type": "execute_result"
    }
   ],
   "source": [
    "## Percentil 80\n",
    "np.percentile(boot_medians, 80)"
   ]
  },
  {
   "cell_type": "code",
   "execution_count": 80,
   "metadata": {},
   "outputs": [
    {
     "data": {
      "text/plain": [
       "83877.19099999999"
      ]
     },
     "execution_count": 80,
     "metadata": {},
     "output_type": "execute_result"
    }
   ],
   "source": [
    "## Percentil 90\n",
    "np.percentile(boot_medians, 90)"
   ]
  },
  {
   "cell_type": "code",
   "execution_count": 81,
   "metadata": {},
   "outputs": [
    {
     "data": {
      "text/plain": [
       "90755.442"
      ]
     },
     "execution_count": 81,
     "metadata": {},
     "output_type": "execute_result"
    }
   ],
   "source": [
    "## Percentil 100\n",
    "np.percentile(boot_medians, 100)"
   ]
  },
  {
   "cell_type": "code",
   "execution_count": 82,
   "metadata": {},
   "outputs": [
    {
     "name": "stdout",
     "output_type": "stream",
     "text": [
      "71253.934\n",
      "71253.934\n",
      "90755.442\n",
      "90755.442\n"
     ]
    }
   ],
   "source": [
    "## Nota: por definição, os percentis 0 e 100 sempre \n",
    "## --- coincidem com o mínimo e o máximo da distribuição\n",
    "\n",
    "## Q_0/min\n",
    "print(np.percentile(boot_medians, 0))\n",
    "print(boot_medians.min())\n",
    "\n",
    "## Q_100/max\n",
    "print(np.percentile(boot_medians, 100))\n",
    "print(boot_medians.max())"
   ]
  },
  {
   "cell_type": "markdown",
   "metadata": {},
   "source": [
    "**Nota**: os percentis acima se referem aos percentis da _distribuição bootstrap_, e não da _distribuição de salários_! "
   ]
  },
  {
   "cell_type": "markdown",
   "metadata": {},
   "source": [
    "#### Quantificando incerteza"
   ]
  },
  {
   "cell_type": "markdown",
   "metadata": {},
   "source": [
    "- Com base nos percentis calculados acima, podemos fazer afirmativas do tipo: \"90% dos salários são menores do que \\\\$78.251\", ou ainda \"80\\% dos salários são maiores do que \\\\$69.724,0\"."
   ]
  },
  {
   "cell_type": "markdown",
   "metadata": {},
   "source": [
    "> Podemos dessa forma então **caracterizar a incerteza** sobre a nossa estimativa da mediana amostral construindo um **intervalo** que contenha todos os valores da distribuição bootstrap _com uma certa frequência_ $\\gamma\\%$. "
   ]
  },
  {
   "cell_type": "markdown",
   "metadata": {},
   "source": [
    "- Os valores contidos nesse intervalo nos dão então uma ideia do _quão variável_ a nossa estimativa pode ser para um certo valor de $\\gamma\\%$."
   ]
  },
  {
   "cell_type": "markdown",
   "metadata": {},
   "source": [
    "Veremos no Tópico 14 um desenvolvimento mais completo dessa ideia, culminando em uma definição mais formal dos denominados **Intervalos de Confiança**."
   ]
  },
  {
   "cell_type": "markdown",
   "metadata": {
    "slideshow": {
     "slide_type": "slide"
    }
   },
   "source": [
    "#### Intervalos Bootstrap"
   ]
  },
  {
   "cell_type": "markdown",
   "metadata": {
    "slideshow": {
     "slide_type": "fragment"
    }
   },
   "source": [
    "- Com base nos resultados anteriores, queremos encontrar um intervalo $[L, U]$ que contenha aproximadamente $\\gamma = 95\\%$ da área total da distribuição bootstrap."
   ]
  },
  {
   "cell_type": "markdown",
   "metadata": {
    "slideshow": {
     "slide_type": "fragment"
    }
   },
   "source": [
    "- Uma maneira de construir um intervalo desse tipo é encontrar dois pontos, $L$ e $U$, tais que:\n",
    "    - A área _à esquerda_ de $L$ na distribuição bootstrap seja aproximadamente $(100\\% - \\gamma\\%)/2 = 5\\%/2 = 2.5\\%$.\n",
    "    - A área _à direita_ de $U$ na distribuição bootstrap seja aproximadamente $(100\\% - \\gamma\\%)/2 = 5\\%/2 = 2.5\\%$."
   ]
  },
  {
   "cell_type": "markdown",
   "metadata": {},
   "source": [
    "> Dessa forma, $L$ e $U$ serão os percentis **2.5** e **97.5** da distribuição bootstrap, respectivamente! "
   ]
  },
  {
   "cell_type": "markdown",
   "metadata": {},
   "source": [
    "- Denominamos o intervalo $[L, U]$ resultante de **Intervalo (de Confiança) Bootstrap**."
   ]
  },
  {
   "cell_type": "markdown",
   "metadata": {},
   "source": [
    "**Nota**: em geral, o intervalo $[L, U]$ _não é único_. Dessa forma, existem maneiras \"melhores\" e \"piores\" de se construírem intervalos bootstrap, e usualmente tentamos obter intervalos que sejam os _mais curtos_ possíveis."
   ]
  },
  {
   "cell_type": "code",
   "execution_count": 95,
   "metadata": {},
   "outputs": [
    {
     "data": {
      "text/plain": [
       "array([84438.12, 78331.71, 80288.7 , ..., 81285.45, 77816.16, 76002.23])"
      ]
     },
     "execution_count": 95,
     "metadata": {},
     "output_type": "execute_result"
    }
   ],
   "source": [
    "boot_medians"
   ]
  },
  {
   "cell_type": "code",
   "execution_count": 96,
   "metadata": {},
   "outputs": [
    {
     "data": {
      "text/plain": [
       "75653.6618"
      ]
     },
     "execution_count": 96,
     "metadata": {},
     "output_type": "execute_result"
    }
   ],
   "source": [
    "## \"Limite inferior\": `L`\n",
    "L = np.percentile(boot_medians, 2.5)\n",
    "L"
   ]
  },
  {
   "cell_type": "code",
   "execution_count": 97,
   "metadata": {},
   "outputs": [
    {
     "data": {
      "text/plain": [
       "85654.0539"
      ]
     },
     "execution_count": 97,
     "metadata": {},
     "output_type": "execute_result"
    }
   ],
   "source": [
    "## \"Limite superior\": `U`\n",
    "U = np.percentile(boot_medians, 97.5)\n",
    "U"
   ]
  },
  {
   "cell_type": "code",
   "execution_count": 98,
   "metadata": {},
   "outputs": [
    {
     "data": {
      "text/plain": [
       "[75653.6618, 85654.0539]"
      ]
     },
     "execution_count": 98,
     "metadata": {},
     "output_type": "execute_result"
    }
   ],
   "source": [
    "## Intervalo bootstrap: `[L, U]`\n",
    "[L, U]"
   ]
  },
  {
   "cell_type": "markdown",
   "metadata": {
    "slideshow": {
     "slide_type": "slide"
    }
   },
   "source": [
    "#### Visualizando os percentis\n",
    "\n",
    "- Vamos agora sobrepor o intervalo bootstrap que acabamos de calcular no histograma anterior:"
   ]
  },
  {
   "cell_type": "code",
   "execution_count": 100,
   "metadata": {},
   "outputs": [
    {
     "data": {
      "image/png": "[encoded data removed]",
      "text/plain": [
       "<Figure size 1000x500 with 1 Axes>"
      ]
     },
     "metadata": {},
     "output_type": "display_data"
    }
   ],
   "source": [
    "pd.DataFrame({\"BootstrapMedians\" : boot_medians}).plot(kind = 'hist', density = True, bins = np.arange(63000, 88000, 1000), ec = 'w', figsize = (10, 5))\n",
    "plt.plot([L, U], [0, 0], color = 'gold', linewidth = 12, label = '95% percentile interval', zorder = 2);\n",
    "plt.scatter(population_median, 0.000004, color = 'blue', s = 100, label = 'population median', zorder = 3)\n",
    "plt.legend()\n",
    "plt.ylabel(\"Densidade\");"
   ]
  },
  {
   "cell_type": "markdown",
   "metadata": {},
   "source": [
    "> Podemos afirmar então, com \"$\\gamma = 95\\%$ _de confiança_\", que a mediana populacional está entre \\\\$65.624,50 e \\\\$81.341,00."
   ]
  },
  {
   "cell_type": "markdown",
   "metadata": {},
   "source": [
    "- Isso é muito melhor do que simplesmente afirmar que \"a mediana populacional é aproximadamente \\\\$73.264,50\"."
   ]
  },
  {
   "cell_type": "markdown",
   "metadata": {},
   "source": [
    "**Nota**: devido à maneira como os intervalos bootstrap são construídos, a mediana amostral \\\\$73.264,50 está _sempre_ contida em $[L, U]$."
   ]
  },
  {
   "cell_type": "markdown",
   "metadata": {},
   "source": [
    "### Exercício ✅\n",
    "\n",
    "No ENEM (Exame Nacional do Ensino Médio) de 2024, aproximadamente 34 mil estudantes tiraram nota superior ou igual a 950 na prova de Redação. Sabendo que esses 34 mil estudantes correspondem à aproximadamente 1,38\\% do total de estudantes que fizeram a prova, marque abaixo a alternativa **correta** quanto aos percentis de notas da prova de Redação.\n",
    "\n",
    "**A**.  A nota 950 corresponde ao percentil 1,38 da distribuição de notas.\n",
    "\n",
    "**B**.  Apenas 1,38\\% dos estudantes tiveram uma nota pior ou igual a 950.\n",
    "\n",
    "**C**.  A nota 950 corresponde ao percentil 98,62 da distribuição de notas.\n",
    "\n",
    "**D**.  Apenas 1,38\\% dos estudantes tiveram uma nota melhor ou igual a 950.\n",
    "\n",
    "**E**.  Alternativas **A** e **B** estão corretas.\n",
    "\n",
    "**F**. Alternativas **C** e **D** estão corretas."
   ]
  },
  {
   "cell_type": "markdown",
   "metadata": {},
   "source": [
    "## \"Armadilhas\" do bootstrap"
   ]
  },
  {
   "cell_type": "markdown",
   "metadata": {},
   "source": [
    "### Regras de bolso"
   ]
  },
  {
   "cell_type": "markdown",
   "metadata": {},
   "source": [
    "- O Bootstrap é uma técnica bem poderosa! Nós precisamos coletar apenas _uma única_ amostra para obter uma distribuição aproximada para a mediana amostral."
   ]
  },
  {
   "cell_type": "markdown",
   "metadata": {},
   "source": [
    "Porém, essa técnica tem suas limitações:\n",
    "- O bootstrap não é muito bom para estatísticas mais \"sensíveis\" a valores extremos (como por exemplo o máximo, ou o mínimo).\n",
    "    - Essa técnica funciona melhor para estatísticas que são mais \"robustas\" (a _outliers_)."
   ]
  },
  {
   "cell_type": "markdown",
   "metadata": {},
   "source": [
    "- O boostrap fornece bons resultados apenas se a amostra é \"suficientemente próxima\" da população (o que ocorre se o tamanho amostral $n$ for \"suficientemente grande\").\n",
    "    - Se nossa amostra original **não for representativa da população**, as amostras bootstrap também não serão representativas da população!"
   ]
  },
  {
   "cell_type": "markdown",
   "metadata": {},
   "source": [
    "### Exemplo: Estimando o máximo de uma quantidade populacional\n",
    "\n",
    "- Suponha que, ao invés da mediana, estejamos agora interessados no _máximo_ dos salários de todos os funcionários públicos da cidade de San Diego (nossa população).\n",
    "- Nossa amostra coletada continua a mesma que tínhamos anteriormente, `my_sample`.\n",
    "- Nossa estimativa será igual ao máximo dos salários amostrais (i.e. o maior salário contido na amostra). Esse máximo é uma _estatística_."
   ]
  },
  {
   "cell_type": "markdown",
   "metadata": {},
   "source": [
    "- Para obter uma distribuição amostral empírica do máximo amostral, fazemos então o seguinte bootstrap:"
   ]
  },
  {
   "cell_type": "code",
   "execution_count": 112,
   "metadata": {},
   "outputs": [],
   "source": [
    "n_resamples = 5000\n",
    "boot_maxes = np.array([])\n",
    "\n",
    "for i in range(n_resamples):\n",
    "    resample = my_sample.sample(500, replace=True)\n",
    "    boot_max = resample['TotalWages'].max()\n",
    "    boot_maxes = np.append(boot_maxes, boot_max)"
   ]
  },
  {
   "cell_type": "code",
   "execution_count": 113,
   "metadata": {},
   "outputs": [
    {
     "data": {
      "text/plain": [
       "array([260845., 334473., 258995., ..., 334473., 334473., 260845.])"
      ]
     },
     "execution_count": 113,
     "metadata": {},
     "output_type": "execute_result"
    }
   ],
   "source": [
    "boot_maxes"
   ]
  },
  {
   "cell_type": "markdown",
   "metadata": {},
   "source": [
    "#### Visualizando os resultados\n",
    "\n",
    "Como aqui temos acesso à população (lembro que em geral isso não acontece!), podemos encontrar o máximo populacional direto (sem bootstrap), apenas para comparação:"
   ]
  },
  {
   "cell_type": "code",
   "execution_count": 115,
   "metadata": {},
   "outputs": [
    {
     "data": {
      "text/plain": [
       "384909"
      ]
     },
     "execution_count": 115,
     "metadata": {},
     "output_type": "execute_result"
    }
   ],
   "source": [
    "population_max = population['TotalWages'].max()\n",
    "population_max"
   ]
  },
  {
   "cell_type": "markdown",
   "metadata": {},
   "source": [
    "Será então que o máximo populacional se encontra na parte com maior densidade na distribuição bootstrap, da mesma forma como aconteceu anteriormente com a mediana amostral?"
   ]
  },
  {
   "cell_type": "code",
   "execution_count": 117,
   "metadata": {},
   "outputs": [
    {
     "data": {
      "image/png": "[encoded data removed]",
      "text/plain": [
       "<Figure size 1000x500 with 1 Axes>"
      ]
     },
     "metadata": {},
     "output_type": "display_data"
    }
   ],
   "source": [
    "(pd.DataFrame({\"BootstrapMax\" : boot_maxes}).\n",
    "    plot(kind = 'hist', \n",
    "        density = True, \n",
    "        bins = 10,\n",
    "        ec = 'w',\n",
    "        figsize = (10, 5))\n",
    ")\n",
    "plt.scatter(population_max, 0.0000008, color = 'blue', s = 100, label = 'population max')\n",
    "plt.legend();\n",
    "plt.ylabel(\"Densidade\");"
   ]
  },
  {
   "cell_type": "markdown",
   "metadata": {},
   "source": [
    "Na verdade não! A distribuição bootstrap não captura muito bem o máximo populacional, representado no histograma acima pelo <span style=\"color:blue\"><b>ponto azul</b></span> igual a \\$384,909.\n",
    "\n",
    "> E porque não?! 🤔"
   ]
  },
  {
   "cell_type": "code",
   "execution_count": 119,
   "metadata": {},
   "outputs": [
    {
     "data": {
      "text/plain": [
       "334473"
      ]
     },
     "execution_count": 119,
     "metadata": {},
     "output_type": "execute_result"
    }
   ],
   "source": [
    "my_sample['TotalWages'].max()"
   ]
  },
  {
   "cell_type": "markdown",
   "metadata": {},
   "source": [
    "- O maior valor na nossa amostra original é de \\\\$334,473. Logo, o maior valor na nossa amostra bootstrap será _no máximo igual_ a \\\\$334,473!\n",
    "    - Em outras palavras, para estatísticas como o máximo _não teremos variabilidade o suficiente_ no bootstrap para aproximarmos bem a distribuição amostral, e como consequência o método não produz bons resultados."
   ]
  },
  {
   "cell_type": "markdown",
   "metadata": {},
   "source": [
    "- Em conclusão, o bootstrap funciona melhor para **medidas de tendência central ou dispersão** (como a média, mediana, desvio padrão, etc.) do que para medidas que são mais sensíveis a outliers, como **estatísticas de ordem** e/ou para extremos (máximo e mínimo)."
   ]
  },
  {
   "cell_type": "markdown",
   "metadata": {
    "slideshow": {
     "slide_type": "slide"
    }
   },
   "source": [
    "## Resumo\n",
    "\n",
    "- Com base em uma amostra, queremos inferir sobre um parâmetro populacional. Porém, como podemos calcular apenas uma estimativa com essa amostra, em geral não sabemos o quão _precisa_ é essa estimativa.\n",
    "    \n",
    "- Para termos uma ideia da variabilidade acerca da nossa estimativa, idealmente coletaríamos mais amostras e calcularíamos nossa estatística em cada uma dessas amostras. Porém, na prática, amostrar em geral é caro, e logo usualmente temos disponível **apenas uma amostra**.\n",
    "\n",
    "- **Ideia principal**: Sob certas condições, a amostra é distribuída de maneira bem similar à população da qual a amostra foi coletada. Dessa forma, podemos tratar a distribuição empírica da amostra como se fosse a distribuição populacional, e produzir novas amostras **reamostrando** da amostra original.\n",
    "\n",
    "- Cada nova amostra produzida dessa forma nos permite calcular uma nova estimativa. Com base em um conjunto dessas estimativas, podemos então ter uma noção da precisão/variabilidade da nossa estimativa original.\n",
    "\n",
    "- O **Bootstrap** nos fornece uma maneira de gerarmos uma distribuição empírica de uma estatística, utilizando apenas uma única amostra original. Com base nessa **distribuição bootstrap**, podemos criar intervalos identificando os valores cujo intervalo contenha uma proporção $\\gamma\\%$ dessa distribuição.\n",
    "\n",
    "- Podemos **quantificar a incerteza** sobre nossas estimativas utilizando intervalos bootstrap, e fazer afirmações do tipo \"a mediana populacional está entre \\\\$65.624,50 e \\\\$81.341,00\" com uma certa frequência de $95\\%$ ao invés de afirmar apenas que \"a mediana populacional é aproximadamente \\\\$73.264,50\".\n",
    "\n",
    "- O bootstrap funciona bem para estatísticas que não são sensíveis à pequenas variações na amostra (tais como a média e a mediana), mas não para máximos e mínimos."
   ]
  }
 ],
 "metadata": {
  "kernelspec": {
   "display_name": "Python 3 (ipykernel)",
   "language": "python",
   "name": "python3"
  },
  "language_info": {
   "codemirror_mode": {
    "name": "ipython",
    "version": 3
   },
   "file_extension": ".py",
   "mimetype": "text/x-python",
   "name": "python",
   "nbconvert_exporter": "python",
   "pygments_lexer": "ipython3",
   "version": "3.12.3"
  },
  "livereveal": {
   "scroll": true,
   "transition": "none"
  },
  "rise": {
   "enable_chalkboard": true
  }
 },
 "nbformat": 4,
 "nbformat_minor": 4
}
