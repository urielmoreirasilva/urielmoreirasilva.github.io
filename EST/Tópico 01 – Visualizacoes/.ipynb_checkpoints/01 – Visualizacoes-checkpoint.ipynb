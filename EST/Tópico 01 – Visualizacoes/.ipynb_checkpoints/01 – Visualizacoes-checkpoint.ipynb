{
 "cells": [
  {
   "cell_type": "markdown",
   "metadata": {},
   "source": [
    "# Tópico 05 – Visualização de Dados 📈 [<img src=\"images/colag_logo.svg\" style=\"float: right; vertical-align: middle; width: 42px; height: 42px;\">](https://colab.research.google.com/github/urielmoreirasilva/urielmoreirasilva.github.io/blob/main/aulas/T%C3%B3pico%2005/05%20%E2%80%93%20Visualizacoes.ipynb) [<img src=\"images/github_logo.svg\" style=\"float: right; margin-right: 12px; vertical-align: middle; width: 36px; height: 36px;\">](https://github.com/urielmoreirasilva/urielmoreirasilva.github.io/blob/main/aulas/T%C3%B3pico%2005/05%20%E2%80%93%20Visualizacoes.ipynb)\n",
    "\n",
    "Um pouco sobre como representar dados de maneira visual!\n",
    "\n",
    "### Resultados Esperados\n",
    "1. Aprender algumas ferramentas simples para exploração de dados.\n",
    "1. Aprender os conceitos básicos de visualização de dados.\n",
    "1. Aprender a manipular os DataFrames de `pandas` para produzir gráficos elementares.  \n",
    "\n",
    "### Referências\n",
    "- [CIT, Capítulo 7](https://inferentialthinking.com/)\n",
    "\n",
    "Material adaptado do [DSC10 (UCSD)](https://dsc10.com/) por [Flavio Figueiredo (DCC-UFMG)](https://flaviovdf.io/fcd/) e [Uriel Silva (DEST-UFMG)](https://urielmoreirasilva.github.io)"
   ]
  },
  {
   "cell_type": "code",
   "execution_count": 1,
   "metadata": {
    "slideshow": {
     "slide_type": "skip"
    }
   },
   "outputs": [],
   "source": [
    "# Importando BabyPandas e Numpy\n",
    "import babypandas as bpd\n",
    "import numpy as np\n",
    "\n",
    "# Importando Matplotlib\n",
    "import matplotlib.pyplot as plt\n",
    "plt.style.use('ggplot')\n",
    "\n",
    "# Importando alguns outros módulos para nos ajudar nas visualizações\n",
    "from IPython.display import HTML, display, IFrame"
   ]
  },
  {
   "cell_type": "markdown",
   "metadata": {
    "slideshow": {
     "slide_type": "slide"
    }
   },
   "source": [
    "## Visualização de dados"
   ]
  },
  {
   "cell_type": "markdown",
   "metadata": {
    "slideshow": {
     "slide_type": "slide"
    }
   },
   "source": [
    "### Por que visualizar?\n",
    "\n",
    "- Os computadores são melhores que os humanos para processar números, mas os humanos (em geral) são melhores para identificar padrões visuais.\n",
    "- As visualizações nos permitem compreender rapidamente um grande volume de dados, facilitando a identificação de tendências e a comunicação de resultados.\n",
    "- Existem _vários_ tipos de visualizações – neste tópico, veremos gráficos de dispersão, gráficos de linhas, gráficos de barras e histogramas.\n",
    "- A escolha \"certa\" do método de visualização depende sempre do tipo de dado em questão!"
   ]
  },
  {
   "cell_type": "markdown",
   "metadata": {
    "slideshow": {
     "slide_type": "slide"
    }
   },
   "source": [
    "## Prelúdio: um pouco de terminologia"
   ]
  },
  {
   "cell_type": "markdown",
   "metadata": {
    "slideshow": {
     "slide_type": "slide"
    }
   },
   "source": [
    "### Indivíduos e variáveis\n",
    "\n",
    "<center><img src='https://raw.githubusercontent.com/flaviovdf/fcd/master/assets/07-DataViz/images/ind-var.png' largura=90%/></center>"
   ]
  },
  {
   "cell_type": "markdown",
   "metadata": {
    "slideshow": {
     "slide_type": "fragment"
    }
   },
   "source": [
    "- <span style=\"color:#6d9eeb\"><b>Indivíduo (linha):</b></span> Pessoa/lugar/coisa para a qual os dados são registrados. Também chamado de **observação**, ou _data point_."
   ]
  },
  {
   "cell_type": "markdown",
   "metadata": {
    "slideshow": {
     "slide_type": "fragment"
    }
   },
   "source": [
    "- <span style=\"color:#ff9900\"><b>Variável (coluna):</b></span> Característica observada para cada indivíduo. Também chamado de **recurso**, ou _feature_."
   ]
  },
  {
   "cell_type": "markdown",
   "metadata": {
    "slideshow": {
     "slide_type": "slide"
    }
   },
   "source": [
    "### Tipos de variáveis\n",
    "\n",
    "Existem dois tipos principais de variáveis:\n",
    "\n",
    "- **Numéricas**: Variáveis tais que seus valores permitam operações de aritmética básica.\n",
    "- **Categóricas**: Variáveis cujos valores se enquadram em _categorias_, que podem ou não ter alguma _ordem_ entre elas."
   ]
  },
  {
   "cell_type": "markdown",
   "metadata": {
    "slideshow": {
     "slide_type": "slide"
    }
   },
   "source": [
    "### Exemplos de variáveis ​​numéricas"
   ]
  },
  {
   "cell_type": "markdown",
   "metadata": {
    "slideshow": {
     "slide_type": "fragment"
    }
   },
   "source": [
    "- Conjunto de dados: Salários dos jogadores da NBA. 🏀\n",
    "    - Indivíduo: um jogador da NBA.\n",
    "    - Variável: seu salário."
   ]
  },
  {
   "cell_type": "markdown",
   "metadata": {
    "slideshow": {
     "slide_type": "fragment"
    }
   },
   "source": [
    "- Conjunto de dados: O rendimento no _box office_ de vários filmes. 🎬💰\n",
    "    - Indivíduo: um filme.\n",
    "    - Variável: o rendimento do filme no _box office_."
   ]
  },
  {
   "cell_type": "markdown",
   "metadata": {
    "slideshow": {
     "slide_type": "fragment"
    }
   },
   "source": [
    "- Conjunto de dados: Doses de reforço de vacinas administradas por dia. 💉\n",
    "    - Indivíduo: data de cada dia onde foram administradas as vacinas.\n",
    "    - Variável: número de doses de reforço administradas em cada data."
   ]
  },
  {
   "cell_type": "markdown",
   "metadata": {
    "slideshow": {
     "slide_type": "slide"
    }
   },
   "source": [
    "### Exemplos de variáveis ​​​​categóricas"
   ]
  },
  {
   "cell_type": "markdown",
   "metadata": {
    "slideshow": {
     "slide_type": "fragment"
    }
   },
   "source": [
    "- Conjunto de dados: Gêneros de filmes. 🎬\n",
    "    - Indivíduo: um filme.\n",
    "    - Variável: seu gênero."
   ]
  },
  {
   "cell_type": "markdown",
   "metadata": {
    "slideshow": {
     "slide_type": "fragment"
    }
   },
   "source": [
    "- Conjunto de dados: Códigos de Endereço Postais (CEPs). 🏠\n",
    "    - Indivíduo: um habitante de uma cidade, ou região.\n",
    "    - Variável: seu CEP.\n",
    "\n",
    "Nota: apesar de serem reportados como números, os CEPs na verdade são categóricos (operações aritméticas básicas não têm sentido quando aplicadas aos CEPs)."
   ]
  },
  {
   "cell_type": "markdown",
   "metadata": {
    "slideshow": {
     "slide_type": "fragment"
    }
   },
   "source": [
    "- Conjunto de dados: Nível de experiência anterior em programação para alunos de Ciência de Dados 🧑‍🎓.\n",
    "    - Indivíduo: um aluno.\n",
    "    - Variável: seu nível de experiência anterior em programação, por ex.: \"nenhum\", \"baixo\", \"médio\" ou \"alto\".\n",
    "\n",
    "Nota: essa é uma variável categórica _ordenada_!"
   ]
  },
  {
   "cell_type": "markdown",
   "metadata": {
    "slideshow": {
     "slide_type": "slide"
    }
   },
   "source": [
    "### Exercício ✅\n",
    "\n",
    "Qual destas **não** é uma variável numérica?\n",
    "\n",
    "A. Gasto de combustível em quilômetros por litro.\n",
    "\n",
    "B. Número de semestres de um curso na UFMG.\n",
    "\n",
    "C. Período do curso na UFMG (primeiro, quinto, sétimo, etc).\n",
    "\n",
    "D. Número de uma conta bancária.\n",
    "\n",
    "E. Mais de uma das acima não são variáveis ​​numéricas."
   ]
  },
  {
   "cell_type": "markdown",
   "metadata": {
    "slideshow": {
     "slide_type": "slide"
    }
   },
   "source": [
    "### Tipos de visualizações\n",
    "\n",
    "O _tipo de visualização_ que criamos depende dos _tipos de variáveis_ ​​que estamos visualizando.\n",
    "\n",
    "- **Gráfico de dispersão**: numérica vs. numérica.\n",
    "- **Gráfico de linhas**: numérica \"sequencial\" (por exemplo no tempo) vs. numérica.\n",
    "- **Gráfico de barras**: categórica vs. numérica.\n",
    "- **Histograma**: numérica.\n",
    "\n",
    "Veremos todos os esses tipos de gráficos nesse e no próximo tópico."
   ]
  },
  {
   "cell_type": "markdown",
   "metadata": {
    "slideshow": {
     "slide_type": "slide"
    }
   },
   "source": [
    "## Gráficos de dispersão"
   ]
  },
  {
   "cell_type": "markdown",
   "metadata": {
    "slideshow": {
     "slide_type": "slide"
    }
   },
   "source": [
    "### Exemplo: os 50 atores de maior bilheteria"
   ]
  },
  {
   "cell_type": "markdown",
   "metadata": {
    "slideshow": {
     "slide_type": "-"
    }
   },
   "source": [
    "|Coluna |Conteúdo|\n",
    "|----------|------------|\n",
    "`'Actor'`|Nome do ator\n",
    "`'Total Gross'`| Receita total bruta no _box office_, em milhões de dólares, de todos os filmes do ator\n",
    "`'Number of Movies'`| O número total de filmes em que o ator esteve\n",
    "`'Average per Movie'`| O total de receita bruta dividido pelo número total de filmes\n",
    "`'#1 Movie'`| O filme de maior bilheteria em que o ator já esteve\n",
    "`'Gross'`| Receita bruta de bilheteria interna, em milhões de dólares, do filme de maior bilheteria do ator"
   ]
  },
  {
   "cell_type": "code",
   "execution_count": 2,
   "metadata": {
    "slideshow": {
     "slide_type": "slide"
    }
   },
   "outputs": [
    {
     "data": {
      "text/html": [
       "<div>\n",
       "<style scoped>\n",
       "    .dataframe tbody tr th:only-of-type {\n",
       "        vertical-align: middle;\n",
       "    }\n",
       "\n",
       "    .dataframe tbody tr th {\n",
       "        vertical-align: top;\n",
       "    }\n",
       "\n",
       "    .dataframe thead th {\n",
       "        text-align: right;\n",
       "    }\n",
       "</style>\n",
       "<table border=\"1\" class=\"dataframe\">\n",
       "  <thead>\n",
       "    <tr style=\"text-align: right;\">\n",
       "      <th></th>\n",
       "      <th>Total Gross</th>\n",
       "      <th>Number of Movies</th>\n",
       "      <th>Average per Movie</th>\n",
       "      <th>#1 Movie</th>\n",
       "      <th>Gross</th>\n",
       "    </tr>\n",
       "    <tr>\n",
       "      <th>Actor</th>\n",
       "      <th></th>\n",
       "      <th></th>\n",
       "      <th></th>\n",
       "      <th></th>\n",
       "      <th></th>\n",
       "    </tr>\n",
       "  </thead>\n",
       "  <tbody>\n",
       "    <tr>\n",
       "      <th>Harrison Ford</th>\n",
       "      <td>4871.7</td>\n",
       "      <td>41</td>\n",
       "      <td>118.8</td>\n",
       "      <td>Star Wars: The Force Awakens</td>\n",
       "      <td>936.7</td>\n",
       "    </tr>\n",
       "    <tr>\n",
       "      <th>Samuel L. Jackson</th>\n",
       "      <td>4772.8</td>\n",
       "      <td>69</td>\n",
       "      <td>69.2</td>\n",
       "      <td>The Avengers</td>\n",
       "      <td>623.4</td>\n",
       "    </tr>\n",
       "    <tr>\n",
       "      <th>Morgan Freeman</th>\n",
       "      <td>4468.3</td>\n",
       "      <td>61</td>\n",
       "      <td>73.3</td>\n",
       "      <td>The Dark Knight</td>\n",
       "      <td>534.9</td>\n",
       "    </tr>\n",
       "    <tr>\n",
       "      <th>Tom Hanks</th>\n",
       "      <td>4340.8</td>\n",
       "      <td>44</td>\n",
       "      <td>98.7</td>\n",
       "      <td>Toy Story 3</td>\n",
       "      <td>415.0</td>\n",
       "    </tr>\n",
       "    <tr>\n",
       "      <th>Robert Downey, Jr.</th>\n",
       "      <td>3947.3</td>\n",
       "      <td>53</td>\n",
       "      <td>74.5</td>\n",
       "      <td>The Avengers</td>\n",
       "      <td>623.4</td>\n",
       "    </tr>\n",
       "    <tr>\n",
       "      <th>...</th>\n",
       "      <td>...</td>\n",
       "      <td>...</td>\n",
       "      <td>...</td>\n",
       "      <td>...</td>\n",
       "      <td>...</td>\n",
       "    </tr>\n",
       "    <tr>\n",
       "      <th>Jeremy Renner</th>\n",
       "      <td>2500.3</td>\n",
       "      <td>21</td>\n",
       "      <td>119.1</td>\n",
       "      <td>The Avengers</td>\n",
       "      <td>623.4</td>\n",
       "    </tr>\n",
       "    <tr>\n",
       "      <th>Philip Seymour Hoffman</th>\n",
       "      <td>2463.7</td>\n",
       "      <td>40</td>\n",
       "      <td>61.6</td>\n",
       "      <td>Catching Fire</td>\n",
       "      <td>424.7</td>\n",
       "    </tr>\n",
       "    <tr>\n",
       "      <th>Sandra Bullock</th>\n",
       "      <td>2462.6</td>\n",
       "      <td>35</td>\n",
       "      <td>70.4</td>\n",
       "      <td>Minions</td>\n",
       "      <td>336.0</td>\n",
       "    </tr>\n",
       "    <tr>\n",
       "      <th>Chris Evans</th>\n",
       "      <td>2457.8</td>\n",
       "      <td>23</td>\n",
       "      <td>106.9</td>\n",
       "      <td>The Avengers</td>\n",
       "      <td>623.4</td>\n",
       "    </tr>\n",
       "    <tr>\n",
       "      <th>Anne Hathaway</th>\n",
       "      <td>2416.5</td>\n",
       "      <td>25</td>\n",
       "      <td>96.7</td>\n",
       "      <td>The Dark Knight Rises</td>\n",
       "      <td>448.1</td>\n",
       "    </tr>\n",
       "  </tbody>\n",
       "</table>\n",
       "<p>50 rows × 5 columns</p>\n",
       "</div>"
      ],
      "text/plain": [
       "                        Total Gross  Number of Movies  Average per Movie  \\\n",
       "Actor                                                                      \n",
       "Harrison Ford                4871.7                41              118.8   \n",
       "Samuel L. Jackson            4772.8                69               69.2   \n",
       "Morgan Freeman               4468.3                61               73.3   \n",
       "Tom Hanks                    4340.8                44               98.7   \n",
       "Robert Downey, Jr.           3947.3                53               74.5   \n",
       "...                             ...               ...                ...   \n",
       "Jeremy Renner                2500.3                21              119.1   \n",
       "Philip Seymour Hoffman       2463.7                40               61.6   \n",
       "Sandra Bullock               2462.6                35               70.4   \n",
       "Chris Evans                  2457.8                23              106.9   \n",
       "Anne Hathaway                2416.5                25               96.7   \n",
       "\n",
       "                                            #1 Movie  Gross  \n",
       "Actor                                                        \n",
       "Harrison Ford           Star Wars: The Force Awakens  936.7  \n",
       "Samuel L. Jackson                       The Avengers  623.4  \n",
       "Morgan Freeman                       The Dark Knight  534.9  \n",
       "Tom Hanks                                Toy Story 3  415.0  \n",
       "Robert Downey, Jr.                      The Avengers  623.4  \n",
       "...                                              ...    ...  \n",
       "Jeremy Renner                           The Avengers  623.4  \n",
       "Philip Seymour Hoffman                 Catching Fire  424.7  \n",
       "Sandra Bullock                               Minions  336.0  \n",
       "Chris Evans                             The Avengers  623.4  \n",
       "Anne Hathaway                  The Dark Knight Rises  448.1  \n",
       "\n",
       "[50 rows x 5 columns]"
      ]
     },
     "execution_count": 2,
     "metadata": {},
     "output_type": "execute_result"
    }
   ],
   "source": [
    "actors = bpd.read_csv('data/actors.csv').set_index('Actor')\n",
    "actors"
   ]
  },
  {
   "cell_type": "markdown",
   "metadata": {
    "slideshow": {
     "slide_type": "slide"
    }
   },
   "source": [
    "### Visualizando a relação entre duas variáveis"
   ]
  },
  {
   "cell_type": "markdown",
   "metadata": {},
   "source": [
    "#### Qual é a relação entre `'Number of Movies'` e `'Total Gross'`?\n",
    "\n",
    "Uma das maneiras de visualizar essa relação é através de um **diagrama de dispersão**, também conhecido como **gráfico de dispersão**:"
   ]
  },
  {
   "cell_type": "code",
   "execution_count": 3,
   "metadata": {},
   "outputs": [
    {
     "data": {
      "image/png": "[encoded data removed]",
      "text/plain": [
       "<Figure size 640x480 with 1 Axes>"
      ]
     },
     "metadata": {},
     "output_type": "display_data"
    }
   ],
   "source": [
    "actors.plot(kind = 'scatter', x = 'Number of Movies', y = 'Total Gross');"
   ]
  },
  {
   "cell_type": "markdown",
   "metadata": {
    "slideshow": {
     "slide_type": "slide"
    }
   },
   "source": [
    "- Os diagramas de dispersão (_scatter plots_) consistem de um arranjo dos valores de cada uma das duas colunas selecionadas de um `DataFrame` em pontos nas ordenadas $x$ e $y$ de um diagrama Cartesiano.\n",
    "- Cada um dos pontos do diagrama de dispersão representam uma linha no nosso DataFrame. \n",
    "- Os diagramas de dispersão são muito úteis para visualizar a relação entre duas variáveis _​​numéricas_!"
   ]
  },
  {
   "cell_type": "markdown",
   "metadata": {},
   "source": [
    "- Para criar um gráfico de dispersão a partir de um DataFrame `df` genérico com duas colunas numéricas `'x_column_for_horizontal'` e `'y_column_for_vertical'`, invocamos\n",
    "```\n",
    "df.plot(\n",
    "    kind = 'scatter', \n",
    "    x = x_column_for_horizontal, \n",
    "    y = y_column_for_vertical\n",
    ")\n",
    "```\n",
    "\n",
    "Nota: em geral coloamos um ponto e vírgula após uma chamada para `.plot`, para ocultar a saída de texto que acompanha a execução desse método."
   ]
  },
  {
   "cell_type": "code",
   "execution_count": 4,
   "metadata": {},
   "outputs": [
    {
     "data": {
      "text/plain": [
       "<Axes: xlabel='Number of Movies', ylabel='Total Gross'>"
      ]
     },
     "execution_count": 4,
     "metadata": {},
     "output_type": "execute_result"
    },
    {
     "data": {
      "image/png": "[encoded data removed]",
      "text/plain": [
       "<Figure size 640x480 with 1 Axes>"
      ]
     },
     "metadata": {},
     "output_type": "display_data"
    }
   ],
   "source": [
    "# O texto que aparece após a execução da célula abaixo não aparece quando colocamos \";\" após chamarmos o método `.plot`\n",
    "actors.plot(kind = 'scatter', x = 'Number of Movies', y = 'Total Gross')"
   ]
  },
  {
   "cell_type": "markdown",
   "metadata": {},
   "source": [
    "Analisando o diagrama de dispersão acima, vemos uma associação positiva, mas bem dispersa, entre o número de filmes de um ator e o total de suas receitas no box office."
   ]
  },
  {
   "cell_type": "markdown",
   "metadata": {
    "slideshow": {
     "slide_type": "slide"
    }
   },
   "source": [
    "#### Qual é a relação entre `'Number of Movies'` e `'Average per Movie'`?"
   ]
  },
  {
   "cell_type": "code",
   "execution_count": 5,
   "metadata": {},
   "outputs": [
    {
     "data": {
      "image/png": "[encoded data removed]",
      "text/plain": [
       "<Figure size 640x480 with 1 Axes>"
      ]
     },
     "metadata": {},
     "output_type": "display_data"
    }
   ],
   "source": [
    "actors.plot(kind = 'scatter', x = 'Number of Movies', y = 'Average per Movie');"
   ]
  },
  {
   "cell_type": "markdown",
   "metadata": {
    "slideshow": {
     "slide_type": "fragment"
    }
   },
   "source": [
    "No gráfico acima, vamos associação _negativa_ entre as duas variáveis, e um _valor discrepante_ (_outlier_)."
   ]
  },
  {
   "cell_type": "markdown",
   "metadata": {
    "slideshow": {
     "slide_type": "slide"
    }
   },
   "source": [
    "#### Qual ator esteve em 60 ou mais filmes?"
   ]
  },
  {
   "cell_type": "code",
   "execution_count": 6,
   "metadata": {},
   "outputs": [
    {
     "data": {
      "text/html": [
       "<div>\n",
       "<style scoped>\n",
       "    .dataframe tbody tr th:only-of-type {\n",
       "        vertical-align: middle;\n",
       "    }\n",
       "\n",
       "    .dataframe tbody tr th {\n",
       "        vertical-align: top;\n",
       "    }\n",
       "\n",
       "    .dataframe thead th {\n",
       "        text-align: right;\n",
       "    }\n",
       "</style>\n",
       "<table border=\"1\" class=\"dataframe\">\n",
       "  <thead>\n",
       "    <tr style=\"text-align: right;\">\n",
       "      <th></th>\n",
       "      <th>Total Gross</th>\n",
       "      <th>Number of Movies</th>\n",
       "      <th>Average per Movie</th>\n",
       "      <th>#1 Movie</th>\n",
       "      <th>Gross</th>\n",
       "    </tr>\n",
       "    <tr>\n",
       "      <th>Actor</th>\n",
       "      <th></th>\n",
       "      <th></th>\n",
       "      <th></th>\n",
       "      <th></th>\n",
       "      <th></th>\n",
       "    </tr>\n",
       "  </thead>\n",
       "  <tbody>\n",
       "    <tr>\n",
       "      <th>Samuel L. Jackson</th>\n",
       "      <td>4772.8</td>\n",
       "      <td>69</td>\n",
       "      <td>69.2</td>\n",
       "      <td>The Avengers</td>\n",
       "      <td>623.4</td>\n",
       "    </tr>\n",
       "    <tr>\n",
       "      <th>Morgan Freeman</th>\n",
       "      <td>4468.3</td>\n",
       "      <td>61</td>\n",
       "      <td>73.3</td>\n",
       "      <td>The Dark Knight</td>\n",
       "      <td>534.9</td>\n",
       "    </tr>\n",
       "    <tr>\n",
       "      <th>Bruce Willis</th>\n",
       "      <td>3189.4</td>\n",
       "      <td>60</td>\n",
       "      <td>53.2</td>\n",
       "      <td>Sixth Sense</td>\n",
       "      <td>293.5</td>\n",
       "    </tr>\n",
       "    <tr>\n",
       "      <th>Robert DeNiro</th>\n",
       "      <td>3081.3</td>\n",
       "      <td>79</td>\n",
       "      <td>39.0</td>\n",
       "      <td>Meet the Fockers</td>\n",
       "      <td>279.3</td>\n",
       "    </tr>\n",
       "    <tr>\n",
       "      <th>Liam Neeson</th>\n",
       "      <td>2942.7</td>\n",
       "      <td>63</td>\n",
       "      <td>46.7</td>\n",
       "      <td>The Phantom Menace</td>\n",
       "      <td>474.5</td>\n",
       "    </tr>\n",
       "  </tbody>\n",
       "</table>\n",
       "</div>"
      ],
      "text/plain": [
       "                   Total Gross  Number of Movies  Average per Movie  \\\n",
       "Actor                                                                 \n",
       "Samuel L. Jackson       4772.8                69               69.2   \n",
       "Morgan Freeman          4468.3                61               73.3   \n",
       "Bruce Willis            3189.4                60               53.2   \n",
       "Robert DeNiro           3081.3                79               39.0   \n",
       "Liam Neeson             2942.7                63               46.7   \n",
       "\n",
       "                             #1 Movie  Gross  \n",
       "Actor                                         \n",
       "Samuel L. Jackson        The Avengers  623.4  \n",
       "Morgan Freeman        The Dark Knight  534.9  \n",
       "Bruce Willis              Sixth Sense  293.5  \n",
       "Robert DeNiro        Meet the Fockers  279.3  \n",
       "Liam Neeson        The Phantom Menace  474.5  "
      ]
     },
     "execution_count": 6,
     "metadata": {},
     "output_type": "execute_result"
    }
   ],
   "source": [
    "actors[actors.get('Number of Movies') >= 60]"
   ]
  },
  {
   "cell_type": "markdown",
   "metadata": {
    "slideshow": {
     "slide_type": "slide"
    }
   },
   "source": [
    "#### E quem é o outlier no último diagrama?\n",
    "\n",
    "Podemos identificar o outlier no diagrama anterior buscando pelo único ator que fez menos que 10 filmes."
   ]
  },
  {
   "cell_type": "code",
   "execution_count": 7,
   "metadata": {},
   "outputs": [
    {
     "data": {
      "text/html": [
       "<div>\n",
       "<style scoped>\n",
       "    .dataframe tbody tr th:only-of-type {\n",
       "        vertical-align: middle;\n",
       "    }\n",
       "\n",
       "    .dataframe tbody tr th {\n",
       "        vertical-align: top;\n",
       "    }\n",
       "\n",
       "    .dataframe thead th {\n",
       "        text-align: right;\n",
       "    }\n",
       "</style>\n",
       "<table border=\"1\" class=\"dataframe\">\n",
       "  <thead>\n",
       "    <tr style=\"text-align: right;\">\n",
       "      <th></th>\n",
       "      <th>Total Gross</th>\n",
       "      <th>Number of Movies</th>\n",
       "      <th>Average per Movie</th>\n",
       "      <th>#1 Movie</th>\n",
       "      <th>Gross</th>\n",
       "    </tr>\n",
       "    <tr>\n",
       "      <th>Actor</th>\n",
       "      <th></th>\n",
       "      <th></th>\n",
       "      <th></th>\n",
       "      <th></th>\n",
       "      <th></th>\n",
       "    </tr>\n",
       "  </thead>\n",
       "  <tbody>\n",
       "    <tr>\n",
       "      <th>Anthony Daniels</th>\n",
       "      <td>3162.9</td>\n",
       "      <td>7</td>\n",
       "      <td>451.8</td>\n",
       "      <td>Star Wars: The Force Awakens</td>\n",
       "      <td>936.7</td>\n",
       "    </tr>\n",
       "  </tbody>\n",
       "</table>\n",
       "</div>"
      ],
      "text/plain": [
       "                 Total Gross  Number of Movies  Average per Movie  \\\n",
       "Actor                                                               \n",
       "Anthony Daniels       3162.9                 7              451.8   \n",
       "\n",
       "                                     #1 Movie  Gross  \n",
       "Actor                                                 \n",
       "Anthony Daniels  Star Wars: The Force Awakens  936.7  "
      ]
     },
     "execution_count": 7,
     "metadata": {},
     "output_type": "execute_result"
    }
   ],
   "source": [
    "actors[actors.get('Number of Movies') < 10]"
   ]
  },
  {
   "cell_type": "markdown",
   "metadata": {},
   "source": [
    "A média de receita no box office desse ator é bem alta!"
   ]
  },
  {
   "cell_type": "markdown",
   "metadata": {
    "slideshow": {
     "slide_type": "slide"
    }
   },
   "source": [
    "#### Anthony Daniels\n",
    "\n",
    "<center><img src='images/c3po.png' width=200></center>"
   ]
  },
  {
   "cell_type": "markdown",
   "metadata": {
    "slideshow": {
     "slide_type": "slide"
    }
   },
   "source": [
    "## Gráficos de linha 📉"
   ]
  },
  {
   "cell_type": "markdown",
   "metadata": {
    "slideshow": {
     "slide_type": "slide"
    }
   },
   "source": [
    "### Exemplo: agregando filmes por ano"
   ]
  },
  {
   "cell_type": "markdown",
   "metadata": {
    "slideshow": {
     "slide_type": "-"
    }
   },
   "source": [
    "|Coluna| Conteúdo|\n",
    "|------|-----------|\n",
    "`'Year'`| Ano\n",
    "`'Total Gross in Billions'`| Total bruto de bilheteria doméstica, em bilhões de dólares, de todos os filmes lançados no ano\n",
    "`'Number of Movies'`| Número de filmes lançados no ano\n",
    "`'#1 Movie'`| Filme de maior bilheteria no ano"
   ]
  },
  {
   "cell_type": "code",
   "execution_count": 8,
   "metadata": {
    "slideshow": {
     "slide_type": "slide"
    }
   },
   "outputs": [
    {
     "data": {
      "text/html": [
       "<div>\n",
       "<style scoped>\n",
       "    .dataframe tbody tr th:only-of-type {\n",
       "        vertical-align: middle;\n",
       "    }\n",
       "\n",
       "    .dataframe tbody tr th {\n",
       "        vertical-align: top;\n",
       "    }\n",
       "\n",
       "    .dataframe thead th {\n",
       "        text-align: right;\n",
       "    }\n",
       "</style>\n",
       "<table border=\"1\" class=\"dataframe\">\n",
       "  <thead>\n",
       "    <tr style=\"text-align: right;\">\n",
       "      <th></th>\n",
       "      <th>Total Gross in Billions</th>\n",
       "      <th>Number of Movies</th>\n",
       "      <th>#1 Movie</th>\n",
       "    </tr>\n",
       "    <tr>\n",
       "      <th>Year</th>\n",
       "      <th></th>\n",
       "      <th></th>\n",
       "      <th></th>\n",
       "    </tr>\n",
       "  </thead>\n",
       "  <tbody>\n",
       "    <tr>\n",
       "      <th>2022</th>\n",
       "      <td>5.64</td>\n",
       "      <td>380</td>\n",
       "      <td>Top Gun: Maverick</td>\n",
       "    </tr>\n",
       "    <tr>\n",
       "      <th>2021</th>\n",
       "      <td>4.48</td>\n",
       "      <td>439</td>\n",
       "      <td>Spider-Man: No Way Home</td>\n",
       "    </tr>\n",
       "    <tr>\n",
       "      <th>2020</th>\n",
       "      <td>2.11</td>\n",
       "      <td>456</td>\n",
       "      <td>Bad Boys for Life</td>\n",
       "    </tr>\n",
       "    <tr>\n",
       "      <th>2019</th>\n",
       "      <td>11.36</td>\n",
       "      <td>910</td>\n",
       "      <td>Avengers: Endgame</td>\n",
       "    </tr>\n",
       "    <tr>\n",
       "      <th>2018</th>\n",
       "      <td>11.89</td>\n",
       "      <td>993</td>\n",
       "      <td>Black Panther</td>\n",
       "    </tr>\n",
       "    <tr>\n",
       "      <th>...</th>\n",
       "      <td>...</td>\n",
       "      <td>...</td>\n",
       "      <td>...</td>\n",
       "    </tr>\n",
       "    <tr>\n",
       "      <th>1981</th>\n",
       "      <td>0.90</td>\n",
       "      <td>56</td>\n",
       "      <td>Superman II</td>\n",
       "    </tr>\n",
       "    <tr>\n",
       "      <th>1980</th>\n",
       "      <td>1.64</td>\n",
       "      <td>68</td>\n",
       "      <td>Star Wars: Episode V - The Empire Strikes Back</td>\n",
       "    </tr>\n",
       "    <tr>\n",
       "      <th>1979</th>\n",
       "      <td>1.23</td>\n",
       "      <td>40</td>\n",
       "      <td>Superman</td>\n",
       "    </tr>\n",
       "    <tr>\n",
       "      <th>1978</th>\n",
       "      <td>0.83</td>\n",
       "      <td>13</td>\n",
       "      <td>Grease</td>\n",
       "    </tr>\n",
       "    <tr>\n",
       "      <th>1977</th>\n",
       "      <td>0.44</td>\n",
       "      <td>9</td>\n",
       "      <td>Star Wars: Episode IV - A New Hope</td>\n",
       "    </tr>\n",
       "  </tbody>\n",
       "</table>\n",
       "<p>46 rows × 3 columns</p>\n",
       "</div>"
      ],
      "text/plain": [
       "      Total Gross in Billions  Number of Movies  \\\n",
       "Year                                              \n",
       "2022                     5.64               380   \n",
       "2021                     4.48               439   \n",
       "2020                     2.11               456   \n",
       "2019                    11.36               910   \n",
       "2018                    11.89               993   \n",
       "...                       ...               ...   \n",
       "1981                     0.90                56   \n",
       "1980                     1.64                68   \n",
       "1979                     1.23                40   \n",
       "1978                     0.83                13   \n",
       "1977                     0.44                 9   \n",
       "\n",
       "                                            #1 Movie  \n",
       "Year                                                  \n",
       "2022                               Top Gun: Maverick  \n",
       "2021                         Spider-Man: No Way Home  \n",
       "2020                               Bad Boys for Life  \n",
       "2019                               Avengers: Endgame  \n",
       "2018                                   Black Panther  \n",
       "...                                              ...  \n",
       "1981                                     Superman II  \n",
       "1980  Star Wars: Episode V - The Empire Strikes Back  \n",
       "1979                                        Superman  \n",
       "1978                                          Grease  \n",
       "1977              Star Wars: Episode IV - A New Hope  \n",
       "\n",
       "[46 rows x 3 columns]"
      ]
     },
     "execution_count": 8,
     "metadata": {},
     "output_type": "execute_result"
    }
   ],
   "source": [
    "movies_by_year = bpd.read_csv('data/movies_by_year.csv').set_index('Year')\n",
    "movies_by_year"
   ]
  },
  {
   "cell_type": "markdown",
   "metadata": {
    "slideshow": {
     "slide_type": "slide"
    }
   },
   "source": [
    "- **Pergunta**: como o número de filmes lançados por ano mudou ao longo do tempo? 🤔"
   ]
  },
  {
   "cell_type": "code",
   "execution_count": 9,
   "metadata": {},
   "outputs": [
    {
     "data": {
      "image/png": "[encoded data removed]",
      "text/plain": [
       "<Figure size 640x480 with 1 Axes>"
      ]
     },
     "metadata": {},
     "output_type": "display_data"
    }
   ],
   "source": [
    "movies_by_year.plot(kind = 'line', y = 'Number of Movies');"
   ]
  },
  {
   "cell_type": "markdown",
   "metadata": {
    "slideshow": {
     "slide_type": "slide"
    }
   },
   "source": [
    "### Gráficos de linha\n",
    "\n",
    "- Os gráficos de linhas mostram tendências em variáveis ​​numéricas ao longo do tempo."
   ]
  },
  {
   "cell_type": "markdown",
   "metadata": {},
   "source": [
    "- Para criar um gráfico de linhas a partir de um DataFrame `df` genérico com duas colunas numéricas `'x_column_for_horizontal'` e `'y_column_for_vertical'`, invocamos\n",
    "\n",
    "````python\n",
    "df.plot(\n",
    "    kind = 'line', \n",
    "    x = x_column_for_horizontal, \n",
    "    y = y_column_for_vertical\n",
    ")\n",
    "````"
   ]
  },
  {
   "cell_type": "markdown",
   "metadata": {
    "slideshow": {
     "slide_type": "slide"
    }
   },
   "source": [
    "- **Dica**: quando quisermos que o eixo $x$ seja o índice do DataFrame, basta omitirmos o argumento `x =`!\n",
    "\n",
    "Naturalmente, isso não funciona para gráficos de dispersão, mas funciona para a maioria dos outros tipos de gráficos."
   ]
  },
  {
   "cell_type": "code",
   "execution_count": 10,
   "metadata": {},
   "outputs": [
    {
     "data": {
      "image/png": "[encoded data removed]",
      "text/plain": [
       "<Figure size 640x480 with 1 Axes>"
      ]
     },
     "metadata": {},
     "output_type": "display_data"
    }
   ],
   "source": [
    "movies_by_year.plot(kind = 'line', y = 'Number of Movies');"
   ]
  },
  {
   "cell_type": "markdown",
   "metadata": {
    "slideshow": {
     "slide_type": "slide"
    }
   },
   "source": [
    "#### Filtrando pelo índice\n",
    "\n",
    "- Muitas vezes estamos interessados em _encurtar_ o horizonte de um gráfico de linhas.\n",
    "- Isso pode nos ajudar a melhorar a visualização geral ou nos permitir discernir melhor algum detalhe específico, por exemplo.\n",
    "- Para realizar esse encurtamento, basta invocar o plot após filtrar o DataFrame da maneira desejada por seu índice."
   ]
  },
  {
   "cell_type": "markdown",
   "metadata": {},
   "source": [
    "No exemplo acima, podemos criar um gráfico de linhas considerando apenas os anos de 2000 em diante:"
   ]
  },
  {
   "cell_type": "code",
   "execution_count": 11,
   "metadata": {
    "slideshow": {
     "slide_type": "-"
    }
   },
   "outputs": [
    {
     "data": {
      "image/png": "[encoded data removed]",
      "text/plain": [
       "<Figure size 640x480 with 1 Axes>"
      ]
     },
     "metadata": {},
     "output_type": "display_data"
    }
   ],
   "source": [
    "movies_by_year[movies_by_year.index >= 2000].plot(kind='line', y='Number of Movies');"
   ]
  },
  {
   "cell_type": "markdown",
   "metadata": {},
   "source": [
    "Note agora que as quedas em torno de 2008 e 2020 estão muito mais aparentes!"
   ]
  },
  {
   "cell_type": "markdown",
   "metadata": {
    "slideshow": {
     "slide_type": "slide"
    }
   },
   "source": [
    "#### Como as quedas em 2008 e 2020 afetaram o total bruto de bilheteria doméstica?"
   ]
  },
  {
   "cell_type": "code",
   "execution_count": 12,
   "metadata": {},
   "outputs": [
    {
     "data": {
      "image/png": "[encoded data removed]",
      "text/plain": [
       "<Figure size 640x480 with 1 Axes>"
      ]
     },
     "metadata": {},
     "output_type": "display_data"
    }
   ],
   "source": [
    "movies_by_year[movies_by_year.index >= 2000].plot(kind = 'line', y = 'Total Gross in Billions');"
   ]
  },
  {
   "cell_type": "markdown",
   "metadata": {
    "slideshow": {
     "slide_type": "slide"
    }
   },
   "source": [
    "#### Curiosidade: qual foi o filme de maior bilheteria de 2016? 🐟"
   ]
  },
  {
   "cell_type": "code",
   "execution_count": 13,
   "metadata": {},
   "outputs": [
    {
     "data": {
      "text/html": [
       "<div>\n",
       "<style scoped>\n",
       "    .dataframe tbody tr th:only-of-type {\n",
       "        vertical-align: middle;\n",
       "    }\n",
       "\n",
       "    .dataframe tbody tr th {\n",
       "        vertical-align: top;\n",
       "    }\n",
       "\n",
       "    .dataframe thead th {\n",
       "        text-align: right;\n",
       "    }\n",
       "</style>\n",
       "<table border=\"1\" class=\"dataframe\">\n",
       "  <thead>\n",
       "    <tr style=\"text-align: right;\">\n",
       "      <th></th>\n",
       "      <th>Total Gross in Billions</th>\n",
       "      <th>Number of Movies</th>\n",
       "      <th>#1 Movie</th>\n",
       "    </tr>\n",
       "    <tr>\n",
       "      <th>Year</th>\n",
       "      <th></th>\n",
       "      <th></th>\n",
       "      <th></th>\n",
       "    </tr>\n",
       "  </thead>\n",
       "  <tbody>\n",
       "    <tr>\n",
       "      <th>2016</th>\n",
       "      <td>11.38</td>\n",
       "      <td>855</td>\n",
       "      <td>Finding Dory</td>\n",
       "    </tr>\n",
       "  </tbody>\n",
       "</table>\n",
       "</div>"
      ],
      "text/plain": [
       "      Total Gross in Billions  Number of Movies      #1 Movie\n",
       "Year                                                         \n",
       "2016                    11.38               855  Finding Dory"
      ]
     },
     "execution_count": 13,
     "metadata": {},
     "output_type": "execute_result"
    }
   ],
   "source": [
    "movies_by_year[movies_by_year.index == 2016]"
   ]
  },
  {
   "cell_type": "markdown",
   "metadata": {
    "slideshow": {
     "slide_type": "slide"
    }
   },
   "source": [
    "## Gráficos de barras 📊"
   ]
  },
  {
   "cell_type": "markdown",
   "metadata": {
    "slideshow": {
     "slide_type": "slide"
    }
   },
   "source": [
    "### Exemplo: [200 músicas mais tocadas no Spotify dos EUA](https://spotifycharts.com/regional) (21/01/23)"
   ]
  },
  {
   "cell_type": "code",
   "execution_count": 14,
   "metadata": {},
   "outputs": [
    {
     "data": {
      "text/html": [
       "<div>\n",
       "<style scoped>\n",
       "    .dataframe tbody tr th:only-of-type {\n",
       "        vertical-align: middle;\n",
       "    }\n",
       "\n",
       "    .dataframe tbody tr th {\n",
       "        vertical-align: top;\n",
       "    }\n",
       "\n",
       "    .dataframe thead th {\n",
       "        text-align: right;\n",
       "    }\n",
       "</style>\n",
       "<table border=\"1\" class=\"dataframe\">\n",
       "  <thead>\n",
       "    <tr style=\"text-align: right;\">\n",
       "      <th></th>\n",
       "      <th>track_name</th>\n",
       "      <th>artist_names</th>\n",
       "      <th>streams</th>\n",
       "      <th>uri</th>\n",
       "    </tr>\n",
       "    <tr>\n",
       "      <th>rank</th>\n",
       "      <th></th>\n",
       "      <th></th>\n",
       "      <th></th>\n",
       "      <th></th>\n",
       "    </tr>\n",
       "  </thead>\n",
       "  <tbody>\n",
       "    <tr>\n",
       "      <th>1</th>\n",
       "      <td>Flowers</td>\n",
       "      <td>Miley Cyrus</td>\n",
       "      <td>3356361</td>\n",
       "      <td>spotify:track:0yLdNVWF3Srea0uzk55zFn</td>\n",
       "    </tr>\n",
       "    <tr>\n",
       "      <th>2</th>\n",
       "      <td>Kill Bill</td>\n",
       "      <td>SZA</td>\n",
       "      <td>2479445</td>\n",
       "      <td>spotify:track:1Qrg8KqiBpW07V7PNxwwwL</td>\n",
       "    </tr>\n",
       "    <tr>\n",
       "      <th>3</th>\n",
       "      <td>Creepin' (with The Weeknd &amp; 21 Savage)</td>\n",
       "      <td>Metro Boomin, The Weeknd, 21 Savage</td>\n",
       "      <td>1337320</td>\n",
       "      <td>spotify:track:2dHHgzDwk4BJdRwy9uXhTO</td>\n",
       "    </tr>\n",
       "    <tr>\n",
       "      <th>4</th>\n",
       "      <td>Superhero (Heroes &amp; Villains) [with Future &amp; C...</td>\n",
       "      <td>Metro Boomin, Future, Chris Brown</td>\n",
       "      <td>1235285</td>\n",
       "      <td>spotify:track:0vjeOZ3Ft5jvAi9SBFJm1j</td>\n",
       "    </tr>\n",
       "    <tr>\n",
       "      <th>5</th>\n",
       "      <td>Rich Flex</td>\n",
       "      <td>Drake, 21 Savage</td>\n",
       "      <td>1109704</td>\n",
       "      <td>spotify:track:1bDbXMyjaUIooNwFE9wn0N</td>\n",
       "    </tr>\n",
       "    <tr>\n",
       "      <th>...</th>\n",
       "      <td>...</td>\n",
       "      <td>...</td>\n",
       "      <td>...</td>\n",
       "      <td>...</td>\n",
       "    </tr>\n",
       "    <tr>\n",
       "      <th>196</th>\n",
       "      <td>Burn, Burn, Burn</td>\n",
       "      <td>Zach Bryan</td>\n",
       "      <td>267772</td>\n",
       "      <td>spotify:track:5jfhLCSIFUO4ndzNRh4w4G</td>\n",
       "    </tr>\n",
       "    <tr>\n",
       "      <th>197</th>\n",
       "      <td>LET GO</td>\n",
       "      <td>Central Cee</td>\n",
       "      <td>267401</td>\n",
       "      <td>spotify:track:3zkyus0njMCL6phZmNNEeN</td>\n",
       "    </tr>\n",
       "    <tr>\n",
       "      <th>198</th>\n",
       "      <td>Major Distribution</td>\n",
       "      <td>Drake, 21 Savage</td>\n",
       "      <td>266986</td>\n",
       "      <td>spotify:track:46s57QULU02Voy0Kup6UEb</td>\n",
       "    </tr>\n",
       "    <tr>\n",
       "      <th>199</th>\n",
       "      <td>Sun to Me</td>\n",
       "      <td>Zach Bryan</td>\n",
       "      <td>266968</td>\n",
       "      <td>spotify:track:1SjsVdSXpwm1kTdYEHoPIT</td>\n",
       "    </tr>\n",
       "    <tr>\n",
       "      <th>200</th>\n",
       "      <td>The Real Slim Shady</td>\n",
       "      <td>Eminem</td>\n",
       "      <td>266698</td>\n",
       "      <td>spotify:track:3yfqSUWxFvZELEM4PmlwIR</td>\n",
       "    </tr>\n",
       "  </tbody>\n",
       "</table>\n",
       "<p>200 rows × 4 columns</p>\n",
       "</div>"
      ],
      "text/plain": [
       "                                             track_name  \\\n",
       "rank                                                      \n",
       "1                                               Flowers   \n",
       "2                                             Kill Bill   \n",
       "3                Creepin' (with The Weeknd & 21 Savage)   \n",
       "4     Superhero (Heroes & Villains) [with Future & C...   \n",
       "5                                             Rich Flex   \n",
       "...                                                 ...   \n",
       "196                                    Burn, Burn, Burn   \n",
       "197                                              LET GO   \n",
       "198                                  Major Distribution   \n",
       "199                                           Sun to Me   \n",
       "200                                 The Real Slim Shady   \n",
       "\n",
       "                             artist_names  streams  \\\n",
       "rank                                                 \n",
       "1                             Miley Cyrus  3356361   \n",
       "2                                     SZA  2479445   \n",
       "3     Metro Boomin, The Weeknd, 21 Savage  1337320   \n",
       "4       Metro Boomin, Future, Chris Brown  1235285   \n",
       "5                        Drake, 21 Savage  1109704   \n",
       "...                                   ...      ...   \n",
       "196                            Zach Bryan   267772   \n",
       "197                           Central Cee   267401   \n",
       "198                      Drake, 21 Savage   266986   \n",
       "199                            Zach Bryan   266968   \n",
       "200                                Eminem   266698   \n",
       "\n",
       "                                       uri  \n",
       "rank                                        \n",
       "1     spotify:track:0yLdNVWF3Srea0uzk55zFn  \n",
       "2     spotify:track:1Qrg8KqiBpW07V7PNxwwwL  \n",
       "3     spotify:track:2dHHgzDwk4BJdRwy9uXhTO  \n",
       "4     spotify:track:0vjeOZ3Ft5jvAi9SBFJm1j  \n",
       "5     spotify:track:1bDbXMyjaUIooNwFE9wn0N  \n",
       "...                                    ...  \n",
       "196   spotify:track:5jfhLCSIFUO4ndzNRh4w4G  \n",
       "197   spotify:track:3zkyus0njMCL6phZmNNEeN  \n",
       "198   spotify:track:46s57QULU02Voy0Kup6UEb  \n",
       "199   spotify:track:1SjsVdSXpwm1kTdYEHoPIT  \n",
       "200   spotify:track:3yfqSUWxFvZELEM4PmlwIR  \n",
       "\n",
       "[200 rows x 4 columns]"
      ]
     },
     "execution_count": 14,
     "metadata": {},
     "output_type": "execute_result"
    }
   ],
   "source": [
    "charts = (bpd.read_csv('data/regional-us-daily-2023-01-21.csv')\n",
    "          .set_index('rank')\n",
    "          .get(['track_name', 'artist_names', 'streams', 'uri'])\n",
    "         )\n",
    "charts"
   ]
  },
  {
   "cell_type": "markdown",
   "metadata": {
    "slideshow": {
     "slide_type": "slide"
    }
   },
   "source": [
    "### Motivação\n",
    "\n",
    "Quantos streams as 10 músicas mais populares têm?"
   ]
  },
  {
   "cell_type": "code",
   "execution_count": 15,
   "metadata": {},
   "outputs": [
    {
     "data": {
      "text/html": [
       "<div>\n",
       "<style scoped>\n",
       "    .dataframe tbody tr th:only-of-type {\n",
       "        vertical-align: middle;\n",
       "    }\n",
       "\n",
       "    .dataframe tbody tr th {\n",
       "        vertical-align: top;\n",
       "    }\n",
       "\n",
       "    .dataframe thead th {\n",
       "        text-align: right;\n",
       "    }\n",
       "</style>\n",
       "<table border=\"1\" class=\"dataframe\">\n",
       "  <thead>\n",
       "    <tr style=\"text-align: right;\">\n",
       "      <th></th>\n",
       "      <th>track_name</th>\n",
       "      <th>artist_names</th>\n",
       "      <th>streams</th>\n",
       "      <th>uri</th>\n",
       "    </tr>\n",
       "    <tr>\n",
       "      <th>rank</th>\n",
       "      <th></th>\n",
       "      <th></th>\n",
       "      <th></th>\n",
       "      <th></th>\n",
       "    </tr>\n",
       "  </thead>\n",
       "  <tbody>\n",
       "    <tr>\n",
       "      <th>1</th>\n",
       "      <td>Flowers</td>\n",
       "      <td>Miley Cyrus</td>\n",
       "      <td>3356361</td>\n",
       "      <td>spotify:track:0yLdNVWF3Srea0uzk55zFn</td>\n",
       "    </tr>\n",
       "    <tr>\n",
       "      <th>2</th>\n",
       "      <td>Kill Bill</td>\n",
       "      <td>SZA</td>\n",
       "      <td>2479445</td>\n",
       "      <td>spotify:track:1Qrg8KqiBpW07V7PNxwwwL</td>\n",
       "    </tr>\n",
       "    <tr>\n",
       "      <th>3</th>\n",
       "      <td>Creepin' (with The Weeknd &amp; 21 Savage)</td>\n",
       "      <td>Metro Boomin, The Weeknd, 21 Savage</td>\n",
       "      <td>1337320</td>\n",
       "      <td>spotify:track:2dHHgzDwk4BJdRwy9uXhTO</td>\n",
       "    </tr>\n",
       "    <tr>\n",
       "      <th>4</th>\n",
       "      <td>Superhero (Heroes &amp; Villains) [with Future &amp; C...</td>\n",
       "      <td>Metro Boomin, Future, Chris Brown</td>\n",
       "      <td>1235285</td>\n",
       "      <td>spotify:track:0vjeOZ3Ft5jvAi9SBFJm1j</td>\n",
       "    </tr>\n",
       "    <tr>\n",
       "      <th>5</th>\n",
       "      <td>Rich Flex</td>\n",
       "      <td>Drake, 21 Savage</td>\n",
       "      <td>1109704</td>\n",
       "      <td>spotify:track:1bDbXMyjaUIooNwFE9wn0N</td>\n",
       "    </tr>\n",
       "    <tr>\n",
       "      <th>...</th>\n",
       "      <td>...</td>\n",
       "      <td>...</td>\n",
       "      <td>...</td>\n",
       "      <td>...</td>\n",
       "    </tr>\n",
       "    <tr>\n",
       "      <th>196</th>\n",
       "      <td>Burn, Burn, Burn</td>\n",
       "      <td>Zach Bryan</td>\n",
       "      <td>267772</td>\n",
       "      <td>spotify:track:5jfhLCSIFUO4ndzNRh4w4G</td>\n",
       "    </tr>\n",
       "    <tr>\n",
       "      <th>197</th>\n",
       "      <td>LET GO</td>\n",
       "      <td>Central Cee</td>\n",
       "      <td>267401</td>\n",
       "      <td>spotify:track:3zkyus0njMCL6phZmNNEeN</td>\n",
       "    </tr>\n",
       "    <tr>\n",
       "      <th>198</th>\n",
       "      <td>Major Distribution</td>\n",
       "      <td>Drake, 21 Savage</td>\n",
       "      <td>266986</td>\n",
       "      <td>spotify:track:46s57QULU02Voy0Kup6UEb</td>\n",
       "    </tr>\n",
       "    <tr>\n",
       "      <th>199</th>\n",
       "      <td>Sun to Me</td>\n",
       "      <td>Zach Bryan</td>\n",
       "      <td>266968</td>\n",
       "      <td>spotify:track:1SjsVdSXpwm1kTdYEHoPIT</td>\n",
       "    </tr>\n",
       "    <tr>\n",
       "      <th>200</th>\n",
       "      <td>The Real Slim Shady</td>\n",
       "      <td>Eminem</td>\n",
       "      <td>266698</td>\n",
       "      <td>spotify:track:3yfqSUWxFvZELEM4PmlwIR</td>\n",
       "    </tr>\n",
       "  </tbody>\n",
       "</table>\n",
       "<p>200 rows × 4 columns</p>\n",
       "</div>"
      ],
      "text/plain": [
       "                                             track_name  \\\n",
       "rank                                                      \n",
       "1                                               Flowers   \n",
       "2                                             Kill Bill   \n",
       "3                Creepin' (with The Weeknd & 21 Savage)   \n",
       "4     Superhero (Heroes & Villains) [with Future & C...   \n",
       "5                                             Rich Flex   \n",
       "...                                                 ...   \n",
       "196                                    Burn, Burn, Burn   \n",
       "197                                              LET GO   \n",
       "198                                  Major Distribution   \n",
       "199                                           Sun to Me   \n",
       "200                                 The Real Slim Shady   \n",
       "\n",
       "                             artist_names  streams  \\\n",
       "rank                                                 \n",
       "1                             Miley Cyrus  3356361   \n",
       "2                                     SZA  2479445   \n",
       "3     Metro Boomin, The Weeknd, 21 Savage  1337320   \n",
       "4       Metro Boomin, Future, Chris Brown  1235285   \n",
       "5                        Drake, 21 Savage  1109704   \n",
       "...                                   ...      ...   \n",
       "196                            Zach Bryan   267772   \n",
       "197                           Central Cee   267401   \n",
       "198                      Drake, 21 Savage   266986   \n",
       "199                            Zach Bryan   266968   \n",
       "200                                Eminem   266698   \n",
       "\n",
       "                                       uri  \n",
       "rank                                        \n",
       "1     spotify:track:0yLdNVWF3Srea0uzk55zFn  \n",
       "2     spotify:track:1Qrg8KqiBpW07V7PNxwwwL  \n",
       "3     spotify:track:2dHHgzDwk4BJdRwy9uXhTO  \n",
       "4     spotify:track:0vjeOZ3Ft5jvAi9SBFJm1j  \n",
       "5     spotify:track:1bDbXMyjaUIooNwFE9wn0N  \n",
       "...                                    ...  \n",
       "196   spotify:track:5jfhLCSIFUO4ndzNRh4w4G  \n",
       "197   spotify:track:3zkyus0njMCL6phZmNNEeN  \n",
       "198   spotify:track:46s57QULU02Voy0Kup6UEb  \n",
       "199   spotify:track:1SjsVdSXpwm1kTdYEHoPIT  \n",
       "200   spotify:track:3yfqSUWxFvZELEM4PmlwIR  \n",
       "\n",
       "[200 rows x 4 columns]"
      ]
     },
     "execution_count": 15,
     "metadata": {},
     "output_type": "execute_result"
    }
   ],
   "source": [
    "charts"
   ]
  },
  {
   "cell_type": "code",
   "execution_count": 16,
   "metadata": {},
   "outputs": [
    {
     "data": {
      "text/html": [
       "<div>\n",
       "<style scoped>\n",
       "    .dataframe tbody tr th:only-of-type {\n",
       "        vertical-align: middle;\n",
       "    }\n",
       "\n",
       "    .dataframe tbody tr th {\n",
       "        vertical-align: top;\n",
       "    }\n",
       "\n",
       "    .dataframe thead th {\n",
       "        text-align: right;\n",
       "    }\n",
       "</style>\n",
       "<table border=\"1\" class=\"dataframe\">\n",
       "  <thead>\n",
       "    <tr style=\"text-align: right;\">\n",
       "      <th></th>\n",
       "      <th>track_name</th>\n",
       "      <th>artist_names</th>\n",
       "      <th>streams</th>\n",
       "      <th>uri</th>\n",
       "    </tr>\n",
       "    <tr>\n",
       "      <th>rank</th>\n",
       "      <th></th>\n",
       "      <th></th>\n",
       "      <th></th>\n",
       "      <th></th>\n",
       "    </tr>\n",
       "  </thead>\n",
       "  <tbody>\n",
       "    <tr>\n",
       "      <th>1</th>\n",
       "      <td>Flowers</td>\n",
       "      <td>Miley Cyrus</td>\n",
       "      <td>3356361</td>\n",
       "      <td>spotify:track:0yLdNVWF3Srea0uzk55zFn</td>\n",
       "    </tr>\n",
       "    <tr>\n",
       "      <th>2</th>\n",
       "      <td>Kill Bill</td>\n",
       "      <td>SZA</td>\n",
       "      <td>2479445</td>\n",
       "      <td>spotify:track:1Qrg8KqiBpW07V7PNxwwwL</td>\n",
       "    </tr>\n",
       "    <tr>\n",
       "      <th>3</th>\n",
       "      <td>Creepin' (with The Weeknd &amp; 21 Savage)</td>\n",
       "      <td>Metro Boomin, The Weeknd, 21 Savage</td>\n",
       "      <td>1337320</td>\n",
       "      <td>spotify:track:2dHHgzDwk4BJdRwy9uXhTO</td>\n",
       "    </tr>\n",
       "    <tr>\n",
       "      <th>4</th>\n",
       "      <td>Superhero (Heroes &amp; Villains) [with Future &amp; C...</td>\n",
       "      <td>Metro Boomin, Future, Chris Brown</td>\n",
       "      <td>1235285</td>\n",
       "      <td>spotify:track:0vjeOZ3Ft5jvAi9SBFJm1j</td>\n",
       "    </tr>\n",
       "    <tr>\n",
       "      <th>5</th>\n",
       "      <td>Rich Flex</td>\n",
       "      <td>Drake, 21 Savage</td>\n",
       "      <td>1109704</td>\n",
       "      <td>spotify:track:1bDbXMyjaUIooNwFE9wn0N</td>\n",
       "    </tr>\n",
       "    <tr>\n",
       "      <th>6</th>\n",
       "      <td>Shakira: Bzrp Music Sessions, Vol. 53</td>\n",
       "      <td>Bizarrap, Shakira</td>\n",
       "      <td>1051226</td>\n",
       "      <td>spotify:track:4nrPB8O7Y7wsOCJdgXkthe</td>\n",
       "    </tr>\n",
       "    <tr>\n",
       "      <th>7</th>\n",
       "      <td>Just Wanna Rock</td>\n",
       "      <td>Lil Uzi Vert</td>\n",
       "      <td>998684</td>\n",
       "      <td>spotify:track:4FyesJzVpA39hbYvcseO2d</td>\n",
       "    </tr>\n",
       "    <tr>\n",
       "      <th>8</th>\n",
       "      <td>Anti-Hero</td>\n",
       "      <td>Taylor Swift</td>\n",
       "      <td>936166</td>\n",
       "      <td>spotify:track:0V3wPSX9ygBnCm8psDIegu</td>\n",
       "    </tr>\n",
       "    <tr>\n",
       "      <th>9</th>\n",
       "      <td>golden hour</td>\n",
       "      <td>JVKE</td>\n",
       "      <td>870031</td>\n",
       "      <td>spotify:track:5odlY52u43F5BjByhxg7wg</td>\n",
       "    </tr>\n",
       "    <tr>\n",
       "      <th>10</th>\n",
       "      <td>Unholy (feat. Kim Petras)</td>\n",
       "      <td>Sam Smith, Kim Petras</td>\n",
       "      <td>859271</td>\n",
       "      <td>spotify:track:3nqQXoyQOWXiESFLlDF1hG</td>\n",
       "    </tr>\n",
       "  </tbody>\n",
       "</table>\n",
       "</div>"
      ],
      "text/plain": [
       "                                             track_name  \\\n",
       "rank                                                      \n",
       "1                                               Flowers   \n",
       "2                                             Kill Bill   \n",
       "3                Creepin' (with The Weeknd & 21 Savage)   \n",
       "4     Superhero (Heroes & Villains) [with Future & C...   \n",
       "5                                             Rich Flex   \n",
       "6                 Shakira: Bzrp Music Sessions, Vol. 53   \n",
       "7                                       Just Wanna Rock   \n",
       "8                                             Anti-Hero   \n",
       "9                                           golden hour   \n",
       "10                            Unholy (feat. Kim Petras)   \n",
       "\n",
       "                             artist_names  streams  \\\n",
       "rank                                                 \n",
       "1                             Miley Cyrus  3356361   \n",
       "2                                     SZA  2479445   \n",
       "3     Metro Boomin, The Weeknd, 21 Savage  1337320   \n",
       "4       Metro Boomin, Future, Chris Brown  1235285   \n",
       "5                        Drake, 21 Savage  1109704   \n",
       "6                       Bizarrap, Shakira  1051226   \n",
       "7                            Lil Uzi Vert   998684   \n",
       "8                            Taylor Swift   936166   \n",
       "9                                    JVKE   870031   \n",
       "10                  Sam Smith, Kim Petras   859271   \n",
       "\n",
       "                                       uri  \n",
       "rank                                        \n",
       "1     spotify:track:0yLdNVWF3Srea0uzk55zFn  \n",
       "2     spotify:track:1Qrg8KqiBpW07V7PNxwwwL  \n",
       "3     spotify:track:2dHHgzDwk4BJdRwy9uXhTO  \n",
       "4     spotify:track:0vjeOZ3Ft5jvAi9SBFJm1j  \n",
       "5     spotify:track:1bDbXMyjaUIooNwFE9wn0N  \n",
       "6     spotify:track:4nrPB8O7Y7wsOCJdgXkthe  \n",
       "7     spotify:track:4FyesJzVpA39hbYvcseO2d  \n",
       "8     spotify:track:0V3wPSX9ygBnCm8psDIegu  \n",
       "9     spotify:track:5odlY52u43F5BjByhxg7wg  \n",
       "10    spotify:track:3nqQXoyQOWXiESFLlDF1hG  "
      ]
     },
     "execution_count": 16,
     "metadata": {},
     "output_type": "execute_result"
    }
   ],
   "source": [
    "charts.take(np.arange(10))"
   ]
  },
  {
   "cell_type": "code",
   "execution_count": 17,
   "metadata": {},
   "outputs": [
    {
     "data": {
      "image/png": "[encoded data removed]",
      "text/plain": [
       "<Figure size 640x480 with 1 Axes>"
      ]
     },
     "metadata": {},
     "output_type": "display_data"
    }
   ],
   "source": [
    "charts.take(np.arange(10)).plot(kind = 'barh', x = 'track_name', y = 'streams');"
   ]
  },
  {
   "cell_type": "markdown",
   "metadata": {
    "slideshow": {
     "slide_type": "slide"
    }
   },
   "source": [
    "### Gráficos de barra\n",
    "\n",
    "- Os gráficos de barras nos permitem visualizar a relação entre uma variável categórica e uma variável numérica."
   ]
  },
  {
   "cell_type": "markdown",
   "metadata": {},
   "source": [
    "- Para criar um gráfico de barras a partir de um DataFrame `df` genérico com uma coluna categórica `'categorical_column_name'` e uma coluna numérica `'numerical_column_name'`, invocamos\n",
    "\n",
    "````python\n",
    "df.plot(\n",
    "    kind = 'barh', \n",
    "    x = categorical_column_name, \n",
    "    y = numerical_column_name\n",
    ")\n",
    "````"
   ]
  },
  {
   "cell_type": "markdown",
   "metadata": {},
   "source": [
    "- O **\"h\"** em `'barh'` significa **\"horizontal\"**.\n",
    "- Tipicamente, é mais fácil ler os rótulos quando o gráfico de barras é organizado de maneira horizontal.\n",
    "- No gráfico anterior, definimos `y = 'Streams'`, ainda que os streams sejam medidos pelo comprimento do eixo $x$.\n",
    "    - Isso ocorre porque em um gráfico de barras, _canonicamente_, a variável categórica está no eixo $x$ e a numérica no eixo $y$ – a opção `'barh'` apenas muda a \"orientação\" do gráfico de maneira a produzir uma visualização melhor (mais sobre isso abaixo). "
   ]
  },
  {
   "cell_type": "code",
   "execution_count": 18,
   "metadata": {
    "scrolled": true,
    "slideshow": {
     "slide_type": "slide"
    }
   },
   "outputs": [
    {
     "data": {
      "image/png": "[encoded data removed]",
      "text/plain": [
       "<Figure size 640x480 with 1 Axes>"
      ]
     },
     "metadata": {},
     "output_type": "display_data"
    }
   ],
   "source": [
    "# As barras no gráfico abaixo aparecem na ordem \"oposta\" à que aparecem no DataFrame.\n",
    "(charts\n",
    " .take(np.arange(10))\n",
    " .sort_values(by = 'streams')\n",
    " .plot(kind = 'barh', x = 'track_name', y = 'streams')\n",
    ");"
   ]
  },
  {
   "cell_type": "markdown",
   "metadata": {},
   "source": [
    "- Embora em geral na maior parte dos casos consigamos escolher parâmetros que nos ajudem a visualizar melhor nosso dados, a _espessura_ e o _espaçamento_ das barras em um gráfico de barras são _arbitrários_.\n",
    "- Da mesma forma, a _ordem dos rótulos_ categóricos também é arbitrária."
   ]
  },
  {
   "cell_type": "markdown",
   "metadata": {
    "slideshow": {
     "slide_type": "slide"
    }
   },
   "source": [
    "#### Quantas músicas os 15 melhores artistas têm entre as 200 mais tocadas?"
   ]
  },
  {
   "cell_type": "markdown",
   "metadata": {
    "slideshow": {
     "slide_type": "fragment"
    }
   },
   "source": [
    "Para responder essa pergunta, primeiro vamos criar um DataFrame com uma única coluna que descreve o número de músicas entre as 200 melhores por artista."
   ]
  },
  {
   "cell_type": "markdown",
   "metadata": {},
   "source": [
    "Faremos isso utilizando o `.groupby` com `.size()`, agrupando por `'artist_names'`:"
   ]
  },
  {
   "cell_type": "code",
   "execution_count": 19,
   "metadata": {},
   "outputs": [
    {
     "data": {
      "text/html": [
       "<div>\n",
       "<style scoped>\n",
       "    .dataframe tbody tr th:only-of-type {\n",
       "        vertical-align: middle;\n",
       "    }\n",
       "\n",
       "    .dataframe tbody tr th {\n",
       "        vertical-align: top;\n",
       "    }\n",
       "\n",
       "    .dataframe thead th {\n",
       "        text-align: right;\n",
       "    }\n",
       "</style>\n",
       "<table border=\"1\" class=\"dataframe\">\n",
       "  <thead>\n",
       "    <tr style=\"text-align: right;\">\n",
       "      <th></th>\n",
       "      <th>track_name</th>\n",
       "      <th>artist_names</th>\n",
       "      <th>streams</th>\n",
       "      <th>uri</th>\n",
       "    </tr>\n",
       "    <tr>\n",
       "      <th>rank</th>\n",
       "      <th></th>\n",
       "      <th></th>\n",
       "      <th></th>\n",
       "      <th></th>\n",
       "    </tr>\n",
       "  </thead>\n",
       "  <tbody>\n",
       "    <tr>\n",
       "      <th>1</th>\n",
       "      <td>Flowers</td>\n",
       "      <td>Miley Cyrus</td>\n",
       "      <td>3356361</td>\n",
       "      <td>spotify:track:0yLdNVWF3Srea0uzk55zFn</td>\n",
       "    </tr>\n",
       "    <tr>\n",
       "      <th>2</th>\n",
       "      <td>Kill Bill</td>\n",
       "      <td>SZA</td>\n",
       "      <td>2479445</td>\n",
       "      <td>spotify:track:1Qrg8KqiBpW07V7PNxwwwL</td>\n",
       "    </tr>\n",
       "    <tr>\n",
       "      <th>3</th>\n",
       "      <td>Creepin' (with The Weeknd &amp; 21 Savage)</td>\n",
       "      <td>Metro Boomin, The Weeknd, 21 Savage</td>\n",
       "      <td>1337320</td>\n",
       "      <td>spotify:track:2dHHgzDwk4BJdRwy9uXhTO</td>\n",
       "    </tr>\n",
       "    <tr>\n",
       "      <th>4</th>\n",
       "      <td>Superhero (Heroes &amp; Villains) [with Future &amp; C...</td>\n",
       "      <td>Metro Boomin, Future, Chris Brown</td>\n",
       "      <td>1235285</td>\n",
       "      <td>spotify:track:0vjeOZ3Ft5jvAi9SBFJm1j</td>\n",
       "    </tr>\n",
       "    <tr>\n",
       "      <th>5</th>\n",
       "      <td>Rich Flex</td>\n",
       "      <td>Drake, 21 Savage</td>\n",
       "      <td>1109704</td>\n",
       "      <td>spotify:track:1bDbXMyjaUIooNwFE9wn0N</td>\n",
       "    </tr>\n",
       "    <tr>\n",
       "      <th>...</th>\n",
       "      <td>...</td>\n",
       "      <td>...</td>\n",
       "      <td>...</td>\n",
       "      <td>...</td>\n",
       "    </tr>\n",
       "    <tr>\n",
       "      <th>196</th>\n",
       "      <td>Burn, Burn, Burn</td>\n",
       "      <td>Zach Bryan</td>\n",
       "      <td>267772</td>\n",
       "      <td>spotify:track:5jfhLCSIFUO4ndzNRh4w4G</td>\n",
       "    </tr>\n",
       "    <tr>\n",
       "      <th>197</th>\n",
       "      <td>LET GO</td>\n",
       "      <td>Central Cee</td>\n",
       "      <td>267401</td>\n",
       "      <td>spotify:track:3zkyus0njMCL6phZmNNEeN</td>\n",
       "    </tr>\n",
       "    <tr>\n",
       "      <th>198</th>\n",
       "      <td>Major Distribution</td>\n",
       "      <td>Drake, 21 Savage</td>\n",
       "      <td>266986</td>\n",
       "      <td>spotify:track:46s57QULU02Voy0Kup6UEb</td>\n",
       "    </tr>\n",
       "    <tr>\n",
       "      <th>199</th>\n",
       "      <td>Sun to Me</td>\n",
       "      <td>Zach Bryan</td>\n",
       "      <td>266968</td>\n",
       "      <td>spotify:track:1SjsVdSXpwm1kTdYEHoPIT</td>\n",
       "    </tr>\n",
       "    <tr>\n",
       "      <th>200</th>\n",
       "      <td>The Real Slim Shady</td>\n",
       "      <td>Eminem</td>\n",
       "      <td>266698</td>\n",
       "      <td>spotify:track:3yfqSUWxFvZELEM4PmlwIR</td>\n",
       "    </tr>\n",
       "  </tbody>\n",
       "</table>\n",
       "<p>200 rows × 4 columns</p>\n",
       "</div>"
      ],
      "text/plain": [
       "                                             track_name  \\\n",
       "rank                                                      \n",
       "1                                               Flowers   \n",
       "2                                             Kill Bill   \n",
       "3                Creepin' (with The Weeknd & 21 Savage)   \n",
       "4     Superhero (Heroes & Villains) [with Future & C...   \n",
       "5                                             Rich Flex   \n",
       "...                                                 ...   \n",
       "196                                    Burn, Burn, Burn   \n",
       "197                                              LET GO   \n",
       "198                                  Major Distribution   \n",
       "199                                           Sun to Me   \n",
       "200                                 The Real Slim Shady   \n",
       "\n",
       "                             artist_names  streams  \\\n",
       "rank                                                 \n",
       "1                             Miley Cyrus  3356361   \n",
       "2                                     SZA  2479445   \n",
       "3     Metro Boomin, The Weeknd, 21 Savage  1337320   \n",
       "4       Metro Boomin, Future, Chris Brown  1235285   \n",
       "5                        Drake, 21 Savage  1109704   \n",
       "...                                   ...      ...   \n",
       "196                            Zach Bryan   267772   \n",
       "197                           Central Cee   267401   \n",
       "198                      Drake, 21 Savage   266986   \n",
       "199                            Zach Bryan   266968   \n",
       "200                                Eminem   266698   \n",
       "\n",
       "                                       uri  \n",
       "rank                                        \n",
       "1     spotify:track:0yLdNVWF3Srea0uzk55zFn  \n",
       "2     spotify:track:1Qrg8KqiBpW07V7PNxwwwL  \n",
       "3     spotify:track:2dHHgzDwk4BJdRwy9uXhTO  \n",
       "4     spotify:track:0vjeOZ3Ft5jvAi9SBFJm1j  \n",
       "5     spotify:track:1bDbXMyjaUIooNwFE9wn0N  \n",
       "...                                    ...  \n",
       "196   spotify:track:5jfhLCSIFUO4ndzNRh4w4G  \n",
       "197   spotify:track:3zkyus0njMCL6phZmNNEeN  \n",
       "198   spotify:track:46s57QULU02Voy0Kup6UEb  \n",
       "199   spotify:track:1SjsVdSXpwm1kTdYEHoPIT  \n",
       "200   spotify:track:3yfqSUWxFvZELEM4PmlwIR  \n",
       "\n",
       "[200 rows x 4 columns]"
      ]
     },
     "execution_count": 19,
     "metadata": {},
     "output_type": "execute_result"
    }
   ],
   "source": [
    "charts"
   ]
  },
  {
   "cell_type": "code",
   "execution_count": 20,
   "metadata": {},
   "outputs": [
    {
     "data": {
      "text/plain": [
       "artist_names\n",
       "21 Savage, Metro Boomin    1\n",
       "80purppp                   1\n",
       "A Boogie Wit da Hoodie     1\n",
       "Arctic Monkeys             2\n",
       "Arcángel, Bad Bunny        1\n",
       "                          ..\n",
       "XXXTENTACION               1\n",
       "Yeat                       1\n",
       "Zach Bryan                 4\n",
       "d4vd                       2\n",
       "Ñengo Flow, Bad Bunny      1\n",
       "Length: 145, dtype: int64"
      ]
     },
     "execution_count": 20,
     "metadata": {},
     "output_type": "execute_result"
    }
   ],
   "source": [
    "songs_per_artist = charts.groupby('artist_names').size()\n",
    "songs_per_artist"
   ]
  },
  {
   "cell_type": "markdown",
   "metadata": {
    "slideshow": {
     "slide_type": "fragment"
    }
   },
   "source": [
    "Agora, utilizando `.sort_values` e `.take`, manteremos apenas os 15 melhores artistas:"
   ]
  },
  {
   "cell_type": "code",
   "execution_count": 21,
   "metadata": {},
   "outputs": [
    {
     "data": {
      "text/plain": [
       "artist_names\n",
       "SZA                 11\n",
       "Taylor Swift         8\n",
       "Morgan Wallen        6\n",
       "Drake, 21 Savage     5\n",
       "Zach Bryan           4\n",
       "                    ..\n",
       "Joji                 2\n",
       "Eminem               2\n",
       "Kanye West           2\n",
       "Childish Gambino     2\n",
       "NewJeans             2\n",
       "Length: 15, dtype: int64"
      ]
     },
     "execution_count": 21,
     "metadata": {},
     "output_type": "execute_result"
    }
   ],
   "source": [
    "top_15_artists = (songs_per_artist\n",
    "                  .sort_values(ascending = False)\n",
    "                  .take(np.arange(15)))\n",
    "top_15_artists"
   ]
  },
  {
   "cell_type": "markdown",
   "metadata": {
    "slideshow": {
     "slide_type": "fragment"
    }
   },
   "source": [
    "Antes de invocar `.plot(kind = 'barh', y = 'count')`, ordenaremos `top_15_artists` em ordem **crescente**."
   ]
  },
  {
   "cell_type": "markdown",
   "metadata": {},
   "source": [
    "Devemos fazer isso porque o Python _inverte_ a ordem das linhas ao criar barras em gráficos de barras horizontais."
   ]
  },
  {
   "cell_type": "code",
   "execution_count": 22,
   "metadata": {},
   "outputs": [
    {
     "data": {
      "image/png": "[encoded data removed]",
      "text/plain": [
       "<Figure size 640x480 with 1 Axes>"
      ]
     },
     "metadata": {},
     "output_type": "display_data"
    }
   ],
   "source": [
    "top_15_artists.sort_values().plot(kind = 'barh', y = 'count');"
   ]
  },
  {
   "cell_type": "markdown",
   "metadata": {},
   "source": [
    "Note que no comando acima, omitimos a opção `x = 'artist_names'` sem nenhum problema porque como `top_15_artists` é uma `Series` e que já está indexada, o método `.plot` subentende que `x` é o seu índice. "
   ]
  },
  {
   "cell_type": "code",
   "execution_count": 23,
   "metadata": {},
   "outputs": [],
   "source": [
    "# Descomente e execute.\n",
    "# top_15_artists.sort_values().plot(kind = 'barh', x = 'artist_names', y = 'count');"
   ]
  },
  {
   "cell_type": "markdown",
   "metadata": {
    "slideshow": {
     "slide_type": "slide"
    }
   },
   "source": [
    "### Gráficos de barras verticais\n",
    "\n",
    "- Para criar um gráfico de barras verticais, utilizamos `kind = 'bar'` ao invés de `kind = 'barh'`."
   ]
  },
  {
   "cell_type": "markdown",
   "metadata": {},
   "source": [
    "No nosso exemplo:"
   ]
  },
  {
   "cell_type": "code",
   "execution_count": 24,
   "metadata": {},
   "outputs": [
    {
     "data": {
      "image/png": "[encoded data removed]",
      "text/plain": [
       "<Figure size 640x480 with 1 Axes>"
      ]
     },
     "metadata": {},
     "output_type": "display_data"
    }
   ],
   "source": [
    "top_15_artists.plot(kind = 'bar', y = 'count');"
   ]
  },
  {
   "cell_type": "markdown",
   "metadata": {},
   "source": [
    "- Aqui fica clara a razão do Python tomar a variável categórica como a variável correspondente ao eixo $x$, e a variável numérica como a variável correspondente ao eixo $y$.\n",
    "- Ainda sobre esse ponto, reforçamos aqui a ideia de que `kind = 'barh'` apenas muda a orientação do tipo \"canônico\", que é `kind = 'bar'`."
   ]
  },
  {
   "cell_type": "markdown",
   "metadata": {
    "slideshow": {
     "slide_type": "slide"
    }
   },
   "source": [
    "#### Quantas vezes as músicas do The Weeknd foram tocadas?"
   ]
  },
  {
   "cell_type": "code",
   "execution_count": 25,
   "metadata": {},
   "outputs": [
    {
     "data": {
      "image/png": "[encoded data removed]",
      "text/plain": [
       "<Figure size 640x480 with 1 Axes>"
      ]
     },
     "metadata": {},
     "output_type": "display_data"
    }
   ],
   "source": [
    "(charts\n",
    " [charts.get('artist_names') == 'The Weeknd']\n",
    " .sort_values('streams')\n",
    " .plot(kind='barh', x='track_name', y='streams')\n",
    ");"
   ]
  },
  {
   "cell_type": "markdown",
   "metadata": {
    "slideshow": {
     "slide_type": "fragment"
    }
   },
   "source": [
    "Parece que não estamos incluindo todas as músicas do The Weeknd aqui..."
   ]
  },
  {
   "cell_type": "markdown",
   "metadata": {
    "slideshow": {
     "slide_type": "slide"
    }
   },
   "source": [
    "E como resolvemos esse problema? 🤔"
   ]
  },
  {
   "cell_type": "markdown",
   "metadata": {},
   "source": [
    "Resposta: Usando `.str.contains`!"
   ]
  },
  {
   "cell_type": "code",
   "execution_count": 26,
   "metadata": {},
   "outputs": [
    {
     "data": {
      "text/html": [
       "<div>\n",
       "<style scoped>\n",
       "    .dataframe tbody tr th:only-of-type {\n",
       "        vertical-align: middle;\n",
       "    }\n",
       "\n",
       "    .dataframe tbody tr th {\n",
       "        vertical-align: top;\n",
       "    }\n",
       "\n",
       "    .dataframe thead th {\n",
       "        text-align: right;\n",
       "    }\n",
       "</style>\n",
       "<table border=\"1\" class=\"dataframe\">\n",
       "  <thead>\n",
       "    <tr style=\"text-align: right;\">\n",
       "      <th></th>\n",
       "      <th>track_name</th>\n",
       "      <th>artist_names</th>\n",
       "      <th>streams</th>\n",
       "      <th>uri</th>\n",
       "    </tr>\n",
       "    <tr>\n",
       "      <th>rank</th>\n",
       "      <th></th>\n",
       "      <th></th>\n",
       "      <th></th>\n",
       "      <th></th>\n",
       "    </tr>\n",
       "  </thead>\n",
       "  <tbody>\n",
       "    <tr>\n",
       "      <th>3</th>\n",
       "      <td>Creepin' (with The Weeknd &amp; 21 Savage)</td>\n",
       "      <td>Metro Boomin, The Weeknd, 21 Savage</td>\n",
       "      <td>1337320</td>\n",
       "      <td>spotify:track:2dHHgzDwk4BJdRwy9uXhTO</td>\n",
       "    </tr>\n",
       "    <tr>\n",
       "      <th>13</th>\n",
       "      <td>Die For You</td>\n",
       "      <td>The Weeknd</td>\n",
       "      <td>794924</td>\n",
       "      <td>spotify:track:2LBqCSwhJGcFQeTHMVGwy3</td>\n",
       "    </tr>\n",
       "    <tr>\n",
       "      <th>76</th>\n",
       "      <td>Stargirl Interlude</td>\n",
       "      <td>The Weeknd, Lana Del Rey</td>\n",
       "      <td>372624</td>\n",
       "      <td>spotify:track:5gDWsRxpJ2lZAffh5p7K0w</td>\n",
       "    </tr>\n",
       "    <tr>\n",
       "      <th>78</th>\n",
       "      <td>Starboy</td>\n",
       "      <td>The Weeknd, Daft Punk</td>\n",
       "      <td>361999</td>\n",
       "      <td>spotify:track:7MXVkk9YMctZqd1Srtv4MB</td>\n",
       "    </tr>\n",
       "    <tr>\n",
       "      <th>102</th>\n",
       "      <td>The Hills</td>\n",
       "      <td>The Weeknd</td>\n",
       "      <td>334354</td>\n",
       "      <td>spotify:track:7fBv7CLKzipRk6EC6TWHOB</td>\n",
       "    </tr>\n",
       "    <tr>\n",
       "      <th>110</th>\n",
       "      <td>I Was Never There</td>\n",
       "      <td>The Weeknd, Gesaffelstein</td>\n",
       "      <td>328724</td>\n",
       "      <td>spotify:track:1cKHdTo9u0ZymJdPGSh6nq</td>\n",
       "    </tr>\n",
       "    <tr>\n",
       "      <th>128</th>\n",
       "      <td>Blinding Lights</td>\n",
       "      <td>The Weeknd</td>\n",
       "      <td>311176</td>\n",
       "      <td>spotify:track:0VjIjW4GlUZAMYd2vXMi3b</td>\n",
       "    </tr>\n",
       "    <tr>\n",
       "      <th>168</th>\n",
       "      <td>Call Out My Name</td>\n",
       "      <td>The Weeknd</td>\n",
       "      <td>281141</td>\n",
       "      <td>spotify:track:09mEdoA6zrmBPgTEN5qXmN</td>\n",
       "    </tr>\n",
       "  </tbody>\n",
       "</table>\n",
       "</div>"
      ],
      "text/plain": [
       "                                  track_name  \\\n",
       "rank                                           \n",
       "3     Creepin' (with The Weeknd & 21 Savage)   \n",
       "13                               Die For You   \n",
       "76                        Stargirl Interlude   \n",
       "78                                   Starboy   \n",
       "102                                The Hills   \n",
       "110                        I Was Never There   \n",
       "128                          Blinding Lights   \n",
       "168                         Call Out My Name   \n",
       "\n",
       "                             artist_names  streams  \\\n",
       "rank                                                 \n",
       "3     Metro Boomin, The Weeknd, 21 Savage  1337320   \n",
       "13                             The Weeknd   794924   \n",
       "76               The Weeknd, Lana Del Rey   372624   \n",
       "78                  The Weeknd, Daft Punk   361999   \n",
       "102                            The Weeknd   334354   \n",
       "110             The Weeknd, Gesaffelstein   328724   \n",
       "128                            The Weeknd   311176   \n",
       "168                            The Weeknd   281141   \n",
       "\n",
       "                                       uri  \n",
       "rank                                        \n",
       "3     spotify:track:2dHHgzDwk4BJdRwy9uXhTO  \n",
       "13    spotify:track:2LBqCSwhJGcFQeTHMVGwy3  \n",
       "76    spotify:track:5gDWsRxpJ2lZAffh5p7K0w  \n",
       "78    spotify:track:7MXVkk9YMctZqd1Srtv4MB  \n",
       "102   spotify:track:7fBv7CLKzipRk6EC6TWHOB  \n",
       "110   spotify:track:1cKHdTo9u0ZymJdPGSh6nq  \n",
       "128   spotify:track:0VjIjW4GlUZAMYd2vXMi3b  \n",
       "168   spotify:track:09mEdoA6zrmBPgTEN5qXmN  "
      ]
     },
     "execution_count": 26,
     "metadata": {},
     "output_type": "execute_result"
    }
   ],
   "source": [
    "weeknd = charts[charts.get('artist_names').str.contains('The Weeknd')]\n",
    "weeknd"
   ]
  },
  {
   "cell_type": "code",
   "execution_count": 27,
   "metadata": {},
   "outputs": [
    {
     "data": {
      "image/png": "[encoded data removed]",
      "text/plain": [
       "<Figure size 640x480 with 1 Axes>"
      ]
     },
     "metadata": {},
     "output_type": "display_data"
    }
   ],
   "source": [
    "weeknd.sort_values('streams').plot(kind='barh', x='track_name', y='streams');"
   ]
  },
  {
   "cell_type": "markdown",
   "metadata": {},
   "source": [
    "- As comparações do tipo `charts.get('artist_names') == 'The Weeknd'` filtram apenas pelas músicas cujo artista é **exatamente** `'The Weekend'`.\n",
    "- Nos casos acima em que esse artista fez algum tipo de colaboração, isso não foi detectado!\n",
    "- Utilizando o método `.str.contains` em `charts.get('artist_names').str.contains('The Weeknd')`, podemos captar tanto as músicas autoradas _apenas_ por `'The Weekend'`, mas também as que ele fez algum tipo de participação, isto é, autoradas _não somente_ por ele."
   ]
  },
  {
   "cell_type": "markdown",
   "metadata": {
    "slideshow": {
     "slide_type": "slide"
    }
   },
   "source": [
    "#### Uma demonstração interessante 🎵"
   ]
  },
  {
   "cell_type": "code",
   "execution_count": 28,
   "metadata": {
    "slideshow": {
     "slide_type": "slide"
    }
   },
   "outputs": [],
   "source": [
    "# Execute essa célula, mas por enquanto não se preocupe com o que ela faz.\n",
    "def show_spotify(uri):\n",
    "    code = uri[uri.rfind(':')+1:]\n",
    "    src = f\"https://open.spotify.com/embed/track/{code}\"\n",
    "    width = 400\n",
    "    height = 75\n",
    "    display(IFrame(src, width, height))"
   ]
  },
  {
   "cell_type": "markdown",
   "metadata": {
    "slideshow": {
     "slide_type": "slide"
    }
   },
   "source": [
    "- Vamos encontrar o URI (_Unique Resource Identifier_) de uma música que nos interessa!"
   ]
  },
  {
   "cell_type": "code",
   "execution_count": 29,
   "metadata": {},
   "outputs": [
    {
     "data": {
      "text/html": [
       "<div>\n",
       "<style scoped>\n",
       "    .dataframe tbody tr th:only-of-type {\n",
       "        vertical-align: middle;\n",
       "    }\n",
       "\n",
       "    .dataframe tbody tr th {\n",
       "        vertical-align: top;\n",
       "    }\n",
       "\n",
       "    .dataframe thead th {\n",
       "        text-align: right;\n",
       "    }\n",
       "</style>\n",
       "<table border=\"1\" class=\"dataframe\">\n",
       "  <thead>\n",
       "    <tr style=\"text-align: right;\">\n",
       "      <th></th>\n",
       "      <th>track_name</th>\n",
       "      <th>artist_names</th>\n",
       "      <th>streams</th>\n",
       "      <th>uri</th>\n",
       "    </tr>\n",
       "    <tr>\n",
       "      <th>rank</th>\n",
       "      <th></th>\n",
       "      <th></th>\n",
       "      <th></th>\n",
       "      <th></th>\n",
       "    </tr>\n",
       "  </thead>\n",
       "  <tbody>\n",
       "    <tr>\n",
       "      <th>1</th>\n",
       "      <td>Flowers</td>\n",
       "      <td>Miley Cyrus</td>\n",
       "      <td>3356361</td>\n",
       "      <td>spotify:track:0yLdNVWF3Srea0uzk55zFn</td>\n",
       "    </tr>\n",
       "    <tr>\n",
       "      <th>2</th>\n",
       "      <td>Kill Bill</td>\n",
       "      <td>SZA</td>\n",
       "      <td>2479445</td>\n",
       "      <td>spotify:track:1Qrg8KqiBpW07V7PNxwwwL</td>\n",
       "    </tr>\n",
       "    <tr>\n",
       "      <th>3</th>\n",
       "      <td>Creepin' (with The Weeknd &amp; 21 Savage)</td>\n",
       "      <td>Metro Boomin, The Weeknd, 21 Savage</td>\n",
       "      <td>1337320</td>\n",
       "      <td>spotify:track:2dHHgzDwk4BJdRwy9uXhTO</td>\n",
       "    </tr>\n",
       "    <tr>\n",
       "      <th>4</th>\n",
       "      <td>Superhero (Heroes &amp; Villains) [with Future &amp; C...</td>\n",
       "      <td>Metro Boomin, Future, Chris Brown</td>\n",
       "      <td>1235285</td>\n",
       "      <td>spotify:track:0vjeOZ3Ft5jvAi9SBFJm1j</td>\n",
       "    </tr>\n",
       "    <tr>\n",
       "      <th>5</th>\n",
       "      <td>Rich Flex</td>\n",
       "      <td>Drake, 21 Savage</td>\n",
       "      <td>1109704</td>\n",
       "      <td>spotify:track:1bDbXMyjaUIooNwFE9wn0N</td>\n",
       "    </tr>\n",
       "    <tr>\n",
       "      <th>...</th>\n",
       "      <td>...</td>\n",
       "      <td>...</td>\n",
       "      <td>...</td>\n",
       "      <td>...</td>\n",
       "    </tr>\n",
       "    <tr>\n",
       "      <th>196</th>\n",
       "      <td>Burn, Burn, Burn</td>\n",
       "      <td>Zach Bryan</td>\n",
       "      <td>267772</td>\n",
       "      <td>spotify:track:5jfhLCSIFUO4ndzNRh4w4G</td>\n",
       "    </tr>\n",
       "    <tr>\n",
       "      <th>197</th>\n",
       "      <td>LET GO</td>\n",
       "      <td>Central Cee</td>\n",
       "      <td>267401</td>\n",
       "      <td>spotify:track:3zkyus0njMCL6phZmNNEeN</td>\n",
       "    </tr>\n",
       "    <tr>\n",
       "      <th>198</th>\n",
       "      <td>Major Distribution</td>\n",
       "      <td>Drake, 21 Savage</td>\n",
       "      <td>266986</td>\n",
       "      <td>spotify:track:46s57QULU02Voy0Kup6UEb</td>\n",
       "    </tr>\n",
       "    <tr>\n",
       "      <th>199</th>\n",
       "      <td>Sun to Me</td>\n",
       "      <td>Zach Bryan</td>\n",
       "      <td>266968</td>\n",
       "      <td>spotify:track:1SjsVdSXpwm1kTdYEHoPIT</td>\n",
       "    </tr>\n",
       "    <tr>\n",
       "      <th>200</th>\n",
       "      <td>The Real Slim Shady</td>\n",
       "      <td>Eminem</td>\n",
       "      <td>266698</td>\n",
       "      <td>spotify:track:3yfqSUWxFvZELEM4PmlwIR</td>\n",
       "    </tr>\n",
       "  </tbody>\n",
       "</table>\n",
       "<p>200 rows × 4 columns</p>\n",
       "</div>"
      ],
      "text/plain": [
       "                                             track_name  \\\n",
       "rank                                                      \n",
       "1                                               Flowers   \n",
       "2                                             Kill Bill   \n",
       "3                Creepin' (with The Weeknd & 21 Savage)   \n",
       "4     Superhero (Heroes & Villains) [with Future & C...   \n",
       "5                                             Rich Flex   \n",
       "...                                                 ...   \n",
       "196                                    Burn, Burn, Burn   \n",
       "197                                              LET GO   \n",
       "198                                  Major Distribution   \n",
       "199                                           Sun to Me   \n",
       "200                                 The Real Slim Shady   \n",
       "\n",
       "                             artist_names  streams  \\\n",
       "rank                                                 \n",
       "1                             Miley Cyrus  3356361   \n",
       "2                                     SZA  2479445   \n",
       "3     Metro Boomin, The Weeknd, 21 Savage  1337320   \n",
       "4       Metro Boomin, Future, Chris Brown  1235285   \n",
       "5                        Drake, 21 Savage  1109704   \n",
       "...                                   ...      ...   \n",
       "196                            Zach Bryan   267772   \n",
       "197                           Central Cee   267401   \n",
       "198                      Drake, 21 Savage   266986   \n",
       "199                            Zach Bryan   266968   \n",
       "200                                Eminem   266698   \n",
       "\n",
       "                                       uri  \n",
       "rank                                        \n",
       "1     spotify:track:0yLdNVWF3Srea0uzk55zFn  \n",
       "2     spotify:track:1Qrg8KqiBpW07V7PNxwwwL  \n",
       "3     spotify:track:2dHHgzDwk4BJdRwy9uXhTO  \n",
       "4     spotify:track:0vjeOZ3Ft5jvAi9SBFJm1j  \n",
       "5     spotify:track:1bDbXMyjaUIooNwFE9wn0N  \n",
       "...                                    ...  \n",
       "196   spotify:track:5jfhLCSIFUO4ndzNRh4w4G  \n",
       "197   spotify:track:3zkyus0njMCL6phZmNNEeN  \n",
       "198   spotify:track:46s57QULU02Voy0Kup6UEb  \n",
       "199   spotify:track:1SjsVdSXpwm1kTdYEHoPIT  \n",
       "200   spotify:track:3yfqSUWxFvZELEM4PmlwIR  \n",
       "\n",
       "[200 rows x 4 columns]"
      ]
     },
     "execution_count": 29,
     "metadata": {},
     "output_type": "execute_result"
    }
   ],
   "source": [
    "charts"
   ]
  },
  {
   "cell_type": "code",
   "execution_count": 30,
   "metadata": {},
   "outputs": [],
   "source": [
    "favorite_song = 'Blinding Lights'"
   ]
  },
  {
   "cell_type": "code",
   "execution_count": 31,
   "metadata": {},
   "outputs": [
    {
     "data": {
      "text/plain": [
       "'spotify:track:0VjIjW4GlUZAMYd2vXMi3b'"
      ]
     },
     "execution_count": 31,
     "metadata": {},
     "output_type": "execute_result"
    }
   ],
   "source": [
    "song_uri = (charts\n",
    "            [charts.get('track_name') == favorite_song]\n",
    "            .get('uri')\n",
    "            .iloc[0])\n",
    "song_uri"
   ]
  },
  {
   "cell_type": "markdown",
   "metadata": {
    "slideshow": {
     "slide_type": "slide"
    }
   },
   "source": [
    "Agora, veja o que acontece! 🎶"
   ]
  },
  {
   "cell_type": "code",
   "execution_count": 32,
   "metadata": {},
   "outputs": [
    {
     "data": {
      "text/html": [
       "\n",
       "        <iframe\n",
       "            width=\"400\"\n",
       "            height=\"75\"\n",
       "            src=\"https://open.spotify.com/embed/track/0VjIjW4GlUZAMYd2vXMi3b\"\n",
       "            frameborder=\"0\"\n",
       "            allowfullscreen\n",
       "            \n",
       "        ></iframe>\n",
       "        "
      ],
      "text/plain": [
       "<IPython.lib.display.IFrame at 0x24703c72110>"
      ]
     },
     "metadata": {},
     "output_type": "display_data"
    }
   ],
   "source": [
    "show_spotify(song_uri)"
   ]
  },
  {
   "cell_type": "markdown",
   "metadata": {
    "slideshow": {
     "slide_type": "slide"
    }
   },
   "source": [
    "## Visualizações \"ruins\"\n",
    "\n",
    "- Conforme mencionado anteriormente, as visualizações nos permitem identificar facilmente tendências e comunicar nossos resultados de maneira mais informativa a outras pessoas.\n",
    "- Porém, algumas visualizações podem tornar os padrões nos dados _mais difíceis_ de ver!\n",
    "- Os elementos adicionais (e na maioria das vezes desnecessários) que dificultam visualizações são popularmente conhecidos como [\"chart junk\"](https://eagereyes.org/criticism/chart-junk-considered-useful-after-all)."
   ]
  },
  {
   "cell_type": "markdown",
   "metadata": {},
   "source": [
    "Além do chart junk, algumas manipulações clássicas dos gráficos incluem distorções dos eixos/unidades, inclusão de elementos de comparação relativa com tamanhos incorretos, etc. "
   ]
  },
  {
   "cell_type": "markdown",
   "metadata": {},
   "source": [
    "Seguem abaixo alguns exemplos de visualizações \"ruins\":"
   ]
  },
  {
   "cell_type": "markdown",
   "metadata": {
    "slideshow": {
     "slide_type": "fragment"
    }
   },
   "source": [
    "<left>\n",
    "    <img src = \"images/usefuljunk-monster.jpg\"; width = 50%>\n",
    "</left>    "
   ]
  },
  {
   "cell_type": "markdown",
   "metadata": {
    "slideshow": {
     "slide_type": "fragment"
    }
   },
   "source": [
    "<left>\n",
    "    <img src = \"images/average_height.png\"; width = 50%>\n",
    "</left>"
   ]
  },
  {
   "cell_type": "markdown",
   "metadata": {},
   "source": [
    "<left>\n",
    "    <img src = \"images/bananas.png\"; width = 50%>\n",
    "</left>"
   ]
  },
  {
   "cell_type": "markdown",
   "metadata": {},
   "source": [
    "<left>\n",
    "    <img src = \"images/weather.png\"; width = 50%>\n",
    "</left>"
   ]
  },
  {
   "cell_type": "markdown",
   "metadata": {
    "slideshow": {
     "slide_type": "slide"
    }
   },
   "source": [
    "## Resumo\n",
    "\n",
    "- As visualizações facilitam a extração de padrões de conjuntos de dados, e a comunicar esses padrões de maneira clara e intuitiva.\n",
    "- Existem dois tipos principais de variáveis: **categóricas** e **numéricas**.\n",
    "- Os tipos de variáveis ​​que estamos visualizando usualmente informam nossa escolha de qual tipo de visualização usar.\n",
    "- Nesse tópico, introduzimos os **gráficos de dispersão**, **gráficos de linhas** e os **gráficos de barras**."
   ]
  }
 ],
 "metadata": {
  "kernelspec": {
   "display_name": "Python 3 (ipykernel)",
   "language": "python",
   "name": "python3"
  },
  "language_info": {
   "codemirror_mode": {
    "name": "ipython",
    "version": 3
   },
   "file_extension": ".py",
   "mimetype": "text/x-python",
   "name": "python",
   "nbconvert_exporter": "python",
   "pygments_lexer": "ipython3",
   "version": "3.11.7"
  },
  "livereveal": {
   "scroll": true,
   "transition": "none"
  },
  "rise": {
   "enable_chalkboard": true
  }
 },
 "nbformat": 4,
 "nbformat_minor": 4
}
