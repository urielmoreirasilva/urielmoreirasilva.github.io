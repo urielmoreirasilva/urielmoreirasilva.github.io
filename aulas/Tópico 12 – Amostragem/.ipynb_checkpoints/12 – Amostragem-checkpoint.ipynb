{
 "cells": [
  {
   "cell_type": "markdown",
   "metadata": {},
   "source": [
    "# Tópico 12 – Distribuições e Amostragem [<img src=\"images/colag_logo.svg\" style=\"float: right; margin-right: 0%; vertical-align: middle; width: 6.5%;\">](https://colab.research.google.com/github/urielmoreirasilva/urielmoreirasilva.github.io/blob/main/aulas/T%C3%B3pico%2012%20%E2%80%93%20Amostragem/12%20%E2%80%93%20Amostragem.ipynb) [<img src=\"images/github_logo.svg\" style=\"float: right; margin-right: 0%; vertical-align: middle; width: 3.25%;\">](https://github.com/urielmoreirasilva/urielmoreirasilva.github.io/blob/main/aulas/T%C3%B3pico%2012%20%E2%80%93%20Amostragem/12%20%E2%80%93%20Amostragem.ipynb)\n",
    "\n",
    "Os conceitos de \"distribuição\" e \"amostragem\" são essenciais na quantificação e no entendimento da aleatoriedade dos dados. Nessa aula, vamos aprender a  como incluir a incerteza do processo de amostragem nos nossos resultados.\n",
    "\n",
    "### Resultados Esperados\n",
    "\n",
    "1. Entender o que são distribuições de probabilidade e distribuições empíricas.\n",
    "1. Aprender sobre a diferença entre populações e amostras.\n",
    "1. Caracterizar a aleatoriedade em um conjunto de dados como fruto do processo de amostragem.\n",
    "\n",
    "### Referências\n",
    "- [CIT, Capítulo 10](https://inferentialthinking.com/)\n",
    "\n",
    "Material adaptado do [DSC10 (UCSD)](https://dsc10.com/) por [Flavio Figueiredo (DCC-UFMG)](https://flaviovdf.io/fcd/) e [Uriel Silva (DEST-UFMG)](https://urielmoreirasilva.github.io)"
   ]
  },
  {
   "cell_type": "code",
   "execution_count": null,
   "metadata": {
    "slideshow": {
     "slide_type": "skip"
    }
   },
   "outputs": [],
   "source": [
    "# Imports para esse tópico\n",
    "import numpy as np\n",
    "import pandas as pd\n",
    "import matplotlib.pyplot as plt\n",
    "plt.style.use('ggplot')\n",
    "\n",
    "# Opções de como printar objetos do Numpy e do Pandas\n",
    "np.set_printoptions(threshold = 20, precision = 2, suppress = True)\n",
    "pd.set_option(\"display.max_rows\", 7)\n",
    "pd.set_option(\"display.max_columns\", 8)\n",
    "pd.set_option(\"display.precision\", 2)"
   ]
  },
  {
   "cell_type": "markdown",
   "metadata": {
    "slideshow": {
     "slide_type": "slide"
    }
   },
   "source": [
    "## Distribuições de probabilidade e distribuições empíricas"
   ]
  },
  {
   "cell_type": "markdown",
   "metadata": {
    "slideshow": {
     "slide_type": "slide"
    }
   },
   "source": [
    "### Distribuições de probabilidade"
   ]
  },
  {
   "cell_type": "markdown",
   "metadata": {
    "slideshow": {
     "slide_type": "fragment"
    }
   },
   "source": [
    "- Seja $X$ uma **variável aleatória** tomando diferentes valores, cada um com uma probabilidade diferente.\n",
    "- A **distribuição de probabilidade de $X$** descreve:\n",
    "    - Todos os _possíveis valores_ de $X$;\n",
    "    - A probabilidade **teórica** de cada um desses valores."
   ]
  },
  {
   "cell_type": "markdown",
   "metadata": {},
   "source": [
    "- Uma variável aleatória (v.a.) é um \"_característico numérico de um experimento aleatório_\", i.e. que associa valores _numéricos_ (em $\\mathbb{R}$) a diferentes elementos do _espaço amostral_ ($\\Omega$).\n",
    "    - Por exemplo, no lançamento de uma moeda, o espaço amostral é $\\Omega = \\{H, T\\}$. Podemos definir então uma v.a. $X \\in \\{0, 1\\}$, onde $X = 0$ se a moeda for cara ($H$) e $X = 1$ se a moeda for coroa. Como $P(H) = P(T) = 1/2$, temos também $P(X = 0) = P(X = 1) = 1/2$."
   ]
  },
  {
   "cell_type": "markdown",
   "metadata": {
    "slideshow": {
     "slide_type": "slide"
    }
   },
   "source": [
    "### Exemplo: Distribuição de probabilidade do lançamento de um dado 🎲\n",
    "\n",
    "- Uma possível v.a. aqui é $X \\in \\{1, 2, 3, 4, 5, 6\\}$, onde cada valor de $X$ têm probabilidade igual a $1/6$.\n",
    "- A distribuição de $X$ nesse caso é denominada **uniforme**, pois cada um de seus valores (correspondentes à cada face do dado) têm a mesma probabilidade de ocorrência."
   ]
  },
  {
   "cell_type": "code",
   "execution_count": null,
   "metadata": {},
   "outputs": [],
   "source": [
    "die_faces = np.arange(1, 7, 1)\n",
    "die = pd.DataFrame({\"face\" : die_faces})\n",
    "die"
   ]
  },
  {
   "cell_type": "code",
   "execution_count": null,
   "metadata": {},
   "outputs": [],
   "source": [
    "bins = np.arange(0.5, 6.6, 1)\n",
    "\n",
    "die.plot(kind = 'hist', y = 'face', bins = bins, density = True, ec = 'w', \n",
    "         title='Distribuição de probabilidade do lançamento de um dado',\n",
    "         figsize = (5, 3))\n",
    "\n",
    "plt.ylabel('Probabilidade');"
   ]
  },
  {
   "cell_type": "markdown",
   "metadata": {
    "slideshow": {
     "slide_type": "slide"
    }
   },
   "source": [
    "### Distribuições empíricas"
   ]
  },
  {
   "cell_type": "markdown",
   "metadata": {
    "slideshow": {
     "slide_type": "fragment"
    }
   },
   "source": [
    "- Ao contrário das distribuições de probabilidade, que por definição são _teóricas_, **as distribuições empíricas** são _baseadas em observações dos dados_.\n",
    "- Uma **distribuição empírica** descreve:\n",
    "    - Todos os valores _observados_ de uma variável aleatória $X$.\n",
    "    - A proporção (ou a **frequência**) dos experimentos com que cada valor ocorreu."
   ]
  },
  {
   "cell_type": "markdown",
   "metadata": {
    "slideshow": {
     "slide_type": "fragment"
    }
   },
   "source": [
    "- Usualmente, construímos distribuições empíricas a partir de sucessivas repetições de um experimento.\n",
    "- Diferentemente das distribuições de probabilidade, as distribuições empíricas representam o que _realmente ocorreu_ na prática. "
   ]
  },
  {
   "cell_type": "markdown",
   "metadata": {
    "slideshow": {
     "slide_type": "slide"
    }
   },
   "source": [
    "### Exemplo: Distribuição empírica do lançamento de um dado 🎲\n",
    "- Vamos simular o lançamento de um dado 25 vezes utilizando a função `np.random.choice`.\n",
    "- Para simular o lançamento de um dado, precisamos amostrar **com reposição**.\n",
    "    - Definiremos \"amostragem\" e \"reposição\" mais adiante, mas aqui isso significa que se o resultado do lançamento de um dado for igual a \"4\", esse valor pode ocorrer mais de uma vez."
   ]
  },
  {
   "cell_type": "code",
   "execution_count": null,
   "metadata": {},
   "outputs": [],
   "source": [
    "## Nota: o resultado dessa função é _estocástico_\n",
    "## -- execute mais de uma vez e veja o que acontece! :)\n",
    "\n",
    "num_rolls = 25\n",
    "many_rolls = np.random.choice(die_faces, num_rolls)\n",
    "many_rolls"
   ]
  },
  {
   "cell_type": "code",
   "execution_count": null,
   "metadata": {},
   "outputs": [],
   "source": [
    "## Nota: o 'f' precede o título do histograma aqui para exibir o valor da variável `num_rolls`, ao invés de uma string \"{num_rolls}\"  \n",
    "\n",
    "(pd.DataFrame({\"face\" : many_rolls})\n",
    " .plot(kind = 'hist', y = 'face', bins = bins, density = True, ec = 'w',\n",
    "       title = f'Distribuição empírica de {num_rolls} lançamentos de um dado',\n",
    "       figsize=(5, 3))\n",
    ")\n",
    "plt.ylabel('Frequência');"
   ]
  },
  {
   "cell_type": "markdown",
   "metadata": {
    "slideshow": {
     "slide_type": "slide"
    }
   },
   "source": [
    "#### \"Muitos\" lançamentos de um dado 🎲\n",
    "\n",
    "Agora, o que acontece quando aumentamos o número de lançamentos?"
   ]
  },
  {
   "cell_type": "code",
   "execution_count": null,
   "metadata": {},
   "outputs": [],
   "source": [
    "for num_rolls in [10, 50, 100, 500, 1000, 5000, 10000]:\n",
    "    # Simulando os `num_rolls` lançamentos de um dado\n",
    "    many_rolls = np.random.choice(die_faces, num_rolls)\n",
    "    # Elaborando o histograma correspondente\n",
    "    (pd.DataFrame({\"face\" : many_rolls})\n",
    "     .plot(kind = 'hist', y = 'face', bins = bins, density = True, ec = 'w', \n",
    "           title = f'Distribuição de {num_rolls} lançamentos de um dado',\n",
    "           figsize=(8, 3))\n",
    "    )\n",
    "    plt.ylabel('Frequência')"
   ]
  },
  {
   "cell_type": "markdown",
   "metadata": {
    "slideshow": {
     "slide_type": "slide"
    }
   },
   "source": [
    "#### ... e porque isso acontece? ⚖️\n",
    "\n",
    "A **Lei dos Grandes Números** diz que, se um experimento aleatório for repetido \n",
    "1. um _grande número_ de vezes,\n",
    "1. _independentemente_,\n",
    "1. e _sobre as mesmas condições_,\n",
    "\n",
    "então a **proporção** do número de vezes que um evento ocorre se aproxima cada vez mais da **probabilidade teórica** desse evento."
   ]
  },
  {
   "cell_type": "markdown",
   "metadata": {
    "slideshow": {
     "slide_type": "fragment"
    }
   },
   "source": [
    "- Por exemplo, à medida que lançamos um dado repetidas vezes, a proporção de vezes que obtemos um \"5\" chega cada vez mais perto de $1/6$."
   ]
  },
  {
   "cell_type": "markdown",
   "metadata": {
    "slideshow": {
     "slide_type": "fragment"
    }
   },
   "source": [
    "- A Lei dos Grandes Números **essencialmente garante que o uso de simulações para aproximar distribuições de probabilidade esteja correto**!"
   ]
  },
  {
   "cell_type": "markdown",
   "metadata": {},
   "source": [
    "### Exercício ✅\n",
    "\n",
    "Na célula abaixo, o método `value_counts` de Pandas conta a frequência absoluta de cada valor do DataFrame correspondente. Transformamos então essa frequência absoluta em relativa e a expressamos em percentual ao multiplicar o resultado por 100 e dividir pelo número total de elementos no array original.\n",
    "\n",
    "Modifique então o número de lançamentos `num_rolls` na célula abaixo até que a diferença entre a frequência relativa de cada resultado e a frequência teórica (i.e. 1/6 = 16,67\\%) seja menor que 0,2\\%.\n",
    "\n",
    "<ins>_Dica_</ins>: _Fixe a semente aleatória com `np.random.seed()` antes de invocar `np.random.choice` para garantir que a célula retorne o mesmo resultado à cada execução._"
   ]
  },
  {
   "cell_type": "code",
   "execution_count": null,
   "metadata": {},
   "outputs": [],
   "source": [
    "## Número de lançamentos\n",
    "num_rolls = int(1e2) # int(1e2) = 10^2 = 100 \n",
    "many_rolls = np.random.choice(die_faces, num_rolls)\n",
    "\n",
    "## Frequência de cada resultado (em %) \n",
    "1e2*pd.DataFrame(many_rolls).value_counts()/many_rolls.size"
   ]
  },
  {
   "cell_type": "markdown",
   "metadata": {
    "slideshow": {
     "slide_type": "slide"
    }
   },
   "source": [
    "## Amostragem"
   ]
  },
  {
   "cell_type": "markdown",
   "metadata": {
    "slideshow": {
     "slide_type": "slide"
    }
   },
   "source": [
    "### Populações e amostras"
   ]
  },
  {
   "cell_type": "markdown",
   "metadata": {
    "slideshow": {
     "slide_type": "fragment"
    }
   },
   "source": [
    "- Uma **população** é um grupo _completo_ de pessoas, objetos, eventos, etc. sobre o qual queremos aprender algo."
   ]
  },
  {
   "cell_type": "markdown",
   "metadata": {
    "slideshow": {
     "slide_type": "fragment"
    }
   },
   "source": [
    "- Na prática, frequentemente não é possível obter informações sobre _todos_ os membros de uma população."
   ]
  },
  {
   "cell_type": "markdown",
   "metadata": {
    "slideshow": {
     "slide_type": "fragment"
    }
   },
   "source": [
    "- Nessas situações, tipicamente coletamos uma **amostra**, isto é, um subconjunto da população."
   ]
  },
  {
   "cell_type": "markdown",
   "metadata": {
    "slideshow": {
     "slide_type": "fragment"
    }
   },
   "source": [
    "- Com base na amostra coletada, podemos então **estimar** alguma quantidade de interesse da população."
   ]
  },
  {
   "cell_type": "markdown",
   "metadata": {
    "slideshow": {
     "slide_type": "slide"
    }
   },
   "source": [
    "### Estratégias de amostragem"
   ]
  },
  {
   "cell_type": "markdown",
   "metadata": {
    "slideshow": {
     "slide_type": "fragment"
    }
   },
   "source": [
    "- **Problema principal**: Como coletar uma \"boa amostra\", isto é, tal que a **distribuição empírica** (a distribuição da amostra) seja o mais parecida possível com a **distribuição populacional** (a distribuição da população)?"
   ]
  },
  {
   "cell_type": "markdown",
   "metadata": {
    "slideshow": {
     "slide_type": "fragment"
    }
   },
   "source": [
    "- **Má ideia ❌**: Amostrar os indivíduos mais \"próximos\"/\"fáceis\"\n",
    "   - Por exemplo, seus colegas de classe, as pessoas em uma fila de supermercado, etc.\n",
    "   - Esse tipo de amostra é conhecido como _amostra de conveniência_.\n",
    "   - Amostras de conveniência usualmente contém fontes ocultas de **viés**."
   ]
  },
  {
   "cell_type": "markdown",
   "metadata": {
    "slideshow": {
     "slide_type": "fragment"
    }
   },
   "source": [
    "- **Boa ideia ✔️**: Selecionar indivíduos da população de maneira _aleatória_. "
   ]
  },
  {
   "cell_type": "markdown",
   "metadata": {
    "slideshow": {
     "slide_type": "slide"
    }
   },
   "source": [
    "### Amostragem aleatória simples\n",
    "\n",
    "Uma **amostra aleatória simples** é uma amostra coletada de maneira **uniforme**, **aleatória** e **sem reposição**.\n",
    "   - \"Uniforme\" significa que cada indivíduo têm a mesma probabilidade de ser selecionado.\n",
    "   - \"Sem reposição\" significa que o mesmo indivíduo não pode ser selecionado mais de uma vez."
   ]
  },
  {
   "cell_type": "markdown",
   "metadata": {
    "slideshow": {
     "slide_type": "slide"
    }
   },
   "source": [
    "### Amostragem de uma lista ou array"
   ]
  },
  {
   "cell_type": "markdown",
   "metadata": {
    "slideshow": {
     "slide_type": "-"
    }
   },
   "source": [
    "Para gerar uma amostra aleatória simples de tamanho `n` de uma lista ou array `population`, utilizamos a função `np.random.choice(population, n, replace = False)`."
   ]
  },
  {
   "cell_type": "code",
   "execution_count": null,
   "metadata": {},
   "outputs": [],
   "source": [
    "## Exemplo: array de universidades\n",
    "colleges = np.array(['UFMG', 'USP', 'UEMG', \n",
    "                     'UNICAMP', 'UFRJ', 'UFPB', \n",
    "                     'UFSCar', 'UFSC', 'UFRGS'])\n",
    "\n",
    "## Amostragem aleatória simples de 3 elementos de `colleges`\n",
    "## Nota: execute essa célula mais de uma vez e compare os resultados!\n",
    "np.random.choice(colleges, 3, replace = False)"
   ]
  },
  {
   "cell_type": "markdown",
   "metadata": {
    "slideshow": {
     "slide_type": "fragment"
    }
   },
   "source": [
    "Se declararmos `replace = True`, então estaremos amostrando uniformemente _com reposição_."
   ]
  },
  {
   "cell_type": "markdown",
   "metadata": {
    "slideshow": {
     "slide_type": "slide"
    }
   },
   "source": [
    "### Exemplo: Atrasos de vôos ✈️\n",
    "\n",
    "Para esse exemplo, o DataFrame `united_full` contém informação sobre todos os vôos da United Airlines saindo de SFO (San Francisco International Airport) entre 01/06/2015 e 31/08/2015.\n",
    "\n",
    "Para o restante dessa aula, assuma que essa base de dados seja a nossa _população_."
   ]
  },
  {
   "cell_type": "code",
   "execution_count": null,
   "metadata": {},
   "outputs": [],
   "source": [
    "united_full = pd.read_csv('data/united_summer2015.csv')\n",
    "united_full"
   ]
  },
  {
   "cell_type": "markdown",
   "metadata": {
    "slideshow": {
     "slide_type": "slide"
    }
   },
   "source": [
    "#### Amostrando linhas de um DataFrame\n",
    "\n",
    "Para amostrar linhas de um DataFrame, podemos usar o método `.sample`. \n",
    "\n",
    "Mais especificamente,\n",
    "\n",
    "```py\n",
    "df.sample(n)\n",
    "```\n",
    "\n",
    "retorna um subconjunto aleatório  de `n` linhas de `df`, amostradas **sem reposição** (o padrão dessa função é `replace = False`, diferente de `np.random.choice`, em que o padrão é amostrar **com reposição**)."
   ]
  },
  {
   "cell_type": "code",
   "execution_count": null,
   "metadata": {},
   "outputs": [],
   "source": [
    "## 5 vôos escolhidos aleatoriamente, *sem* reposição\n",
    "united_full.sample(5)"
   ]
  },
  {
   "cell_type": "code",
   "execution_count": null,
   "metadata": {},
   "outputs": [],
   "source": [
    "united_full.iloc[np.random.choice(united_full.index, 5, replace = False)]\n",
    "# np.random.choice(united_full, 3) [!]"
   ]
  },
  {
   "cell_type": "code",
   "execution_count": null,
   "metadata": {
    "scrolled": true
   },
   "outputs": [],
   "source": [
    "## 5 vôos escolhidos aleatoriamente, *com* reposição\n",
    "united_full.sample(5, replace = True)"
   ]
  },
  {
   "cell_type": "markdown",
   "metadata": {
    "slideshow": {
     "slide_type": "fragment"
    }
   },
   "source": [
    "**Nota**: A probabilidade de observarmos a mesma linha mais de uma vez ao reamostrarmos com reposição nesse caso é muito baixa, uma vez que aqui o tamanho amostral (5 elementos) é _pequeno_ relativo ao tamanho da população (13.825 elementos)."
   ]
  },
  {
   "cell_type": "markdown",
   "metadata": {
    "slideshow": {
     "slide_type": "slide"
    }
   },
   "source": [
    "### O efeito do tamanho amostral"
   ]
  },
  {
   "cell_type": "markdown",
   "metadata": {
    "slideshow": {
     "slide_type": "fragment"
    }
   },
   "source": [
    "- A Lei dos Grandes Números diz que, à medida que aumentamos o número de repetições de um experimento aleatório, a distribuição empírica se aproxima cada vez mais da distribuição de probabilidade verdadeira (populacional)."
   ]
  },
  {
   "cell_type": "markdown",
   "metadata": {
    "slideshow": {
     "slide_type": "fragment"
    }
   },
   "source": [
    "- **Como consequência, em um processo de amostragem aleatória simples, quanto maior o nosso tamanho amostral, melhor será nossa aproximação da distribuição de probabilidade populacional.**\n",
    "- Tecnicalidades à parte, uma maneira intuitiva de entender esse ponto é enxergar que, como as amostras aleatórias simples são independentes e vêm da mesma população, uma amostra grande pode ser sempre decomposta em várias amostras pequenas."
   ]
  },
  {
   "cell_type": "markdown",
   "metadata": {
    "slideshow": {
     "slide_type": "slide"
    }
   },
   "source": [
    "#### Distribuição populacional dos atrasos de vôos ✈️"
   ]
  },
  {
   "cell_type": "markdown",
   "metadata": {
    "slideshow": {
     "slide_type": "-"
    }
   },
   "source": [
    "Aqui estamos interessados apenas nos `'Delay'`s, e logo selecionaremos apenas essa coluna.\n",
    "\n",
    "Note que os atrasos de vôos estão expressos em **minutos**, e um \"atraso\" negativo significa que o vôo na verdade foi adiantado."
   ]
  },
  {
   "cell_type": "code",
   "execution_count": null,
   "metadata": {},
   "outputs": [],
   "source": [
    "united = pd.DataFrame(united_full['Delay']) ## [!]\n",
    "united"
   ]
  },
  {
   "cell_type": "code",
   "execution_count": null,
   "metadata": {},
   "outputs": [],
   "source": [
    "bins = np.arange(-20, 300, 10)\n",
    "united.plot(kind = 'hist', y = 'Delay', bins = bins, density = True, ec = 'w', \n",
    "            title='Distribuição Populacional dos Atrasos de Vôos', figsize = (8, 3))\n",
    "plt.ylabel('Densidade');"
   ]
  },
  {
   "cell_type": "markdown",
   "metadata": {
    "slideshow": {
     "slide_type": "fragment"
    }
   },
   "source": [
    "**Nota**: como a população contém _todos_ os valores nos quais estamos interessados, dizemos que a distribuição populacional é **determinística**, ou \"fixa\".\n",
    "\n",
    "Em outras palavras, supondo que o universo de **todos** os possíveis valores nos quais estamos interessados seja **conhecido**, **não existe aleatoriedade** como em um processo de amostragem.\n",
    "\n",
    "No processo de amostragem (que é sujeito à aleatoriedade), a distribuição empírica é dita ser \"variável\", ou **estocástica**."
   ]
  },
  {
   "cell_type": "markdown",
   "metadata": {
    "slideshow": {
     "slide_type": "slide"
    }
   },
   "source": [
    "#### Distribuição empírica dos atrasos de vôos ✈️\n",
    "\n",
    "- Aqui, nossa população é composta dos 13.825 atrasos de vôos (`Delay`'s) no DataFrame `united`.\n",
    "- Em geral, porém, raramente temos acesso à população inteira.\n",
    "- Para replicar uma situação prática real, vamos reamostrar de `united` **sem reposição**."
   ]
  },
  {
   "cell_type": "code",
   "execution_count": null,
   "metadata": {},
   "outputs": [],
   "source": [
    "## Nota: o resultado da função abaixo é estocástico!\n",
    "\n",
    "sample_size = 100 # Mude esse valor e veja o que acontece!\n",
    "(united\n",
    " .sample(sample_size)\n",
    " .plot(kind = 'hist', y = 'Delay', bins = bins, density = True, ec = 'w',\n",
    "       title = f'Distribuição dos Atrasos de Vôos em uma Amostra de Tamanho $n = {sample_size}$',\n",
    "       figsize = (8, 3))\n",
    ")\n",
    "plt.ylabel('Frequência');"
   ]
  },
  {
   "cell_type": "markdown",
   "metadata": {},
   "source": [
    "Intuitivamente, à medida em que aumentamos o tamanho amostral $n$ (`sample_size`), a distribuição empírica dos atrasos fica _cada vez mais próxima_ da distribuição populacional!"
   ]
  },
  {
   "cell_type": "markdown",
   "metadata": {
    "slideshow": {
     "slide_type": "slide"
    }
   },
   "source": [
    "## Parâmetros e estatísticas"
   ]
  },
  {
   "cell_type": "markdown",
   "metadata": {
    "slideshow": {
     "slide_type": "slide"
    }
   },
   "source": [
    "### Definições"
   ]
  },
  {
   "cell_type": "markdown",
   "metadata": {
    "slideshow": {
     "slide_type": "fragment"
    }
   },
   "source": [
    "- **Inferência estatística** é o ato de se tirar conclusões sobre uma população com base nas informações de uma amostra aleatória."
   ]
  },
  {
   "cell_type": "markdown",
   "metadata": {
    "slideshow": {
     "slide_type": "fragment"
    }
   },
   "source": [
    "- **Parâmetro**: Uma quantidade de interesse da população.\n",
    "    - Exemplo 1: A média populacional.\n",
    "    - Exemplo 2: A proporção populacional."
   ]
  },
  {
   "cell_type": "markdown",
   "metadata": {
    "slideshow": {
     "slide_type": "fragment"
    }
   },
   "source": [
    "- **Estatística**: Uma quantidade _calculada_ com base na amostra.\n",
    "    - Exemplo 1: A média amostral.\n",
    "    - Exemplo 2: A proporção amostral."
   ]
  },
  {
   "cell_type": "markdown",
   "metadata": {
    "slideshow": {
     "slide_type": "fragment"
    }
   },
   "source": [
    "- Uma estatística pode ser utilizada para **estimar** um parâmetro.\n",
    "  - Como uma função matemática teórica, diz-se que uma estatística nesse caso é um **estimador** para esse parâmetro.\n",
    "  - Após coletarmos uma amostra, o _valor_ correspondente que a estatística/estimador toma é então uma **estimativa** para o parâmetro."
   ]
  },
  {
   "cell_type": "markdown",
   "metadata": {
    "slideshow": {
     "slide_type": "slide"
    }
   },
   "source": [
    "#### Média dos atrasos de vôos ✈️"
   ]
  },
  {
   "cell_type": "markdown",
   "metadata": {
    "slideshow": {
     "slide_type": "fragment"
    }
   },
   "source": [
    "**Pergunta**: Qual foi a média de atraso entre _todos_ os vôos da United saindo de SFO no verão de 2015? 🤔"
   ]
  },
  {
   "cell_type": "markdown",
   "metadata": {
    "slideshow": {
     "slide_type": "fragment"
    }
   },
   "source": [
    "- Em geral, gostaríamos de saber a média dos atrasos de vôos na **população** (nosso _parâmetro_), mas na prática teremos disponível apenas uma **amostra**."
   ]
  },
  {
   "cell_type": "markdown",
   "metadata": {
    "slideshow": {
     "slide_type": "fragment"
    }
   },
   "source": [
    "- É natural então perguntarmos: como a média dos atrasos dos vôos na **amostra** (isto é, a _estatística_) se compara à média dos atrasos dos vôos na  **população** (nosso _parâmetro_)?"
   ]
  },
  {
   "cell_type": "markdown",
   "metadata": {
    "slideshow": {
     "slide_type": "slide"
    }
   },
   "source": [
    "### Média populacional\n",
    "\n",
    "- A **média populacional** é um **parâmetro**.\n",
    "- A média populacional também é determinística/fixa, _assim como qualquer outro parâmetro_. \n",
    "- Como quase nunca temos acesso à população completa, em geral não podemos saber com exatidão os valores dos parâmetros sobre os quais estamos interessados.\n",
    "    - Em outras palavras, embora os parâmetros sejam _fixos_, em geral eles também são _desconhecidos_."
   ]
  },
  {
   "cell_type": "markdown",
   "metadata": {},
   "source": [
    "No nosso exemplo, a média populacional é dada por:"
   ]
  },
  {
   "cell_type": "code",
   "execution_count": null,
   "metadata": {},
   "outputs": [],
   "source": [
    "## Média *populacional*\n",
    "united_mean = united['Delay'].mean()\n",
    "united_mean"
   ]
  },
  {
   "cell_type": "markdown",
   "metadata": {
    "slideshow": {
     "slide_type": "slide"
    }
   },
   "source": [
    "### Média amostral\n",
    "\n",
    "- A **média amostral** é uma **estatística**.\n",
    "- Como estatísticas são funções da amostra (e que por definição é _aleatória_), a média amostral **também é aleatória**."
   ]
  },
  {
   "cell_type": "markdown",
   "metadata": {},
   "source": [
    "No nosso exemplo, se coletarmos uma amostra de tamanho $n$ = `sample_size`, a média amostral correspondente é dada por:"
   ]
  },
  {
   "cell_type": "code",
   "execution_count": null,
   "metadata": {},
   "outputs": [],
   "source": [
    "## Média amostral com n = 100\n",
    "## Execute essa célula mais de uma vez!\n",
    "\n",
    "sample_size = 100\n",
    "united.sample(sample_size)['Delay'].mean()"
   ]
  },
  {
   "cell_type": "markdown",
   "metadata": {
    "slideshow": {
     "slide_type": "fragment"
    }
   },
   "source": [
    "- Cada vez que executamos a célula acima, nós estamos:\n",
    "    1. Coletando uma nova amostra aleatória de tamanho $n$ = `sample_size`;\n",
    "    1. Calculando a média amostral correspondente."
   ]
  },
  {
   "cell_type": "markdown",
   "metadata": {},
   "source": [
    "- Note que, a cada execução, a média amostral é _ligeiramente diferente_.\n",
    "    - Algumas vezes, a média amostral é _próxima_ da média populacional.\n",
    "    - Outras vezes, a média amostral é _distante_ da média populacional."
   ]
  },
  {
   "cell_type": "markdown",
   "metadata": {
    "slideshow": {
     "slide_type": "slide"
    }
   },
   "source": [
    "#### O efeito do tamanho amostral\n",
    "\n",
    "E se coletarmos um tamanho de amostra maior?"
   ]
  },
  {
   "cell_type": "code",
   "execution_count": null,
   "metadata": {},
   "outputs": [],
   "source": [
    "## Média amostral com n = 1000\n",
    "\n",
    "sample_size = 1000\n",
    "united.sample(sample_size)['Delay'].mean()"
   ]
  },
  {
   "cell_type": "markdown",
   "metadata": {
    "slideshow": {
     "slide_type": "fragment"
    }
   },
   "source": [
    "- Cada vez que executamos a célula acima, os resultados ainda são _ligeiramente diferentes_ da média populacional.\n",
    "- Entretanto, se compararmos à situação anterior em que $n = 100$, as médias amostrais agora são _muito mais próximas entre si_ – e também _mais próximas à média populacional_.\n",
    "- **Em geral**, estatísticas calculadas com base em amostras **maiores** são estimadores **melhores** dos parâmetros da população do que quando calculadas em amostras menores."
   ]
  },
  {
   "cell_type": "markdown",
   "metadata": {
    "slideshow": {
     "slide_type": "slide"
    }
   },
   "source": [
    "**Tamanhos de amostra menores**:<center><img src='data/bullseye-high.png' width=300></center>"
   ]
  },
  {
   "cell_type": "markdown",
   "metadata": {
    "slideshow": {
     "slide_type": "fragment"
    }
   },
   "source": [
    "**Tamanhos de amostra maiores**:<center><img src='data/bullseye-low.png' width=300></center>"
   ]
  },
  {
   "cell_type": "markdown",
   "metadata": {
    "slideshow": {
     "slide_type": "slide"
    }
   },
   "source": [
    "### Distribuição de probabilidade de uma estatística"
   ]
  },
  {
   "cell_type": "markdown",
   "metadata": {
    "slideshow": {
     "slide_type": "fragment"
    }
   },
   "source": [
    "- O valor numérico de uma estatística (por exemplo a média amostral) é _aleatório_, porque é calculado com base em uma amostra (que é aleatória).\n",
    "    - Mais formalmente, **estatísticas também são variáveis aleatórias**."
   ]
  },
  {
   "cell_type": "markdown",
   "metadata": {
    "slideshow": {
     "slide_type": "fragment"
    }
   },
   "source": [
    "- Assim como fazemos para variáveis aleatórias em geral, podemos analisar a distribuição de probabilidade _de uma estatística_ na qual estamos interessados.\n",
    "    - Essa distribuição é conhecida como **distribuição amostral**."
   ]
  },
  {
   "cell_type": "markdown",
   "metadata": {},
   "source": [
    "- A distribuição amostral descreve a probabilidade de todos os possíveis valores de uma estatística.\n",
    "- **A distribuição amostral é útil para caracterizar o quão provável é o valor da estatística em uma amostra particular**.\n",
    "- De maneira análoga, a distribuição amostral nos permite dizer o quanto o valor da nossa estatística _poderia ter sido_ caso tívessemos coletado uma amostra diferente."
   ]
  },
  {
   "cell_type": "markdown",
   "metadata": {
    "slideshow": {
     "slide_type": "fragment"
    }
   },
   "source": [
    "- Temos basicamente 2 maneiras de caracterizarmos uma distribuição amostral:\n",
    "    - Opção 1: Desenvolver uma expressão ou aproximação **analítica** utilizando Matemática e Probabilidade (nem sempre isso é possível!).\n",
    "    - Opção 2: Utilizar simulação e gerar diferentes amostras da nossa população, calculando o valor da estatística para cada amostra."
   ]
  },
  {
   "cell_type": "markdown",
   "metadata": {
    "slideshow": {
     "slide_type": "fragment"
    }
   },
   "source": [
    "- Nesse curso, focaremos na Opção 2, e utilizaremos simulação para aproximar a distribuição amostral das estatísticas nas quais estamos interessados.\n",
    "    - A Opção 1 será o assunto de vários cursos de Estatística e Probabilidade que vocês terão mais adiante!"
   ]
  },
  {
   "cell_type": "markdown",
   "metadata": {
    "slideshow": {
     "slide_type": "slide"
    }
   },
   "source": [
    "### Distribuição amostral empírica"
   ]
  },
  {
   "cell_type": "markdown",
   "metadata": {
    "slideshow": {
     "slide_type": "fragment"
    }
   },
   "source": [
    "- A _distribuição amostral empírica_ é obtida com base nos valores simulados de uma estatística.\n",
    "- Essa distribuição descreve:    \n",
    "    - Todos os valores _observados_ da estatística.\n",
    "    - A frequência/proporção de amostras em que cada valor foi observado."
   ]
  },
  {
   "cell_type": "markdown",
   "metadata": {
    "slideshow": {
     "slide_type": "fragment"
    }
   },
   "source": [
    "- Em geral, a distribuição empírica de uma estatística se torna uma aproximação cada vez melhor para a verdadeira distribuição amostral **à medida que o número de repetições da simulação é cada vez maior**."
   ]
  },
  {
   "cell_type": "markdown",
   "metadata": {
    "slideshow": {
     "slide_type": "slide"
    }
   },
   "source": [
    "### Distribuição amostral empírica da média amostral"
   ]
  },
  {
   "cell_type": "markdown",
   "metadata": {
    "slideshow": {
     "slide_type": "fragment"
    }
   },
   "source": [
    "- Para entendermos o quão diferente o valor da média amostral pode ser em diferentes amostras, podemos fazer o seguinte:\n",
    "    1. Coletar muitas amostras aleatoriamente;\n",
    "    1. Calcular a média amostral em cada uma dessas amostras;\n",
    "    1. Elaborar um histograma com os valores obtidos."
   ]
  },
  {
   "cell_type": "markdown",
   "metadata": {},
   "source": [
    "Retornando ao nosso exemplo, vamos proceder da maneira descrita acima, gerando $M = 2.000$ amostras de tamanho $n = 100$:"
   ]
  },
  {
   "cell_type": "code",
   "execution_count": null,
   "metadata": {},
   "outputs": [],
   "source": [
    "## Inicialização\n",
    "sample_size = 100\n",
    "repetitions = 2000\n",
    "sample_means = np.array([])\n",
    "\n",
    "## Coletando amostras, calculando médias amostrais e agregando ao array\n",
    "for n in np.arange(repetitions):\n",
    "    m = united.sample(sample_size)['Delay'].mean()\n",
    "    sample_means = np.append(sample_means, m)\n",
    "\n",
    "## Elaborando um histograma com a distribuição empírica das médias amostrais\n",
    "pd.DataFrame().assign(sample_means = sample_means) \\\n",
    "               .plot(kind = 'hist', bins = np.arange(10, 25, 0.5), density = True, ec = 'w',\n",
    "                     title = f'Distribuição Amostral Empírica da Média Amostral com $n = {sample_size}$',\n",
    "                     figsize = (10, 5));    \n",
    "plt.axvline(x = united_mean, c = 'black', linewidth = 4, label = 'média populacional')\n",
    "plt.legend()\n",
    "plt.ylabel('Densidade');"
   ]
  },
  {
   "cell_type": "markdown",
   "metadata": {
    "slideshow": {
     "slide_type": "slide"
    }
   },
   "source": [
    "#### Mas afinal, por que calcular a distribuição amostral empírica de uma estatística?"
   ]
  },
  {
   "cell_type": "markdown",
   "metadata": {
    "slideshow": {
     "slide_type": "fragment"
    }
   },
   "source": [
    "- Na prática, coletamos apenas _uma_ amostra da população, da qual calculamos apenas _um_ valor da estatística de interesse.\n",
    "    - Em certos casos, a amostra _pode_ ser suficientemente representativa da população, e o valor da estatística será próximo ao parâmetro que estamos tentando estimar.\n",
    "    - Quando isso não acontece, porém, o valor da estatística pode ser bem diferente do parâmetro de interesse!"
   ]
  },
  {
   "cell_type": "markdown",
   "metadata": {
    "slideshow": {
     "slide_type": "fragment"
    }
   },
   "source": [
    "- Dessa forma, a distribuição amostral empírica de uma estatística nos ajuda a responder à seguinte pergunta: **qual seria o valor da estatística caso tívessemos coletado uma amostra diferente?**"
   ]
  },
  {
   "cell_type": "markdown",
   "metadata": {
    "slideshow": {
     "slide_type": "slide"
    }
   },
   "source": [
    "#### E qual o papel do tamanho amostral nesse processo?\n",
    "\n",
    "- Em geral, um tamanho amostral maior essencialmente faz com que a distribuição amostral da estatística correspondente seja **menos dispersa**, isto é, **menos variável**, em torno do verdadeiro valor do parâmetro populacional.\n",
    "    - Em outras palavras, cada valor da estatística calculada com um tamanho de amostra de maior é uma estimativa **mais precisa** para o parâmetro de interesse."
   ]
  },
  {
   "cell_type": "markdown",
   "metadata": {},
   "source": [
    "Retornando mais uma vez ao nosso exemplo dos atrasos de vôos, veja o que acontece se continuarmos gerando $M = 2.000$ amostras, mas agora de tamanho $n = 1.000$:"
   ]
  },
  {
   "cell_type": "code",
   "execution_count": null,
   "metadata": {},
   "outputs": [],
   "source": [
    "## Inicialização\n",
    "sample_size = 1000\n",
    "repetitions = 2000\n",
    "sample_means = np.array([])\n",
    "\n",
    "## Amostrando, calculando médias amostrais e agregando ao array\n",
    "for n in np.arange(repetitions):\n",
    "    m = united.sample(sample_size)['Delay'].mean()\n",
    "    sample_means = np.append(sample_means, m)\n",
    "\n",
    "## Elaborando um histograma com a distribuição empírica das médias amostrais\n",
    "pd.DataFrame().assign(sample_means = sample_means) \\\n",
    "               .plot(kind = 'hist', bins = np.arange(10, 25, 0.5), density = True, ec = 'w',\n",
    "                     title = f'Distribuição Amostral Empírica da Média Amostral com $n = {sample_size}$',\n",
    "                     figsize = (10, 5));    \n",
    "plt.axvline(x = united_mean, c = 'black', linewidth = 4, label = 'média populacional')\n",
    "plt.legend()\n",
    "plt.ylabel('Densidade');"
   ]
  },
  {
   "cell_type": "markdown",
   "metadata": {
    "slideshow": {
     "slide_type": "slide"
    }
   },
   "source": [
    "### Exercício ✅\n",
    "\n",
    "Na célula acima, geramos amostras de vôos de tamanho $n = 1.000$ um número $M = 2.000$ de vezes. Se ao invés disso continuarmos gerando $M = 2.000$ amostras, mas agora tomando amostras de tamanho $n = 10.000$, qual você acha que será o efeito sobre a distribuição empírica da média amostral? \n",
    "\n",
    "**A**.  A distribuição empírica ficará \"mais estreita\" (menos dispersa).\n",
    "\n",
    "**B**.  A distribuição empírica ficará \"mais larga\" (mais dispersa).\n",
    "\n",
    "**C**.  A distribuição empírica será deslocada para a esquerda.\n",
    "\n",
    "**D**.  A distribuição empírica será deslocada para a direita.\n",
    "\n",
    "**E**.  A mudança não terá nenhum efeito."
   ]
  },
  {
   "cell_type": "markdown",
   "metadata": {
    "slideshow": {
     "slide_type": "slide"
    }
   },
   "source": [
    "## Resumo\n",
    "\n",
    "- A **distribuição de probabilidade** de uma _variável aleatória_ descreve a probabilidade de cada possível valor dessa variável.\n",
    "- Uma **distribuição empírica** descreve a frequência/proporção com a qual cada valor de um experimento aleatório ocorre.\n",
    "    - Quanto mais repetimos o experimento aleatório, mais a distribuição empírica se aproxima da distribuição de probabilidade.\n",
    "- Um **parâmetro** é uma quantidade de interesse da **população**, enquanto uma **estatística** é uma quantidade de interesse da **amostra**.\n",
    "- Em geral, podemos utilizar estatísticas para **estimar** parâmetros da população.\n",
    "    - Por exemplo, para estimar a média populacional, podemos utilizar a média amostral.\n",
    "    - Usualmente, amostras de tamanhos maiores levam à estimativas mais precisas.\n",
    "- Uma **distribuição amostral** descreve a probabilidade de cada possível valor de uma estatística de interesse.\n",
    "    - A distribuição amostral é importante na caracterização da **incerteza sobre uma estimativa**. "
   ]
  }
 ],
 "metadata": {
  "kernelspec": {
   "display_name": "Python 3 (ipykernel)",
   "language": "python",
   "name": "python3"
  },
  "language_info": {
   "codemirror_mode": {
    "name": "ipython",
    "version": 3
   },
   "file_extension": ".py",
   "mimetype": "text/x-python",
   "name": "python",
   "nbconvert_exporter": "python",
   "pygments_lexer": "ipython3",
   "version": "3.12.3"
  },
  "livereveal": {
   "scroll": true,
   "transition": "none"
  },
  "rise": {
   "enable_chalkboard": true
  }
 },
 "nbformat": 4,
 "nbformat_minor": 4
}
