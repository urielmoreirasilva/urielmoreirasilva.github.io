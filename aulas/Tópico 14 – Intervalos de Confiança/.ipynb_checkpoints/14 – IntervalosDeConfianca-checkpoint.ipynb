{
 "cells": [
  {
   "cell_type": "markdown",
   "metadata": {},
   "source": [
    "# Tópico 14 – Intervalos de Confiança [<img src=\"images/colag_logo.svg\" style=\"float: right; margin-right: 0%; vertical-align: middle; width: 6.5%;\">](https://colab.research.google.com/github/urielmoreirasilva/urielmoreirasilva.github.io/blob/main/aulas/T%C3%B3pico%2014%20%E2%80%93%20IntervalosDeConfianca.ipynb/14%20%E2%80%93%20IntervalosDeConfianca.ipynb) [<img src=\"images/github_logo.svg\" style=\"float: right; margin-right: 0%; vertical-align: middle; width: 3.25%;\">](https://github.com/urielmoreirasilva/urielmoreirasilva.github.io/blob/main/aulas/T%C3%B3pico%2014%20%E2%80%93%20IntervalosDeConfianca.ipynb/14%20%E2%80%93%20IntervalosDeConfianca.ipynb)\n",
    "\n",
    "Nessa aula, vamos aprender mais sobre a quantificação da incerteza sobre uma estimativa através de um conceito chave em Estatística: os Intervalos de Confiança.\n",
    "\n",
    "### Resultados Esperados\n",
    "\n",
    "1. Definir o que são Intervalos de Confiança, e aprender a utilizá-los para caracterizar a incerteza sobre uma estimativa.\n",
    "1. Aprender a interpretar _corretamente_ os Intervalos de Confiança!\n",
    "\n",
    "### Referências\n",
    "- [CIT, Capítulo 13](https://inferentialthinking.com/)\n",
    "\n",
    "Material adaptado do [DSC10 (UCSD)](https://dsc10.com/) por [Flavio Figueiredo (DCC-UFMG)](https://flaviovdf.io/fcd/) e [Uriel Silva (DEST-UFMG)](https://urielmoreirasilva.github.io)"
   ]
  },
  {
   "cell_type": "code",
   "execution_count": null,
   "metadata": {},
   "outputs": [],
   "source": [
    "## Imports para esse tópico\n",
    "import numpy as np\n",
    "import pandas as pd\n",
    "import matplotlib.pyplot as plt\n",
    "plt.style.use('ggplot')\n",
    "\n",
    "## Opções de como printar objetos do Numpy e do Pandas\n",
    "np.set_printoptions(threshold = 20, precision = 2, suppress = True)\n",
    "pd.set_option(\"display.max_rows\", 7)\n",
    "pd.set_option(\"display.max_columns\", 8)\n",
    "pd.set_option(\"display.precision\", 2)"
   ]
  },
  {
   "cell_type": "markdown",
   "metadata": {
    "slideshow": {
     "slide_type": "slide"
    }
   },
   "source": [
    "### Recapitulando: Salários dos funcionários públicos da cidade de San Diego\n",
    "\n",
    "Vamos recapitular brevemente o contexto do tópico anterior (Tópico 13): \n",
    "\n",
    "- Nossa **população** de interesse consiste nos salários dos funcionários públicos da cidade de San Diego (DataFrame `population`, coluna `'TotalWages'`).\n",
    "- Para emular uma situação de análise real, \"coletamos\" uma **amostra** de tamanho $n = 500$ da nossa população (DataFrame `my_sample`, amostrado através do método `.sample`). \n",
    "- Queremos estimar a **mediana populacional** dos salários (nosso _parâmetro_) através da **mediana amostral** (nossa _estatística_)."
   ]
  },
  {
   "cell_type": "code",
   "execution_count": null,
   "metadata": {},
   "outputs": [],
   "source": [
    "## População\n",
    "\n",
    "## Nota: a população aqui está disponível apenas para ilustração dos conceitos! Na prática, não dispomos dessa informação\n",
    "population = pd.DataFrame(pd.read_csv('data/2022_salaries.csv')['TotalWages'])\n",
    "population_median = population['TotalWages'].median()\n",
    "\n",
    "## Amostra\n",
    "n = 500\n",
    "np.random.seed(42)\n",
    "my_sample = population.sample(n)\n",
    "my_sample"
   ]
  },
  {
   "cell_type": "code",
   "execution_count": null,
   "metadata": {},
   "outputs": [],
   "source": [
    "sample_median = my_sample['TotalWages'].median()\n",
    "sample_median"
   ]
  },
  {
   "cell_type": "markdown",
   "metadata": {},
   "source": [
    "- Nosso problema fundamental é caracterizar a **incerteza** sobre a estimativa fornecida por nossa mediana amostral.\n",
    "- Com uma estimativa pontual, o máximo que podemos afirmar é que \"a mediana populacional é aproximadamente \\\\$73,264,50\", mas não mais que isso.\n",
    "- No Tópico 13, aprendemos a utilizar simulação e aproximar a **distribuição amostral** da nossa estatística (mediana amostral) via **bootstrap** para determinar o quanto podemos esperar de variação na mediana amostral de uma amostra para outra\n",
    "    - Em particular, aprendemos a caracterizar a incerteza acerca da nossa estimativa \"com uma certa frequência $\\gamma\\%$\" através dos **intervalos bootstrap**."
   ]
  },
  {
   "cell_type": "code",
   "execution_count": null,
   "metadata": {},
   "outputs": [],
   "source": [
    "## Bootstrap!\n",
    "\n",
    "## Semente aleatória (para garantir reproducibilidade)\n",
    "np.random.seed(42)\n",
    "\n",
    "# Inicialização\n",
    "n_resamples = 5000\n",
    "boot_medians = np.array([])\n",
    "\n",
    "## Loop principal\n",
    "for i in np.arange(n_resamples):\n",
    "    resample = my_sample.sample(500, replace = True)\n",
    "    median = resample['TotalWages'].median()\n",
    "    boot_medians = np.append(boot_medians, median)\n",
    "    \n",
    "boot_medians"
   ]
  },
  {
   "cell_type": "code",
   "execution_count": null,
   "metadata": {},
   "outputs": [],
   "source": [
    "## \"Limite inferior\": `L`\n",
    "L = np.percentile(boot_medians, 2.5)\n",
    "L"
   ]
  },
  {
   "cell_type": "code",
   "execution_count": null,
   "metadata": {},
   "outputs": [],
   "source": [
    "## \"Limite superior\": `U`\n",
    "U = np.percentile(boot_medians, 97.5)\n",
    "U"
   ]
  },
  {
   "cell_type": "code",
   "execution_count": null,
   "metadata": {},
   "outputs": [],
   "source": [
    "## Intervalo [L, U]\n",
    "[L, U]"
   ]
  },
  {
   "cell_type": "code",
   "execution_count": null,
   "metadata": {},
   "outputs": [],
   "source": [
    "pd.DataFrame({\"BootstrapMedians\" : boot_medians}).plot(kind = 'hist', density = True, bins = np.arange(63000, 88000, 1000), ec = 'w', figsize = (10, 5))\n",
    "plt.plot([L, U], [0, 0], color = 'gold', linewidth = 12, label = '95% percentile interval', zorder = 2);\n",
    "plt.legend()\n",
    "plt.ylabel(\"Densidade\");"
   ]
  },
  {
   "cell_type": "markdown",
   "metadata": {},
   "source": [
    "- Tomando os percentis 2.5\\% e 97.5\\% da distribuição bootstrap, construímos então um intervalo que varia de \\\\$65.624,50 a \\\\$81,341.00.\n",
    "- Podemos dizer então, \"com 95\\% de confiança\", que a mediana dos salários dos funcionários públicos de San Diego está entre \\\\$65.624,50 e \\\\$81,341.00.\n",
    "- Porém, para que possamos utilizar essa metodologia com mais segurança na prática, vamos agora formalizar um pouco mais a construção desses intervalos, e definir apropriadamente os objetos envolvidos nesse processo."
   ]
  },
  {
   "cell_type": "markdown",
   "metadata": {},
   "source": [
    "## Intervalos de Confiança"
   ]
  },
  {
   "cell_type": "markdown",
   "metadata": {},
   "source": [
    "- Seja $\\gamma \\in [0, 1]$ e $\\theta \\in \\mathbb{R}$ nosso parâmetro de interesse.\n",
    "- Um **Intervalo de $\\gamma\\%$ de Confiança para $\\theta$** é um intervalo $[L,\\: U]$ que contém, **com $\\gamma\\%$ de confiança**, o **verdadeiro valor do parâmetro** $\\theta$.\n",
    "- Formalmente, escrevemos $IC_{\\gamma\\%} (\\theta) := [L,\\: U]$."
   ]
  },
  {
   "cell_type": "markdown",
   "metadata": {},
   "source": [
    "- Apesar da definição acima conter um pouco mais de formalismo matemático do que o necessário para esse curso, o ponto crucial dos Intervalos de Confiança (IC) é que eles são intervalos cujos valores **dizem respeito ao parâmetro populacional**.\n",
    "- Em outras palavras, apesar de construírmos os ICs com base em alguma distribuição (como por exemplo a distribuição bootstrap), lembre que essa é uma distribuição dos valores **da estatística**, e **não da amostra**!"
   ]
  },
  {
   "cell_type": "markdown",
   "metadata": {},
   "source": [
    "No exemplo dos salários, $\\theta$ é a mediana populacional dos salários. "
   ]
  },
  {
   "cell_type": "markdown",
   "metadata": {},
   "source": [
    "Tomando $\\gamma\\% = 95\\%$, obtivemos $IC_{95\\%}(\\theta) = [\\$65.624{,}50;\\: \\$81.341{,}0]$."
   ]
  },
  {
   "cell_type": "markdown",
   "metadata": {},
   "source": [
    "Dizemos então, \"_com 95% de confiança_, que a mediana **populacional** dos salários está entre \\\\$65.624,50 e \\\\$81,341.00\"."
   ]
  },
  {
   "cell_type": "markdown",
   "metadata": {
    "slideshow": {
     "slide_type": "slide"
    }
   },
   "source": [
    "### Intervalos de confiança são estimativas _intervalares_ para um parâmetro"
   ]
  },
  {
   "cell_type": "markdown",
   "metadata": {},
   "source": [
    "- Elaborando mais uma vez sobre o ponto anterior, apesar de construírmos os ICs com base em uma _distribuição_ (no caso a distribuição boostrap), os ICs são na verdade _estimativas_ (embora **intervalares**) para o nosso parâmetro de interesse.\n",
    "- Podemos pensar nos ICs como _complementares_ à uma estimativa pontual, nos permitindo então quantificar de maneira apropriada a incerteza sobre essa estimativa."
   ]
  },
  {
   "cell_type": "markdown",
   "metadata": {},
   "source": [
    "- Estimativas intervalares em geral são construídas utilizando uma estimativa pontual como _referência_.\n",
    "- Quando utilizamos bootstrap para construir ICs, os percentis da distribuição bootstrap são naturalmente valores que ocorrem \"ao redor\" da estimativa pontual, uma vez que a **distribuição bootstrap é centrada na estatística** utilizada como estimador para o parâmetro de interesse. "
   ]
  },
  {
   "cell_type": "markdown",
   "metadata": {},
   "source": [
    "### Mas afinal, o que significa \"confiança\" nesse caso?!"
   ]
  },
  {
   "cell_type": "markdown",
   "metadata": {},
   "source": [
    "- Para responder à essa pergunta, vamos primeiro analisar o experimento abaixo."
   ]
  },
  {
   "cell_type": "markdown",
   "metadata": {
    "slideshow": {
     "slide_type": "slide"
    }
   },
   "source": [
    "#### Capturando o verdadeiro valor do parâmetro\n",
    "\n",
    "- Suponha que realizemos o seguinte experimento:\n",
    "    1. Coletamos uma **nova amostra** da população.\n",
    "    1. Reamostramos dessa nova amostra várias vezes utilizando o bootstrap, calculando a estatística de interesse em cada amostra.\n",
    "    1. Construímos um $IC_{\\gamma\\%}$ a partir dos percentis da distribuição bootstrap do passo anterior ."
   ]
  },
  {
   "cell_type": "markdown",
   "metadata": {
    "slideshow": {
     "slide_type": "fragment"
    }
   },
   "source": [
    "- Um nível $\\gamma\\%$ de confiança então significa que, **em aproximadamente $\\gamma\\%$ das vezes em que realizamos esse processo, o intervalo criado conterá o verdadeiro valor do parâmetro**.\n",
    "    - Em outras palavras: se pudéssemos repetir nosso experimento aleatório um número muito grande de vezes, _$\\gamma\\%$ dos intervalos de confiança_ vão conter o verdadeiro valor do parâmetro."
   ]
  },
  {
   "cell_type": "markdown",
   "metadata": {
    "slideshow": {
     "slide_type": "slide"
    }
   },
   "source": [
    "#### Múltiplos intervalos de confiança para a mediana dos salários\n",
    "\n",
    "- Voltemos agora ao nosso exemplo inicial.\n",
    "- Realizamos o processo acima $M = 200$ vezes, obtendo $M = 200$ ICs diferentes.\n",
    "- Fizemos isso de antemão (demora um bom tempo!) e salvamos os resultados em um arquivo.\n",
    "- Os ICs obtidos estão contidos no array `many_cis` abaixo.\n",
    "\n",
    "**Nota**: lembre que, em uma situação real, em geral _não conseguimos várias amostras da mesma população, e nem saber o valor real do parâmetro de interesse_ – **dispomos apenas de uma amostra, de uma única estimativa pontual, e logo de um único IC**!"
   ]
  },
  {
   "cell_type": "code",
   "execution_count": null,
   "metadata": {},
   "outputs": [],
   "source": [
    "many_cis = np.load('data/many_cis.npy')\n",
    "many_cis"
   ]
  },
  {
   "cell_type": "markdown",
   "metadata": {},
   "source": [
    "- Após realizar as simulações acima, vamos visualizar os resultados!"
   ]
  },
  {
   "cell_type": "markdown",
   "metadata": {
    "slideshow": {
     "slide_type": "slide"
    }
   },
   "source": [
    "No gráfico abaixo:\n",
    "\n",
    "- A <span style=\"color:blue\">linha azul</span> representa a mediana populacional (parâmetro).\n",
    "- Cada <span style=\"color:gold\">linha dourada</span> representa um dos $M = 200$ IC diferentes, obtidos utilizando o procedimento descrito anteriormente."
   ]
  },
  {
   "cell_type": "code",
   "execution_count": null,
   "metadata": {},
   "outputs": [],
   "source": [
    "plt.figure(figsize = (10, 6))\n",
    "for i, ci in enumerate(many_cis):\n",
    "    plt.plot([ci[0], ci[1]], [i, i], color = 'gold', linewidth = 2)\n",
    "plt.axvline(x = population_median, color = 'blue');"
   ]
  },
  {
   "cell_type": "markdown",
   "metadata": {},
   "source": [
    "- Note que a _maioria_ dos ICs contém o parâmetro verdadeiro, mas _não todos_!"
   ]
  },
  {
   "cell_type": "markdown",
   "metadata": {
    "slideshow": {
     "slide_type": "slide"
    }
   },
   "source": [
    "#### E quantos ICs não contém o parâmetro populacional? 🤔"
   ]
  },
  {
   "cell_type": "code",
   "execution_count": null,
   "metadata": {},
   "outputs": [],
   "source": [
    "plt.figure(figsize = (10, 6))\n",
    "count_outside = 0\n",
    "for i, ci in enumerate(many_cis):\n",
    "    if ci[0] > population_median or ci[1] < population_median:\n",
    "        plt.plot([ci[0], ci[1]], [i, i], color = 'gold', linewidth = 2)\n",
    "        count_outside = count_outside + 1\n",
    "plt.axvline(x = population_median, color = 'blue');"
   ]
  },
  {
   "cell_type": "code",
   "execution_count": null,
   "metadata": {},
   "outputs": [],
   "source": [
    "count_outside"
   ]
  },
  {
   "cell_type": "markdown",
   "metadata": {
    "slideshow": {
     "slide_type": "fragment"
    }
   },
   "source": [
    "- 11 (ou 5,5\\%) dos nossos $M = 200$ ICs não contém o verdadeiro valor do parâmetro.\n",
    "- Por outro lado, isso significa que 189/200 (ou 94,5\\%) dos ICs, contém sim o parâmetro populacional!\n",
    "- Não coincidentemente, 94,5% é bem próximo de $\\gamma = $ 95%, nosso **nível de confiança**!"
   ]
  },
  {
   "cell_type": "markdown",
   "metadata": {
    "slideshow": {
     "slide_type": "fragment"
    }
   },
   "source": [
    "- Na prática, como coletamos apenas **uma única amostra**, teremos apenas **um único IC correspondente**, e nunca saberemos _com certeza_ se esse IC contém ou não o verdadeiro valor do parâmetro.\n",
    "- Ainda assim, saberemos que em $\\gamma\\%$ dos casos o valor real do parâmetro estará no IC!"
   ]
  },
  {
   "cell_type": "markdown",
   "metadata": {
    "slideshow": {
     "slide_type": "slide"
    }
   },
   "source": [
    "### Escolhendo o nível de confiança"
   ]
  },
  {
   "cell_type": "markdown",
   "metadata": {
    "slideshow": {
     "slide_type": "fragment"
    }
   },
   "source": [
    "- A escolha do nível de confiança $\\gamma$ é, na maior parte das vezes, guiada por considerações acerca do problema em questão.\n",
    "- A literatura e a prática dos especialistas com certeza ajudam bastante nessa escolha!"
   ]
  },
  {
   "cell_type": "markdown",
   "metadata": {
    "slideshow": {
     "slide_type": "fragment"
    }
   },
   "source": [
    "- Se, por exemplo, escolhermos um nível de confiança igual a 99%: \n",
    "    - aproxidamente _apenas 1%_ das vezes nosso IC não conterá o verdadeiro valor do parâmetro, o que é ótimo!\n",
    "- Porém, ...\n",
    "    - nossos ICs serão **muito largos**, e muitas vezes não serão muito úteis na prática."
   ]
  },
  {
   "cell_type": "markdown",
   "metadata": {},
   "source": [
    "No nosso exemplo:"
   ]
  },
  {
   "cell_type": "code",
   "execution_count": null,
   "metadata": {},
   "outputs": [],
   "source": [
    "## Nível de confiança = 99%\n",
    "gamma = 0.99\n",
    "L = np.percentile(boot_medians, 100*(1 - gamma)/2)\n",
    "U = np.percentile(boot_medians, 100*(1 + gamma)/2)\n",
    "print(f'Nosso IC{int(100*gamma)}% é dado por:')\n",
    "print([L, U])\n",
    "\n",
    "print(f'\\nNosso parâmetro é igual a:')\n",
    "print(population_median)\n",
    "\n",
    "print('')\n",
    "pd.DataFrame({\"BootstrapMedians\" : boot_medians}).plot(kind = 'hist', density = True, bins = np.arange(63000, 88000, 1000), ec = 'w', figsize = (10, 5))\n",
    "plt.plot([L, U], [0, 0], color = 'gold', linewidth = 12, label = f'{int(100*gamma)}% confidence interval', zorder = 2);\n",
    "plt.scatter(population_median, 0.000004, color = 'blue', s = 100, label = 'population median', zorder = 3)\n",
    "plt.legend()\n",
    "plt.ylabel(\"Densidade\");"
   ]
  },
  {
   "cell_type": "markdown",
   "metadata": {
    "slideshow": {
     "slide_type": "fragment"
    }
   },
   "source": [
    "- Se, por outro lado, escolhermos um nível de confiança igual a 80%: \n",
    "    - muitas das vezes (~20%) o IC _não conterá_ o verdadeiro valor do parâmetro, o que não é tão bom assim!\n",
    "- Porém, ...\n",
    "    - nossos ICs nesse caso serão **bem mais curtos**, e logo **mais precisos**."
   ]
  },
  {
   "cell_type": "markdown",
   "metadata": {},
   "source": [
    "No nosso exemplo:"
   ]
  },
  {
   "cell_type": "code",
   "execution_count": null,
   "metadata": {},
   "outputs": [],
   "source": [
    "## Nível de confiança = 80%\n",
    "gamma = 0.80\n",
    "L = np.percentile(boot_medians, 100*(1 - gamma)/2)\n",
    "U = np.percentile(boot_medians, 100*(1 + gamma)/2)\n",
    "print(f'Nosso IC{int(100*gamma)}% é dado por:')\n",
    "print([L, U])\n",
    "\n",
    "print(f'\\nNosso parâmetro é igual a:')\n",
    "print(population_median)\n",
    "\n",
    "print('')\n",
    "pd.DataFrame({\"BootstrapMedians\" : boot_medians}).plot(kind = 'hist', density = True, bins = np.arange(63000, 88000, 1000), ec = 'w', figsize = (10, 5))\n",
    "plt.plot([L, U], [0, 0], color = 'gold', linewidth = 12, label = f'{int(100*gamma)}% confidence interval', zorder = 2);\n",
    "plt.scatter(population_median, 0.000004, color = 'blue', s = 100, label = 'population median', zorder = 3)\n",
    "plt.legend()\n",
    "plt.ylabel(\"Densidade\");"
   ]
  },
  {
   "cell_type": "markdown",
   "metadata": {},
   "source": [
    "- O _tradeoff_ principal nesse contexto é então entre **confiança e precisão**.\n",
    "    - Quanto **mais confiante** eu estou de que uma afirmativa é verdadeira, **menos preciso** essa afirmativa será, e vice-versa. "
   ]
  },
  {
   "cell_type": "markdown",
   "metadata": {},
   "source": [
    "- Por exemplo, se eu afirmo que hoje vai começar a chover _exatamente_ às 13:14 (uma afirmativa **bem precisa**), em geral eu quase sempre estarei errado sobre isso (e, logo, **pouco confiante**).\n",
    "- Por outro lado, se eu afirmo que vai chover _algum dia_ desse ano (uma afirmativa **pouco precisa**), em geral eu quase sempre estarei correto sobre isso (e, logo, **muito confiante**).  "
   ]
  },
  {
   "cell_type": "markdown",
   "metadata": {},
   "source": [
    "### Exercício ✅\n",
    "\n",
    "Modifique `gamma` na célula abaixo até encontrar um intervalo de confiança que _não contenha_ o verdadeiro valor do parâmetro, `population_median`."
   ]
  },
  {
   "cell_type": "code",
   "execution_count": null,
   "metadata": {},
   "outputs": [],
   "source": [
    "## Nível de confiança: gamma \\in [0, 1]\n",
    "gamma = 0.95\n",
    "L = np.percentile(boot_medians, 100*(1 - gamma)/2)\n",
    "U = np.percentile(boot_medians, 100*(1 + gamma)/2)\n",
    "print(f'Nosso IC{int(100*gamma)}% é dado por:')\n",
    "print([L, U])\n",
    "\n",
    "print(f'\\nNosso parâmetro é igual a:')\n",
    "print(population_median)\n",
    "\n",
    "print('')\n",
    "pd.DataFrame({\"BootstrapMedians\" : boot_medians}).plot(kind = 'hist', density = True, bins = np.arange(63000, 88000, 1000), ec = 'w', figsize = (10, 5))\n",
    "plt.plot([L, U], [0, 0], color = 'gold', linewidth = 12, label = f'{int(100*gamma)}% confidence interval', zorder = 2);\n",
    "plt.scatter(population_median, 0.000004, color = 'blue', s = 100, label = 'population median', zorder = 3)\n",
    "plt.legend()\n",
    "plt.ylabel(\"Densidade\");"
   ]
  },
  {
   "cell_type": "markdown",
   "metadata": {},
   "source": [
    "#### O efeito do tamanho amostral\n",
    "\n",
    "- Levando em conta a discussão sobre o _tradeoff_ entre precisão e confiança, naturalmente surge a seguinte pergunta: \"para um dado nível de confiança $\\gamma\\%$ **fixo**, como então podemos fazer com que nosso IC seja mais **curto**/preciso?\n",
    "- Talvez não tão surpreendente, a resposta é: **coletando uma amostra maior**!"
   ]
  },
  {
   "cell_type": "code",
   "execution_count": null,
   "metadata": {},
   "outputs": [],
   "source": [
    "## Amostra alternativa (n = 1000)\n",
    "n_e = 2000\n",
    "np.random.seed(5)\n",
    "my_sample_e = population.sample(n)\n",
    "my_sample_e\n",
    "\n",
    "\n",
    "## Bootstrap!\n",
    "# Inicialização\n",
    "n_resamples_e = 5000\n",
    "boot_medians_e = np.array([])\n",
    "# Loop principal\n",
    "for i in np.arange(n_resamples_e):\n",
    "    resample_e = my_sample_e.sample(n_e, replace = True)\n",
    "    median_e = resample_e.get('TotalWages').median()\n",
    "    boot_medians_e = np.append(boot_medians_e, median_e)\n",
    "\n",
    "\n",
    "## IC95%\n",
    "gamma_e = 0.95\n",
    "L_e = np.percentile(boot_medians_e, 100*(1 - gamma_e)/2)\n",
    "U_e = np.percentile(boot_medians_e, 100*(1 + gamma_e)/2)\n",
    "print(f'Nosso IC{int(100*gamma_e)}% é dado por:')\n",
    "print([L_e, U_e])\n",
    "##\n",
    "print(f'\\nNosso parâmetro é igual a:')\n",
    "print(population_median)\n",
    "\n",
    "\n",
    "## Distribuição empírica amostral + IC95%\n",
    "print('')\n",
    "pd.DataFrame({\"BootstrapMedians\" : boot_medians_e}).plot(kind = 'hist', density = True, bins = np.arange(63000, 88000, 1000), ec = 'w', figsize = (10, 5))\n",
    "plt.plot([L_e, U_e], [0, 0], color = 'gold', linewidth = 12, label = f'{int(100*gamma_e)}% confidence interval', zorder = 2);\n",
    "plt.scatter(population_median, 0.000004, color = 'blue', s = 100, label = 'population median', zorder = 3)\n",
    "plt.legend()\n",
    "plt.ylabel(\"Densidade\");"
   ]
  },
  {
   "cell_type": "markdown",
   "metadata": {
    "slideshow": {
     "slide_type": "slide"
    }
   },
   "source": [
    "### Como _não_ interpretar intervalos de confiança\n",
    "\n",
    "Fato: intervalos de confiança podem ser complicados de interpretar corretamente."
   ]
  },
  {
   "cell_type": "code",
   "execution_count": null,
   "metadata": {},
   "outputs": [],
   "source": [
    "## Amostra\n",
    "n = 500\n",
    "np.random.seed(42)\n",
    "my_sample = population.sample(n)\n",
    "my_sample\n",
    "\n",
    "\n",
    "## Bootstrap!\n",
    "# Inicialização\n",
    "n_resamples = 5000\n",
    "boot_medians = np.array([])\n",
    "# Loop principal.\n",
    "for i in np.arange(n_resamples):\n",
    "    resample = my_sample.sample(n, replace=True)\n",
    "    median = resample.get('TotalWages').median()\n",
    "    boot_medians = np.append(boot_medians, median)\n",
    "\n",
    "\n",
    "## IC95%\n",
    "gamma = 0.95\n",
    "L = np.percentile(boot_medians, 100*(1 - gamma)/2)\n",
    "U = np.percentile(boot_medians, 100*(1 + gamma)/2)\n",
    "print(f'Nosso IC{int(100*gamma)}% é dado por:')\n",
    "print([L, U])\n",
    "##\n",
    "print(f'\\nNosso parâmetro é igual a:')\n",
    "print(population_median)"
   ]
  },
  {
   "cell_type": "markdown",
   "metadata": {
    "slideshow": {
     "slide_type": "fragment"
    }
   },
   "source": [
    "**O IC95% contém 95% de todos os salários da população? Não!** ❌"
   ]
  },
  {
   "cell_type": "code",
   "execution_count": null,
   "metadata": {},
   "outputs": [],
   "source": [
    "population.plot(kind = 'hist', y = 'TotalWages', bins = np.arange(0, 400000, 10000), density = True, ec = 'w', figsize = (10, 5))\n",
    "plt.plot([L, U], [0, 0], color = 'gold', linewidth = 12, label = '95% confidence interval');\n",
    "plt.legend()\n",
    "plt.ylabel(\"Densidade\");"
   ]
  },
  {
   "cell_type": "markdown",
   "metadata": {
    "slideshow": {
     "slide_type": "fragment"
    }
   },
   "source": [
    "Por outro lado, o IC95% _contém sim_ 95% de todos os salários medianos obtidos pelo bootstrap."
   ]
  },
  {
   "cell_type": "markdown",
   "metadata": {},
   "source": [
    "> Em outras palavras, o IC95% contém 95% de todos os valores da _distribuição bootstrap_ (mas não da população, e nem da amostra)."
   ]
  },
  {
   "cell_type": "code",
   "execution_count": null,
   "metadata": {},
   "outputs": [],
   "source": [
    "pd.DataFrame({\"BootstrapMedians\" : boot_medians}).plot(kind = 'hist', density = True, bins = np.arange(63000, 88000, 1000), ec = 'w', figsize = (10, 5))\n",
    "plt.plot([L, U], [0, 0], color = 'gold', linewidth = 12, label = '95% confidence interval');\n",
    "plt.legend()\n",
    "plt.ylabel(\"Densidade\");"
   ]
  },
  {
   "cell_type": "markdown",
   "metadata": {
    "slideshow": {
     "slide_type": "fragment"
    }
   },
   "source": [
    "**Então, com 95% de probabilidade o IC95% contém o verdadeiro valor do parâmetro populacional? Também não!** ❌"
   ]
  },
  {
   "cell_type": "markdown",
   "metadata": {
    "slideshow": {
     "slide_type": "fragment"
    }
   },
   "source": [
    "E porque não?\n",
    "- Embora seja _desconhecido_, o parâmetro populacional é **fixo**/determinístico, e logo **não-aleatório**.\n",
    "- Por outro lado, um IC **também é não-aleatório**!\n",
    "    - Embora seu _processo de construção_ seja aleatório (uma vez que o IC é função da amostra, que é aleatória), o IC correspondente à uma _determinada amostra_ é uma quantidade fixa.\n",
    "- Para um dado IC, o parâmetro populacional _pertence_ ou _não pertence_ ao IC.\n",
    "    -  Logo, também não há aleatoriedade quanto a esse ponto, e dessa forma não podemos falar em probabilidade!"
   ]
  },
  {
   "cell_type": "markdown",
   "metadata": {},
   "source": [
    "### Exercício ✅\n",
    "\n",
    "Suponha que tenhamos calculado um intervalo de confiança de $\\gamma = 95\\%$ para a média populacional $\\mu$ de salários dos funcionários públicos da cidade de San Diego, e que esse intervalo seja aproximadamente igual a $[\\$65.000,00; \\$80.000,00]$. Com respeito à interpretação desse IC, assinale abaixo a alternativa **correta**:\n",
    "\n",
    "**A**. 95\\% de todos os salários dos funcionários públicos da cidade de San Diego estão entre \\\\$65.000,00 e \\\\$80.000,00.\n",
    "\n",
    "**B**. É possível afirmar, com 95\\% de probabilidade, que a média populacional de salários dos funcionários públicos da cidade de San Diego está entre \\\\$65.000,00 e \\\\$80.000,00.\n",
    "\n",
    "**C**. É possível afirmar, com 95\\% de confiança, que a média populacional de salários dos funcionários públicos da cidade de San Diego está entre \\\\$65.000,00 e \\\\$80.000,00.\n",
    "\n",
    "**D**. A probabilidade de que um funcionário público da cidade de San Diego escolhido aleatoriamente ganhe entre \\\\$65.000,00 e \\\\$80.000,00 é de $\\gamma = 95\\%$."
   ]
  },
  {
   "cell_type": "markdown",
   "metadata": {
    "slideshow": {
     "slide_type": "slide"
    }
   },
   "source": [
    "## Resumo\n",
    "\n",
    "- O boostrap nos fornece uma maneira de construir uma distribuição empírica amostral de uma estatística com base em uma única amostra.\n",
    "- Com base na distribuição bootstrap, podemos criar intervalos de $\\gamma\\%$ de confiança (IC) tomando como limite inferior e superior os percentis que contenham $\\gamma\\%$ da distribuição bootstrap.\n",
    "    - Um IC construído dessa maneira nos permite quantificar a incerteza sobre a nossa estimativa do parâmetro populacional.\n",
    "    - Dessa forma, ao invés de reportar apenas uma estimativa pontual para o parâmetro de interesse, podemos reportar um conjunto de estimativas.\n",
    "- **Intervalos de confiança precisam ser interpretados com cuidado.**\n",
    "    - Nossa \"confiança\" reside na _consistência_ dos ICs sobre várias amostras e experimentos, e não em um IC em particular para um único experimento."
   ]
  }
 ],
 "metadata": {
  "celltoolbar": "Slideshow",
  "kernelspec": {
   "display_name": "Python 3 (ipykernel)",
   "language": "python",
   "name": "python3"
  },
  "language_info": {
   "codemirror_mode": {
    "name": "ipython",
    "version": 3
   },
   "file_extension": ".py",
   "mimetype": "text/x-python",
   "name": "python",
   "nbconvert_exporter": "python",
   "pygments_lexer": "ipython3",
   "version": "3.12.3"
  },
  "livereveal": {
   "scroll": true,
   "transition": "none"
  },
  "rise": {
   "enable_chalkboard": true
  }
 },
 "nbformat": 4,
 "nbformat_minor": 4
}
