{
 "cells": [
  {
   "cell_type": "markdown",
   "metadata": {
    "id": "9rDg4kyGh5zn"
   },
   "source": [
    "# Laboratório 5: Reamostragem e Bootstrapping [<img src=\"images/colag_logo.svg\" style=\"float: right; margin-right: 0%; vertical-align: middle; width: 6.5%;\">](https://colab.research.google.com/github/urielmoreirasilva/urielmoreirasilva.github.io/blob/main/labs/Laborat%C3%B3rio%205%2FLaborat%C3%B3rio%205.ipynbLaborat%C3%B3rio%205%2FLaborat%C3%B3rio%205.ipynb) [<img src=\"images/github_logo.svg\" style=\"float: right; margin-right: 0%; vertical-align: middle; width: 3.25%;\">](https://github.com/urielmoreirasilva/urielmoreirasilva.github.io/blob/main/labs/Laborat%C3%B3rio%205%2FLaborat%C3%B3rio%205.ipynb)\n",
    "\n",
    "Bem-vindo ao Laboratório 5! Nesta tarefa, desenvolveremos uma compreensão mais aprofundada sobre estimativa de parâmetros e inicialização.\n",
    "\n",
    "Você deve concluir todo este laboratório e enviá-lo ao Moodle até às 23h59 da data de vencimento.\n",
    "\n",
    "### Referências\n",
    "- [CIT: Capítulos 9, 10 e 13](https://inferentialthinking.com/)\n",
    "- Aulas: Tópicos 11, 12, 13 e 14. \n",
    "\n",
    "Material adaptado do [DSC10 (UCSD)](https://dsc10.com/) por [Flavio Figueiredo (DCC-UFMG)](https://flaviovdf.io/fcd/) e [Uriel Silva (DEST-UFMG)](https://urielmoreirasilva.github.io)"
   ]
  },
  {
   "cell_type": "code",
   "execution_count": 1,
   "metadata": {
    "id": "SpHcPgQ-h5zo"
   },
   "outputs": [],
   "source": [
    "## Imports para esse laboratório\n",
    "import numpy as np\n",
    "import pandas as pd\n",
    "import math\n",
    "\n",
    "## Opções do MatplotLib \n",
    "import matplotlib.pyplot as plt\n",
    "plt.style.use('ggplot')\n",
    "plt.rcParams['figure.figsize'] = (10, 5)"
   ]
  },
  {
   "cell_type": "markdown",
   "metadata": {
    "id": "BS093W7Eh5zq"
   },
   "source": [
    "## 1. Percentis 🅿️"
   ]
  },
  {
   "cell_type": "markdown",
   "metadata": {
    "id": "Ry72Rxo2h5zq"
   },
   "source": [
    "#### **Pergunta 1.1.**\n",
    "\n",
    "Digamos que você esteja em uma turma com 10 alunos e as notas de todos os alunos da turma estão armazenadas no `Array` `grades`. Sua pontuação é 84."
   ]
  },
  {
   "cell_type": "code",
   "execution_count": 2,
   "metadata": {
    "id": "UvR3D1y8h5zq"
   },
   "outputs": [],
   "source": [
    "grades = np.array([56, 65, 67, 72, 74, 78, 78, 80, 84, 94])"
   ]
  },
  {
   "cell_type": "markdown",
   "metadata": {},
   "source": [
    "Qual das seguintes afirmações são **verdadeiras**? Utilizando a _definição_ de percentil, preencha as respostas correspondentes na célula de texto seguinte.\n",
    "\n",
    "**A**. A pontuação mais alta está no percentil 100.\n",
    "\n",
    "**B**. Sua pontuação é superior ao percentil 80.\n",
    "\n",
    "**C**. Sua pontuação é inferior ao percentil 81.\n",
    "\n",
    "**D**. Sua pontuação está no percentil 86.\n",
    "\n",
    "**E**. Uma pontuação de 78 está no percentil 50."
   ]
  },
  {
   "cell_type": "markdown",
   "metadata": {},
   "source": [
    "> **A** e **B**."
   ]
  },
  {
   "cell_type": "markdown",
   "metadata": {
    "id": "UEWeQdwxh5zr"
   },
   "source": [
    "#### **Pergunta 1.2.**\n",
    "\n",
    "Use a função `np.percentile` para calcular o percentil 50 de `grades` e salve o resultado como `p_50`."
   ]
  },
  {
   "cell_type": "code",
   "execution_count": 3,
   "metadata": {
    "id": "qsGxFOexh5zr"
   },
   "outputs": [
    {
     "data": {
      "text/plain": [
       "76.0"
      ]
     },
     "execution_count": 3,
     "metadata": {},
     "output_type": "execute_result"
    }
   ],
   "source": [
    "p_50 = np.percentile(grades, 50)\n",
    "p_50"
   ]
  },
  {
   "cell_type": "markdown",
   "metadata": {
    "id": "qiRc9LmYh5zr"
   },
   "source": [
    "#### **Pergunta 1.3.**\n",
    "\n",
    "Use `np.median` para calcular a mediana de `grades` e salve o resultado como `median_grade`."
   ]
  },
  {
   "cell_type": "code",
   "execution_count": 4,
   "metadata": {
    "id": "FgImqXhkh5zs"
   },
   "outputs": [
    {
     "data": {
      "text/plain": [
       "76.0"
      ]
     },
     "execution_count": 4,
     "metadata": {},
     "output_type": "execute_result"
    }
   ],
   "source": [
    "median_grade = np.median(grades)\n",
    "median_grade"
   ]
  },
  {
   "cell_type": "markdown",
   "metadata": {
    "id": "qiRc9LmYh5zr"
   },
   "source": [
    "#### **Pergunta 1.4.**\n",
    "\n",
    "Compare **manualmente** as respostas das Perguntas 1.3. e 1.4.  Defina a variável `same` como `True` se os dois valores forem iguais, e `False` se forem diferentes.\n",
    "\n",
    "_<ins> Desafio</ins>_: tente não usar if/else aqui!"
   ]
  },
  {
   "cell_type": "code",
   "execution_count": 5,
   "metadata": {
    "id": "FgImqXhkh5zs"
   },
   "outputs": [
    {
     "data": {
      "text/plain": [
       "True"
      ]
     },
     "execution_count": 5,
     "metadata": {},
     "output_type": "execute_result"
    }
   ],
   "source": [
    "same = (p_50 == median_grade)\n",
    "same"
   ]
  },
  {
   "cell_type": "markdown",
   "metadata": {
    "id": "0d2pASbTh5zs"
   },
   "source": [
    "## 2. Preliminares da Inteligência Aliada 🧠\n",
    "\n",
    "Ao longo deste laboratório, estudaremos um problema estatístico conhecido como [German tank problem](https://en.wikipedia.org/wiki/German_tank_problem).\n",
    "\n",
    "Na Segunda Guerra Mundial, os Aliados (liderados pelos EUA, Reino Unido e União Soviética) queriam saber quantos tanques militares os alemães tinham produzido. No entanto, eles não conseguiam ter acesso aos dados dessa produção – tudo o que conseguiam observar era apenas uma **amostra** aleatória de tanques capturados em batalha.\n",
    "\n",
    "Para definir o problema de maneira mais precisa, suponha então que os tanques produzidos recebiam números de série (_serial numbers_) que variavam de 1 a `N`, onde `N` era o número total de tanques produzidos. Os Aliados estavam então tentando estimar `N` (um **parâmetro populacional**) utilizando os números de série dos tanques capturados (sua amostra). \n",
    "\n",
    "Neste laboratório, assumiremos que a amostra dos Aliados era uma **amostra aleatória simples** da população de tanques produzidos (lembre-se: isso significa que cada elemento era amostrado de maneira independente, uniforme e _sem reposição_).\n",
    "\n",
    "<br>\n",
    "\n",
    "<center><img src='https://raw.githubusercontent.com/urielmoreirasilva/urielmoreirasilva.github.io/refs/heads/main/labs/Laborat%C3%B3rio%205/images/tank.jpg' width=400></center>\n",
    "\n",
    "<br>"
   ]
  },
  {
   "cell_type": "markdown",
   "metadata": {
    "id": "RSkSmi6Qh5zt"
   },
   "source": [
    "#### **Pergunta 2.1.** \n",
    "\n",
    "Se calcularmos uma estimativa de `N` com base na nossa amostra, essa quantidade é um _parâmetro_ ou uma _estatística_? Preencha a célula de texto seguinte com as afirmativas **verdadeiras**.\n",
    "\n",
    "**A**. `N` é um parâmetro, e logo uma estimativa para `N` calculada com base na amostra também é um parâmetro.\n",
    "\n",
    "**B**. `N` é um parâmetro, e uma estimativa para `N` calculada com base na amostra é uma estatística.\n",
    "\n",
    "**C**. `N` é uma estatística, e uma estimativa para `N` calculada com base na amostra é um parâmetro.\n",
    "\n",
    "**D**. `N` é uma estatística, e logo uma estimativa para `N` calculada com base na amostra também é uma estatística."
   ]
  },
  {
   "cell_type": "markdown",
   "metadata": {
    "id": "EjHptCE4h5zt"
   },
   "source": [
    "> **B**."
   ]
  },
  {
   "cell_type": "markdown",
   "metadata": {
    "id": "229UKeqDh5zt"
   },
   "source": [
    "Para tornarmos o problema considerado nesse laboratório mais realista, suponha que aqui não tenhamos acesso ao número verdadeiro `N` de tanques produzidos pelos alemães, mas apenas uma amostra aleatória simples dos números de série dos tanques capturados pelos Aliados.\n",
    "\n",
    "Esses números de série estão contidos no DataFrame `observations` abaixo."
   ]
  },
  {
   "cell_type": "code",
   "execution_count": 6,
   "metadata": {
    "id": "874l4-Osh5zt"
   },
   "outputs": [
    {
     "data": {
      "text/html": [
       "<div>\n",
       "<style scoped>\n",
       "    .dataframe tbody tr th:only-of-type {\n",
       "        vertical-align: middle;\n",
       "    }\n",
       "\n",
       "    .dataframe tbody tr th {\n",
       "        vertical-align: top;\n",
       "    }\n",
       "\n",
       "    .dataframe thead th {\n",
       "        text-align: right;\n",
       "    }\n",
       "</style>\n",
       "<table border=\"1\" class=\"dataframe\">\n",
       "  <thead>\n",
       "    <tr style=\"text-align: right;\">\n",
       "      <th></th>\n",
       "      <th>serial_number</th>\n",
       "    </tr>\n",
       "  </thead>\n",
       "  <tbody>\n",
       "    <tr>\n",
       "      <th>0</th>\n",
       "      <td>47</td>\n",
       "    </tr>\n",
       "    <tr>\n",
       "      <th>1</th>\n",
       "      <td>42</td>\n",
       "    </tr>\n",
       "    <tr>\n",
       "      <th>2</th>\n",
       "      <td>57</td>\n",
       "    </tr>\n",
       "    <tr>\n",
       "      <th>3</th>\n",
       "      <td>79</td>\n",
       "    </tr>\n",
       "    <tr>\n",
       "      <th>4</th>\n",
       "      <td>26</td>\n",
       "    </tr>\n",
       "    <tr>\n",
       "      <th>5</th>\n",
       "      <td>23</td>\n",
       "    </tr>\n",
       "    <tr>\n",
       "      <th>6</th>\n",
       "      <td>36</td>\n",
       "    </tr>\n",
       "    <tr>\n",
       "      <th>7</th>\n",
       "      <td>64</td>\n",
       "    </tr>\n",
       "    <tr>\n",
       "      <th>8</th>\n",
       "      <td>83</td>\n",
       "    </tr>\n",
       "    <tr>\n",
       "      <th>9</th>\n",
       "      <td>135</td>\n",
       "    </tr>\n",
       "    <tr>\n",
       "      <th>10</th>\n",
       "      <td>41</td>\n",
       "    </tr>\n",
       "    <tr>\n",
       "      <th>11</th>\n",
       "      <td>21</td>\n",
       "    </tr>\n",
       "    <tr>\n",
       "      <th>12</th>\n",
       "      <td>67</td>\n",
       "    </tr>\n",
       "    <tr>\n",
       "      <th>13</th>\n",
       "      <td>108</td>\n",
       "    </tr>\n",
       "    <tr>\n",
       "      <th>14</th>\n",
       "      <td>84</td>\n",
       "    </tr>\n",
       "    <tr>\n",
       "      <th>15</th>\n",
       "      <td>50</td>\n",
       "    </tr>\n",
       "    <tr>\n",
       "      <th>16</th>\n",
       "      <td>78</td>\n",
       "    </tr>\n",
       "  </tbody>\n",
       "</table>\n",
       "</div>"
      ],
      "text/plain": [
       "    serial_number\n",
       "0              47\n",
       "1              42\n",
       "2              57\n",
       "3              79\n",
       "4              26\n",
       "5              23\n",
       "6              36\n",
       "7              64\n",
       "8              83\n",
       "9             135\n",
       "10             41\n",
       "11             21\n",
       "12             67\n",
       "13            108\n",
       "14             84\n",
       "15             50\n",
       "16             78"
      ]
     },
     "execution_count": 6,
     "metadata": {},
     "output_type": "execute_result"
    }
   ],
   "source": [
    "observations = pd.read_csv(\"https://raw.githubusercontent.com/urielmoreirasilva/urielmoreirasilva.github.io/refs/heads/main/labs/Laborat%C3%B3rio%205/data/serial_numbers.csv\")\n",
    "num_observations = observations.shape[0]\n",
    "observations"
   ]
  },
  {
   "cell_type": "markdown",
   "metadata": {
    "id": "yXIX3jUVh5zt"
   },
   "source": [
    "#### **Pergunta 2.2.** \n",
    "\n",
    "Defina uma função chamada `plot_serial_numbers` que elabore um histograma de qualquer DataFrame contendo os números de série dos tanques produzidos, da seguinte forma:\n",
    "\n",
    "1. Essa função deve tomar apenas um argumento: um DataFrame `df`, com uma única coluna chamada `'serial_number'`; \n",
    "1. Ao invocarmos essa função, ela deve traçar um histograma dos valores na coluna `'serial_number'` **com janelas (_bins_) de tamanho igual a 1**, variando de **1 a 200 (inclusivo)**, mas não retornar nada. "
   ]
  },
  {
   "cell_type": "code",
   "execution_count": 7,
   "metadata": {
    "id": "jW72U2cVh5zt"
   },
   "outputs": [],
   "source": [
    "def plot_serial_numbers(df):\n",
    "    df['serial_number'].plot(kind = 'hist', \n",
    "                                bins = np.arange(1, 200 + 1, 1),\n",
    "                                density = True, \n",
    "                                ec = 'w')"
   ]
  },
  {
   "cell_type": "markdown",
   "metadata": {},
   "source": [
    "#### **Pergunta 2.3.** \n",
    "\n",
    "Invoque a função `plot_serial_numbers` definida na Pergunta 2.2. na célula de código abaixo para fazer um histograma de `observations`."
   ]
  },
  {
   "cell_type": "code",
   "execution_count": 8,
   "metadata": {},
   "outputs": [
    {
     "data": {
      "image/png": "[encoded data removed]",
      "text/plain": [
       "<Figure size 1000x500 with 1 Axes>"
      ]
     },
     "metadata": {},
     "output_type": "display_data"
    }
   ],
   "source": [
    "plot_serial_numbers(observations)"
   ]
  },
  {
   "cell_type": "markdown",
   "metadata": {
    "id": "eQn8HRAhh5zt"
   },
   "source": [
    "***Verificando sua resposta***: seu histograma deve ter barras com a mesma altura, e o eixo x deve variar de 0 a 200!"
   ]
  },
  {
   "cell_type": "markdown",
   "metadata": {
    "id": "up3rFnd5h5zt"
   },
   "source": [
    "#### **Pergunta 2.4.** \n",
    "\n",
    "Como estamos tentando estimar o máximo da população, `N`, uma estatística natural a ser utilizada como nosso estimador é o **máximo amostral**. Dessa forma, podemos estimar o número total de tanques como sendo o maior número de série contido em nossa amostra.\n",
    "\n",
    "Escreva abaixo uma função chamada `calculate_max_based_estimate` que calcula essa estatística em uma determinada `Series` de números de série, da seguinte forma:\n",
    "\n",
    "1. Essa função deve tomar como argumento uma `Series` de números de série;\n",
    "1. Ao invocarmos essa função, ela deve retornar o máximo da `Series` dada como argumento."
   ]
  },
  {
   "cell_type": "code",
   "execution_count": 9,
   "metadata": {
    "id": "haZyJLqlh5zt"
   },
   "outputs": [],
   "source": [
    "def calculate_max_based_estimate(nums):\n",
    "    return(nums.max())"
   ]
  },
  {
   "cell_type": "markdown",
   "metadata": {},
   "source": [
    "#### **Pergunta 2.5.** \n",
    "\n",
    "Invoque a função `calculate_max_based_estimate` definida na Pergunta 2.4. na célula de código abaixo para calcular uma estimativa de `N` usando os números de série em `observations`. Chame o resultado de `max_based_estimate`."
   ]
  },
  {
   "cell_type": "code",
   "execution_count": 10,
   "metadata": {},
   "outputs": [
    {
     "data": {
      "text/plain": [
       "serial_number    135\n",
       "dtype: int64"
      ]
     },
     "execution_count": 10,
     "metadata": {},
     "output_type": "execute_result"
    }
   ],
   "source": [
    "max_based_estimate = calculate_max_based_estimate(observations)\n",
    "max_based_estimate"
   ]
  },
  {
   "cell_type": "markdown",
   "metadata": {
    "id": "yB-5yVYWh5zu"
   },
   "source": [
    "#### **Pergunta 2.6.** \n",
    "\n",
    "Sob as hipóteses feitas acima (veja as referências para mais detalhes), uma outra maneira de estimarmos `N` é tomar **duas vezes a média** dos números de série contidos em nossa amostra.\n",
    "\n",
    "Escreva abaixo uma função chamada `calculate_mean_based_estimate` que calcula essa estatística, da seguinte forma:\n",
    "\n",
    "1. Essa função deve tomar como argumento uma `Series` de números de série;\n",
    "1. Ao invocarmos essa função, ela deve retornar o dobro da média da `Series` dada como argumento."
   ]
  },
  {
   "cell_type": "code",
   "execution_count": 11,
   "metadata": {
    "id": "K41TDpfeh5zu"
   },
   "outputs": [],
   "source": [
    "def calculate_mean_based_estimate(nums):\n",
    "    return(2*nums.mean())"
   ]
  },
  {
   "cell_type": "markdown",
   "metadata": {},
   "source": [
    "#### **Pergunta 2.7.** \n",
    "\n",
    "Invoque a função `calculate_mean_based_estimate` definida na Pergunta 2.6. na célula de código abaixo para calcular uma estimativa de `N` usando os números de série em `observations`. Chame o resultado de `mean_based_estimate`."
   ]
  },
  {
   "cell_type": "code",
   "execution_count": 12,
   "metadata": {},
   "outputs": [
    {
     "data": {
      "text/plain": [
       "serial_number    122.470588\n",
       "dtype: float64"
      ]
     },
     "execution_count": 12,
     "metadata": {},
     "output_type": "execute_result"
    }
   ],
   "source": [
    "mean_based_estimate = calculate_mean_based_estimate(observations)\n",
    "mean_based_estimate"
   ]
  },
  {
   "cell_type": "markdown",
   "metadata": {
    "id": "wi0ddH-Nh5zu"
   },
   "source": [
    "#### **Pergunta 2.8.** \n",
    "\n",
    "Veja abaixo os valores de `max_based_estimate` e `mean_based_estimate`."
   ]
  },
  {
   "cell_type": "code",
   "execution_count": 13,
   "metadata": {
    "id": "ThnVQTrnh5zu"
   },
   "outputs": [
    {
     "data": {
      "text/plain": [
       "serial_number    135\n",
       "dtype: int64"
      ]
     },
     "execution_count": 13,
     "metadata": {},
     "output_type": "execute_result"
    }
   ],
   "source": [
    "max_based_estimate"
   ]
  },
  {
   "cell_type": "code",
   "execution_count": 14,
   "metadata": {
    "id": "mamhf4MPh5zu"
   },
   "outputs": [
    {
     "data": {
      "text/plain": [
       "serial_number    122.470588\n",
       "dtype: float64"
      ]
     },
     "execution_count": 14,
     "metadata": {},
     "output_type": "execute_result"
    }
   ],
   "source": [
    "mean_based_estimate"
   ]
  },
  {
   "cell_type": "markdown",
   "metadata": {
    "id": "P9S0O7dlh5zu"
   },
   "source": [
    "Refletindo um pouco sobre os valores dessas estimativas e as definições de suas estatísticas correspondentes, é possível que `mean_based_estimate` seja _exatamente_ igual a `N` (suponha que antes arredondemos `mean_based_estimate` para o inteiro mais próximo)? Caso contrário, ainda é possível dizer se `mean_based_estimate` é maior ou menor que `N`? Preencha a célula de texto abaixo com as afirmativas **verdadeiras**.\n",
    "\n",
    "**A**. Sim, `mean_based_estimate` pode ser igual a `N`.\n",
    "\n",
    "**B**. Não, `mean_based_estimate` não pode ser igual a `N`, e é definitivamente menor em aproximadamente 3 unidades.\n",
    "\n",
    "**C**. Não, `mean_based_estimate` não pode ser igual a `N`, e é definitivamente menor em pelo menos 12 unidades.\n",
    "\n",
    "**D**. Não, `mean_based_estimate` não pode ser igual a `N`, e é definitivamente maior em aproximadamente 3 unidades.\n",
    "\n",
    "**E**. Não, `mean_based_estimate` não pode ser igual a `N`, e é definitivamente maior em pelo menos 12 unidades.\n",
    "\n",
    "**F**. Não, `mean_based_estimate` não pode ser igual a `N`, mas também não podemos dizer se é menor ou maior."
   ]
  },
  {
   "cell_type": "markdown",
   "metadata": {},
   "source": [
    "> **F**."
   ]
  },
  {
   "cell_type": "markdown",
   "metadata": {
    "id": "QWqKorRVh5zv"
   },
   "source": [
    "## 3. Bootstrapping 🥾"
   ]
  },
  {
   "cell_type": "markdown",
   "metadata": {},
   "source": [
    "Após calcularmos as estimativa pontuais para `N` dadas em `max_based_estimate` ou `mean_based_estimate`, não podemos afirmar com certeza se essas estimativas são \"iguais\" ou mesmo \"próximas\" ao parâmetro populacional `N`, porque `N` é desconhecido!\n",
    "\n",
    "Nesta seção, vamos então quantificar a incerteza (ou aferir a precisão) sobre nossas estimativas."
   ]
  },
  {
   "cell_type": "markdown",
   "metadata": {
    "id": "phnF63G_h5zv"
   },
   "source": [
    "#### **Pergunta 3.1.** \n",
    "\n",
    "Escreva uma função abaixo chamada `simulate_resample`, da seguinte forma:\n",
    "\n",
    "1. Essa função não deve receber argumentos e deve gerar uma nova amostra (**com reposição**) a partir dos números de série contidos em `observations`;\n",
    "2. Ao invocarmos essa função, ela deve retornar essa nova amostra na forma de um `DataFrame`.\n",
    "\n",
    "_<ins> Dica</ins>_: Use o método `.sample`."
   ]
  },
  {
   "cell_type": "code",
   "execution_count": 15,
   "metadata": {
    "id": "QIgo1d0ih5zv"
   },
   "outputs": [],
   "source": [
    "def simulate_resample():\n",
    "    return(observations.sample(n = num_observations, replace = True))"
   ]
  },
  {
   "cell_type": "markdown",
   "metadata": {},
   "source": [
    "#### **Pergunta 3.2.** \n",
    "\n",
    "Invoque a função `simulate_resample` definida na Pergunta 3.1. na célula de código abaixo para gerar uma reamostra de `observations`. Chame o resultado de `one_resample`.\n",
    "\n",
    "_<ins> Dica</ins>_: fixe a semente aleatória com `np.random.seed(123)` no cabeçalho da célula para garantir reproducibilidade!"
   ]
  },
  {
   "cell_type": "code",
   "execution_count": 16,
   "metadata": {},
   "outputs": [
    {
     "data": {
      "text/html": [
       "<div>\n",
       "<style scoped>\n",
       "    .dataframe tbody tr th:only-of-type {\n",
       "        vertical-align: middle;\n",
       "    }\n",
       "\n",
       "    .dataframe tbody tr th {\n",
       "        vertical-align: top;\n",
       "    }\n",
       "\n",
       "    .dataframe thead th {\n",
       "        text-align: right;\n",
       "    }\n",
       "</style>\n",
       "<table border=\"1\" class=\"dataframe\">\n",
       "  <thead>\n",
       "    <tr style=\"text-align: right;\">\n",
       "      <th></th>\n",
       "      <th>serial_number</th>\n",
       "    </tr>\n",
       "  </thead>\n",
       "  <tbody>\n",
       "    <tr>\n",
       "      <th>13</th>\n",
       "      <td>108</td>\n",
       "    </tr>\n",
       "    <tr>\n",
       "      <th>2</th>\n",
       "      <td>57</td>\n",
       "    </tr>\n",
       "    <tr>\n",
       "      <th>2</th>\n",
       "      <td>57</td>\n",
       "    </tr>\n",
       "    <tr>\n",
       "      <th>6</th>\n",
       "      <td>36</td>\n",
       "    </tr>\n",
       "    <tr>\n",
       "      <th>10</th>\n",
       "      <td>41</td>\n",
       "    </tr>\n",
       "    <tr>\n",
       "      <th>1</th>\n",
       "      <td>42</td>\n",
       "    </tr>\n",
       "    <tr>\n",
       "      <th>0</th>\n",
       "      <td>47</td>\n",
       "    </tr>\n",
       "    <tr>\n",
       "      <th>15</th>\n",
       "      <td>50</td>\n",
       "    </tr>\n",
       "    <tr>\n",
       "      <th>9</th>\n",
       "      <td>135</td>\n",
       "    </tr>\n",
       "    <tr>\n",
       "      <th>0</th>\n",
       "      <td>47</td>\n",
       "    </tr>\n",
       "    <tr>\n",
       "      <th>14</th>\n",
       "      <td>84</td>\n",
       "    </tr>\n",
       "    <tr>\n",
       "      <th>0</th>\n",
       "      <td>47</td>\n",
       "    </tr>\n",
       "    <tr>\n",
       "      <th>15</th>\n",
       "      <td>50</td>\n",
       "    </tr>\n",
       "    <tr>\n",
       "      <th>14</th>\n",
       "      <td>84</td>\n",
       "    </tr>\n",
       "    <tr>\n",
       "      <th>4</th>\n",
       "      <td>26</td>\n",
       "    </tr>\n",
       "    <tr>\n",
       "      <th>0</th>\n",
       "      <td>47</td>\n",
       "    </tr>\n",
       "    <tr>\n",
       "      <th>16</th>\n",
       "      <td>78</td>\n",
       "    </tr>\n",
       "  </tbody>\n",
       "</table>\n",
       "</div>"
      ],
      "text/plain": [
       "    serial_number\n",
       "13            108\n",
       "2              57\n",
       "2              57\n",
       "6              36\n",
       "10             41\n",
       "1              42\n",
       "0              47\n",
       "15             50\n",
       "9             135\n",
       "0              47\n",
       "14             84\n",
       "0              47\n",
       "15             50\n",
       "14             84\n",
       "4              26\n",
       "0              47\n",
       "16             78"
      ]
     },
     "execution_count": 16,
     "metadata": {},
     "output_type": "execute_result"
    }
   ],
   "source": [
    "## Para garantir reproducibilidade\n",
    "np.random.seed(123)\n",
    "\n",
    "one_resample = simulate_resample()\n",
    "one_resample"
   ]
  },
  {
   "cell_type": "markdown",
   "metadata": {
    "id": "6Nwq8vIGh5zv"
   },
   "source": [
    "#### **Pergunta 3.3.** \n",
    "\n",
    "Faça um histograma de `one_resample` produzida na Pergunta 3.2. **e** um histograma separado das observações originais em `observations` nas 2 células de código que seguem abaixo.\n",
    "\n",
    "**Importante**: Para essa pergunta, certifique-se de usar a função `plot_serial_numbers` que você definiu na Pergunta 2.2."
   ]
  },
  {
   "cell_type": "code",
   "execution_count": 17,
   "metadata": {
    "id": "YMMmSOplh5zw"
   },
   "outputs": [
    {
     "data": {
      "image/png": "[encoded data removed]",
      "text/plain": [
       "<Figure size 1000x500 with 1 Axes>"
      ]
     },
     "metadata": {},
     "output_type": "display_data"
    }
   ],
   "source": [
    "## Histograma da reamostragem\n",
    "plot_serial_numbers(one_resample)"
   ]
  },
  {
   "cell_type": "code",
   "execution_count": 18,
   "metadata": {
    "id": "Ycsg6BUlh5zw"
   },
   "outputs": [
    {
     "data": {
      "image/png": "[encoded data removed]",
      "text/plain": [
       "<Figure size 1000x500 with 1 Axes>"
      ]
     },
     "metadata": {},
     "output_type": "display_data"
    }
   ],
   "source": [
    "## Histogram das observações originais\n",
    "plot_serial_numbers(observations)"
   ]
  },
  {
   "cell_type": "markdown",
   "metadata": {
    "id": "l8Pc_XoVh5zw"
   },
   "source": [
    "#### **Pergunta 3.4.**\n",
    "\n",
    "Com base nos histogramas produzidos na Pergunta 3.3., preencha a célula de texto abaixo com as afirmativas **verdadeiras**.\n",
    "\n",
    "**A**. No histograma de `one_resample`, não há barras em locais que não existem no histograma de `observations`.\n",
    "\n",
    "**B**. No histograma de `observations`, não há barras em locais que não existem no histograma de `one_resample`.\n",
    "\n",
    "**C**. Não existem números de série duplicados em `one_resample`.\n",
    "\n",
    "**D**. Não existem números de série duplicados em `observations`."
   ]
  },
  {
   "cell_type": "markdown",
   "metadata": {},
   "source": [
    "> **B** e **D**."
   ]
  },
  {
   "cell_type": "markdown",
   "metadata": {
    "id": "AjxLiF9Kh5zw"
   },
   "source": [
    "#### **Pergunta 3.5.**\n",
    "\n",
    "Crie mais 2 reamostras abaixo utilizando a função `simulate_resample` definida na Pergunta 3.1. Elabore um histograma e calcule as estimativas baseadas no máximo e na média de cada reamostra, printando os resultados correspondentes."
   ]
  },
  {
   "cell_type": "code",
   "execution_count": 19,
   "metadata": {
    "id": "_8GluVl-h5zw"
   },
   "outputs": [
    {
     "name": "stdout",
     "output_type": "stream",
     "text": [
      "Estimativa baseada na média da reamostra 1: serial_number    128.823529\n",
      "dtype: float64\n",
      "Estimativa baseada no máximo do reamostra 1: serial_number    135\n",
      "dtype: int64\n",
      "\n",
      "\n",
      "Estimativa baseada na média da reamostra 2: serial_number    106.823529\n",
      "dtype: float64\n",
      "Estimativa baseada no máximo do reamostra 2: serial_number    108\n",
      "dtype: int64\n",
      "\n",
      "\n"
     ]
    },
    {
     "data": {
      "image/png": "[encoded data removed]",
      "text/plain": [
       "<Figure size 1000x500 with 1 Axes>"
      ]
     },
     "metadata": {},
     "output_type": "display_data"
    }
   ],
   "source": [
    "## Nota: aqui utilizamos np.arange(2) no loop abaixo pois queremos duas reamostras\n",
    "## --- Alternativamente, poderíamos também usar range(2)\n",
    "\n",
    "## Loop principal\n",
    "for i in np.arange(2):\n",
    "    resample = simulate_resample()\n",
    "\n",
    "    ## Plote o histograma dessa reamostra\n",
    "    plot_serial_numbers(resample)\n",
    "\n",
    "    ## Calcule as estimativas baseadas na média e no máximo dessa reamostra\n",
    "    mean_based_estimate_resample = calculate_mean_based_estimate(resample)\n",
    "    max_based_estimate_resample = calculate_max_based_estimate(resample)\n",
    "\n",
    "    ## Faça o print dos resultados!\n",
    "    print(f\"Estimativa baseada na média da reamostra {i + 1}:\", mean_based_estimate_resample)\n",
    "    print(f\"Estimativa baseada no máximo do reamostra {i + 1}:\", max_based_estimate_resample)\n",
    "    print('\\n')"
   ]
  },
  {
   "cell_type": "markdown",
   "metadata": {},
   "source": [
    "**_Verificando sua resposta_**: existe uma alta probabilidade de que `max_based_estimate_resample` seja _exatamente_ igual a 135, mais de uma vez! (execute a célula acima algumas vezes e você quase certamente verá isso acontecer). \n",
    "\n",
    "- Por outro lado, em geral as `mean_based_estimate_resample`'s quase sempre serão distintas, e também diferentes de `mean_based_estimate` (a estimativa dada na Pergunta 2.7., calculada com base na amostra original)."
   ]
  },
  {
   "cell_type": "markdown",
   "metadata": {},
   "source": [
    "#### **Pergunta 3.5.**\n",
    "\n",
    "Discorra brevemente na célula de texto abaixo sobre porque você acha razoável que `max_based_estimate_resample` seja exatamente igual em reamostras diferentes. O que isso te diz sobre a eficácia do bootstrap para esse tipo de estatística? "
   ]
  },
  {
   "cell_type": "markdown",
   "metadata": {},
   "source": [
    "> ..."
   ]
  },
  {
   "cell_type": "markdown",
   "metadata": {
    "id": "D30OlaYuh5zw"
   },
   "source": [
    "#### **DESAFIO.**\n",
    "\n",
    "Calcule a probabilidade _exata_ de que uma estimativa baseada no máximo de uma reamostra de nossa amostra seja igual a 135. Escreva o resultado na célula de texto abaixo.\n",
    "\n",
    "**Nota**: esta é uma questão de **probabilidade** (e logo de **matemática**), não de programação!\n",
    "\n",
    "_<ins> Dica</ins>_:  Lembre que aqui $n = 17$, e tente pensar na probabilidade de _qualquer_ um dos elementos da nossa reamostra ser igual a 135."
   ]
  },
  {
   "cell_type": "markdown",
   "metadata": {},
   "source": [
    "**_Verificando sua resposta_**: a probabilidade em questão é maior do que 60%."
   ]
  },
  {
   "cell_type": "markdown",
   "metadata": {},
   "source": [
    "> ..."
   ]
  },
  {
   "cell_type": "markdown",
   "metadata": {
    "id": "kiwVxdYsh5zx"
   },
   "source": [
    "## 4. Intervalos de Confiança 📓\n",
    "\n",
    "Agora, vamos aplicar toda a parte de bootstrap desenvolvida acima para finalmente aproximar a distribuição amostral das estatísticas acima e quantificar nossa incerteza sobre as estimativas de `N`!"
   ]
  },
  {
   "cell_type": "markdown",
   "metadata": {},
   "source": [
    "#### **Pergunta 4.1.**\n",
    "\n",
    "Escreva uma função abaixo chamada `simulate_estimates`, da seguinte forma:\n",
    "\n",
    "1. Essa função deve receber 4 argumentos:\n",
    "    - `original_df`: um `DataFrame` do qual os dados devem ser amostrados, com uma coluna chamada `'serial_number'`;\n",
    "    - `sample_size`: o tamanho amostral $n$ de cada amostra, isto é, um número inteiro (por exemplo o número de linhas em `original_df`);\n",
    "    - `statistic`: uma **função** que calcula uma estatística em uma amostra (mais especificamente, tome `statistic` como o **nome de uma função** que recebe uma `Series` de números de série como argumento e retorne um número, como por exemplo `calculate_mean_based_estimate`);\n",
    "    - `repetitions`: o número de repetições $B$ a serem realizadas (ou seja, o número de reamostras que vamos criar).\n",
    "<!---->\n",
    "1. Ao invocarmos essa função, ela deve simular $B = $ `repetitions` amostras **com reposição** de tamanho `sample_size` do `DataFrame` `original_df` fornecido como argumento;\n",
    "1. Para cada uma das amostras produzidas, a função deve calcular e armazenar o valor da estatística `statistic` correspondente, e armazenar esse valor em um `Array`.\n",
    "1. A função deve retornar o `Array` contendo o valor da estatística `statistic` calculada para cada reamostra (isso implica que o comprimento do `Array` retornado deve ser igual a `repetitions`)."
   ]
  },
  {
   "cell_type": "code",
   "execution_count": 20,
   "metadata": {
    "id": "ghMfDFXoh5zx"
   },
   "outputs": [],
   "source": [
    "def simulate_estimates(original_df, sample_size, statistic, repetitions):\n",
    "    ## Inicialização\n",
    "    boot_dist = np.array([])\n",
    "\n",
    "    ## Loop principal\n",
    "    for i in np.arange(repetitions):\n",
    "        resample = original_df.sample(n = sample_size, replace = True)\n",
    "        estimate = statistic(resample)\n",
    "        boot_dist = np.append(boot_dist, estimate)\n",
    "\n",
    "    ## Return\n",
    "    return(boot_dist)"
   ]
  },
  {
   "cell_type": "markdown",
   "metadata": {},
   "source": [
    "#### **Pergunta 4.2.**\n",
    "\n",
    "Utilize o código abaixo para testar sua implementação da função `simulate_estimates` definida na Pergunta 4.1."
   ]
  },
  {
   "cell_type": "code",
   "execution_count": 21,
   "metadata": {
    "id": "ghMfDFXoh5zx"
   },
   "outputs": [
    {
     "data": {
      "image/png": "[encoded data removed]",
      "text/plain": [
       "<Figure size 1000x500 with 1 Axes>"
      ]
     },
     "metadata": {},
     "output_type": "display_data"
    }
   ],
   "source": [
    "## O código abaixo deve gerar um histograma com `mean_based_estimates`\n",
    "## de B = 10.000 exemplos de tamanho n = 50 de uma amostra aleatória uniforme com `N` = 1000\n",
    "example_estimates = simulate_estimates(\n",
    "    pd.DataFrame({\"serial_number\" : np.arange(1, 1000 + 1)}),\n",
    "    50,\n",
    "    calculate_mean_based_estimate,\n",
    "    10000)\n",
    "\n",
    "## Descomente e execute\n",
    "pd.DataFrame({\"mean_based_estimate\" : example_estimates}).plot(kind = 'hist', density = True, bins = np.arange(500, 1500, 25), ec = 'w');"
   ]
  },
  {
   "cell_type": "markdown",
   "metadata": {
    "id": "iMLJlDUkh5zx"
   },
   "source": [
    "***Verificando sua resposta***: o histograma elaborado acima deve ser uma curva em forma de sino centrada em `N`= 1.000, com a maior parte de sua massa no intervalo [800, 1.200]."
   ]
  },
  {
   "cell_type": "markdown",
   "metadata": {
    "id": "V4pbVZ_wh5zy"
   },
   "source": [
    "Agora podemos voltar à amostra que realmente observamos (`observations`) e estimar o quanto nossa estimativa de `N` baseada na média varia de amostra para amostra."
   ]
  },
  {
   "cell_type": "markdown",
   "metadata": {
    "id": "jHy2OXUgh5zy"
   },
   "source": [
    "#### **Pergunta 4.3.**\n",
    "\n",
    "Utilizando um bootstrap com $B = 5.000$ repetições na nossa amostra `observations`, construa uma distribuição amostral empírica para as **estimativas baseadas na média** (`mean_based_estimate`'s) para `N`, e armazene as estimativas em `bootstrap_estimates`.\n",
    "\n",
    "_<ins> Dica</ins>_: O procedimento acima deve retornar um `Array`, e requer apenas _uma linha de código_; basta invocar sua função `simulate_estimates`!"
   ]
  },
  {
   "cell_type": "code",
   "execution_count": 22,
   "metadata": {},
   "outputs": [
    {
     "data": {
      "text/plain": [
       "array([117.29411765, 133.17647059, 108.70588235, ..., 141.64705882,\n",
       "       125.52941176, 132.23529412])"
      ]
     },
     "execution_count": 22,
     "metadata": {},
     "output_type": "execute_result"
    }
   ],
   "source": [
    "bootstrap_estimates = simulate_estimates(observations, num_observations, calculate_mean_based_estimate, 5000)\n",
    "bootstrap_estimates"
   ]
  },
  {
   "cell_type": "markdown",
   "metadata": {},
   "source": [
    "#### **Pergunta 4.4.**\n",
    "\n",
    "Elabore um histograma na célula de código abaixo para visualizar a distribuição bootsrap em `bootstrap_estimates` construída na Pergunta 4.3."
   ]
  },
  {
   "cell_type": "code",
   "execution_count": 23,
   "metadata": {
    "id": "jnoj3U57h5zy"
   },
   "outputs": [
    {
     "data": {
      "image/png": "[encoded data removed]",
      "text/plain": [
       "<Figure size 1000x500 with 1 Axes>"
      ]
     },
     "metadata": {},
     "output_type": "display_data"
    }
   ],
   "source": [
    "## Descomente e execute\n",
    "pd.DataFrame({\"mean_based_estimate\" : bootstrap_estimates}).plot(kind = 'hist', density=True, bins = np.arange(0, 200, 4), ec = 'w');"
   ]
  },
  {
   "cell_type": "markdown",
   "metadata": {
    "id": "5G2EDDUuh5zy"
   },
   "source": [
    "#### **Pergunta 4.5.**\n",
    "\n",
    "Calcule um intervalo de 95\\% de confiança para `N` com base na distribuição bootstrap em `bootstrap_estimates` construída na Pergunta 4.3.\n",
    "\n",
    "_<ins> Dica</ins>_: use [`np.percentile`](https://numpy.org/doc/stable/reference/generated/numpy.percentile.html) aqui, e assegure-se de tomar dois percentis $a < b$ cuja _soma_ das respectivas àrea à esquerda de $a$ e à direita de $b$ sejam iguais a 5\\%."
   ]
  },
  {
   "cell_type": "code",
   "execution_count": 24,
   "metadata": {
    "id": "1BxKSLIKh5zy"
   },
   "outputs": [
    {
     "name": "stdout",
     "output_type": "stream",
     "text": [
      "Intervalo de 95% de confiança bootstrap: [94.941176, 152.005882]\n"
     ]
    }
   ],
   "source": [
    "## Descomente e execute\n",
    "L = np.percentile(bootstrap_estimates, 2.5)\n",
    "U = np.percentile(bootstrap_estimates, 97.5)\n",
    "print(\"Intervalo de 95% de confiança bootstrap: [{:f}, {:f}]\".format(L, U))"
   ]
  },
  {
   "cell_type": "markdown",
   "metadata": {},
   "source": [
    "#### **Pergunta 4.6.**\n",
    "\n",
    "Na célula de código abaixo, sobreponha o intervalo de 95\\% de confiança para `N` calculado na Pergunta 4.5. ao histograma elaborado na Pergunta 4.3."
   ]
  },
  {
   "cell_type": "code",
   "execution_count": 25,
   "metadata": {},
   "outputs": [
    {
     "data": {
      "image/png": "[encoded data removed]",
      "text/plain": [
       "<Figure size 1000x500 with 1 Axes>"
      ]
     },
     "metadata": {},
     "output_type": "display_data"
    }
   ],
   "source": [
    "pd.DataFrame({\"mean_based_estimate\" : bootstrap_estimates}).plot(kind = 'hist', density=True, bins = np.arange(0, 200, 4), ec = 'w');\n",
    "plt.plot([L, U], [0, 0], color = 'gold', linewidth = 12, label = '95% percentile interval', zorder = 2);"
   ]
  },
  {
   "cell_type": "markdown",
   "metadata": {},
   "source": [
    "**_Verificando seu resultado_**: seu intervalo de confiança deve cobrir aproximadamente 95% da área do histograma acima!"
   ]
  },
  {
   "cell_type": "markdown",
   "metadata": {
    "id": "Od_8utXih5zz"
   },
   "source": [
    "## 5. Com ou sem reposição? 🔂\n",
    "\n",
    "Cada vez que reamostramos da nossa amostra original, fazemos essa reamostragem **com reposição**. O que aconteceria então se tentássemos reamostrar _sem reposição_? 🤔"
   ]
  },
  {
   "cell_type": "markdown",
   "metadata": {},
   "source": [
    "Primeiramente, vamos começar mais uma vez com nossa amostra original, `observations`:"
   ]
  },
  {
   "cell_type": "code",
   "execution_count": 26,
   "metadata": {},
   "outputs": [
    {
     "data": {
      "text/html": [
       "<div>\n",
       "<style scoped>\n",
       "    .dataframe tbody tr th:only-of-type {\n",
       "        vertical-align: middle;\n",
       "    }\n",
       "\n",
       "    .dataframe tbody tr th {\n",
       "        vertical-align: top;\n",
       "    }\n",
       "\n",
       "    .dataframe thead th {\n",
       "        text-align: right;\n",
       "    }\n",
       "</style>\n",
       "<table border=\"1\" class=\"dataframe\">\n",
       "  <thead>\n",
       "    <tr style=\"text-align: right;\">\n",
       "      <th></th>\n",
       "      <th>serial_number</th>\n",
       "    </tr>\n",
       "  </thead>\n",
       "  <tbody>\n",
       "    <tr>\n",
       "      <th>0</th>\n",
       "      <td>47</td>\n",
       "    </tr>\n",
       "    <tr>\n",
       "      <th>1</th>\n",
       "      <td>42</td>\n",
       "    </tr>\n",
       "    <tr>\n",
       "      <th>2</th>\n",
       "      <td>57</td>\n",
       "    </tr>\n",
       "    <tr>\n",
       "      <th>3</th>\n",
       "      <td>79</td>\n",
       "    </tr>\n",
       "    <tr>\n",
       "      <th>4</th>\n",
       "      <td>26</td>\n",
       "    </tr>\n",
       "    <tr>\n",
       "      <th>5</th>\n",
       "      <td>23</td>\n",
       "    </tr>\n",
       "    <tr>\n",
       "      <th>6</th>\n",
       "      <td>36</td>\n",
       "    </tr>\n",
       "    <tr>\n",
       "      <th>7</th>\n",
       "      <td>64</td>\n",
       "    </tr>\n",
       "    <tr>\n",
       "      <th>8</th>\n",
       "      <td>83</td>\n",
       "    </tr>\n",
       "    <tr>\n",
       "      <th>9</th>\n",
       "      <td>135</td>\n",
       "    </tr>\n",
       "    <tr>\n",
       "      <th>10</th>\n",
       "      <td>41</td>\n",
       "    </tr>\n",
       "    <tr>\n",
       "      <th>11</th>\n",
       "      <td>21</td>\n",
       "    </tr>\n",
       "    <tr>\n",
       "      <th>12</th>\n",
       "      <td>67</td>\n",
       "    </tr>\n",
       "    <tr>\n",
       "      <th>13</th>\n",
       "      <td>108</td>\n",
       "    </tr>\n",
       "    <tr>\n",
       "      <th>14</th>\n",
       "      <td>84</td>\n",
       "    </tr>\n",
       "    <tr>\n",
       "      <th>15</th>\n",
       "      <td>50</td>\n",
       "    </tr>\n",
       "    <tr>\n",
       "      <th>16</th>\n",
       "      <td>78</td>\n",
       "    </tr>\n",
       "  </tbody>\n",
       "</table>\n",
       "</div>"
      ],
      "text/plain": [
       "    serial_number\n",
       "0              47\n",
       "1              42\n",
       "2              57\n",
       "3              79\n",
       "4              26\n",
       "5              23\n",
       "6              36\n",
       "7              64\n",
       "8              83\n",
       "9             135\n",
       "10             41\n",
       "11             21\n",
       "12             67\n",
       "13            108\n",
       "14             84\n",
       "15             50\n",
       "16             78"
      ]
     },
     "execution_count": 26,
     "metadata": {},
     "output_type": "execute_result"
    }
   ],
   "source": [
    "observations"
   ]
  },
  {
   "cell_type": "markdown",
   "metadata": {
    "id": "RGH3uSr_h5z0"
   },
   "source": [
    "#### **Pergunta 5.1.**\n",
    "\n",
    "Na célula de código abaixo, reamostre `observations` $B = 5.000$ vezes, mas dessa vez **sem reposição**. Calcule a estimativa baseada na média `calculate_mean_based_estimate` (definida na Pergunta 2.6) em cada reamostra, e armazene as estimativas no `Array` `estimates_without_replacement`.\n",
    "\n",
    "**Importante**: você **não** pode usar sua função `simulate_estimates` aqui, porque ela faz reamostragem _com reposição_! \n",
    "\n",
    "_<ins> Dica</ins>_: porém, você pode **sim** copiar e colar a maior parte do código..."
   ]
  },
  {
   "cell_type": "code",
   "execution_count": 27,
   "metadata": {
    "id": "8TAfiL2zh5z0"
   },
   "outputs": [
    {
     "data": {
      "text/plain": [
       "array([122.47058824, 122.47058824, 122.47058824, ..., 122.47058824,\n",
       "       122.47058824, 122.47058824])"
      ]
     },
     "execution_count": 27,
     "metadata": {},
     "output_type": "execute_result"
    }
   ],
   "source": [
    "## Inicialização\n",
    "estimates_without_replacement = np.array([])\n",
    "\n",
    "## Loop principal\n",
    "for i in np.arange(5000):\n",
    "    resample = observations.sample(n = num_observations, replace = False)['serial_number']\n",
    "    estimate = calculate_mean_based_estimate(resample)\n",
    "    estimates_without_replacement = np.append(estimates_without_replacement, estimate)\n",
    "\n",
    "estimates_without_replacement"
   ]
  },
  {
   "cell_type": "markdown",
   "metadata": {
    "id": "URe-7kz2h5z0"
   },
   "source": [
    "#### **Pergunta 5.2.**\n",
    "\n",
    "Se você completou a Pergunta 5.1 corretamente, notará que todas as $B = 5.000$ estimativas são _idênticas_ e equivalem a aproximadamente 122,4706."
   ]
  },
  {
   "cell_type": "markdown",
   "metadata": {},
   "source": [
    "Este número é igual à estimativa `mean_based_estimate` calculada na Pergunta 2.7:"
   ]
  },
  {
   "cell_type": "code",
   "execution_count": 28,
   "metadata": {},
   "outputs": [
    {
     "data": {
      "text/plain": [
       "serial_number    122.470588\n",
       "dtype: float64"
      ]
     },
     "execution_count": 28,
     "metadata": {},
     "output_type": "execute_result"
    }
   ],
   "source": [
    "mean_based_estimate"
   ]
  },
  {
   "cell_type": "markdown",
   "metadata": {},
   "source": [
    "Isto é, todos os valores na distribuição bootstrap construída sem reposição são _exatamente iguais_ à estimativa feita com base na amostra original!"
   ]
  },
  {
   "cell_type": "code",
   "execution_count": 29,
   "metadata": {
    "id": "g6eBUeMRh5z0",
    "scrolled": true
   },
   "outputs": [
    {
     "data": {
      "text/plain": [
       "serial_number    122.470588\n",
       "dtype: float64"
      ]
     },
     "execution_count": 29,
     "metadata": {},
     "output_type": "execute_result"
    }
   ],
   "source": [
    "calculate_mean_based_estimate(observations)"
   ]
  },
  {
   "cell_type": "markdown",
   "metadata": {},
   "source": [
    "Faça uma breve reflexão na célula de texto abaixo sobre porque devemos **sempre** reamostrar com reposição ao realizarmos um bootstrap. \n",
    "\n",
    "_<ins> Dica</ins>_: pense na seguinte pergunta: \"se aqui nosso objetivo principal ao realizarmos um bootstrap é caracterizarmos a incerteza acerca da nossa estimativa pontual original através de uma distribuição (a distribuição bootstrap), qual o valor desse procedimento se todos os valores dessa distribuição são iguais?!\""
   ]
  },
  {
   "cell_type": "markdown",
   "metadata": {},
   "source": [
    "> ..."
   ]
  },
  {
   "cell_type": "markdown",
   "metadata": {
    "deletable": false,
    "editable": false,
    "id": "2F7YnwGJh5z1"
   },
   "source": [
    "<!-- COMEÇAR PERGUNTA -->\n",
    "\n",
    "<!--\n",
    "COMEÇAR PERGUNTA\n",
    "nome: q4_2\n",
    "manual: verdadeiro\n",
    "-->"
   ]
  },
  {
   "cell_type": "markdown",
   "metadata": {
    "id": "oqPWed6lh5z1"
   },
   "source": [
    "## Linha de chegada 🏁\n",
    "\n",
    "Parabéns! Você concluiu o Laboratório 5 com sucesso 👏👏👏\n",
    "\n",
    "Para enviar sua tarefa:\n",
    "\n",
    "1. Selecione `Kernel -> Restart Kernel and Run All Cells` para garantir que você executou todas as células, incluindo as células de teste.\n",
    "1. Leia o notebook do começo ao fim com cuidado para ter certeza de que está tudo bem e que todos os testes foram aprovados.\n",
    "1. Baixe seu notebook usando `File -> Save and Export Notebook As -> HTML` e, em seguida, carregue seu notebook para o Moodle."
   ]
  }
 ],
 "metadata": {
  "colab": {
   "provenance": []
  },
  "kernelspec": {
   "display_name": "Python 3 (ipykernel)",
   "language": "python",
   "name": "python3"
  },
  "language_info": {
   "codemirror_mode": {
    "name": "ipython",
    "version": 3
   },
   "file_extension": ".py",
   "mimetype": "text/x-python",
   "name": "python",
   "nbconvert_exporter": "python",
   "pygments_lexer": "ipython3",
   "version": "3.11.7"
  }
 },
 "nbformat": 4,
 "nbformat_minor": 4
}
