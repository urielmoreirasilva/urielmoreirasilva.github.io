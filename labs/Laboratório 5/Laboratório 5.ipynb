{
 "cells": [
  {
   "cell_type": "markdown",
   "metadata": {
    "id": "9rDg4kyGh5zn"
   },
   "source": [
    "# Laboratório 5: Reamostragem e Bootstrapping [<img src=\"images/colag_logo.svg\" style=\"float: right; margin-right: 0%; vertical-align: middle; width: 6.5%;\">](https://colab.research.google.com/github/urielmoreirasilva/urielmoreirasilva.github.io/blob/main/labs/Laborat%C3%B3rio%205%2FLaborat%C3%B3rio%205.ipynbLaborat%C3%B3rio%205%2FLaborat%C3%B3rio%205.ipynb) [<img src=\"images/github_logo.svg\" style=\"float: right; margin-right: 0%; vertical-align: middle; width: 3.25%;\">](https://github.com/urielmoreirasilva/urielmoreirasilva.github.io/blob/main/labs/Laborat%C3%B3rio%205%2FLaborat%C3%B3rio%205.ipynb)\n",
    "\n",
    "Bem-vindo ao Laboratório 5! Nesta tarefa, desenvolveremos uma compreensão mais aprofundada sobre estimativa de parâmetros e inicialização.\n",
    "\n",
    "Você deve concluir todo este laboratório e enviá-lo ao Moodle até às 23h59 da data de vencimento.\n",
    "\n",
    "### Referências\n",
    "- [CIT: Capítulos 9, 10 e 13](https://inferentialthinking.com/)\n",
    "- Aulas: Tópicos 11, 12, 13 e 14. \n",
    "\n",
    "Material adaptado do [DSC10 (UCSD)](https://dsc10.com/) por [Flavio Figueiredo (DCC-UFMG)](https://flaviovdf.io/fcd/) e [Uriel Silva (DEST-UFMG)](https://urielmoreirasilva.github.io)"
   ]
  },
  {
   "cell_type": "code",
   "execution_count": 20,
   "metadata": {
    "id": "SpHcPgQ-h5zo"
   },
   "outputs": [],
   "source": [
    "## Imports para esse laboratório\n",
    "import numpy as np\n",
    "import pandas as pd\n",
    "import math\n",
    "\n",
    "## Opções do MatplotLib \n",
    "import matplotlib.pyplot as plt\n",
    "plt.style.use('ggplot')\n",
    "plt.rcParams['figure.figsize'] = (10, 5)"
   ]
  },
  {
   "cell_type": "markdown",
   "metadata": {
    "id": "BS093W7Eh5zq"
   },
   "source": [
    "## 1. Percentis 🅿️"
   ]
  },
  {
   "cell_type": "markdown",
   "metadata": {
    "id": "Ry72Rxo2h5zq"
   },
   "source": [
    "#### Pergunta 1.1.\n",
    "\n",
    "Digamos que você esteja em uma turma com 10 alunos e as notas de todos os alunos da turma estão armazenadas na matriz `grades`. Sua pontuação é 84."
   ]
  },
  {
   "cell_type": "code",
   "execution_count": 24,
   "metadata": {
    "id": "UvR3D1y8h5zq"
   },
   "outputs": [],
   "source": [
    "grades = np.array([56, 65, 67, 72, 74, 78, 78, 80, 84, 94])"
   ]
  },
  {
   "cell_type": "markdown",
   "metadata": {},
   "source": [
    "[!]"
   ]
  },
  {
   "cell_type": "raw",
   "metadata": {
    "deletable": false,
    "editable": false,
    "id": "12tYuSVgh5zq"
   },
   "source": [
    "Qual das seguintes afirmações são verdadeiras? Use a definição matemática de percentil aqui.\n",
    "\n",
    "1. A pontuação mais alta é o percentil 100.\n",
    "2. Sua pontuação é superior ao percentil 80.\n",
    "3. Sua pontuação é inferior ao percentil 81.\n",
    "4. Sua pontuação é o 86º percentil.\n",
    "5. Uma pontuação de 78 é o percentil 50.\n",
    "\n",
    "Atribua `true_percentile` a uma `lista` contendo os números das afirmações verdadeiras."
   ]
  },
  {
   "cell_type": "markdown",
   "metadata": {},
   "source": [
    "Qual das seguintes afirmações são **verdadeiras**? Utilizando a _definição_ de percentil, preencha as respostas correspondentes na célula de Markdown seguinte.\n",
    "\n",
    "**A**. A pontuação mais alta está no percentil 100.\n",
    "\n",
    "**B**. Sua pontuação é superior ao percentil 80.\n",
    "\n",
    "**C**. Sua pontuação é inferior ao percentil 81.\n",
    "\n",
    "**D**. Sua pontuação está no percentil 86.\n",
    "\n",
    "**E**. Uma pontuação de 78 está no percentil 50."
   ]
  },
  {
   "cell_type": "markdown",
   "metadata": {},
   "source": [
    "> ..."
   ]
  },
  {
   "cell_type": "markdown",
   "metadata": {
    "id": "UEWeQdwxh5zr"
   },
   "source": [
    "#### Pergunta 1.2.\n",
    "\n",
    "Use a função `np.percentile` para calcular o percentil 50 de `grades` e salve o resultado como `p_50`."
   ]
  },
  {
   "cell_type": "code",
   "execution_count": 39,
   "metadata": {
    "id": "qsGxFOexh5zr"
   },
   "outputs": [
    {
     "data": {
      "text/plain": [
       "Ellipsis"
      ]
     },
     "execution_count": 39,
     "metadata": {},
     "output_type": "execute_result"
    }
   ],
   "source": [
    "p_50 = ...\n",
    "p_50"
   ]
  },
  {
   "cell_type": "markdown",
   "metadata": {
    "id": "qiRc9LmYh5zr"
   },
   "source": [
    "#### Pergunta 1.3.\n",
    "\n",
    "Use `np.median` para calcular a mediana de `grades` e salve o resultado como `median_grade`."
   ]
  },
  {
   "cell_type": "code",
   "execution_count": 58,
   "metadata": {
    "id": "FgImqXhkh5zs"
   },
   "outputs": [
    {
     "data": {
      "text/plain": [
       "Ellipsis"
      ]
     },
     "execution_count": 58,
     "metadata": {},
     "output_type": "execute_result"
    }
   ],
   "source": [
    "median_grade = ...\n",
    "median_grade"
   ]
  },
  {
   "cell_type": "markdown",
   "metadata": {
    "id": "qiRc9LmYh5zr"
   },
   "source": [
    "#### Pergunta 1.4.\n",
    "\n",
    "Compare **manualmente** as respostas das Perguntas 1.3. e 1.4.  Defina a variável `same` como `True` se os dois valores forem iguais, e `False` se forem diferentes.\n",
    "\n",
    "_<ins> Desafio </ins>_: tente não usar if/else aqui!"
   ]
  },
  {
   "cell_type": "code",
   "execution_count": 62,
   "metadata": {
    "id": "FgImqXhkh5zs"
   },
   "outputs": [
    {
     "data": {
      "text/plain": [
       "Ellipsis"
      ]
     },
     "execution_count": 62,
     "metadata": {},
     "output_type": "execute_result"
    }
   ],
   "source": [
    "same = ...\n",
    "same"
   ]
  },
  {
   "cell_type": "markdown",
   "metadata": {
    "id": "0d2pASbTh5zs"
   },
   "source": [
    "## 2. Preliminares da Inteligência Aliada 🧠\n",
    "\n",
    "Ao longo deste laboratório, estudaremos um problema estatístico conhecido como [German tank problem](https://en.wikipedia.org/wiki/German_tank_problem).\n",
    "\n",
    "Na Segunda Guerra Mundial, os Aliados (liderados pelos EUA, Reino Unido e União Soviética) queriam saber quantos tanques militares os alemães tinham produzido. No entanto, eles não conseguiam ter acesso aos dados dessa produção – tudo o que conseguiam observar era apenas uma **amostra** aleatória de tanques capturados em batalha.\n",
    "\n",
    "Para definir o problema de maneira mais precisa, suponha então que os tanques produzidos recebiam números de série (_serial numbers) que variavam de 1 a `N`, onde `N` era o número total de tanques produzidos. Os Aliados estavam então tentando estimar `N` (um **parâmetro populacional**) utilizando os números de série dos tanques capturados (sua amostra). \n",
    "\n",
    "Neste laboratório, assumiremos que a amostra dos Aliados era uma **amostra aleatória simples** da população de tanques produzidos (lembre-se: isso significa que cada elemento era amostrado de maneira independente, uniforme e _sem reposição_).\n",
    "\n",
    "<br>\n",
    "\n",
    "<center><img src='https://raw.githubusercontent.com/dsc-courses/dsc10-2023-wi/0c3fbe39e35e9db8cc1716ec5feb8c2f325cc103/labs/lab05/images/tank.jpg' width=400></center>\n",
    "\n",
    "<br>"
   ]
  },
  {
   "cell_type": "markdown",
   "metadata": {
    "id": "RSkSmi6Qh5zt"
   },
   "source": [
    "#### **Pergunta 2.1.** \n",
    "\n",
    "Se calcularmos uma estimativa de `N` com base na nossa amostra, essa quantidade é um _parâmetro_ ou uma _estatística_? Preencha a célula de Markdown seguinte com as afirmativas **verdadeiras**.\n",
    "\n",
    "**A**. `N` é um parâmetro, e logo uma estimativa para `N` calculada com base na amostra também é um parâmetro.\n",
    "\n",
    "**B**. `N` é um parâmetro, e uma estimativa para `N` calculada com base na amostra é uma estatística.\n",
    "\n",
    "**C**. `N` é uma estatística, e uma estimativa para `N` calculada com base na amostra é um parâmetro.\n",
    "\n",
    "**D**. `N` é uma estatística, e logo uma estimativa para `N` calculada com base na amostra também é uma estatística."
   ]
  },
  {
   "cell_type": "markdown",
   "metadata": {
    "id": "EjHptCE4h5zt"
   },
   "source": [
    "> ..."
   ]
  },
  {
   "cell_type": "markdown",
   "metadata": {
    "id": "229UKeqDh5zt"
   },
   "source": [
    "Para tornarmos o problema considerado nesse laboratório mais realista, suponha que aqui não tenhamos acesso ao número verdadeiro `N` de tanques produzidos pelos alemães, mas apenas uma amostra aleatória simples dos números de série dos tanques capturados pelos Aliados.\n",
    "\n",
    "Esses números de série estão contidos no DataFrame `observations` abaixo."
   ]
  },
  {
   "cell_type": "code",
   "execution_count": 108,
   "metadata": {
    "id": "874l4-Osh5zt"
   },
   "outputs": [
    {
     "data": {
      "text/html": [
       "<div>\n",
       "<style scoped>\n",
       "    .dataframe tbody tr th:only-of-type {\n",
       "        vertical-align: middle;\n",
       "    }\n",
       "\n",
       "    .dataframe tbody tr th {\n",
       "        vertical-align: top;\n",
       "    }\n",
       "\n",
       "    .dataframe thead th {\n",
       "        text-align: right;\n",
       "    }\n",
       "</style>\n",
       "<table border=\"1\" class=\"dataframe\">\n",
       "  <thead>\n",
       "    <tr style=\"text-align: right;\">\n",
       "      <th></th>\n",
       "      <th>serial_number</th>\n",
       "    </tr>\n",
       "  </thead>\n",
       "  <tbody>\n",
       "    <tr>\n",
       "      <th>0</th>\n",
       "      <td>47</td>\n",
       "    </tr>\n",
       "    <tr>\n",
       "      <th>1</th>\n",
       "      <td>42</td>\n",
       "    </tr>\n",
       "    <tr>\n",
       "      <th>2</th>\n",
       "      <td>57</td>\n",
       "    </tr>\n",
       "    <tr>\n",
       "      <th>3</th>\n",
       "      <td>79</td>\n",
       "    </tr>\n",
       "    <tr>\n",
       "      <th>4</th>\n",
       "      <td>26</td>\n",
       "    </tr>\n",
       "    <tr>\n",
       "      <th>5</th>\n",
       "      <td>23</td>\n",
       "    </tr>\n",
       "    <tr>\n",
       "      <th>6</th>\n",
       "      <td>36</td>\n",
       "    </tr>\n",
       "    <tr>\n",
       "      <th>7</th>\n",
       "      <td>64</td>\n",
       "    </tr>\n",
       "    <tr>\n",
       "      <th>8</th>\n",
       "      <td>83</td>\n",
       "    </tr>\n",
       "    <tr>\n",
       "      <th>9</th>\n",
       "      <td>135</td>\n",
       "    </tr>\n",
       "    <tr>\n",
       "      <th>10</th>\n",
       "      <td>41</td>\n",
       "    </tr>\n",
       "    <tr>\n",
       "      <th>11</th>\n",
       "      <td>21</td>\n",
       "    </tr>\n",
       "    <tr>\n",
       "      <th>12</th>\n",
       "      <td>67</td>\n",
       "    </tr>\n",
       "    <tr>\n",
       "      <th>13</th>\n",
       "      <td>108</td>\n",
       "    </tr>\n",
       "    <tr>\n",
       "      <th>14</th>\n",
       "      <td>84</td>\n",
       "    </tr>\n",
       "    <tr>\n",
       "      <th>15</th>\n",
       "      <td>50</td>\n",
       "    </tr>\n",
       "    <tr>\n",
       "      <th>16</th>\n",
       "      <td>78</td>\n",
       "    </tr>\n",
       "  </tbody>\n",
       "</table>\n",
       "</div>"
      ],
      "text/plain": [
       "    serial_number\n",
       "0              47\n",
       "1              42\n",
       "2              57\n",
       "3              79\n",
       "4              26\n",
       "5              23\n",
       "6              36\n",
       "7              64\n",
       "8              83\n",
       "9             135\n",
       "10             41\n",
       "11             21\n",
       "12             67\n",
       "13            108\n",
       "14             84\n",
       "15             50\n",
       "16             78"
      ]
     },
     "execution_count": 108,
     "metadata": {},
     "output_type": "execute_result"
    }
   ],
   "source": [
    "observations = pd.read_csv(\"https://raw.githubusercontent.com/dsc-courses/dsc10-2023-wi/main/labs/lab05/data/serial_numbers.csv\")\n",
    "num_observations = observations.shape[0]\n",
    "observations"
   ]
  },
  {
   "cell_type": "markdown",
   "metadata": {
    "id": "yXIX3jUVh5zt"
   },
   "source": [
    "#### **Pergunta 2.2.** \n",
    "\n",
    "Defina uma função chamada `plot_serial_numbers` que desenha um histograma de qualquer DataFrame de números de série.  Deve levar um argumento, um DataFrame `df` com uma única coluna chamada `'serial_number'` (como `observations`).  Ele deve traçar um histograma dos valores na coluna `'serial_number'` **usando bins de largura 1** variando de **1 a 200 (inclusivo)** mas não retornar nada.  Em seguida, chame essa função para fazer um histograma de `observations`."
   ]
  },
  {
   "cell_type": "code",
   "execution_count": null,
   "metadata": {
    "id": "jW72U2cVh5zt"
   },
   "outputs": [],
   "source": [
    "def plot_serial_numbers(df):\n",
    "    ...\n",
    "\n",
    "# Chame sua função.\n",
    "..."
   ]
  },
  {
   "cell_type": "markdown",
   "metadata": {
    "id": "eQn8HRAhh5zt"
   },
   "source": [
    "***Verifique sua resposta***: Seu histograma deve ter barras com a mesma altura e o eixo x deve variar de 0 a 200."
   ]
  },
  {
   "cell_type": "markdown",
   "metadata": {
    "id": "up3rFnd5h5zt"
   },
   "source": [
    "##### **Pergunta 2.3.** \n",
    "\n",
    "Como estamos tentando estimar o máximo da população, `N`, uma estatística natural a ser usada é a amostra **max**. Em outras palavras, podemos estimar o número total de tanques como sendo o maior número de série da nossa amostra.\n",
    "\n",
    "Abaixo, escreva uma função chamada `calculate_max_based_estimate` que calcula essa estatística em uma determinada série de números de série. Deve tomar como argumento uma série de números de série e retornar seu máximo.\n",
    "\n",
    "Depois disso, use-o para calcular uma estimativa de `N` usando os números de série em `observações`. Chame a estimativa de `max_based_estimate`."
   ]
  },
  {
   "cell_type": "code",
   "execution_count": null,
   "metadata": {
    "id": "haZyJLqlh5zt"
   },
   "outputs": [],
   "source": [
    "def calculate_max_based_estimate(nums):\n",
    "    ...\n",
    "\n",
    "max_based_estimate = ...\n",
    "max_based_estimate"
   ]
  },
  {
   "cell_type": "markdown",
   "metadata": {
    "id": "yB-5yVYWh5zu"
   },
   "source": [
    "#### **Pergunta 2.4.** \n",
    "\n",
    "Outra maneira de estimar `N` é tomar **duas vezes a média** dos números de série em nossa amostra. Abaixo, escreva uma função chamada `calculate_mean_based_estimate` que calcula essa estatística. Deve tomar como argumento uma série de números de série e retornar o dobro da média.\n",
    "\n",
    "Depois disso, use-o para calcular uma estimativa de `N` usando os números de série em `observações`. Chame a estimativa de `mean_based_estimate`."
   ]
  },
  {
   "cell_type": "code",
   "execution_count": null,
   "metadata": {
    "id": "K41TDpfeh5zu"
   },
   "outputs": [],
   "source": [
    "def calculate_mean_based_estimate(nums):\n",
    "    ...\n",
    "\n",
    "mean_based_estimate = ...\n",
    "mean_based_estimate"
   ]
  },
  {
   "cell_type": "markdown",
   "metadata": {
    "id": "wi0ddH-Nh5zu"
   },
   "source": [
    "#### **Pergunta 2.5.** \n",
    "\n",
    "Observe os valores de `max_based_estimate` e `mean_based_estimate` que obtivemos para nosso conjunto de dados:"
   ]
  },
  {
   "cell_type": "code",
   "execution_count": null,
   "metadata": {
    "id": "ThnVQTrnh5zu"
   },
   "outputs": [],
   "source": [
    "max_based_estimate"
   ]
  },
  {
   "cell_type": "code",
   "execution_count": null,
   "metadata": {
    "id": "mamhf4MPh5zu"
   },
   "outputs": [],
   "source": [
    "mean_based_estimate"
   ]
  },
  {
   "cell_type": "markdown",
   "metadata": {
    "id": "P9S0O7dlh5zu"
   },
   "source": [
    "O valor de `max_based_estimate` diz algo sobre `mean_based_estimate`.  Poderia nossa atual `mean_based_estimate` possivelmente ser igual a `N` (pelo menos se arredondarmos para o número inteiro mais próximo)?  Se não, é definitivamente mais alto, definitivamente mais baixo, ou não podemos dizer?  Atribua uma das opções (1-6) à variável `preliminaries_q5` abaixo.\n",
    "1. Sim, nossa `mean_based_estimate` para esta amostra pode ser igual a `N`.\n",
    "2. Não, nossa `mean_based_estimate` para esta amostra não pode ser igual a `N`, é definitivamente menor em aproximadamente 3.\n",
    "3. Não, nossa `mean_based_estimate` para esta amostra não pode ser igual a `N`, é definitivamente menor em pelo menos 12.\n",
    "4. Não, nossa `mean_based_estimate` para esta amostra não pode ser igual a `N`, é definitivamente maior em aproximadamente 3.\n",
    "5. Não, nossa `mean_based_estimate` para esta amostra não pode ser igual a `N`, é definitivamente maior em pelo menos 12.\n",
    "6. Não, nossa `mean_based_estimate` para esta amostra não pode ser igual a `N`, mas não podemos dizer se é menor ou maior."
   ]
  },
  {
   "cell_type": "code",
   "execution_count": null,
   "metadata": {
    "id": "ES5tXMGxh5zu"
   },
   "outputs": [],
   "source": [
    "preliminaries_q5 = ..."
   ]
  },
  {
   "cell_type": "markdown",
   "metadata": {
    "id": "leGpKSB9h5zv"
   },
   "source": [
    "Não podemos simplesmente proclamar com segurança que `max_based_estimate` ou `mean_based_estimate` são iguais a `N`, porque não sabemos o que `N` realmente é.  E se estivermos muito longe? Queremos ter uma noção da precisão de nossas estimativas."
   ]
  },
  {
   "cell_type": "markdown",
   "metadata": {
    "id": "QWqKorRVh5zv"
   },
   "source": [
    "## 3. Bootstrapping 🥾"
   ]
  },
  {
   "cell_type": "markdown",
   "metadata": {
    "id": "phnF63G_h5zv"
   },
   "source": [
    "#### **Pergunta 2.1.** \n",
    "\n",
    "Escreva uma função chamada `simulate_resample`.  Não deve receber argumentos e deve gerar uma nova amostra (novamente, **com substituição**) a partir dos números de série observados em `observations` e retornar essa nova amostra.  (A reamostragem deve ser um DataFrame como `observations`.)\n",
    "\n",
    "_Dica:_ Use o método `.sample`."
   ]
  },
  {
   "cell_type": "code",
   "execution_count": null,
   "metadata": {
    "id": "QIgo1d0ih5zv"
   },
   "outputs": [],
   "source": [
    "def simulate_resample():\n",
    "    ...\n",
    "\n",
    "# Esse é um pequeno truque para garantir a reproducibilidade dos resultados,\n",
    "# isto é, garantir que, embora usemos funções aleatórias (.sample), nós obtenhamos o mesmo resultado.\n",
    "np.random.seed(123)\n",
    "\n",
    "one_resample = simulate_resample()\n",
    "one_resample"
   ]
  },
  {
   "cell_type": "markdown",
   "metadata": {
    "id": "9VsLbFM-h5zv"
   },
   "source": [
    "Posteriormente, usaremos muitas reamostras de uma vez para ver como normalmente são as estimativas.  Muitas vezes não prestamos atenção a reamostras únicas, por isso é fácil entendê-las mal.  Vamos examinar algumas reamostras individuais antes de começarmos a usá-las."
   ]
  },
  {
   "cell_type": "markdown",
   "metadata": {
    "id": "6Nwq8vIGh5zv"
   },
   "source": [
    "**Pergunta 2.2.** Faça um histograma de sua `one_resample` **e** um histograma separado das observações originais. Certifique-se de usar a função `plot_serial_numbers` que você definiu anteriormente no laboratório."
   ]
  },
  {
   "cell_type": "code",
   "execution_count": null,
   "metadata": {
    "id": "YMMmSOplh5zw"
   },
   "outputs": [],
   "source": [
    "# Histograma da reamostragem.\n",
    "..."
   ]
  },
  {
   "cell_type": "code",
   "execution_count": null,
   "metadata": {
    "id": "Ycsg6BUlh5zw"
   },
   "outputs": [],
   "source": [
    "# Histogram das observações originais.\n",
    "..."
   ]
  },
  {
   "cell_type": "markdown",
   "metadata": {
    "id": "l8Pc_XoVh5zw"
   },
   "source": [
    "**Pergunta 2.3.** Quais das seguintes afirmações são verdadeiras:\n",
    "1. No gráfico da reamostragem, não há barras em locais que não existiam no gráfico das observações originais.\n",
    "2. No gráfico das observações originais, não há barras em locais que não existiam no gráfico da reamostragem.\n",
    "3. Não há números de série duplicados na reamostra.\n",
    "4. Não há números de série duplicados nas observações originais.\n",
    "\n",
    "Atribua `true_statements` a uma lista de declarações corretas"
   ]
  },
  {
   "cell_type": "code",
   "execution_count": null,
   "metadata": {
    "id": "pt7RnKs0h5zw"
   },
   "outputs": [],
   "source": [
    "true_statements = ..."
   ]
  },
  {
   "cell_type": "markdown",
   "metadata": {
    "id": "AjxLiF9Kh5zw"
   },
   "source": [
    "**Pergunta 2.4.** Crie mais 2 reamostras. Para cada reamostra, trace um histograma e calcule as estimativas baseadas no máximo e na média usando essa reamostra."
   ]
  },
  {
   "cell_type": "code",
   "execution_count": null,
   "metadata": {
    "id": "_8GluVl-h5zw"
   },
   "outputs": [],
   "source": [
    "# np.arange(2) pois queremos dois resample. Também poderíamos usar range(2)\n",
    "for i in np.arange(2):\n",
    "    resample = ...\n",
    "\n",
    "    # Plote o histograma dessa reamostragem.\n",
    "    ...\n",
    "\n",
    "    # Calcule as estimativas baseadas na média e no máximo da reamostragem.\n",
    "    mean_based_estimate_resample = ...\n",
    "    max_based_estimate_resample = ...\n",
    "\n",
    "    # Don't change the following 3 lines:\n",
    "    print(f\"Estimativa baseada na média da reamostragem {i+1}:\", mean_based_estimate_resample)\n",
    "    print(f\"Estimativa baseada no máximo do reamostragem {i+1}:\", max_based_estimate_resample)\n",
    "    print('\\n')"
   ]
  },
  {
   "cell_type": "markdown",
   "metadata": {
    "id": "D30OlaYuh5zw"
   },
   "source": [
    "Há uma boa chance de você descobrir que as estimativas baseadas no máximo das reamostras são exatamente 135 (execute a célula algumas vezes e você quase certamente verá isso acontecer). Você provavelmente também descobrirá que as duas estimativas baseadas na média diferem da estimativa baseada na média da amostra (e uma da outra).\n",
    "\n",
    "**Pergunta 2.5.** Calcule a probabilidade exata de que uma estimativa baseada no máximo de uma *reamostra* de nossa amostra de observações seja 135 e atribua-a à variável `resampling_q5` abaixo. Pode ser útil lembrar que o tamanho das “observações” é 17.\n",
    "\n",
    "Observe que esta é uma questão de **matemática**, não de programação. Pode ser útil descobrir sua resposta no papel e então atribuir `resampling_q5` a uma expressão que avalie a resposta correta.\n",
    "\n",
    "_Dica:_  Pense no exemplo da \"vovó\" da Aula 11. Qual é a probabilidade de qualquer um dos elementos em nossa reamostra ser igual a 135?"
   ]
  },
  {
   "cell_type": "code",
   "execution_count": null,
   "metadata": {
    "id": "5t07mWfDh5zx"
   },
   "outputs": [],
   "source": [
    "resampling_q5 = ...\n",
    "resampling_q5"
   ]
  },
  {
   "cell_type": "markdown",
   "metadata": {
    "id": "tZ_Iy6WTh5zx"
   },
   "source": [
    "A resposta correta é alta, acima de 60%. Pense por que é menos provável que uma estimativa baseada na média de uma reamostra seja exatamente igual à estimativa baseada na média da amostra original em comparação com uma estimativa baseada no máximo."
   ]
  },
  {
   "cell_type": "markdown",
   "metadata": {
    "id": "kiwVxdYsh5zx"
   },
   "source": [
    "## 3. Reamostragem via Simulação 💻\n",
    "\n",
    "Como a reamostragem de uma grande amostra aleatória se parece com a amostragem de uma população, o código também deve ser quase o mesmo. Isso significa que podemos escrever uma função que simule a amostragem de uma população ou a reamostragem de uma amostra.  Se lhe passarmos uma população como argumento, ele fará o primeiro; se passarmos uma amostra, ele fará o último.\n",
    "\n",
    "**Questão 3.1.** Escreva uma função chamada `simulate_estimates`. Deve levar 4 argumentos:\n",
    "- `original_df`: Um DataFrame do qual os dados devem ser amostrados, com 1 coluna chamada `'serial_number'`.\n",
    "- `sample_size`: O tamanho de cada amostra, um número inteiro. (Por exemplo, para fazer a reamostragem, passaríamos o número de linhas em `original_df` para este argumento.)\n",
    "- `statistic`: Uma **função** que calcula uma estatística em uma amostra. Este argumento é o **nome de uma função** que recebe uma série de números de série como argumento e retorna um número (por exemplo, `calculate_mean_based_estimate`).\n",
    "- `repetitions`: O número de repetições a realizar (ou seja, o número de reamostras a criar).\n",
    "\n",
    "Deve-se simular `repetitions` amostras **com substituição** do DataFrame fornecido. Para cada uma dessas amostras, deve-se calcular a estatística dessa amostra. Ento, deve-se retornar um array contendo o valor daquela estatística para cada amostra (isso significa que o comprimento do array retornado deve ser igual a `repetitions`).\n",
    "\n",
    "O código abaixo fornece um exemplo de uso da sua função e descreve como você pode verificar se a escreveu corretamente."
   ]
  },
  {
   "cell_type": "markdown",
   "metadata": {
    "id": "iMLJlDUkh5zx"
   },
   "source": [
    "***Verifique sua resposta***: O histograma que você vê deve ser uma curva em forma de sino centrada em 1000 com a maior parte de sua massa em [800, 1200]."
   ]
  },
  {
   "cell_type": "code",
   "execution_count": null,
   "metadata": {
    "id": "ghMfDFXoh5zx"
   },
   "outputs": [],
   "source": [
    "def simulate_estimates(original_df, sample_size, statistic, repetitions):\n",
    "    # Nossa implementação dessa função levou cerca de 4-5 linhas de código.\n",
    "    ...\n",
    "\n",
    "# Isso deve gerar um histograma empírico com estimativas de duas vezes a média\n",
    "# de N exemplos de tamanho 50 se N for 1000. .\n",
    "# Observe que o argumento da estatística é calculado usando calculate_mean_based_estimate.\n",
    "example_estimates = simulate_estimates(\n",
    "    pd.DataFrame().assign(serial_number=np.arange(1, 1000+1)),\n",
    "    50,\n",
    "    calculate_mean_based_estimate,\n",
    "    10000)\n",
    "pd.DataFrame().assign(mean_based_estimate = example_estimates).plot(kind = 'hist', density=True, bins=np.arange(500, 1500, 25), ec='w');"
   ]
  },
  {
   "cell_type": "markdown",
   "metadata": {
    "id": "V4pbVZ_wh5zy"
   },
   "source": [
    "Agora podemos voltar à amostra que realmente observamos (`observations`) e estimar o quanto nossa estimativa de `N` baseada na média teria variado de amostra para amostra."
   ]
  },
  {
   "cell_type": "markdown",
   "metadata": {
    "id": "jHy2OXUgh5zy"
   },
   "source": [
    "**Questão 3.2.** Usando o procedimento bootstrap e as `observações` de amostra, simule a distribuição aproximada de **estimativas baseadas em médias** de `N`. Use 5.000 repetições. Armazene as estimativas em `bootstrap_estimates`. (Observe que isso requer apenas uma linha de código; chame sua função `simulate_estimates`.)\n",
    "\n",
    "Fornecemos um código que traça um histograma, permitindo visualizar as estimativas simuladas."
   ]
  },
  {
   "cell_type": "code",
   "execution_count": null,
   "metadata": {
    "id": "jnoj3U57h5zy"
   },
   "outputs": [],
   "source": [
    "bootstrap_estimates = ...\n",
    "pd.DataFrame().assign(mean_based_estimate = bootstrap_estimates).plot(kind = 'hist', density=True, bins=np.arange(0, 200, 4), ec='w');"
   ]
  },
  {
   "cell_type": "markdown",
   "metadata": {
    "id": "5G2EDDUuh5zy"
   },
   "source": [
    "**Pergunta 3.3.** Calcule um intervalo que cubra os 95% intermediários das estimativas de bootstrap.  Verifique se o seu intervalo parece cobrir 95% da área no histograma acima.\n",
    "\n",
    "\n",
    "_Dicas:_\n",
    "- Use [`np.percentile`](https://numpy.org/doc/stable/reference/generated/numpy.percentile.html) aqui.\n",
    "- Se você estiver usando 5 e 95 como argumentos para `np.percentile`, tente novamente – apenas 90% dos dados estão entre os percentis 5 e 95!"
   ]
  },
  {
   "cell_type": "code",
   "execution_count": null,
   "metadata": {
    "id": "1BxKSLIKh5zy"
   },
   "outputs": [],
   "source": [
    "left_end = ...\n",
    "right_end = ...\n",
    "print(\"Meio 95% das estimativas do bootstrap: [{:f}, {:f}]\".format(left_end, right_end))"
   ]
  },
  {
   "cell_type": "markdown",
   "metadata": {
    "id": "Z5OKISXxh5zz"
   },
   "source": [
    "**Pergunta 3.4.** Digamos que `N`, o parâmetro populacional que estamos tentando estimar, seja na verdade 150. Escreva o código que simula o processo de amostragem e inicialização novamente, como segue:\n",
    "\n",
    "1. Gere um novo conjunto de observações aleatórias que os Aliados possam ter visto por meio de amostragem do DataFrame populacional que criamos para você abaixo. Pegue uma amostra de tamanho 70 **sem reposição**. Armazene a amostra no nome da variável `new_observations`\n",
    "2. Usando apenas `new_observations` – não `population` – calcule 5.000 estimativas bootstrap de `N` baseadas em média. Para fazer isso, chame sua função `simulate_estimates`.\n",
    "3. Calcule um intervalo que cubra os 95% intermediários dessas estimativas baseadas na média."
   ]
  },
  {
   "cell_type": "code",
   "execution_count": null,
   "metadata": {
    "id": "zK7iO5wEh5zz"
   },
   "outputs": [],
   "source": [
    "population = pd.DataFrame().assign(serial_number = np.arange(1, 150+1))\n",
    "new_observations = ...\n",
    "new_bootstrap_estimates = ...\n",
    "\n",
    "new_left_end = ...\n",
    "new_right_end = ...\n",
    "\n",
    "print(\"Meio 95% das estimativas do bootstrap: [{:f}, {:f}]\".format(new_left_end, new_right_end))"
   ]
  },
  {
   "cell_type": "markdown",
   "metadata": {
    "id": "ftaNTH3Mh5zz"
   },
   "source": [
    "**Pergunta 3.5.** Se você executasse sua célula acima muitas e muitas vezes, aproximadamente qual porcentagem dos intervalos criados incluiria `N` (150 neste caso)?  Atribua 1, 2, 3, 4 ou 5 à variável `simulating_q5` abaixo.\n",
    "\n",
    "1. 100%\n",
    "2. 97.5%\n",
    "3. 95%\n",
    "4. 5%\n",
    "5. É impossível dizer."
   ]
  },
  {
   "cell_type": "code",
   "execution_count": null,
   "metadata": {
    "id": "jJ6m_PG3h5zz"
   },
   "outputs": [],
   "source": [
    "simulating_q5 = ..."
   ]
  },
  {
   "cell_type": "markdown",
   "metadata": {
    "id": "Od_8utXih5zz"
   },
   "source": [
    "## 4. Com ou sem reposição? 🔂\n",
    "\n",
    "Cada vez que reamostramos nossa amostra original, amostramos **com reposição**. O que aconteceria se tentássemos reamostrar sem substituição? Vamos descobrir!\n",
    "\n",
    "Abaixo, coletaremos outra amostra aleatória de tamanho 70 da `população` da qual poderemos reamostrar. Chamaremos isso de `original_sample`."
   ]
  },
  {
   "cell_type": "code",
   "execution_count": null,
   "metadata": {
    "id": "YF4cXfUYh5zz"
   },
   "outputs": [],
   "source": [
    "np.random.seed(23) #Para garantir que obtenhamos o mesmo resultado.\n",
    "original_sample = population.sample(70)\n",
    "original_sample"
   ]
  },
  {
   "cell_type": "markdown",
   "metadata": {
    "id": "RGH3uSr_h5z0"
   },
   "source": [
    "**Pergunta 4.1.** Abaixo, 5.000 vezes, colete uma nova amostra de tamanho 70 **de `original_sample` sem reposição**. Calcule a estimativa baseada na média em cada reamostra e armazene as estimativas na matriz `estimates_without_replacement`.\n",
    "\n",
    "Nota: Você **não** pode usar sua função `simulate_estimates` aqui, porque ela faz amostras com substituição. Em vez disso, você terá que escrever um novo loop for. É uma boa ideia começar copiando o código da sua função no 3.1 e alterando as peças necessárias."
   ]
  },
  {
   "cell_type": "code",
   "execution_count": null,
   "metadata": {
    "id": "8TAfiL2zh5z0"
   },
   "outputs": [],
   "source": [
    "estimates_without_replacement = ...\n",
    "estimates_without_replacement"
   ]
  },
  {
   "cell_type": "markdown",
   "metadata": {
    "id": "URe-7kz2h5z0"
   },
   "source": [
    "**Pergunta 4.2.** Se você completou 4.1 corretamente, notará que todas as 5.000 estimativas são idênticas e equivalem a aproximadamente 149,5143. Além disso, este número é igual à estimativa baseada na média derivada de `amostra_original`, sem qualquer reamostragem:"
   ]
  },
  {
   "cell_type": "code",
   "execution_count": null,
   "metadata": {
    "id": "g6eBUeMRh5z0"
   },
   "outputs": [],
   "source": [
    "calculate_mean_based_estimate(original_sample.get('serial_number'))"
   ]
  },
  {
   "cell_type": "markdown",
   "metadata": {
    "id": "tsr5-YsLh5z0"
   },
   "source": [
    "Por que todas as nossas estimativas são idênticas e por que **devemos** amostrar com reposição durante a reamostragem?"
   ]
  },
  {
   "cell_type": "markdown",
   "metadata": {
    "deletable": false,
    "editable": false,
    "id": "2F7YnwGJh5z1"
   },
   "source": [
    "<!-- COMEÇAR PERGUNTA -->\n",
    "\n",
    "<!--\n",
    "COMEÇAR PERGUNTA\n",
    "nome: q4_2\n",
    "manual: verdadeiro\n",
    "-->"
   ]
  },
  {
   "cell_type": "markdown",
   "metadata": {
    "id": "NBjO89eyh5z1"
   },
   "source": [
    "_Digite sua resposta aqui, substituindo este texto._"
   ]
  },
  {
   "cell_type": "markdown",
   "metadata": {
    "id": "oqPWed6lh5z1"
   },
   "source": [
    "<!-- FIM DA PERGUNTA -->\n",
    "\n",
    "\n",
    "\n",
    "## Linha de chegada 🏁\n",
    "\n",
    "Parabéns! Você concluiu o Laboratório 5.\n",
    "\n",
    "Para enviar sua tarefa:\n",
    "\n",
    "1. Selecione `Kernel -> Reiniciar e executar tudo` para garantir que você executou todas as células, incluindo as células de teste.\n",
    "2. Leia o caderno para ter certeza de que está tudo bem e que todos os testes foram aprovados.\n",
    "3. Baixe seu notebook usando `Arquivo -> Baixar como -> Notebook (.ipynb)` e, em seguida, carregue seu notebook para o Moodle.\n"
   ]
  }
 ],
 "metadata": {
  "colab": {
   "provenance": []
  },
  "kernelspec": {
   "display_name": "Python 3 (ipykernel)",
   "language": "python",
   "name": "python3"
  },
  "language_info": {
   "codemirror_mode": {
    "name": "ipython",
    "version": 3
   },
   "file_extension": ".py",
   "mimetype": "text/x-python",
   "name": "python",
   "nbconvert_exporter": "python",
   "pygments_lexer": "ipython3",
   "version": "3.12.3"
  }
 },
 "nbformat": 4,
 "nbformat_minor": 4
}
